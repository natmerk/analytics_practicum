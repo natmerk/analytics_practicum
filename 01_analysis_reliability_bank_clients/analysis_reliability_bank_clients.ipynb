{
 "cells": [
  {
   "cell_type": "markdown",
   "id": "386f2ae7",
   "metadata": {
    "deletable": false,
    "editable": false,
    "id": "386f2ae7"
   },
   "source": [
    "# Исследование надежности заемщиков\n"
   ]
  },
  {
   "cell_type": "markdown",
   "id": "ffe86f65",
   "metadata": {
    "deletable": false,
    "editable": false,
    "id": "ffe86f65"
   },
   "source": [
    "## Откройте таблицу и изучите общую информацию о данных\n",
    "\n"
   ]
  },
  {
   "cell_type": "markdown",
   "id": "26613308",
   "metadata": {
    "deletable": false,
    "editable": false,
    "id": "26613308"
   },
   "source": [
    "**Задание 1. Импортируйте библиотеку pandas. Считайте данные из csv-файла в датафрейм и сохраните в переменную `data`. Путь к файлу:**\n",
    "\n",
    "`/datasets/data.csv`"
   ]
  },
  {
   "cell_type": "markdown",
   "id": "3c9f838e",
   "metadata": {
    "deletable": false,
    "editable": false,
    "id": "3c9f838e"
   },
   "source": [
    "`/datasets/data.csv`"
   ]
  },
  {
   "cell_type": "code",
   "execution_count": 1,
   "id": "77a68a90",
   "metadata": {
    "deletable": false,
    "id": "77a68a90"
   },
   "outputs": [],
   "source": [
    "import pandas as pd\n"
   ]
  },
  {
   "cell_type": "code",
   "execution_count": 2,
   "id": "e25c9fd7",
   "metadata": {},
   "outputs": [],
   "source": [
    "try:\n",
    "    data = pd.read_csv('/datasets/data.csv')\n",
    "except:\n",
    "    data = pd.read_csv('https://code.s3.yandex.net/datasets/data.csv')"
   ]
  },
  {
   "cell_type": "markdown",
   "id": "45365635",
   "metadata": {
    "deletable": false,
    "editable": false,
    "id": "45365635"
   },
   "source": [
    "**Задание 2. Выведите первые 20 строчек датафрейма `data` на экран.**"
   ]
  },
  {
   "cell_type": "code",
   "execution_count": 3,
   "id": "b0451a9a",
   "metadata": {
    "deletable": false,
    "id": "b0451a9a",
    "outputId": "1a8f3ef2-d323-4ec2-ddf7-89670b5944c4"
   },
   "outputs": [
    {
     "data": {
      "text/html": [
       "<div>\n",
       "<style scoped>\n",
       "    .dataframe tbody tr th:only-of-type {\n",
       "        vertical-align: middle;\n",
       "    }\n",
       "\n",
       "    .dataframe tbody tr th {\n",
       "        vertical-align: top;\n",
       "    }\n",
       "\n",
       "    .dataframe thead th {\n",
       "        text-align: right;\n",
       "    }\n",
       "</style>\n",
       "<table border=\"1\" class=\"dataframe\">\n",
       "  <thead>\n",
       "    <tr style=\"text-align: right;\">\n",
       "      <th></th>\n",
       "      <th>children</th>\n",
       "      <th>days_employed</th>\n",
       "      <th>dob_years</th>\n",
       "      <th>education</th>\n",
       "      <th>education_id</th>\n",
       "      <th>family_status</th>\n",
       "      <th>family_status_id</th>\n",
       "      <th>gender</th>\n",
       "      <th>income_type</th>\n",
       "      <th>debt</th>\n",
       "      <th>total_income</th>\n",
       "      <th>purpose</th>\n",
       "    </tr>\n",
       "  </thead>\n",
       "  <tbody>\n",
       "    <tr>\n",
       "      <th>0</th>\n",
       "      <td>1</td>\n",
       "      <td>-8437.673028</td>\n",
       "      <td>42</td>\n",
       "      <td>высшее</td>\n",
       "      <td>0</td>\n",
       "      <td>женат / замужем</td>\n",
       "      <td>0</td>\n",
       "      <td>F</td>\n",
       "      <td>сотрудник</td>\n",
       "      <td>0</td>\n",
       "      <td>253875.639453</td>\n",
       "      <td>покупка жилья</td>\n",
       "    </tr>\n",
       "    <tr>\n",
       "      <th>1</th>\n",
       "      <td>1</td>\n",
       "      <td>-4024.803754</td>\n",
       "      <td>36</td>\n",
       "      <td>среднее</td>\n",
       "      <td>1</td>\n",
       "      <td>женат / замужем</td>\n",
       "      <td>0</td>\n",
       "      <td>F</td>\n",
       "      <td>сотрудник</td>\n",
       "      <td>0</td>\n",
       "      <td>112080.014102</td>\n",
       "      <td>приобретение автомобиля</td>\n",
       "    </tr>\n",
       "    <tr>\n",
       "      <th>2</th>\n",
       "      <td>0</td>\n",
       "      <td>-5623.422610</td>\n",
       "      <td>33</td>\n",
       "      <td>Среднее</td>\n",
       "      <td>1</td>\n",
       "      <td>женат / замужем</td>\n",
       "      <td>0</td>\n",
       "      <td>M</td>\n",
       "      <td>сотрудник</td>\n",
       "      <td>0</td>\n",
       "      <td>145885.952297</td>\n",
       "      <td>покупка жилья</td>\n",
       "    </tr>\n",
       "    <tr>\n",
       "      <th>3</th>\n",
       "      <td>3</td>\n",
       "      <td>-4124.747207</td>\n",
       "      <td>32</td>\n",
       "      <td>среднее</td>\n",
       "      <td>1</td>\n",
       "      <td>женат / замужем</td>\n",
       "      <td>0</td>\n",
       "      <td>M</td>\n",
       "      <td>сотрудник</td>\n",
       "      <td>0</td>\n",
       "      <td>267628.550329</td>\n",
       "      <td>дополнительное образование</td>\n",
       "    </tr>\n",
       "    <tr>\n",
       "      <th>4</th>\n",
       "      <td>0</td>\n",
       "      <td>340266.072047</td>\n",
       "      <td>53</td>\n",
       "      <td>среднее</td>\n",
       "      <td>1</td>\n",
       "      <td>гражданский брак</td>\n",
       "      <td>1</td>\n",
       "      <td>F</td>\n",
       "      <td>пенсионер</td>\n",
       "      <td>0</td>\n",
       "      <td>158616.077870</td>\n",
       "      <td>сыграть свадьбу</td>\n",
       "    </tr>\n",
       "    <tr>\n",
       "      <th>5</th>\n",
       "      <td>0</td>\n",
       "      <td>-926.185831</td>\n",
       "      <td>27</td>\n",
       "      <td>высшее</td>\n",
       "      <td>0</td>\n",
       "      <td>гражданский брак</td>\n",
       "      <td>1</td>\n",
       "      <td>M</td>\n",
       "      <td>компаньон</td>\n",
       "      <td>0</td>\n",
       "      <td>255763.565419</td>\n",
       "      <td>покупка жилья</td>\n",
       "    </tr>\n",
       "    <tr>\n",
       "      <th>6</th>\n",
       "      <td>0</td>\n",
       "      <td>-2879.202052</td>\n",
       "      <td>43</td>\n",
       "      <td>высшее</td>\n",
       "      <td>0</td>\n",
       "      <td>женат / замужем</td>\n",
       "      <td>0</td>\n",
       "      <td>F</td>\n",
       "      <td>компаньон</td>\n",
       "      <td>0</td>\n",
       "      <td>240525.971920</td>\n",
       "      <td>операции с жильем</td>\n",
       "    </tr>\n",
       "    <tr>\n",
       "      <th>7</th>\n",
       "      <td>0</td>\n",
       "      <td>-152.779569</td>\n",
       "      <td>50</td>\n",
       "      <td>СРЕДНЕЕ</td>\n",
       "      <td>1</td>\n",
       "      <td>женат / замужем</td>\n",
       "      <td>0</td>\n",
       "      <td>M</td>\n",
       "      <td>сотрудник</td>\n",
       "      <td>0</td>\n",
       "      <td>135823.934197</td>\n",
       "      <td>образование</td>\n",
       "    </tr>\n",
       "    <tr>\n",
       "      <th>8</th>\n",
       "      <td>2</td>\n",
       "      <td>-6929.865299</td>\n",
       "      <td>35</td>\n",
       "      <td>ВЫСШЕЕ</td>\n",
       "      <td>0</td>\n",
       "      <td>гражданский брак</td>\n",
       "      <td>1</td>\n",
       "      <td>F</td>\n",
       "      <td>сотрудник</td>\n",
       "      <td>0</td>\n",
       "      <td>95856.832424</td>\n",
       "      <td>на проведение свадьбы</td>\n",
       "    </tr>\n",
       "    <tr>\n",
       "      <th>9</th>\n",
       "      <td>0</td>\n",
       "      <td>-2188.756445</td>\n",
       "      <td>41</td>\n",
       "      <td>среднее</td>\n",
       "      <td>1</td>\n",
       "      <td>женат / замужем</td>\n",
       "      <td>0</td>\n",
       "      <td>M</td>\n",
       "      <td>сотрудник</td>\n",
       "      <td>0</td>\n",
       "      <td>144425.938277</td>\n",
       "      <td>покупка жилья для семьи</td>\n",
       "    </tr>\n",
       "    <tr>\n",
       "      <th>10</th>\n",
       "      <td>2</td>\n",
       "      <td>-4171.483647</td>\n",
       "      <td>36</td>\n",
       "      <td>высшее</td>\n",
       "      <td>0</td>\n",
       "      <td>женат / замужем</td>\n",
       "      <td>0</td>\n",
       "      <td>M</td>\n",
       "      <td>компаньон</td>\n",
       "      <td>0</td>\n",
       "      <td>113943.491460</td>\n",
       "      <td>покупка недвижимости</td>\n",
       "    </tr>\n",
       "    <tr>\n",
       "      <th>11</th>\n",
       "      <td>0</td>\n",
       "      <td>-792.701887</td>\n",
       "      <td>40</td>\n",
       "      <td>среднее</td>\n",
       "      <td>1</td>\n",
       "      <td>женат / замужем</td>\n",
       "      <td>0</td>\n",
       "      <td>F</td>\n",
       "      <td>сотрудник</td>\n",
       "      <td>0</td>\n",
       "      <td>77069.234271</td>\n",
       "      <td>покупка коммерческой недвижимости</td>\n",
       "    </tr>\n",
       "    <tr>\n",
       "      <th>12</th>\n",
       "      <td>0</td>\n",
       "      <td>NaN</td>\n",
       "      <td>65</td>\n",
       "      <td>среднее</td>\n",
       "      <td>1</td>\n",
       "      <td>гражданский брак</td>\n",
       "      <td>1</td>\n",
       "      <td>M</td>\n",
       "      <td>пенсионер</td>\n",
       "      <td>0</td>\n",
       "      <td>NaN</td>\n",
       "      <td>сыграть свадьбу</td>\n",
       "    </tr>\n",
       "    <tr>\n",
       "      <th>13</th>\n",
       "      <td>0</td>\n",
       "      <td>-1846.641941</td>\n",
       "      <td>54</td>\n",
       "      <td>неоконченное высшее</td>\n",
       "      <td>2</td>\n",
       "      <td>женат / замужем</td>\n",
       "      <td>0</td>\n",
       "      <td>F</td>\n",
       "      <td>сотрудник</td>\n",
       "      <td>0</td>\n",
       "      <td>130458.228857</td>\n",
       "      <td>приобретение автомобиля</td>\n",
       "    </tr>\n",
       "    <tr>\n",
       "      <th>14</th>\n",
       "      <td>0</td>\n",
       "      <td>-1844.956182</td>\n",
       "      <td>56</td>\n",
       "      <td>высшее</td>\n",
       "      <td>0</td>\n",
       "      <td>гражданский брак</td>\n",
       "      <td>1</td>\n",
       "      <td>F</td>\n",
       "      <td>компаньон</td>\n",
       "      <td>1</td>\n",
       "      <td>165127.911772</td>\n",
       "      <td>покупка жилой недвижимости</td>\n",
       "    </tr>\n",
       "    <tr>\n",
       "      <th>15</th>\n",
       "      <td>1</td>\n",
       "      <td>-972.364419</td>\n",
       "      <td>26</td>\n",
       "      <td>среднее</td>\n",
       "      <td>1</td>\n",
       "      <td>женат / замужем</td>\n",
       "      <td>0</td>\n",
       "      <td>F</td>\n",
       "      <td>сотрудник</td>\n",
       "      <td>0</td>\n",
       "      <td>116820.904450</td>\n",
       "      <td>строительство собственной недвижимости</td>\n",
       "    </tr>\n",
       "    <tr>\n",
       "      <th>16</th>\n",
       "      <td>0</td>\n",
       "      <td>-1719.934226</td>\n",
       "      <td>35</td>\n",
       "      <td>среднее</td>\n",
       "      <td>1</td>\n",
       "      <td>женат / замужем</td>\n",
       "      <td>0</td>\n",
       "      <td>F</td>\n",
       "      <td>сотрудник</td>\n",
       "      <td>0</td>\n",
       "      <td>289202.704229</td>\n",
       "      <td>недвижимость</td>\n",
       "    </tr>\n",
       "    <tr>\n",
       "      <th>17</th>\n",
       "      <td>0</td>\n",
       "      <td>-2369.999720</td>\n",
       "      <td>33</td>\n",
       "      <td>высшее</td>\n",
       "      <td>0</td>\n",
       "      <td>гражданский брак</td>\n",
       "      <td>1</td>\n",
       "      <td>M</td>\n",
       "      <td>сотрудник</td>\n",
       "      <td>0</td>\n",
       "      <td>90410.586745</td>\n",
       "      <td>строительство недвижимости</td>\n",
       "    </tr>\n",
       "    <tr>\n",
       "      <th>18</th>\n",
       "      <td>0</td>\n",
       "      <td>400281.136913</td>\n",
       "      <td>53</td>\n",
       "      <td>среднее</td>\n",
       "      <td>1</td>\n",
       "      <td>вдовец / вдова</td>\n",
       "      <td>2</td>\n",
       "      <td>F</td>\n",
       "      <td>пенсионер</td>\n",
       "      <td>0</td>\n",
       "      <td>56823.777243</td>\n",
       "      <td>на покупку подержанного автомобиля</td>\n",
       "    </tr>\n",
       "    <tr>\n",
       "      <th>19</th>\n",
       "      <td>0</td>\n",
       "      <td>-10038.818549</td>\n",
       "      <td>48</td>\n",
       "      <td>СРЕДНЕЕ</td>\n",
       "      <td>1</td>\n",
       "      <td>в разводе</td>\n",
       "      <td>3</td>\n",
       "      <td>F</td>\n",
       "      <td>сотрудник</td>\n",
       "      <td>0</td>\n",
       "      <td>242831.107982</td>\n",
       "      <td>на покупку своего автомобиля</td>\n",
       "    </tr>\n",
       "  </tbody>\n",
       "</table>\n",
       "</div>"
      ],
      "text/plain": [
       "    children  days_employed  dob_years            education  education_id  \\\n",
       "0          1   -8437.673028         42               высшее             0   \n",
       "1          1   -4024.803754         36              среднее             1   \n",
       "2          0   -5623.422610         33              Среднее             1   \n",
       "3          3   -4124.747207         32              среднее             1   \n",
       "4          0  340266.072047         53              среднее             1   \n",
       "5          0    -926.185831         27               высшее             0   \n",
       "6          0   -2879.202052         43               высшее             0   \n",
       "7          0    -152.779569         50              СРЕДНЕЕ             1   \n",
       "8          2   -6929.865299         35               ВЫСШЕЕ             0   \n",
       "9          0   -2188.756445         41              среднее             1   \n",
       "10         2   -4171.483647         36               высшее             0   \n",
       "11         0    -792.701887         40              среднее             1   \n",
       "12         0            NaN         65              среднее             1   \n",
       "13         0   -1846.641941         54  неоконченное высшее             2   \n",
       "14         0   -1844.956182         56               высшее             0   \n",
       "15         1    -972.364419         26              среднее             1   \n",
       "16         0   -1719.934226         35              среднее             1   \n",
       "17         0   -2369.999720         33               высшее             0   \n",
       "18         0  400281.136913         53              среднее             1   \n",
       "19         0  -10038.818549         48              СРЕДНЕЕ             1   \n",
       "\n",
       "       family_status  family_status_id gender income_type  debt  \\\n",
       "0    женат / замужем                 0      F   сотрудник     0   \n",
       "1    женат / замужем                 0      F   сотрудник     0   \n",
       "2    женат / замужем                 0      M   сотрудник     0   \n",
       "3    женат / замужем                 0      M   сотрудник     0   \n",
       "4   гражданский брак                 1      F   пенсионер     0   \n",
       "5   гражданский брак                 1      M   компаньон     0   \n",
       "6    женат / замужем                 0      F   компаньон     0   \n",
       "7    женат / замужем                 0      M   сотрудник     0   \n",
       "8   гражданский брак                 1      F   сотрудник     0   \n",
       "9    женат / замужем                 0      M   сотрудник     0   \n",
       "10   женат / замужем                 0      M   компаньон     0   \n",
       "11   женат / замужем                 0      F   сотрудник     0   \n",
       "12  гражданский брак                 1      M   пенсионер     0   \n",
       "13   женат / замужем                 0      F   сотрудник     0   \n",
       "14  гражданский брак                 1      F   компаньон     1   \n",
       "15   женат / замужем                 0      F   сотрудник     0   \n",
       "16   женат / замужем                 0      F   сотрудник     0   \n",
       "17  гражданский брак                 1      M   сотрудник     0   \n",
       "18    вдовец / вдова                 2      F   пенсионер     0   \n",
       "19         в разводе                 3      F   сотрудник     0   \n",
       "\n",
       "     total_income                                 purpose  \n",
       "0   253875.639453                           покупка жилья  \n",
       "1   112080.014102                 приобретение автомобиля  \n",
       "2   145885.952297                           покупка жилья  \n",
       "3   267628.550329              дополнительное образование  \n",
       "4   158616.077870                         сыграть свадьбу  \n",
       "5   255763.565419                           покупка жилья  \n",
       "6   240525.971920                       операции с жильем  \n",
       "7   135823.934197                             образование  \n",
       "8    95856.832424                   на проведение свадьбы  \n",
       "9   144425.938277                 покупка жилья для семьи  \n",
       "10  113943.491460                    покупка недвижимости  \n",
       "11   77069.234271       покупка коммерческой недвижимости  \n",
       "12            NaN                         сыграть свадьбу  \n",
       "13  130458.228857                 приобретение автомобиля  \n",
       "14  165127.911772              покупка жилой недвижимости  \n",
       "15  116820.904450  строительство собственной недвижимости  \n",
       "16  289202.704229                            недвижимость  \n",
       "17   90410.586745              строительство недвижимости  \n",
       "18   56823.777243      на покупку подержанного автомобиля  \n",
       "19  242831.107982            на покупку своего автомобиля  "
      ]
     },
     "execution_count": 3,
     "metadata": {},
     "output_type": "execute_result"
    }
   ],
   "source": [
    "data.head(20)"
   ]
  },
  {
   "cell_type": "markdown",
   "id": "0ed8f27f",
   "metadata": {
    "deletable": false,
    "editable": false,
    "id": "0ed8f27f"
   },
   "source": [
    "**Задание 3. Выведите основную информацию о датафрейме с помощью метода `info()`.**"
   ]
  },
  {
   "cell_type": "code",
   "execution_count": 4,
   "id": "ab3f863b",
   "metadata": {
    "deletable": false,
    "id": "ab3f863b",
    "outputId": "15376089-8dad-46c9-b520-c05248d43158"
   },
   "outputs": [
    {
     "name": "stdout",
     "output_type": "stream",
     "text": [
      "<class 'pandas.core.frame.DataFrame'>\n",
      "RangeIndex: 21525 entries, 0 to 21524\n",
      "Data columns (total 12 columns):\n",
      " #   Column            Non-Null Count  Dtype  \n",
      "---  ------            --------------  -----  \n",
      " 0   children          21525 non-null  int64  \n",
      " 1   days_employed     19351 non-null  float64\n",
      " 2   dob_years         21525 non-null  int64  \n",
      " 3   education         21525 non-null  object \n",
      " 4   education_id      21525 non-null  int64  \n",
      " 5   family_status     21525 non-null  object \n",
      " 6   family_status_id  21525 non-null  int64  \n",
      " 7   gender            21525 non-null  object \n",
      " 8   income_type       21525 non-null  object \n",
      " 9   debt              21525 non-null  int64  \n",
      " 10  total_income      19351 non-null  float64\n",
      " 11  purpose           21525 non-null  object \n",
      "dtypes: float64(2), int64(5), object(5)\n",
      "memory usage: 2.0+ MB\n"
     ]
    }
   ],
   "source": [
    "data.info()"
   ]
  },
  {
   "cell_type": "markdown",
   "id": "60e3e22d",
   "metadata": {
    "deletable": false,
    "editable": false,
    "id": "60e3e22d"
   },
   "source": [
    "## Предобработка данных"
   ]
  },
  {
   "cell_type": "markdown",
   "id": "03dc170c",
   "metadata": {
    "deletable": false,
    "editable": false,
    "id": "03dc170c"
   },
   "source": [
    "### Удаление пропусков"
   ]
  },
  {
   "cell_type": "markdown",
   "id": "a4f54eef",
   "metadata": {
    "deletable": false,
    "editable": false,
    "id": "a4f54eef"
   },
   "source": [
    "**Задание 4. Выведите количество пропущенных значений для каждого столбца. Используйте комбинацию двух методов.**"
   ]
  },
  {
   "cell_type": "code",
   "execution_count": 5,
   "id": "2dc372b2",
   "metadata": {
    "deletable": false,
    "id": "2dc372b2",
    "outputId": "81f4d817-781c-465c-ed15-91ce4446810d"
   },
   "outputs": [
    {
     "data": {
      "text/plain": [
       "children               0\n",
       "days_employed       2174\n",
       "dob_years              0\n",
       "education              0\n",
       "education_id           0\n",
       "family_status          0\n",
       "family_status_id       0\n",
       "gender                 0\n",
       "income_type            0\n",
       "debt                   0\n",
       "total_income        2174\n",
       "purpose                0\n",
       "dtype: int64"
      ]
     },
     "execution_count": 5,
     "metadata": {},
     "output_type": "execute_result"
    }
   ],
   "source": [
    "data.isna().sum()"
   ]
  },
  {
   "cell_type": "markdown",
   "id": "14f011b1",
   "metadata": {
    "deletable": false,
    "editable": false,
    "id": "14f011b1"
   },
   "source": [
    "**Задание 5. В двух столбцах есть пропущенные значения. Один из них — `days_employed`. Пропуски в этом столбце вы обработаете на следующем этапе. Другой столбец с пропущенными значениями — `total_income` — хранит данные о доходах. На сумму дохода сильнее всего влияет тип занятости, поэтому заполнить пропуски в этом столбце нужно медианным значением по каждому типу из столбца `income_type`. Например, у человека с типом занятости `сотрудник` пропуск в столбце `total_income` должен быть заполнен медианным доходом среди всех записей с тем же типом.**"
   ]
  },
  {
   "cell_type": "code",
   "execution_count": 6,
   "id": "bdabfb6e",
   "metadata": {
    "deletable": false,
    "id": "bdabfb6e"
   },
   "outputs": [],
   "source": [
    "for t in data['income_type'].unique():\n",
    "    data.loc[(data['income_type'] == t) & (data['total_income'].isna()), 'total_income'] = \\\n",
    "    data.loc[(data['income_type'] == t), 'total_income'].median()"
   ]
  },
  {
   "cell_type": "markdown",
   "id": "5be34059",
   "metadata": {
    "deletable": false,
    "editable": false,
    "id": "5be34059"
   },
   "source": [
    "### Обработка аномальных значений"
   ]
  },
  {
   "cell_type": "markdown",
   "id": "a87606cb",
   "metadata": {
    "deletable": false,
    "editable": false,
    "id": "a87606cb"
   },
   "source": [
    "**Задание 6. В данных могут встречаться артефакты (аномалии) — значения, которые не отражают действительность и появились по какой-то ошибке. таким артефактом будет отрицательное количество дней трудового стажа в столбце `days_employed`. Для реальных данных это нормально. Обработайте значения в этом столбце: замените все отрицательные значения положительными с помощью метода `abs()`.**"
   ]
  },
  {
   "cell_type": "code",
   "execution_count": 7,
   "id": "020c46cc",
   "metadata": {
    "deletable": false,
    "id": "020c46cc"
   },
   "outputs": [],
   "source": [
    "data['days_employed'] = data['days_employed'].abs()"
   ]
  },
  {
   "cell_type": "markdown",
   "id": "45538a3a",
   "metadata": {
    "deletable": false,
    "editable": false,
    "id": "45538a3a"
   },
   "source": [
    "**Задание 7. Для каждого типа занятости выведите медианное значение трудового стажа `days_employed` в днях.**"
   ]
  },
  {
   "cell_type": "code",
   "execution_count": 8,
   "id": "cd3e6328",
   "metadata": {
    "deletable": false,
    "id": "cd3e6328",
    "outputId": "801ef80e-522b-4668-f34e-565af7432bcf"
   },
   "outputs": [
    {
     "data": {
      "text/plain": [
       "income_type\n",
       "безработный        366413.652744\n",
       "в декрете            3296.759962\n",
       "госслужащий          2689.368353\n",
       "компаньон            1547.382223\n",
       "пенсионер          365213.306266\n",
       "предприниматель       520.848083\n",
       "сотрудник            1574.202821\n",
       "студент               578.751554\n",
       "Name: days_employed, dtype: float64"
      ]
     },
     "execution_count": 8,
     "metadata": {},
     "output_type": "execute_result"
    }
   ],
   "source": [
    "data.groupby('income_type')['days_employed'].agg('median')"
   ]
  },
  {
   "cell_type": "markdown",
   "id": "90c5f058",
   "metadata": {
    "deletable": false,
    "editable": false,
    "id": "90c5f058"
   },
   "source": [
    "У двух типов (безработные и пенсионеры) получатся аномально большие значения. Исправить такие значения сложно, поэтому оставьте их как есть."
   ]
  },
  {
   "cell_type": "markdown",
   "id": "9652e50d",
   "metadata": {
    "deletable": false,
    "editable": false,
    "id": "9652e50d"
   },
   "source": [
    "**Задание 8. Выведите перечень уникальных значений столбца `children`.**"
   ]
  },
  {
   "cell_type": "code",
   "execution_count": 9,
   "id": "dbb37b8e",
   "metadata": {
    "deletable": false,
    "id": "dbb37b8e",
    "outputId": "6975b15c-7f95-4697-d16d-a0c79b657b03"
   },
   "outputs": [
    {
     "data": {
      "text/plain": [
       "array([ 1,  0,  3,  2, -1,  4, 20,  5], dtype=int64)"
      ]
     },
     "execution_count": 9,
     "metadata": {},
     "output_type": "execute_result"
    }
   ],
   "source": [
    "data['children'].unique()"
   ]
  },
  {
   "cell_type": "markdown",
   "id": "2b8b0715",
   "metadata": {
    "deletable": false,
    "editable": false,
    "id": "2b8b0715"
   },
   "source": [
    "**Задание 9. В столбце `children` есть два аномальных значения. Удалите строки, в которых встречаются такие аномальные значения из датафрейма `data`.**"
   ]
  },
  {
   "cell_type": "code",
   "execution_count": 10,
   "id": "20009df8",
   "metadata": {
    "deletable": false,
    "id": "20009df8"
   },
   "outputs": [],
   "source": [
    "data = data[(data['children'] != -1) & (data['children'] != 20)]"
   ]
  },
  {
   "cell_type": "markdown",
   "id": "8c6ac9f1",
   "metadata": {
    "deletable": false,
    "editable": false,
    "id": "8c6ac9f1"
   },
   "source": [
    "**Задание 10. Ещё раз выведите перечень уникальных значений столбца `children`, чтобы убедиться, что артефакты удалены.**"
   ]
  },
  {
   "cell_type": "code",
   "execution_count": 11,
   "id": "07337b81",
   "metadata": {
    "deletable": false,
    "id": "07337b81",
    "outputId": "b2097101-d49d-44d9-901b-32a65c9463d1"
   },
   "outputs": [
    {
     "data": {
      "text/plain": [
       "array([1, 0, 3, 2, 4, 5], dtype=int64)"
      ]
     },
     "execution_count": 11,
     "metadata": {},
     "output_type": "execute_result"
    }
   ],
   "source": [
    "data['children'].unique()"
   ]
  },
  {
   "cell_type": "markdown",
   "id": "ee3f52d4",
   "metadata": {
    "deletable": false,
    "editable": false,
    "id": "ee3f52d4"
   },
   "source": [
    "### Удаление пропусков (продолжение)"
   ]
  },
  {
   "cell_type": "markdown",
   "id": "a700b0e4",
   "metadata": {
    "deletable": false,
    "editable": false,
    "id": "a700b0e4"
   },
   "source": [
    "**Задание 11. Заполните пропуски в столбце `days_employed` медианными значениями по каждого типа занятости `income_type`.**"
   ]
  },
  {
   "cell_type": "code",
   "execution_count": 12,
   "id": "61946b83",
   "metadata": {
    "deletable": false,
    "id": "61946b83"
   },
   "outputs": [],
   "source": [
    "for t in data['income_type'].unique():\n",
    "    data.loc[(data['income_type'] == t) & (data['days_employed'].isna()), 'days_employed'] = \\\n",
    "    data.loc[(data['income_type'] == t), 'days_employed'].median()"
   ]
  },
  {
   "cell_type": "markdown",
   "id": "550dcd9b",
   "metadata": {
    "deletable": false,
    "editable": false,
    "id": "550dcd9b"
   },
   "source": [
    "**Задание 12. Убедитесь, что все пропуски заполнены. Проверьте себя и ещё раз выведите количество пропущенных значений для каждого столбца с помощью двух методов.**"
   ]
  },
  {
   "cell_type": "code",
   "execution_count": 13,
   "id": "937c7014",
   "metadata": {
    "deletable": false,
    "id": "937c7014",
    "outputId": "8da1e4e1-358e-4e87-98c9-f261bce0a7b2"
   },
   "outputs": [
    {
     "data": {
      "text/plain": [
       "children            0\n",
       "days_employed       0\n",
       "dob_years           0\n",
       "education           0\n",
       "education_id        0\n",
       "family_status       0\n",
       "family_status_id    0\n",
       "gender              0\n",
       "income_type         0\n",
       "debt                0\n",
       "total_income        0\n",
       "purpose             0\n",
       "dtype: int64"
      ]
     },
     "execution_count": 13,
     "metadata": {},
     "output_type": "execute_result"
    }
   ],
   "source": [
    "data.isna().sum()"
   ]
  },
  {
   "cell_type": "markdown",
   "id": "d522e295",
   "metadata": {
    "deletable": false,
    "editable": false,
    "id": "d522e295"
   },
   "source": [
    "### Изменение типов данных"
   ]
  },
  {
   "cell_type": "markdown",
   "id": "c229c581",
   "metadata": {
    "deletable": false,
    "editable": false,
    "id": "c229c581"
   },
   "source": [
    "**Задание 13. Замените вещественный тип данных в столбце `total_income` на целочисленный с помощью метода `astype()`.**"
   ]
  },
  {
   "cell_type": "code",
   "execution_count": 14,
   "id": "31036462",
   "metadata": {
    "deletable": false,
    "id": "31036462"
   },
   "outputs": [],
   "source": [
    "data['total_income'] = data['total_income'].astype(int)"
   ]
  },
  {
   "cell_type": "markdown",
   "id": "b8e3d1d9",
   "metadata": {
    "deletable": false,
    "editable": false,
    "id": "b8e3d1d9"
   },
   "source": [
    "### Обработка дубликатов"
   ]
  },
  {
   "cell_type": "markdown",
   "id": "9be53c49",
   "metadata": {
    "deletable": false,
    "editable": false,
    "id": "9be53c49"
   },
   "source": [
    "**Задание 14. Обработайте неявные дубликаты в столбце `education`. В этом столбце есть одни и те же значения, но записанные по-разному: с использованием заглавных и строчных букв. Приведите их к нижнему регистру.**"
   ]
  },
  {
   "cell_type": "code",
   "execution_count": 15,
   "id": "d89e73e1",
   "metadata": {
    "deletable": false,
    "id": "d89e73e1"
   },
   "outputs": [],
   "source": [
    "data['education'] = data['education'].str.lower()"
   ]
  },
  {
   "cell_type": "markdown",
   "id": "01d4500e",
   "metadata": {
    "deletable": false,
    "editable": false,
    "id": "01d4500e"
   },
   "source": [
    "**Задание 15. Выведите на экран количество строк-дубликатов в данных. Если такие строки присутствуют, удалите их.**"
   ]
  },
  {
   "cell_type": "code",
   "execution_count": 16,
   "id": "e10efb23",
   "metadata": {
    "deletable": false,
    "id": "e10efb23",
    "outputId": "9684deba-1934-42d1-99e1-cda61740f822"
   },
   "outputs": [
    {
     "name": "stdout",
     "output_type": "stream",
     "text": [
      "71\n"
     ]
    }
   ],
   "source": [
    "print(data.duplicated().sum()) "
   ]
  },
  {
   "cell_type": "code",
   "execution_count": 17,
   "id": "df853f20",
   "metadata": {
    "deletable": false,
    "id": "df853f20"
   },
   "outputs": [],
   "source": [
    "data = data.drop_duplicates()"
   ]
  },
  {
   "cell_type": "markdown",
   "id": "627be38f",
   "metadata": {
    "deletable": false,
    "editable": false,
    "id": "627be38f"
   },
   "source": [
    "### Категоризация данных"
   ]
  },
  {
   "cell_type": "markdown",
   "id": "4684c3e0",
   "metadata": {
    "deletable": false,
    "editable": false,
    "id": "4684c3e0"
   },
   "source": [
    "**Задание 16. На основании диапазонов, указанных ниже, создайте в датафрейме `data` столбец `total_income_category` с категориями:**\n",
    "\n",
    "- 0–30000 — `'E'`;\n",
    "- 30001–50000 — `'D'`;\n",
    "- 50001–200000 — `'C'`;\n",
    "- 200001–1000000 — `'B'`;\n",
    "- 1000001 и выше — `'A'`.\n",
    "\n",
    "\n",
    "**Например, кредитополучателю с доходом 25000 нужно назначить категорию `'E'`, а клиенту, получающему 235000, — `'B'`. Используйте собственную функцию с именем `categorize_income()` и метод `apply()`.**"
   ]
  },
  {
   "cell_type": "code",
   "execution_count": 18,
   "id": "78965238",
   "metadata": {
    "deletable": false,
    "id": "78965238"
   },
   "outputs": [],
   "source": [
    "def categorize_income(income):\n",
    "    try:\n",
    "        if 0 <= income <= 30000:\n",
    "            return 'E'\n",
    "        elif 30001 <= income <= 50000:\n",
    "            return 'D'\n",
    "        elif 50001 <= income <= 200000:\n",
    "            return 'C'\n",
    "        elif 200001 <= income <= 1000000:\n",
    "            return 'B'\n",
    "        elif income >= 1000001:\n",
    "            return 'A'\n",
    "    except:\n",
    "        pass"
   ]
  },
  {
   "cell_type": "code",
   "execution_count": 19,
   "id": "0980ada1",
   "metadata": {
    "deletable": false,
    "id": "0980ada1"
   },
   "outputs": [],
   "source": [
    "data['total_income_category'] = data['total_income'].apply(categorize_income)"
   ]
  },
  {
   "cell_type": "markdown",
   "id": "9917bba0",
   "metadata": {
    "deletable": false,
    "editable": false,
    "id": "9917bba0"
   },
   "source": [
    "**Задание 17. Выведите на экран перечень уникальных целей взятия кредита из столбца `purpose`.**"
   ]
  },
  {
   "cell_type": "code",
   "execution_count": 20,
   "id": "ee07b65e",
   "metadata": {
    "deletable": false,
    "id": "ee07b65e",
    "outputId": "673c12d9-7d7e-4ae0-9812-c622c89dd244"
   },
   "outputs": [
    {
     "data": {
      "text/plain": [
       "array(['покупка жилья', 'приобретение автомобиля',\n",
       "       'дополнительное образование', 'сыграть свадьбу',\n",
       "       'операции с жильем', 'образование', 'на проведение свадьбы',\n",
       "       'покупка жилья для семьи', 'покупка недвижимости',\n",
       "       'покупка коммерческой недвижимости', 'покупка жилой недвижимости',\n",
       "       'строительство собственной недвижимости', 'недвижимость',\n",
       "       'строительство недвижимости', 'на покупку подержанного автомобиля',\n",
       "       'на покупку своего автомобиля',\n",
       "       'операции с коммерческой недвижимостью',\n",
       "       'строительство жилой недвижимости', 'жилье',\n",
       "       'операции со своей недвижимостью', 'автомобили',\n",
       "       'заняться образованием', 'сделка с подержанным автомобилем',\n",
       "       'получение образования', 'автомобиль', 'свадьба',\n",
       "       'получение дополнительного образования', 'покупка своего жилья',\n",
       "       'операции с недвижимостью', 'получение высшего образования',\n",
       "       'свой автомобиль', 'сделка с автомобилем',\n",
       "       'профильное образование', 'высшее образование',\n",
       "       'покупка жилья для сдачи', 'на покупку автомобиля', 'ремонт жилью',\n",
       "       'заняться высшим образованием'], dtype=object)"
      ]
     },
     "execution_count": 20,
     "metadata": {},
     "output_type": "execute_result"
    }
   ],
   "source": [
    "data['purpose'].unique()"
   ]
  },
  {
   "cell_type": "markdown",
   "id": "52b79d56",
   "metadata": {
    "deletable": false,
    "editable": false,
    "id": "52b79d56"
   },
   "source": [
    "**Задание 18. Создайте функцию, которая на основании данных из столбца `purpose` сформирует новый столбец `purpose_category`, в который войдут следующие категории:**\n",
    "\n",
    "- `'операции с автомобилем'`,\n",
    "- `'операции с недвижимостью'`,\n",
    "- `'проведение свадьбы'`,\n",
    "- `'получение образования'`.\n",
    "\n",
    "**Например, если в столбце `purpose` находится подстрока `'на покупку автомобиля'`, то в столбце `purpose_category` должна появиться строка `'операции с автомобилем'`.**\n",
    "\n",
    "**Используйте собственную функцию с именем `categorize_purpose()` и метод `apply()`. Изучите данные в столбце `purpose` и определите, какие подстроки помогут вам правильно определить категорию.**"
   ]
  },
  {
   "cell_type": "code",
   "execution_count": 21,
   "id": "be41da5d",
   "metadata": {
    "deletable": false,
    "id": "be41da5d"
   },
   "outputs": [],
   "source": [
    "def categorize_purpose(row):\n",
    "    try:\n",
    "        if 'автом' in row:\n",
    "            return 'операции с автомобилем'\n",
    "        elif 'жил' in row or 'недвиж' in row:\n",
    "            return 'операции с недвижимостью'\n",
    "        elif 'свад' in row:\n",
    "            return 'проведение свадьбы'\n",
    "        elif 'образов' in row:\n",
    "            return 'получение образования'\n",
    "    except:\n",
    "        return 'нет категории'"
   ]
  },
  {
   "cell_type": "code",
   "execution_count": 22,
   "id": "94c4a19a",
   "metadata": {
    "deletable": false,
    "id": "94c4a19a"
   },
   "outputs": [],
   "source": [
    "data['purpose_category'] = data['purpose'].apply(categorize_purpose)"
   ]
  },
  {
   "cell_type": "code",
   "execution_count": 23,
   "id": "3e0557ad",
   "metadata": {},
   "outputs": [
    {
     "data": {
      "text/html": [
       "<div>\n",
       "<style scoped>\n",
       "    .dataframe tbody tr th:only-of-type {\n",
       "        vertical-align: middle;\n",
       "    }\n",
       "\n",
       "    .dataframe tbody tr th {\n",
       "        vertical-align: top;\n",
       "    }\n",
       "\n",
       "    .dataframe thead th {\n",
       "        text-align: right;\n",
       "    }\n",
       "</style>\n",
       "<table border=\"1\" class=\"dataframe\">\n",
       "  <thead>\n",
       "    <tr style=\"text-align: right;\">\n",
       "      <th></th>\n",
       "      <th>children</th>\n",
       "      <th>days_employed</th>\n",
       "      <th>dob_years</th>\n",
       "      <th>education</th>\n",
       "      <th>education_id</th>\n",
       "      <th>family_status</th>\n",
       "      <th>family_status_id</th>\n",
       "      <th>gender</th>\n",
       "      <th>income_type</th>\n",
       "      <th>debt</th>\n",
       "      <th>total_income</th>\n",
       "      <th>purpose</th>\n",
       "      <th>total_income_category</th>\n",
       "      <th>purpose_category</th>\n",
       "    </tr>\n",
       "  </thead>\n",
       "  <tbody>\n",
       "    <tr>\n",
       "      <th>0</th>\n",
       "      <td>1</td>\n",
       "      <td>8437.673028</td>\n",
       "      <td>42</td>\n",
       "      <td>высшее</td>\n",
       "      <td>0</td>\n",
       "      <td>женат / замужем</td>\n",
       "      <td>0</td>\n",
       "      <td>F</td>\n",
       "      <td>сотрудник</td>\n",
       "      <td>0</td>\n",
       "      <td>253875</td>\n",
       "      <td>покупка жилья</td>\n",
       "      <td>B</td>\n",
       "      <td>операции с недвижимостью</td>\n",
       "    </tr>\n",
       "    <tr>\n",
       "      <th>1</th>\n",
       "      <td>1</td>\n",
       "      <td>4024.803754</td>\n",
       "      <td>36</td>\n",
       "      <td>среднее</td>\n",
       "      <td>1</td>\n",
       "      <td>женат / замужем</td>\n",
       "      <td>0</td>\n",
       "      <td>F</td>\n",
       "      <td>сотрудник</td>\n",
       "      <td>0</td>\n",
       "      <td>112080</td>\n",
       "      <td>приобретение автомобиля</td>\n",
       "      <td>C</td>\n",
       "      <td>операции с автомобилем</td>\n",
       "    </tr>\n",
       "    <tr>\n",
       "      <th>2</th>\n",
       "      <td>0</td>\n",
       "      <td>5623.422610</td>\n",
       "      <td>33</td>\n",
       "      <td>среднее</td>\n",
       "      <td>1</td>\n",
       "      <td>женат / замужем</td>\n",
       "      <td>0</td>\n",
       "      <td>M</td>\n",
       "      <td>сотрудник</td>\n",
       "      <td>0</td>\n",
       "      <td>145885</td>\n",
       "      <td>покупка жилья</td>\n",
       "      <td>C</td>\n",
       "      <td>операции с недвижимостью</td>\n",
       "    </tr>\n",
       "    <tr>\n",
       "      <th>3</th>\n",
       "      <td>3</td>\n",
       "      <td>4124.747207</td>\n",
       "      <td>32</td>\n",
       "      <td>среднее</td>\n",
       "      <td>1</td>\n",
       "      <td>женат / замужем</td>\n",
       "      <td>0</td>\n",
       "      <td>M</td>\n",
       "      <td>сотрудник</td>\n",
       "      <td>0</td>\n",
       "      <td>267628</td>\n",
       "      <td>дополнительное образование</td>\n",
       "      <td>B</td>\n",
       "      <td>получение образования</td>\n",
       "    </tr>\n",
       "    <tr>\n",
       "      <th>4</th>\n",
       "      <td>0</td>\n",
       "      <td>340266.072047</td>\n",
       "      <td>53</td>\n",
       "      <td>среднее</td>\n",
       "      <td>1</td>\n",
       "      <td>гражданский брак</td>\n",
       "      <td>1</td>\n",
       "      <td>F</td>\n",
       "      <td>пенсионер</td>\n",
       "      <td>0</td>\n",
       "      <td>158616</td>\n",
       "      <td>сыграть свадьбу</td>\n",
       "      <td>C</td>\n",
       "      <td>проведение свадьбы</td>\n",
       "    </tr>\n",
       "    <tr>\n",
       "      <th>...</th>\n",
       "      <td>...</td>\n",
       "      <td>...</td>\n",
       "      <td>...</td>\n",
       "      <td>...</td>\n",
       "      <td>...</td>\n",
       "      <td>...</td>\n",
       "      <td>...</td>\n",
       "      <td>...</td>\n",
       "      <td>...</td>\n",
       "      <td>...</td>\n",
       "      <td>...</td>\n",
       "      <td>...</td>\n",
       "      <td>...</td>\n",
       "      <td>...</td>\n",
       "    </tr>\n",
       "    <tr>\n",
       "      <th>21520</th>\n",
       "      <td>1</td>\n",
       "      <td>4529.316663</td>\n",
       "      <td>43</td>\n",
       "      <td>среднее</td>\n",
       "      <td>1</td>\n",
       "      <td>гражданский брак</td>\n",
       "      <td>1</td>\n",
       "      <td>F</td>\n",
       "      <td>компаньон</td>\n",
       "      <td>0</td>\n",
       "      <td>224791</td>\n",
       "      <td>операции с жильем</td>\n",
       "      <td>B</td>\n",
       "      <td>операции с недвижимостью</td>\n",
       "    </tr>\n",
       "    <tr>\n",
       "      <th>21521</th>\n",
       "      <td>0</td>\n",
       "      <td>343937.404131</td>\n",
       "      <td>67</td>\n",
       "      <td>среднее</td>\n",
       "      <td>1</td>\n",
       "      <td>женат / замужем</td>\n",
       "      <td>0</td>\n",
       "      <td>F</td>\n",
       "      <td>пенсионер</td>\n",
       "      <td>0</td>\n",
       "      <td>155999</td>\n",
       "      <td>сделка с автомобилем</td>\n",
       "      <td>C</td>\n",
       "      <td>операции с автомобилем</td>\n",
       "    </tr>\n",
       "    <tr>\n",
       "      <th>21522</th>\n",
       "      <td>1</td>\n",
       "      <td>2113.346888</td>\n",
       "      <td>38</td>\n",
       "      <td>среднее</td>\n",
       "      <td>1</td>\n",
       "      <td>гражданский брак</td>\n",
       "      <td>1</td>\n",
       "      <td>M</td>\n",
       "      <td>сотрудник</td>\n",
       "      <td>1</td>\n",
       "      <td>89672</td>\n",
       "      <td>недвижимость</td>\n",
       "      <td>C</td>\n",
       "      <td>операции с недвижимостью</td>\n",
       "    </tr>\n",
       "    <tr>\n",
       "      <th>21523</th>\n",
       "      <td>3</td>\n",
       "      <td>3112.481705</td>\n",
       "      <td>38</td>\n",
       "      <td>среднее</td>\n",
       "      <td>1</td>\n",
       "      <td>женат / замужем</td>\n",
       "      <td>0</td>\n",
       "      <td>M</td>\n",
       "      <td>сотрудник</td>\n",
       "      <td>1</td>\n",
       "      <td>244093</td>\n",
       "      <td>на покупку своего автомобиля</td>\n",
       "      <td>B</td>\n",
       "      <td>операции с автомобилем</td>\n",
       "    </tr>\n",
       "    <tr>\n",
       "      <th>21524</th>\n",
       "      <td>2</td>\n",
       "      <td>1984.507589</td>\n",
       "      <td>40</td>\n",
       "      <td>среднее</td>\n",
       "      <td>1</td>\n",
       "      <td>женат / замужем</td>\n",
       "      <td>0</td>\n",
       "      <td>F</td>\n",
       "      <td>сотрудник</td>\n",
       "      <td>0</td>\n",
       "      <td>82047</td>\n",
       "      <td>на покупку автомобиля</td>\n",
       "      <td>C</td>\n",
       "      <td>операции с автомобилем</td>\n",
       "    </tr>\n",
       "  </tbody>\n",
       "</table>\n",
       "<p>21331 rows × 14 columns</p>\n",
       "</div>"
      ],
      "text/plain": [
       "       children  days_employed  dob_years education  education_id  \\\n",
       "0             1    8437.673028         42    высшее             0   \n",
       "1             1    4024.803754         36   среднее             1   \n",
       "2             0    5623.422610         33   среднее             1   \n",
       "3             3    4124.747207         32   среднее             1   \n",
       "4             0  340266.072047         53   среднее             1   \n",
       "...         ...            ...        ...       ...           ...   \n",
       "21520         1    4529.316663         43   среднее             1   \n",
       "21521         0  343937.404131         67   среднее             1   \n",
       "21522         1    2113.346888         38   среднее             1   \n",
       "21523         3    3112.481705         38   среднее             1   \n",
       "21524         2    1984.507589         40   среднее             1   \n",
       "\n",
       "          family_status  family_status_id gender income_type  debt  \\\n",
       "0       женат / замужем                 0      F   сотрудник     0   \n",
       "1       женат / замужем                 0      F   сотрудник     0   \n",
       "2       женат / замужем                 0      M   сотрудник     0   \n",
       "3       женат / замужем                 0      M   сотрудник     0   \n",
       "4      гражданский брак                 1      F   пенсионер     0   \n",
       "...                 ...               ...    ...         ...   ...   \n",
       "21520  гражданский брак                 1      F   компаньон     0   \n",
       "21521   женат / замужем                 0      F   пенсионер     0   \n",
       "21522  гражданский брак                 1      M   сотрудник     1   \n",
       "21523   женат / замужем                 0      M   сотрудник     1   \n",
       "21524   женат / замужем                 0      F   сотрудник     0   \n",
       "\n",
       "       total_income                       purpose total_income_category  \\\n",
       "0            253875                 покупка жилья                     B   \n",
       "1            112080       приобретение автомобиля                     C   \n",
       "2            145885                 покупка жилья                     C   \n",
       "3            267628    дополнительное образование                     B   \n",
       "4            158616               сыграть свадьбу                     C   \n",
       "...             ...                           ...                   ...   \n",
       "21520        224791             операции с жильем                     B   \n",
       "21521        155999          сделка с автомобилем                     C   \n",
       "21522         89672                  недвижимость                     C   \n",
       "21523        244093  на покупку своего автомобиля                     B   \n",
       "21524         82047         на покупку автомобиля                     C   \n",
       "\n",
       "               purpose_category  \n",
       "0      операции с недвижимостью  \n",
       "1        операции с автомобилем  \n",
       "2      операции с недвижимостью  \n",
       "3         получение образования  \n",
       "4            проведение свадьбы  \n",
       "...                         ...  \n",
       "21520  операции с недвижимостью  \n",
       "21521    операции с автомобилем  \n",
       "21522  операции с недвижимостью  \n",
       "21523    операции с автомобилем  \n",
       "21524    операции с автомобилем  \n",
       "\n",
       "[21331 rows x 14 columns]"
      ]
     },
     "execution_count": 23,
     "metadata": {},
     "output_type": "execute_result"
    }
   ],
   "source": [
    "data"
   ]
  },
  {
   "cell_type": "markdown",
   "id": "3d596c34",
   "metadata": {
    "deletable": false,
    "editable": false,
    "id": "3d596c34"
   },
   "source": [
    "### Шаг 3. Исследуйте данные и ответьте на вопросы"
   ]
  },
  {
   "cell_type": "markdown",
   "id": "648db036",
   "metadata": {
    "deletable": false,
    "editable": false,
    "id": "648db036"
   },
   "source": [
    "#### 3.1 Есть ли зависимость между количеством детей и возвратом кредита в срок?"
   ]
  },
  {
   "cell_type": "markdown",
   "id": "4685697c",
   "metadata": {},
   "source": [
    "Для целей анализа влияния разных вводных данных на возврат кредита в срок, создадим функцию, которая на вход принимает столбец, по которому мы анализируем данные, в теле функции метод groupby() принимает этот столбец, группируя данные, а методу agg() передаем название столбца, к которому применяем функции (sum и count). Далее, на основании полученных сгруппированных данных, функция создает новый столбец 'overdue_debt', значаение которого и есть процент невозврата кредита в срок по категориям. И последняя операция - отсортируем новую таблицу по столбцу 'overdue_debt' в порядке убывания."
   ]
  },
  {
   "cell_type": "code",
   "execution_count": null,
   "id": "e63c18a1-2522-47ef-a74d-454553238cf0",
   "metadata": {
    "deletable": false,
    "id": "7fcff25e"
   },
   "outputs": [],
   "source": []
  },
  {
   "cell_type": "code",
   "execution_count": 24,
   "id": "82041c06-eb91-4543-9dc2-1a68ac24d0d3",
   "metadata": {
    "deletable": false,
    "id": "7fcff25e"
   },
   "outputs": [
    {
     "data": {
      "text/html": [
       "<div>\n",
       "<style scoped>\n",
       "    .dataframe tbody tr th:only-of-type {\n",
       "        vertical-align: middle;\n",
       "    }\n",
       "\n",
       "    .dataframe tbody tr th {\n",
       "        vertical-align: top;\n",
       "    }\n",
       "\n",
       "    .dataframe thead tr th {\n",
       "        text-align: left;\n",
       "    }\n",
       "\n",
       "    .dataframe thead tr:last-of-type th {\n",
       "        text-align: right;\n",
       "    }\n",
       "</style>\n",
       "<table border=\"1\" class=\"dataframe\">\n",
       "  <thead>\n",
       "    <tr>\n",
       "      <th></th>\n",
       "      <th colspan=\"2\" halign=\"left\">debt</th>\n",
       "      <th>overdue_debt</th>\n",
       "    </tr>\n",
       "    <tr>\n",
       "      <th></th>\n",
       "      <th>sum</th>\n",
       "      <th>count</th>\n",
       "      <th></th>\n",
       "    </tr>\n",
       "    <tr>\n",
       "      <th>children</th>\n",
       "      <th></th>\n",
       "      <th></th>\n",
       "      <th></th>\n",
       "    </tr>\n",
       "  </thead>\n",
       "  <tbody>\n",
       "    <tr>\n",
       "      <th>4</th>\n",
       "      <td>4</td>\n",
       "      <td>41</td>\n",
       "      <td>0.097561</td>\n",
       "    </tr>\n",
       "    <tr>\n",
       "      <th>2</th>\n",
       "      <td>194</td>\n",
       "      <td>2052</td>\n",
       "      <td>0.094542</td>\n",
       "    </tr>\n",
       "    <tr>\n",
       "      <th>1</th>\n",
       "      <td>444</td>\n",
       "      <td>4808</td>\n",
       "      <td>0.092346</td>\n",
       "    </tr>\n",
       "    <tr>\n",
       "      <th>3</th>\n",
       "      <td>27</td>\n",
       "      <td>330</td>\n",
       "      <td>0.081818</td>\n",
       "    </tr>\n",
       "    <tr>\n",
       "      <th>0</th>\n",
       "      <td>1063</td>\n",
       "      <td>14091</td>\n",
       "      <td>0.075438</td>\n",
       "    </tr>\n",
       "    <tr>\n",
       "      <th>5</th>\n",
       "      <td>0</td>\n",
       "      <td>9</td>\n",
       "      <td>0.000000</td>\n",
       "    </tr>\n",
       "  </tbody>\n",
       "</table>\n",
       "</div>"
      ],
      "text/plain": [
       "          debt        overdue_debt\n",
       "           sum  count             \n",
       "children                          \n",
       "4            4     41     0.097561\n",
       "2          194   2052     0.094542\n",
       "1          444   4808     0.092346\n",
       "3           27    330     0.081818\n",
       "0         1063  14091     0.075438\n",
       "5            0      9     0.000000"
      ]
     },
     "execution_count": 24,
     "metadata": {},
     "output_type": "execute_result"
    }
   ],
   "source": [
    "def relation(category):\n",
    "     data_grouped = data.groupby(category).agg({'debt':['sum','count']}) #группируем данные по нужному столбцу, ключом к методу agg выбираем столбец 'debt' и применяем сразу две агрегированные функции sum и count\n",
    "     data_grouped['overdue_debt'] = data_grouped['debt']['sum'] / data_grouped['debt']['count'] #создаем новый столбец 'overdue_debt' в data_grouped, его значения - это процент невозврата кредита в срок по категориям\n",
    "     data_grouped = data_grouped.sort_values(by = 'overdue_debt', ascending = False) #отсортируем наши данные по столбцу 'overdue_debt' в порядке убывания\n",
    "     return data_grouped\n",
    "relation(['children']) "
   ]
  },
  {
   "cell_type": "markdown",
   "id": "2eb9088e",
   "metadata": {
    "deletable": false,
    "id": "2eb9088e"
   },
   "source": [
    "**Вывод:** \n",
    "Из полученной таблицы мы можем заметить, что чем больше у заемщика детей, тем реже он берет кредиты, а вот оценить\n",
    "как многодетность влияет на возврат кредита вовремя по нашим данным нам не удастся, потому как заемщик с 4-мя детьми \n",
    "получется самый ненадежный, а с 5-тью с точностью наоборот. Скорее всего у нас маленькая выборка. А вот заемщики у \n",
    "которых вовсе нет детей получаются самыми надежными. "
   ]
  },
  {
   "cell_type": "markdown",
   "id": "74c9b3a7",
   "metadata": {
    "deletable": false,
    "editable": false,
    "id": "74c9b3a7"
   },
   "source": [
    "#### 3.2 Есть ли зависимость между семейным положением и возвратом кредита в срок?"
   ]
  },
  {
   "cell_type": "markdown",
   "id": "e8aeb498",
   "metadata": {
    "deletable": false,
    "id": "8098ab3b"
   },
   "source": [
    "Ответить на этот вопрос нам поможет ранее созданная функция, но на ее вход теперь направим столбец 'family_status'."
   ]
  },
  {
   "cell_type": "code",
   "execution_count": 25,
   "id": "56b34edc",
   "metadata": {},
   "outputs": [
    {
     "data": {
      "text/html": [
       "<div>\n",
       "<style scoped>\n",
       "    .dataframe tbody tr th:only-of-type {\n",
       "        vertical-align: middle;\n",
       "    }\n",
       "\n",
       "    .dataframe tbody tr th {\n",
       "        vertical-align: top;\n",
       "    }\n",
       "\n",
       "    .dataframe thead tr th {\n",
       "        text-align: left;\n",
       "    }\n",
       "\n",
       "    .dataframe thead tr:last-of-type th {\n",
       "        text-align: right;\n",
       "    }\n",
       "</style>\n",
       "<table border=\"1\" class=\"dataframe\">\n",
       "  <thead>\n",
       "    <tr>\n",
       "      <th></th>\n",
       "      <th colspan=\"2\" halign=\"left\">debt</th>\n",
       "      <th>overdue_debt</th>\n",
       "    </tr>\n",
       "    <tr>\n",
       "      <th></th>\n",
       "      <th>sum</th>\n",
       "      <th>count</th>\n",
       "      <th></th>\n",
       "    </tr>\n",
       "    <tr>\n",
       "      <th>family_status</th>\n",
       "      <th></th>\n",
       "      <th></th>\n",
       "      <th></th>\n",
       "    </tr>\n",
       "  </thead>\n",
       "  <tbody>\n",
       "    <tr>\n",
       "      <th>Не женат / не замужем</th>\n",
       "      <td>273</td>\n",
       "      <td>2796</td>\n",
       "      <td>0.097639</td>\n",
       "    </tr>\n",
       "    <tr>\n",
       "      <th>гражданский брак</th>\n",
       "      <td>385</td>\n",
       "      <td>4134</td>\n",
       "      <td>0.093130</td>\n",
       "    </tr>\n",
       "    <tr>\n",
       "      <th>женат / замужем</th>\n",
       "      <td>927</td>\n",
       "      <td>12261</td>\n",
       "      <td>0.075606</td>\n",
       "    </tr>\n",
       "    <tr>\n",
       "      <th>в разводе</th>\n",
       "      <td>84</td>\n",
       "      <td>1189</td>\n",
       "      <td>0.070648</td>\n",
       "    </tr>\n",
       "    <tr>\n",
       "      <th>вдовец / вдова</th>\n",
       "      <td>63</td>\n",
       "      <td>951</td>\n",
       "      <td>0.066246</td>\n",
       "    </tr>\n",
       "  </tbody>\n",
       "</table>\n",
       "</div>"
      ],
      "text/plain": [
       "                      debt        overdue_debt\n",
       "                       sum  count             \n",
       "family_status                                 \n",
       "Не женат / не замужем  273   2796     0.097639\n",
       "гражданский брак       385   4134     0.093130\n",
       "женат / замужем        927  12261     0.075606\n",
       "в разводе               84   1189     0.070648\n",
       "вдовец / вдова          63    951     0.066246"
      ]
     },
     "execution_count": 25,
     "metadata": {},
     "output_type": "execute_result"
    }
   ],
   "source": [
    "relation(['family_status'])"
   ]
  },
  {
   "cell_type": "markdown",
   "id": "c389ca63",
   "metadata": {
    "deletable": false,
    "id": "c389ca63"
   },
   "source": [
    "**Вывод:** \n",
    "На основе нашего анализа, можем сделать вывод, что люди не состоящие и не состоявшие в зарегестрированном браке чаще остальных\n",
    "не возвращают кредиты в срок. А те, кто состоит или когда-либо состоял в зарегистрированном браке, более надежные заемщики."
   ]
  },
  {
   "cell_type": "markdown",
   "id": "9529de68",
   "metadata": {
    "deletable": false,
    "editable": false,
    "id": "9529de68"
   },
   "source": [
    "#### 3.3 Есть ли зависимость между уровнем дохода и возвратом кредита в срок?"
   ]
  },
  {
   "cell_type": "markdown",
   "id": "8bebc3b7",
   "metadata": {
    "deletable": false,
    "id": "8787f44a"
   },
   "source": [
    "На этапе предобработки данных мы создали новый столбец датафрейма с категориями дохода заемщиков. Этот столбец нам понадобится\n",
    "для ответа на вопрос выше. На вход нашей функции теперь пойдет столбец 'total_income_category'."
   ]
  },
  {
   "cell_type": "code",
   "execution_count": 26,
   "id": "37142e43",
   "metadata": {},
   "outputs": [
    {
     "data": {
      "text/html": [
       "<div>\n",
       "<style scoped>\n",
       "    .dataframe tbody tr th:only-of-type {\n",
       "        vertical-align: middle;\n",
       "    }\n",
       "\n",
       "    .dataframe tbody tr th {\n",
       "        vertical-align: top;\n",
       "    }\n",
       "\n",
       "    .dataframe thead tr th {\n",
       "        text-align: left;\n",
       "    }\n",
       "\n",
       "    .dataframe thead tr:last-of-type th {\n",
       "        text-align: right;\n",
       "    }\n",
       "</style>\n",
       "<table border=\"1\" class=\"dataframe\">\n",
       "  <thead>\n",
       "    <tr>\n",
       "      <th></th>\n",
       "      <th colspan=\"2\" halign=\"left\">debt</th>\n",
       "      <th>overdue_debt</th>\n",
       "    </tr>\n",
       "    <tr>\n",
       "      <th></th>\n",
       "      <th>sum</th>\n",
       "      <th>count</th>\n",
       "      <th></th>\n",
       "    </tr>\n",
       "    <tr>\n",
       "      <th>total_income_category</th>\n",
       "      <th></th>\n",
       "      <th></th>\n",
       "      <th></th>\n",
       "    </tr>\n",
       "  </thead>\n",
       "  <tbody>\n",
       "    <tr>\n",
       "      <th>E</th>\n",
       "      <td>2</td>\n",
       "      <td>22</td>\n",
       "      <td>0.090909</td>\n",
       "    </tr>\n",
       "    <tr>\n",
       "      <th>C</th>\n",
       "      <td>1353</td>\n",
       "      <td>15921</td>\n",
       "      <td>0.084982</td>\n",
       "    </tr>\n",
       "    <tr>\n",
       "      <th>A</th>\n",
       "      <td>2</td>\n",
       "      <td>25</td>\n",
       "      <td>0.080000</td>\n",
       "    </tr>\n",
       "    <tr>\n",
       "      <th>B</th>\n",
       "      <td>354</td>\n",
       "      <td>5014</td>\n",
       "      <td>0.070602</td>\n",
       "    </tr>\n",
       "    <tr>\n",
       "      <th>D</th>\n",
       "      <td>21</td>\n",
       "      <td>349</td>\n",
       "      <td>0.060172</td>\n",
       "    </tr>\n",
       "  </tbody>\n",
       "</table>\n",
       "</div>"
      ],
      "text/plain": [
       "                       debt        overdue_debt\n",
       "                        sum  count             \n",
       "total_income_category                          \n",
       "E                         2     22     0.090909\n",
       "C                      1353  15921     0.084982\n",
       "A                         2     25     0.080000\n",
       "B                       354   5014     0.070602\n",
       "D                        21    349     0.060172"
      ]
     },
     "execution_count": 26,
     "metadata": {},
     "output_type": "execute_result"
    }
   ],
   "source": [
    "relation(['total_income_category'])"
   ]
  },
  {
   "cell_type": "markdown",
   "id": "6dd14b57",
   "metadata": {
    "deletable": false,
    "id": "6dd14b57"
   },
   "source": [
    "**Вывод:** "
   ]
  },
  {
   "cell_type": "markdown",
   "id": "09eb2204",
   "metadata": {},
   "source": [
    "Можно отметить только, что люди с самым высоким доходом и так же с самым низким, реже остальных берут кредиты.В данной таблице группы  крайне несбаланисораны, поэтому мы будем учитывать только две самые многочисленные из них, а именно группу С(с доходом 50001–200000) и В (с доходом 200001–1000000), так как крайние категории по доходу не обладают достаточным объёмом клиентов для объективной оценки процента должников. Учитывая эти данные, можно сказать, что люди с доходом из группы В (200001–1000000) меньше нарушают свои кредитные обязательства, чем люди с более низким доходом из группы С."
   ]
  },
  {
   "cell_type": "markdown",
   "id": "1dcc9b12",
   "metadata": {
    "deletable": false,
    "editable": false,
    "id": "1dcc9b12"
   },
   "source": [
    "#### 3.4 Как разные цели кредита влияют на его возврат в срок?"
   ]
  },
  {
   "cell_type": "markdown",
   "id": "0e0c3613",
   "metadata": {},
   "source": [
    "Для анализа влияния цели кредита на возврат его в срок используем столбец с категориями целей кредита, \n",
    "который мы и отправим на вход нашей функции."
   ]
  },
  {
   "cell_type": "code",
   "execution_count": 27,
   "id": "c602bc8b",
   "metadata": {
    "deletable": false,
    "id": "c602bc8b"
   },
   "outputs": [
    {
     "data": {
      "text/html": [
       "<div>\n",
       "<style scoped>\n",
       "    .dataframe tbody tr th:only-of-type {\n",
       "        vertical-align: middle;\n",
       "    }\n",
       "\n",
       "    .dataframe tbody tr th {\n",
       "        vertical-align: top;\n",
       "    }\n",
       "\n",
       "    .dataframe thead tr th {\n",
       "        text-align: left;\n",
       "    }\n",
       "\n",
       "    .dataframe thead tr:last-of-type th {\n",
       "        text-align: right;\n",
       "    }\n",
       "</style>\n",
       "<table border=\"1\" class=\"dataframe\">\n",
       "  <thead>\n",
       "    <tr>\n",
       "      <th></th>\n",
       "      <th colspan=\"2\" halign=\"left\">debt</th>\n",
       "      <th>overdue_debt</th>\n",
       "    </tr>\n",
       "    <tr>\n",
       "      <th></th>\n",
       "      <th>sum</th>\n",
       "      <th>count</th>\n",
       "      <th></th>\n",
       "    </tr>\n",
       "    <tr>\n",
       "      <th>purpose_category</th>\n",
       "      <th></th>\n",
       "      <th></th>\n",
       "      <th></th>\n",
       "    </tr>\n",
       "  </thead>\n",
       "  <tbody>\n",
       "    <tr>\n",
       "      <th>операции с автомобилем</th>\n",
       "      <td>400</td>\n",
       "      <td>4279</td>\n",
       "      <td>0.093480</td>\n",
       "    </tr>\n",
       "    <tr>\n",
       "      <th>получение образования</th>\n",
       "      <td>369</td>\n",
       "      <td>3988</td>\n",
       "      <td>0.092528</td>\n",
       "    </tr>\n",
       "    <tr>\n",
       "      <th>проведение свадьбы</th>\n",
       "      <td>183</td>\n",
       "      <td>2313</td>\n",
       "      <td>0.079118</td>\n",
       "    </tr>\n",
       "    <tr>\n",
       "      <th>операции с недвижимостью</th>\n",
       "      <td>780</td>\n",
       "      <td>10751</td>\n",
       "      <td>0.072551</td>\n",
       "    </tr>\n",
       "  </tbody>\n",
       "</table>\n",
       "</div>"
      ],
      "text/plain": [
       "                         debt        overdue_debt\n",
       "                          sum  count             \n",
       "purpose_category                                 \n",
       "операции с автомобилем    400   4279     0.093480\n",
       "получение образования     369   3988     0.092528\n",
       "проведение свадьбы        183   2313     0.079118\n",
       "операции с недвижимостью  780  10751     0.072551"
      ]
     },
     "execution_count": 27,
     "metadata": {},
     "output_type": "execute_result"
    }
   ],
   "source": [
    "relation(['purpose_category'])"
   ]
  },
  {
   "cell_type": "markdown",
   "id": "cf05ed63",
   "metadata": {
    "deletable": false,
    "id": "cf05ed63"
   },
   "source": [
    "**Вывод:** "
   ]
  },
  {
   "cell_type": "markdown",
   "id": "76c56e31",
   "metadata": {},
   "source": [
    "Самые надежные заемщики берут кредиты на операции с недвижимостью, оно и понятно, шутки с недвижимостью плохи:)\n",
    "Кредиты на операции с автомобилем более подвержены риску невозврата в срок, может это связано как-то с тем, что\n",
    "автомобили могут и в аварию попасть и сломаться, в общем - дело рисковое.  "
   ]
  },
  {
   "cell_type": "markdown",
   "id": "46c1f10b",
   "metadata": {
    "deletable": false,
    "editable": false,
    "id": "46c1f10b"
   },
   "source": [
    "#### 3.5 Приведите возможные причины появления пропусков в исходных данных."
   ]
  },
  {
   "cell_type": "markdown",
   "id": "3697d2a9",
   "metadata": {
    "deletable": false,
    "id": "3697d2a9"
   },
   "source": [
    "*Ответ:* В процессе предобработки данных мы выяснили, что в нашем датафрейме пропуски встречались в столбцах 'days_employed' \n",
    " и 'total_income'. Возможно появление этих пропусков вызвал человеческий фактор,но так как количество пропусков одинаковое в двух столбцах (2174), возможно это означает, что эти заемщики никогда не работали и не получали дохода. Так же возможной причиной пропусков данных может быть умышленное сокрытие информации, например, для того чтобы она не повлияла на решение о выдаче кредита."
   ]
  },
  {
   "cell_type": "markdown",
   "id": "3137d257",
   "metadata": {
    "deletable": false,
    "editable": false,
    "id": "3137d257"
   },
   "source": [
    "#### 3.6 Объясните, почему заполнить пропуски медианным значением — лучшее решение для количественных переменных."
   ]
  },
  {
   "cell_type": "markdown",
   "id": "cf40012a",
   "metadata": {
    "deletable": false,
    "id": "cf40012a"
   },
   "source": [
    "*Ответ:* Для заполнения пропусков количественных переменных можно применить среднее значение или медианное. Среднее значение более подходит для последовательных значений с одинаковым шагом, и некорректно характеризует данные, когда некоторые значения сильно выделяются среди большинства. Поэтому медианное значение не ведет нас в заблуждение, если данные сильно разнятся. "
   ]
  },
  {
   "cell_type": "markdown",
   "id": "57bc304e",
   "metadata": {
    "deletable": false,
    "editable": false,
    "id": "57bc304e"
   },
   "source": [
    "### Шаг 4: общий вывод."
   ]
  },
  {
   "cell_type": "markdown",
   "id": "1ab75d1c",
   "metadata": {
    "deletable": false,
    "id": "1ab75d1c"
   },
   "source": [
    "\n",
    "Целью моего исследования было определить влияние на погашение кредита в срок различных вводных данных, а именно: количества детей у заемщика('children'), семейного положения ('family_status'), уровня дохода ('total_income') и целей , на которые берется кредит ('purpose') .\n",
    " \n",
    " \n",
    " На этапе предобработки данных статистики о платёжеспособности клиентов, полученной от банка, я столкнулась с такими проблемами как: \n",
    "\n",
    "\n",
    "* Пропуск данных был отмечен в двух столбцах данных - общий трудовой стаж в днях ('days_employed')  и ежемесячный доход ('total_income'). Так как на ежемесячный доход сильнее всего влияет тип занятости, то пропуски в данных о ежемесячном доходе я заполнила медианным значением доходов по каждому типу из столбца - тип занятости ('income_type'). Пропуски в столбце - общий трудовой стаж в днях ('days_employed') заменила медианными значениями по каждому типу занятости ('income_type').\n",
    "\n",
    "* В данных я встретила артефакты (аномалии) - отрицательное количество дней трудового стажа в столбце - общий трудовой стаж в днях ('days_employed'). Я заменила все отрицательные значения положительными. Так же у двух типов занятости (безработные и пенсионеры) я обнаружила аномально большие значения трудового стажа, но исправлять их не посчитала целесообразным. В столбце - количество детей в семье ('children') было два аномальных значения, я удалила строки, в которых встречаются такие аномальные значения из датафрейма.\n",
    "* Заменила тип данных и удалила неявные дубликаты там, где это было необходимо.\n",
    "* Провела категоризацию данных о ежемесячном доходе, выделила категории и создала новый столбец с категориями дохода ('total_income_category'): \n",
    "0–30000 — 'E';\n",
    "30001–50000 — 'D';\n",
    "50001–200000 — 'C';\n",
    "200001–1000000 — 'B';\n",
    "1000001 и выше — 'A'\n",
    "* Провела категоризацию данных о целях кредита, выделила категории и создала новый столбец с категориями целей ('purpose_category'):\n",
    "'операции с автомобилем',\n",
    "'операции с недвижимостью',\n",
    "'проведение свадьбы',\n",
    "'получение образования'.\n",
    "\n",
    "#    Результаты анализа данных:\n",
    "#### 1. Есть ли зависимость между количеством детей и возвратом кредита в срок?\n",
    "\n",
    "   Мои результаты анализа по вопросу зависимости возврата кредита в срок от количества детей заемщика основываются на выборке заемщиков с количеством детей от 0 до 2, которые занимают примерно 98 процентов от всей выборки. Анализ показал, что заемщики, у которых нет детей имеют наименьший процент невозврата кредита в срок - 0.075438, с 1 ребенком - 0.092346, с 2 детьми - 0.094542. Так же можно отметить, что, чем больше у заемщика детей, тем реже он берет кредиты.\n",
    "\n",
    "####    2. Есть ли зависимость между семейным положением и возвратом кредита в срок?\n",
    "\n",
    "   На основе проведенного анализа , могу сделать вывод, что люди не состоящие и не состоявшие в зарегестрированном браке, чаще остальных не возвращают кредиты в срок, процент невозврата по категориям: \n",
    "   Не женат / не замужем\t273\t2796\t0.097639\n",
    "   гражданский брак\t385\t4134\t0.093130\n",
    "   А те, кто состоит или когда-либо состоял в зарегистрированном браке, более надежные заемщики.\n",
    "   женат / замужем\t=\t0.075606\n",
    "   в разводе\t=\t0.070648\n",
    "   вдовец / вдова\t=\t0.066246\n",
    "\n",
    "####   3. Есть ли зависимость между уровнем дохода и возвратом кредита в срок?\n",
    "\n",
    "   Для ответа на этот вопрос я учитывала две самые многочисленные категории, а именно группу С(с доходом 50001–200000) и В (с доходом 200001–1000000), так как крайние категории по доходу не обладают достаточным объёмом клиентов для объективной оценки процента должников. Учитывая эти данные, можно сказать, что люди с доходом из группы В (200001–1000000)(процент невозврата в срок = 0.070602) меньше нарушают свои кредитные обязательства, чем люди с более низким доходом из группы С (50001–200000)(процент невозврата в срок = 0.084982).\n",
    "   Так же можно отметить, что люди с самым высоким доходом и с самым низким, реже остальных берут кредиты.\n",
    "\n",
    "####    4. Как разные цели кредита влияют на его возврат в срок?\n",
    "   Самые надежные заемщики берут кредиты на операции с недвижимостью (процент невозврата в срок = 0.072551). Кредиты на операции с автомобилем наиболее подвержены риску невозврата в срок(процент невозврата в срок = 0.093480). Между ними расположились категории - получение образования (процент невозврата в срок =0.092528) и проведение свадьбы(процент невозврата в срок =0.079118).\n",
    " \n",
    "\n",
    "   Сложив результаты анализа разных показателей можно сделать обощенный вывод о том, что самые надежные заемщики - те, которые состоят или ранее состояли в зарегестрированным браке и не имеют детей. Более надежный заемщик чаще обладает уровнем дохода  В (200001–1000000), а самая надежная цель кредита - операции с недвижимостью.\n"
   ]
  },
  {
   "cell_type": "markdown",
   "id": "2d24b69f",
   "metadata": {},
   "source": [
    "  Для дополнительного, более детального анализа одновременного влияния сразу всех анализируемых показателях клиентов на надежность их как заемщиков, я создала сводную таблицу, в которой видно, к примеру, что люди у которых нет детей, находящиеся в зарегистрированном браке, с уровнем дохода С (50001–200000), взявшие кредит на операции с недвижимостью - довольно-таки надежные заемщики с низким процентом невозврата кредита в срок (0.067451)"
   ]
  },
  {
   "cell_type": "code",
   "execution_count": 28,
   "id": "119a46b5",
   "metadata": {},
   "outputs": [
    {
     "data": {
      "text/html": [
       "<div>\n",
       "<style scoped>\n",
       "    .dataframe tbody tr th:only-of-type {\n",
       "        vertical-align: middle;\n",
       "    }\n",
       "\n",
       "    .dataframe tbody tr th {\n",
       "        vertical-align: top;\n",
       "    }\n",
       "\n",
       "    .dataframe thead th {\n",
       "        text-align: right;\n",
       "    }\n",
       "</style>\n",
       "<table border=\"1\" class=\"dataframe\">\n",
       "  <thead>\n",
       "    <tr style=\"text-align: right;\">\n",
       "      <th></th>\n",
       "      <th>children</th>\n",
       "      <th>family_status</th>\n",
       "      <th>total_income_category</th>\n",
       "      <th>purpose_category</th>\n",
       "      <th>sum_debt</th>\n",
       "      <th>count_debt</th>\n",
       "      <th>overdue_debt</th>\n",
       "    </tr>\n",
       "  </thead>\n",
       "  <tbody>\n",
       "    <tr>\n",
       "      <th>53</th>\n",
       "      <td>0</td>\n",
       "      <td>женат / замужем</td>\n",
       "      <td>C</td>\n",
       "      <td>операции с недвижимостью</td>\n",
       "      <td>212</td>\n",
       "      <td>3143</td>\n",
       "      <td>0.067451</td>\n",
       "    </tr>\n",
       "    <tr>\n",
       "      <th>108</th>\n",
       "      <td>1</td>\n",
       "      <td>женат / замужем</td>\n",
       "      <td>C</td>\n",
       "      <td>операции с недвижимостью</td>\n",
       "      <td>91</td>\n",
       "      <td>1255</td>\n",
       "      <td>0.072510</td>\n",
       "    </tr>\n",
       "    <tr>\n",
       "      <th>52</th>\n",
       "      <td>0</td>\n",
       "      <td>женат / замужем</td>\n",
       "      <td>C</td>\n",
       "      <td>операции с автомобилем</td>\n",
       "      <td>86</td>\n",
       "      <td>1231</td>\n",
       "      <td>0.069862</td>\n",
       "    </tr>\n",
       "    <tr>\n",
       "      <th>54</th>\n",
       "      <td>0</td>\n",
       "      <td>женат / замужем</td>\n",
       "      <td>C</td>\n",
       "      <td>получение образования</td>\n",
       "      <td>97</td>\n",
       "      <td>1182</td>\n",
       "      <td>0.082064</td>\n",
       "    </tr>\n",
       "    <tr>\n",
       "      <th>40</th>\n",
       "      <td>0</td>\n",
       "      <td>гражданский брак</td>\n",
       "      <td>C</td>\n",
       "      <td>проведение свадьбы</td>\n",
       "      <td>92</td>\n",
       "      <td>1153</td>\n",
       "      <td>0.079792</td>\n",
       "    </tr>\n",
       "    <tr>\n",
       "      <th>50</th>\n",
       "      <td>0</td>\n",
       "      <td>женат / замужем</td>\n",
       "      <td>B</td>\n",
       "      <td>операции с недвижимостью</td>\n",
       "      <td>62</td>\n",
       "      <td>999</td>\n",
       "      <td>0.062062</td>\n",
       "    </tr>\n",
       "    <tr>\n",
       "      <th>5</th>\n",
       "      <td>0</td>\n",
       "      <td>Не женат / не замужем</td>\n",
       "      <td>C</td>\n",
       "      <td>операции с недвижимостью</td>\n",
       "      <td>71</td>\n",
       "      <td>955</td>\n",
       "      <td>0.074346</td>\n",
       "    </tr>\n",
       "    <tr>\n",
       "      <th>151</th>\n",
       "      <td>2</td>\n",
       "      <td>женат / замужем</td>\n",
       "      <td>C</td>\n",
       "      <td>операции с недвижимостью</td>\n",
       "      <td>58</td>\n",
       "      <td>633</td>\n",
       "      <td>0.091627</td>\n",
       "    </tr>\n",
       "    <tr>\n",
       "      <th>38</th>\n",
       "      <td>0</td>\n",
       "      <td>гражданский брак</td>\n",
       "      <td>C</td>\n",
       "      <td>операции с недвижимостью</td>\n",
       "      <td>42</td>\n",
       "      <td>491</td>\n",
       "      <td>0.085540</td>\n",
       "    </tr>\n",
       "    <tr>\n",
       "      <th>107</th>\n",
       "      <td>1</td>\n",
       "      <td>женат / замужем</td>\n",
       "      <td>C</td>\n",
       "      <td>операции с автомобилем</td>\n",
       "      <td>51</td>\n",
       "      <td>487</td>\n",
       "      <td>0.104723</td>\n",
       "    </tr>\n",
       "    <tr>\n",
       "      <th>109</th>\n",
       "      <td>1</td>\n",
       "      <td>женат / замужем</td>\n",
       "      <td>C</td>\n",
       "      <td>получение образования</td>\n",
       "      <td>47</td>\n",
       "      <td>450</td>\n",
       "      <td>0.104444</td>\n",
       "    </tr>\n",
       "    <tr>\n",
       "      <th>105</th>\n",
       "      <td>1</td>\n",
       "      <td>женат / замужем</td>\n",
       "      <td>B</td>\n",
       "      <td>операции с недвижимостью</td>\n",
       "      <td>30</td>\n",
       "      <td>417</td>\n",
       "      <td>0.071942</td>\n",
       "    </tr>\n",
       "    <tr>\n",
       "      <th>96</th>\n",
       "      <td>1</td>\n",
       "      <td>гражданский брак</td>\n",
       "      <td>C</td>\n",
       "      <td>проведение свадьбы</td>\n",
       "      <td>46</td>\n",
       "      <td>397</td>\n",
       "      <td>0.115869</td>\n",
       "    </tr>\n",
       "    <tr>\n",
       "      <th>4</th>\n",
       "      <td>0</td>\n",
       "      <td>Не женат / не замужем</td>\n",
       "      <td>C</td>\n",
       "      <td>операции с автомобилем</td>\n",
       "      <td>49</td>\n",
       "      <td>396</td>\n",
       "      <td>0.123737</td>\n",
       "    </tr>\n",
       "    <tr>\n",
       "      <th>49</th>\n",
       "      <td>0</td>\n",
       "      <td>женат / замужем</td>\n",
       "      <td>B</td>\n",
       "      <td>операции с автомобилем</td>\n",
       "      <td>30</td>\n",
       "      <td>388</td>\n",
       "      <td>0.077320</td>\n",
       "    </tr>\n",
       "    <tr>\n",
       "      <th>25</th>\n",
       "      <td>0</td>\n",
       "      <td>вдовец / вдова</td>\n",
       "      <td>C</td>\n",
       "      <td>операции с недвижимостью</td>\n",
       "      <td>19</td>\n",
       "      <td>382</td>\n",
       "      <td>0.049738</td>\n",
       "    </tr>\n",
       "    <tr>\n",
       "      <th>51</th>\n",
       "      <td>0</td>\n",
       "      <td>женат / замужем</td>\n",
       "      <td>B</td>\n",
       "      <td>получение образования</td>\n",
       "      <td>20</td>\n",
       "      <td>362</td>\n",
       "      <td>0.055249</td>\n",
       "    </tr>\n",
       "    <tr>\n",
       "      <th>36</th>\n",
       "      <td>0</td>\n",
       "      <td>гражданский брак</td>\n",
       "      <td>B</td>\n",
       "      <td>проведение свадьбы</td>\n",
       "      <td>22</td>\n",
       "      <td>350</td>\n",
       "      <td>0.062857</td>\n",
       "    </tr>\n",
       "    <tr>\n",
       "      <th>6</th>\n",
       "      <td>0</td>\n",
       "      <td>Не женат / не замужем</td>\n",
       "      <td>C</td>\n",
       "      <td>получение образования</td>\n",
       "      <td>38</td>\n",
       "      <td>337</td>\n",
       "      <td>0.112760</td>\n",
       "    </tr>\n",
       "    <tr>\n",
       "      <th>16</th>\n",
       "      <td>0</td>\n",
       "      <td>в разводе</td>\n",
       "      <td>C</td>\n",
       "      <td>операции с недвижимостью</td>\n",
       "      <td>22</td>\n",
       "      <td>314</td>\n",
       "      <td>0.070064</td>\n",
       "    </tr>\n",
       "    <tr>\n",
       "      <th>2</th>\n",
       "      <td>0</td>\n",
       "      <td>Не женат / не замужем</td>\n",
       "      <td>B</td>\n",
       "      <td>операции с недвижимостью</td>\n",
       "      <td>24</td>\n",
       "      <td>313</td>\n",
       "      <td>0.076677</td>\n",
       "    </tr>\n",
       "    <tr>\n",
       "      <th>152</th>\n",
       "      <td>2</td>\n",
       "      <td>женат / замужем</td>\n",
       "      <td>C</td>\n",
       "      <td>получение образования</td>\n",
       "      <td>28</td>\n",
       "      <td>253</td>\n",
       "      <td>0.110672</td>\n",
       "    </tr>\n",
       "    <tr>\n",
       "      <th>150</th>\n",
       "      <td>2</td>\n",
       "      <td>женат / замужем</td>\n",
       "      <td>C</td>\n",
       "      <td>операции с автомобилем</td>\n",
       "      <td>25</td>\n",
       "      <td>234</td>\n",
       "      <td>0.106838</td>\n",
       "    </tr>\n",
       "    <tr>\n",
       "      <th>148</th>\n",
       "      <td>2</td>\n",
       "      <td>женат / замужем</td>\n",
       "      <td>B</td>\n",
       "      <td>операции с недвижимостью</td>\n",
       "      <td>13</td>\n",
       "      <td>226</td>\n",
       "      <td>0.057522</td>\n",
       "    </tr>\n",
       "    <tr>\n",
       "      <th>37</th>\n",
       "      <td>0</td>\n",
       "      <td>гражданский брак</td>\n",
       "      <td>C</td>\n",
       "      <td>операции с автомобилем</td>\n",
       "      <td>23</td>\n",
       "      <td>209</td>\n",
       "      <td>0.110048</td>\n",
       "    </tr>\n",
       "    <tr>\n",
       "      <th>39</th>\n",
       "      <td>0</td>\n",
       "      <td>гражданский брак</td>\n",
       "      <td>C</td>\n",
       "      <td>получение образования</td>\n",
       "      <td>29</td>\n",
       "      <td>195</td>\n",
       "      <td>0.148718</td>\n",
       "    </tr>\n",
       "    <tr>\n",
       "      <th>94</th>\n",
       "      <td>1</td>\n",
       "      <td>гражданский брак</td>\n",
       "      <td>C</td>\n",
       "      <td>операции с недвижимостью</td>\n",
       "      <td>26</td>\n",
       "      <td>192</td>\n",
       "      <td>0.135417</td>\n",
       "    </tr>\n",
       "    <tr>\n",
       "      <th>65</th>\n",
       "      <td>1</td>\n",
       "      <td>Не женат / не замужем</td>\n",
       "      <td>C</td>\n",
       "      <td>операции с недвижимостью</td>\n",
       "      <td>21</td>\n",
       "      <td>189</td>\n",
       "      <td>0.111111</td>\n",
       "    </tr>\n",
       "    <tr>\n",
       "      <th>104</th>\n",
       "      <td>1</td>\n",
       "      <td>женат / замужем</td>\n",
       "      <td>B</td>\n",
       "      <td>операции с автомобилем</td>\n",
       "      <td>13</td>\n",
       "      <td>182</td>\n",
       "      <td>0.071429</td>\n",
       "    </tr>\n",
       "    <tr>\n",
       "      <th>24</th>\n",
       "      <td>0</td>\n",
       "      <td>вдовец / вдова</td>\n",
       "      <td>C</td>\n",
       "      <td>операции с автомобилем</td>\n",
       "      <td>17</td>\n",
       "      <td>167</td>\n",
       "      <td>0.101796</td>\n",
       "    </tr>\n",
       "  </tbody>\n",
       "</table>\n",
       "</div>"
      ],
      "text/plain": [
       "     children          family_status total_income_category  \\\n",
       "53          0        женат / замужем                     C   \n",
       "108         1        женат / замужем                     C   \n",
       "52          0        женат / замужем                     C   \n",
       "54          0        женат / замужем                     C   \n",
       "40          0       гражданский брак                     C   \n",
       "50          0        женат / замужем                     B   \n",
       "5           0  Не женат / не замужем                     C   \n",
       "151         2        женат / замужем                     C   \n",
       "38          0       гражданский брак                     C   \n",
       "107         1        женат / замужем                     C   \n",
       "109         1        женат / замужем                     C   \n",
       "105         1        женат / замужем                     B   \n",
       "96          1       гражданский брак                     C   \n",
       "4           0  Не женат / не замужем                     C   \n",
       "49          0        женат / замужем                     B   \n",
       "25          0         вдовец / вдова                     C   \n",
       "51          0        женат / замужем                     B   \n",
       "36          0       гражданский брак                     B   \n",
       "6           0  Не женат / не замужем                     C   \n",
       "16          0              в разводе                     C   \n",
       "2           0  Не женат / не замужем                     B   \n",
       "152         2        женат / замужем                     C   \n",
       "150         2        женат / замужем                     C   \n",
       "148         2        женат / замужем                     B   \n",
       "37          0       гражданский брак                     C   \n",
       "39          0       гражданский брак                     C   \n",
       "94          1       гражданский брак                     C   \n",
       "65          1  Не женат / не замужем                     C   \n",
       "104         1        женат / замужем                     B   \n",
       "24          0         вдовец / вдова                     C   \n",
       "\n",
       "             purpose_category  sum_debt  count_debt  overdue_debt  \n",
       "53   операции с недвижимостью       212        3143      0.067451  \n",
       "108  операции с недвижимостью        91        1255      0.072510  \n",
       "52     операции с автомобилем        86        1231      0.069862  \n",
       "54      получение образования        97        1182      0.082064  \n",
       "40         проведение свадьбы        92        1153      0.079792  \n",
       "50   операции с недвижимостью        62         999      0.062062  \n",
       "5    операции с недвижимостью        71         955      0.074346  \n",
       "151  операции с недвижимостью        58         633      0.091627  \n",
       "38   операции с недвижимостью        42         491      0.085540  \n",
       "107    операции с автомобилем        51         487      0.104723  \n",
       "109     получение образования        47         450      0.104444  \n",
       "105  операции с недвижимостью        30         417      0.071942  \n",
       "96         проведение свадьбы        46         397      0.115869  \n",
       "4      операции с автомобилем        49         396      0.123737  \n",
       "49     операции с автомобилем        30         388      0.077320  \n",
       "25   операции с недвижимостью        19         382      0.049738  \n",
       "51      получение образования        20         362      0.055249  \n",
       "36         проведение свадьбы        22         350      0.062857  \n",
       "6       получение образования        38         337      0.112760  \n",
       "16   операции с недвижимостью        22         314      0.070064  \n",
       "2    операции с недвижимостью        24         313      0.076677  \n",
       "152     получение образования        28         253      0.110672  \n",
       "150    операции с автомобилем        25         234      0.106838  \n",
       "148  операции с недвижимостью        13         226      0.057522  \n",
       "37     операции с автомобилем        23         209      0.110048  \n",
       "39      получение образования        29         195      0.148718  \n",
       "94   операции с недвижимостью        26         192      0.135417  \n",
       "65   операции с недвижимостью        21         189      0.111111  \n",
       "104    операции с автомобилем        13         182      0.071429  \n",
       "24     операции с автомобилем        17         167      0.101796  "
      ]
     },
     "execution_count": 28,
     "metadata": {},
     "output_type": "execute_result"
    }
   ],
   "source": [
    "data_pivot = data.pivot_table(index = ['children','family_status','total_income_category','purpose_category'], values='debt', aggfunc=['sum', 'count']) #создали сводную таблицу с нашими столбцами, применили сразу две агрегирующие функции\n",
    "#data_pivot.head(30)\n",
    "data_pivot.columns = ['_'.join(col).strip() for col in data_pivot.columns.values] #избавились от мультииндексов в названиях столбцов\n",
    "data_pivot = data_pivot.reset_index()\n",
    "data_pivot['overdue_debt'] = data_pivot['sum_debt'] / data_pivot['count_debt'] #создаем новый столбец - процент невозврата кредита в срок\n",
    "data_pivot_sort = data_pivot.sort_values(by = 'count_debt', ascending = False) # отсортируем таблицу по 'count_debt' по убыванию\n",
    "\n",
    "data_pivot_sort.head(30)"
   ]
  }
 ],
 "metadata": {
  "ExecuteTimeLog": [
   {
    "duration": 103,
    "start_time": "2023-07-28T09:25:52.698Z"
   },
   {
    "duration": 874,
    "start_time": "2023-07-28T09:26:11.836Z"
   },
   {
    "duration": 36,
    "start_time": "2023-07-28T09:26:13.033Z"
   },
   {
    "duration": 23,
    "start_time": "2023-07-28T09:26:14.635Z"
   },
   {
    "duration": 14,
    "start_time": "2023-07-28T09:26:17.359Z"
   },
   {
    "duration": 36,
    "start_time": "2023-07-28T09:26:18.525Z"
   },
   {
    "duration": 12,
    "start_time": "2023-07-28T09:26:20.167Z"
   },
   {
    "duration": 21,
    "start_time": "2023-07-28T09:26:21.469Z"
   },
   {
    "duration": 13,
    "start_time": "2023-07-28T09:26:24.324Z"
   },
   {
    "duration": 7,
    "start_time": "2023-07-28T09:26:25.655Z"
   },
   {
    "duration": 15,
    "start_time": "2023-07-28T09:26:26.768Z"
   },
   {
    "duration": 55,
    "start_time": "2023-07-28T09:26:29.930Z"
   },
   {
    "duration": 19,
    "start_time": "2023-07-28T09:26:30.859Z"
   },
   {
    "duration": 5,
    "start_time": "2023-07-28T09:26:32.945Z"
   },
   {
    "duration": 28,
    "start_time": "2023-07-28T09:26:34.415Z"
   },
   {
    "duration": 27,
    "start_time": "2023-07-28T09:26:35.422Z"
   },
   {
    "duration": 34,
    "start_time": "2023-07-28T09:26:35.897Z"
   },
   {
    "duration": 8,
    "start_time": "2023-07-28T09:26:37.786Z"
   },
   {
    "duration": 25,
    "start_time": "2023-07-28T09:26:38.310Z"
   },
   {
    "duration": 8,
    "start_time": "2023-07-28T09:26:40.346Z"
   },
   {
    "duration": 11,
    "start_time": "2023-07-28T09:26:42.606Z"
   },
   {
    "duration": 18,
    "start_time": "2023-07-28T09:26:43.509Z"
   },
   {
    "duration": 20,
    "start_time": "2023-07-28T09:30:03.738Z"
   },
   {
    "duration": 3,
    "start_time": "2023-07-28T10:48:13.361Z"
   },
   {
    "duration": 6,
    "start_time": "2023-07-28T10:48:22.950Z"
   },
   {
    "duration": 7,
    "start_time": "2023-07-28T11:46:57.232Z"
   },
   {
    "duration": 5,
    "start_time": "2023-07-28T12:57:03.523Z"
   },
   {
    "duration": 4369,
    "start_time": "2023-07-28T13:06:21.296Z"
   },
   {
    "duration": 0,
    "start_time": "2023-07-28T13:06:43.533Z"
   },
   {
    "duration": 4309,
    "start_time": "2023-07-28T13:06:52.989Z"
   },
   {
    "duration": 16,
    "start_time": "2023-07-28T13:07:11.861Z"
   },
   {
    "duration": 9,
    "start_time": "2023-07-28T13:08:05.833Z"
   },
   {
    "duration": 12,
    "start_time": "2023-07-28T13:08:30.925Z"
   },
   {
    "duration": 12,
    "start_time": "2023-07-28T13:09:16.101Z"
   },
   {
    "duration": 5,
    "start_time": "2023-07-28T13:09:21.996Z"
   },
   {
    "duration": 13,
    "start_time": "2023-07-28T13:09:24.695Z"
   },
   {
    "duration": 8,
    "start_time": "2023-07-28T13:12:00.640Z"
   },
   {
    "duration": 8,
    "start_time": "2023-07-28T13:12:11.729Z"
   },
   {
    "duration": 366,
    "start_time": "2023-07-28T13:12:19.645Z"
   },
   {
    "duration": 15,
    "start_time": "2023-07-28T13:12:21.225Z"
   },
   {
    "duration": 16,
    "start_time": "2023-07-28T13:12:21.828Z"
   },
   {
    "duration": 16,
    "start_time": "2023-07-28T13:12:22.688Z"
   },
   {
    "duration": 34,
    "start_time": "2023-07-28T13:12:23.123Z"
   },
   {
    "duration": 7,
    "start_time": "2023-07-28T13:12:23.788Z"
   },
   {
    "duration": 8,
    "start_time": "2023-07-28T13:12:24.246Z"
   },
   {
    "duration": 5,
    "start_time": "2023-07-28T13:12:25.430Z"
   },
   {
    "duration": 9,
    "start_time": "2023-07-28T13:12:25.994Z"
   },
   {
    "duration": 6,
    "start_time": "2023-07-28T13:12:26.526Z"
   },
   {
    "duration": 35,
    "start_time": "2023-07-28T13:12:28.127Z"
   },
   {
    "duration": 11,
    "start_time": "2023-07-28T13:12:28.546Z"
   },
   {
    "duration": 8,
    "start_time": "2023-07-28T13:12:29.189Z"
   },
   {
    "duration": 12,
    "start_time": "2023-07-28T13:12:30.127Z"
   },
   {
    "duration": 20,
    "start_time": "2023-07-28T13:12:31.118Z"
   },
   {
    "duration": 18,
    "start_time": "2023-07-28T13:12:31.641Z"
   },
   {
    "duration": 4,
    "start_time": "2023-07-28T13:12:33.804Z"
   },
   {
    "duration": 12,
    "start_time": "2023-07-28T13:12:34.822Z"
   },
   {
    "duration": 6,
    "start_time": "2023-07-28T13:12:37.823Z"
   },
   {
    "duration": 3,
    "start_time": "2023-07-28T13:12:39.251Z"
   },
   {
    "duration": 10,
    "start_time": "2023-07-28T13:12:39.540Z"
   },
   {
    "duration": 12,
    "start_time": "2023-07-28T13:12:40.620Z"
   },
   {
    "duration": 2,
    "start_time": "2023-07-28T13:12:43.820Z"
   },
   {
    "duration": 0,
    "start_time": "2023-07-28T13:13:10.265Z"
   },
   {
    "duration": 3777,
    "start_time": "2023-07-28T13:13:15.930Z"
   },
   {
    "duration": 20,
    "start_time": "2023-07-28T13:13:52.596Z"
   },
   {
    "duration": 7,
    "start_time": "2023-07-28T13:14:18.933Z"
   },
   {
    "duration": 6,
    "start_time": "2023-07-28T13:15:22.947Z"
   },
   {
    "duration": 5,
    "start_time": "2023-07-28T13:20:23.943Z"
   },
   {
    "duration": 7,
    "start_time": "2023-07-28T13:20:36.435Z"
   },
   {
    "duration": 5,
    "start_time": "2023-07-28T13:24:47.049Z"
   },
   {
    "duration": 9,
    "start_time": "2023-07-28T13:26:32.098Z"
   },
   {
    "duration": 7,
    "start_time": "2023-07-28T13:29:29.005Z"
   },
   {
    "duration": 8,
    "start_time": "2023-07-28T13:29:34.847Z"
   },
   {
    "duration": 14,
    "start_time": "2023-07-28T13:29:40.292Z"
   },
   {
    "duration": 8,
    "start_time": "2023-07-28T13:43:08.137Z"
   },
   {
    "duration": 6,
    "start_time": "2023-07-28T13:45:14.856Z"
   },
   {
    "duration": 7,
    "start_time": "2023-07-28T13:45:22.708Z"
   },
   {
    "duration": 9,
    "start_time": "2023-07-28T13:45:49.400Z"
   },
   {
    "duration": 10,
    "start_time": "2023-07-28T13:53:44.106Z"
   },
   {
    "duration": 15,
    "start_time": "2023-07-28T13:54:29.768Z"
   },
   {
    "duration": 11,
    "start_time": "2023-07-28T13:55:36.452Z"
   },
   {
    "duration": 15,
    "start_time": "2023-07-28T13:56:04.162Z"
   },
   {
    "duration": 9,
    "start_time": "2023-07-28T13:56:16.429Z"
   },
   {
    "duration": 2,
    "start_time": "2023-07-28T13:56:18.037Z"
   },
   {
    "duration": 10,
    "start_time": "2023-07-28T14:04:04.304Z"
   },
   {
    "duration": 9,
    "start_time": "2023-07-28T14:04:50.642Z"
   },
   {
    "duration": 17,
    "start_time": "2023-07-28T14:05:30.020Z"
   },
   {
    "duration": 28,
    "start_time": "2023-07-28T14:24:36.673Z"
   },
   {
    "duration": 16,
    "start_time": "2023-07-28T14:25:44.347Z"
   },
   {
    "duration": 19,
    "start_time": "2023-07-28T14:27:40.803Z"
   },
   {
    "duration": 17,
    "start_time": "2023-07-28T14:28:29.999Z"
   },
   {
    "duration": 11,
    "start_time": "2023-07-28T14:32:44.432Z"
   },
   {
    "duration": 11,
    "start_time": "2023-07-28T14:55:24.104Z"
   },
   {
    "duration": 3,
    "start_time": "2023-07-28T15:02:17.346Z"
   },
   {
    "duration": 3,
    "start_time": "2023-07-28T15:02:19.112Z"
   },
   {
    "duration": 10,
    "start_time": "2023-07-28T15:02:19.814Z"
   },
   {
    "duration": 17,
    "start_time": "2023-07-28T15:02:20.562Z"
   },
   {
    "duration": 7,
    "start_time": "2023-07-28T15:02:21.155Z"
   },
   {
    "duration": 11,
    "start_time": "2023-07-28T15:02:22.220Z"
   },
   {
    "duration": 6,
    "start_time": "2023-07-28T17:36:31.302Z"
   },
   {
    "duration": 5,
    "start_time": "2023-07-28T17:41:01.746Z"
   },
   {
    "duration": 5,
    "start_time": "2023-07-28T17:44:39.392Z"
   },
   {
    "duration": 14,
    "start_time": "2023-07-28T17:48:06.489Z"
   },
   {
    "duration": 9,
    "start_time": "2023-07-28T17:48:19.372Z"
   },
   {
    "duration": 15,
    "start_time": "2023-07-28T17:50:44.135Z"
   },
   {
    "duration": 12,
    "start_time": "2023-07-28T17:51:47.937Z"
   },
   {
    "duration": 11,
    "start_time": "2023-07-28T17:51:59.102Z"
   },
   {
    "duration": 12,
    "start_time": "2023-07-28T17:52:12.944Z"
   },
   {
    "duration": 12,
    "start_time": "2023-07-28T17:52:37.822Z"
   },
   {
    "duration": 11,
    "start_time": "2023-07-28T17:52:47.126Z"
   },
   {
    "duration": 1389,
    "start_time": "2023-07-28T18:47:18.829Z"
   },
   {
    "duration": 1397,
    "start_time": "2023-07-28T18:47:58.860Z"
   },
   {
    "duration": 1102,
    "start_time": "2023-07-28T18:48:27.852Z"
   },
   {
    "duration": 28,
    "start_time": "2023-07-28T18:49:23.075Z"
   },
   {
    "duration": 5,
    "start_time": "2023-07-28T18:50:38.140Z"
   },
   {
    "duration": 10,
    "start_time": "2023-07-28T18:50:43.691Z"
   },
   {
    "duration": 11,
    "start_time": "2023-07-28T18:50:53.564Z"
   },
   {
    "duration": 9,
    "start_time": "2023-07-28T18:51:54.498Z"
   },
   {
    "duration": 8,
    "start_time": "2023-07-28T18:52:45.499Z"
   },
   {
    "duration": 8,
    "start_time": "2023-07-28T18:53:08.128Z"
   },
   {
    "duration": 7,
    "start_time": "2023-07-28T18:53:09.096Z"
   },
   {
    "duration": 5,
    "start_time": "2023-07-28T18:53:10.249Z"
   },
   {
    "duration": 12,
    "start_time": "2023-07-28T18:55:15.299Z"
   },
   {
    "duration": 6,
    "start_time": "2023-07-28T18:55:18.099Z"
   },
   {
    "duration": 12,
    "start_time": "2023-07-28T18:55:18.900Z"
   },
   {
    "duration": 13,
    "start_time": "2023-07-28T18:55:48.699Z"
   },
   {
    "duration": 6,
    "start_time": "2023-07-28T19:11:44.421Z"
   },
   {
    "duration": 8,
    "start_time": "2023-07-28T19:12:00.654Z"
   },
   {
    "duration": 11,
    "start_time": "2023-07-28T19:12:42.663Z"
   },
   {
    "duration": 8,
    "start_time": "2023-07-28T19:13:35.579Z"
   },
   {
    "duration": 10,
    "start_time": "2023-07-28T19:15:26.000Z"
   },
   {
    "duration": 6,
    "start_time": "2023-07-29T17:49:45.051Z"
   },
   {
    "duration": 11,
    "start_time": "2023-07-29T17:49:48.574Z"
   },
   {
    "duration": 13,
    "start_time": "2023-07-29T17:49:50.460Z"
   },
   {
    "duration": 22,
    "start_time": "2023-07-29T17:49:58.851Z"
   },
   {
    "duration": 13,
    "start_time": "2023-07-29T17:50:02.739Z"
   },
   {
    "duration": 10,
    "start_time": "2023-07-29T17:50:04.691Z"
   },
   {
    "duration": 12,
    "start_time": "2023-07-29T17:50:05.832Z"
   },
   {
    "duration": 8,
    "start_time": "2023-07-29T17:50:08.441Z"
   },
   {
    "duration": 7,
    "start_time": "2023-07-29T17:50:09.559Z"
   },
   {
    "duration": 5,
    "start_time": "2023-07-29T17:50:10.936Z"
   },
   {
    "duration": 60,
    "start_time": "2023-07-29T17:50:11.530Z"
   },
   {
    "duration": 16,
    "start_time": "2023-07-29T17:50:12.012Z"
   },
   {
    "duration": 77,
    "start_time": "2023-07-29T17:50:14.329Z"
   },
   {
    "duration": 9,
    "start_time": "2023-07-29T17:50:14.606Z"
   },
   {
    "duration": 11,
    "start_time": "2023-07-29T17:50:16.409Z"
   },
   {
    "duration": 6,
    "start_time": "2023-07-29T17:50:17.429Z"
   },
   {
    "duration": 73,
    "start_time": "2023-07-29T17:50:18.001Z"
   },
   {
    "duration": 15,
    "start_time": "2023-07-29T17:50:18.604Z"
   },
   {
    "duration": 208,
    "start_time": "2023-07-29T17:50:20.157Z"
   },
   {
    "duration": 138,
    "start_time": "2023-07-30T10:04:05.459Z"
   },
   {
    "duration": 109,
    "start_time": "2023-07-30T10:16:26.011Z"
   },
   {
    "duration": 61,
    "start_time": "2023-07-30T14:31:37.686Z"
   },
   {
    "duration": 47,
    "start_time": "2023-07-30T14:31:44.159Z"
   },
   {
    "duration": 662,
    "start_time": "2023-07-30T14:32:35.856Z"
   },
   {
    "duration": 21,
    "start_time": "2023-07-30T14:32:40.943Z"
   },
   {
    "duration": 12,
    "start_time": "2023-07-30T14:32:41.747Z"
   },
   {
    "duration": 8,
    "start_time": "2023-07-30T14:32:43.151Z"
   },
   {
    "duration": 29,
    "start_time": "2023-07-30T14:32:44.256Z"
   },
   {
    "duration": 3,
    "start_time": "2023-07-30T14:32:45.639Z"
   },
   {
    "duration": 7,
    "start_time": "2023-07-30T14:32:46.866Z"
   },
   {
    "duration": 4,
    "start_time": "2023-07-30T14:32:49.956Z"
   },
   {
    "duration": 6,
    "start_time": "2023-07-30T14:32:51.490Z"
   },
   {
    "duration": 4,
    "start_time": "2023-07-30T14:32:52.156Z"
   },
   {
    "duration": 33,
    "start_time": "2023-07-30T14:32:53.958Z"
   },
   {
    "duration": 9,
    "start_time": "2023-07-30T14:32:55.267Z"
   },
   {
    "duration": 3,
    "start_time": "2023-07-30T14:32:56.970Z"
   },
   {
    "duration": 16,
    "start_time": "2023-07-30T14:32:57.946Z"
   },
   {
    "duration": 17,
    "start_time": "2023-07-30T14:32:58.460Z"
   },
   {
    "duration": 17,
    "start_time": "2023-07-30T14:32:58.762Z"
   },
   {
    "duration": 4,
    "start_time": "2023-07-30T14:33:00.950Z"
   },
   {
    "duration": 12,
    "start_time": "2023-07-30T14:33:01.776Z"
   },
   {
    "duration": 5,
    "start_time": "2023-07-30T14:33:03.564Z"
   },
   {
    "duration": 3,
    "start_time": "2023-07-30T14:33:05.866Z"
   },
   {
    "duration": 8,
    "start_time": "2023-07-30T14:33:06.547Z"
   },
   {
    "duration": 5,
    "start_time": "2023-07-30T14:33:08.606Z"
   },
   {
    "duration": 6,
    "start_time": "2023-07-30T14:33:12.949Z"
   },
   {
    "duration": 4,
    "start_time": "2023-07-30T14:33:14.476Z"
   },
   {
    "duration": 13,
    "start_time": "2023-07-30T14:33:16.256Z"
   },
   {
    "duration": 3,
    "start_time": "2023-07-30T14:35:45.546Z"
   },
   {
    "duration": 10,
    "start_time": "2023-07-30T14:35:46.062Z"
   },
   {
    "duration": 2,
    "start_time": "2023-07-30T14:35:48.439Z"
   },
   {
    "duration": 2,
    "start_time": "2023-07-30T14:35:49.553Z"
   },
   {
    "duration": 2,
    "start_time": "2023-07-30T14:35:50.775Z"
   },
   {
    "duration": 2,
    "start_time": "2023-07-30T14:35:52.339Z"
   },
   {
    "duration": 8,
    "start_time": "2023-07-30T14:35:53.842Z"
   },
   {
    "duration": 7,
    "start_time": "2023-07-30T14:45:45.889Z"
   },
   {
    "duration": 51,
    "start_time": "2023-07-30T14:48:31.547Z"
   },
   {
    "duration": 7,
    "start_time": "2023-07-30T14:48:50.643Z"
   },
   {
    "duration": 9,
    "start_time": "2023-07-30T14:49:16.609Z"
   },
   {
    "duration": 8,
    "start_time": "2023-07-30T14:49:47.889Z"
   },
   {
    "duration": 7,
    "start_time": "2023-07-30T14:50:21.958Z"
   },
   {
    "duration": 8,
    "start_time": "2023-07-30T14:54:19.762Z"
   },
   {
    "duration": 4,
    "start_time": "2023-07-30T15:02:16.553Z"
   },
   {
    "duration": 866,
    "start_time": "2023-07-30T15:02:44.913Z"
   },
   {
    "duration": 8,
    "start_time": "2023-07-30T15:03:04.457Z"
   },
   {
    "duration": 110,
    "start_time": "2023-07-30T15:04:29.988Z"
   },
   {
    "duration": 50,
    "start_time": "2023-07-30T15:04:42.064Z"
   },
   {
    "duration": 227,
    "start_time": "2023-07-30T15:05:02.661Z"
   },
   {
    "duration": 8,
    "start_time": "2023-07-30T15:05:19.645Z"
   },
   {
    "duration": 873,
    "start_time": "2023-07-30T15:08:12.413Z"
   },
   {
    "duration": 1173,
    "start_time": "2023-07-30T15:10:10.346Z"
   },
   {
    "duration": 7,
    "start_time": "2023-07-30T15:10:22.475Z"
   },
   {
    "duration": 8,
    "start_time": "2023-07-30T15:10:45.167Z"
   },
   {
    "duration": 10,
    "start_time": "2023-07-30T15:11:09.409Z"
   },
   {
    "duration": 8,
    "start_time": "2023-07-30T15:11:41.954Z"
   },
   {
    "duration": 982,
    "start_time": "2023-07-30T15:12:55.403Z"
   },
   {
    "duration": 9,
    "start_time": "2023-07-30T15:13:55.037Z"
   },
   {
    "duration": 890,
    "start_time": "2023-07-30T15:17:02.856Z"
   },
   {
    "duration": 9,
    "start_time": "2023-07-30T15:20:44.360Z"
   },
   {
    "duration": 10,
    "start_time": "2023-07-30T15:21:49.153Z"
   },
   {
    "duration": 9,
    "start_time": "2023-07-30T15:22:34.366Z"
   },
   {
    "duration": 1281,
    "start_time": "2023-07-30T15:32:52.015Z"
   },
   {
    "duration": 76,
    "start_time": "2023-07-30T15:33:17.650Z"
   },
   {
    "duration": 16,
    "start_time": "2023-07-30T15:33:18.613Z"
   },
   {
    "duration": 14,
    "start_time": "2023-07-30T15:33:19.266Z"
   },
   {
    "duration": 20,
    "start_time": "2023-07-30T15:33:25.696Z"
   },
   {
    "duration": 28,
    "start_time": "2023-07-30T15:33:25.745Z"
   },
   {
    "duration": 3,
    "start_time": "2023-07-30T15:33:25.774Z"
   },
   {
    "duration": 10,
    "start_time": "2023-07-30T15:33:25.779Z"
   },
   {
    "duration": 4,
    "start_time": "2023-07-30T15:33:26.789Z"
   },
   {
    "duration": 5,
    "start_time": "2023-07-30T15:33:27.817Z"
   },
   {
    "duration": 4,
    "start_time": "2023-07-30T15:33:27.954Z"
   },
   {
    "duration": 28,
    "start_time": "2023-07-30T15:33:29.565Z"
   },
   {
    "duration": 10,
    "start_time": "2023-07-30T15:33:30.041Z"
   },
   {
    "duration": 3,
    "start_time": "2023-07-30T15:33:30.950Z"
   },
   {
    "duration": 10,
    "start_time": "2023-07-30T15:33:32.913Z"
   },
   {
    "duration": 19,
    "start_time": "2023-07-30T15:33:32.924Z"
   },
   {
    "duration": 16,
    "start_time": "2023-07-30T15:33:32.945Z"
   },
   {
    "duration": 3,
    "start_time": "2023-07-30T15:33:33.921Z"
   },
   {
    "duration": 9,
    "start_time": "2023-07-30T15:33:34.029Z"
   },
   {
    "duration": 5,
    "start_time": "2023-07-30T15:33:34.611Z"
   },
   {
    "duration": 3,
    "start_time": "2023-07-30T15:33:35.456Z"
   },
   {
    "duration": 9,
    "start_time": "2023-07-30T15:33:36.468Z"
   },
   {
    "duration": 2,
    "start_time": "2023-07-30T15:33:40.050Z"
   },
   {
    "duration": 3,
    "start_time": "2023-07-30T15:33:42.071Z"
   },
   {
    "duration": 3,
    "start_time": "2023-07-30T15:33:43.374Z"
   },
   {
    "duration": 2,
    "start_time": "2023-07-30T15:33:45.330Z"
   },
   {
    "duration": 964,
    "start_time": "2023-07-30T15:33:47.741Z"
   },
   {
    "duration": 8,
    "start_time": "2023-07-30T15:34:17.149Z"
   },
   {
    "duration": 7,
    "start_time": "2023-07-30T15:38:42.499Z"
   },
   {
    "duration": 8,
    "start_time": "2023-07-30T15:39:01.703Z"
   },
   {
    "duration": 4,
    "start_time": "2023-07-30T15:39:02.573Z"
   },
   {
    "duration": 10,
    "start_time": "2023-07-30T15:39:03.458Z"
   },
   {
    "duration": 9,
    "start_time": "2023-07-30T15:39:03.472Z"
   },
   {
    "duration": 29,
    "start_time": "2023-07-30T15:39:04.442Z"
   },
   {
    "duration": 11,
    "start_time": "2023-07-30T15:39:05.842Z"
   },
   {
    "duration": 3,
    "start_time": "2023-07-30T15:39:09.479Z"
   },
   {
    "duration": 38,
    "start_time": "2023-07-30T15:39:09.484Z"
   },
   {
    "duration": 30,
    "start_time": "2023-07-30T15:39:09.524Z"
   },
   {
    "duration": 37,
    "start_time": "2023-07-30T15:39:09.576Z"
   },
   {
    "duration": 4,
    "start_time": "2023-07-30T15:39:09.615Z"
   },
   {
    "duration": 8,
    "start_time": "2023-07-30T15:39:09.888Z"
   },
   {
    "duration": 6,
    "start_time": "2023-07-30T15:39:10.461Z"
   },
   {
    "duration": 3,
    "start_time": "2023-07-30T15:39:11.761Z"
   },
   {
    "duration": 8,
    "start_time": "2023-07-30T15:39:13.472Z"
   },
   {
    "duration": 3,
    "start_time": "2023-07-30T15:39:17.539Z"
   },
   {
    "duration": 8,
    "start_time": "2023-07-30T15:39:17.544Z"
   },
   {
    "duration": 2,
    "start_time": "2023-07-30T15:39:17.659Z"
   },
   {
    "duration": 4,
    "start_time": "2023-07-30T15:39:19.915Z"
   },
   {
    "duration": 2,
    "start_time": "2023-07-30T15:39:19.943Z"
   },
   {
    "duration": 7,
    "start_time": "2023-07-30T15:39:20.471Z"
   },
   {
    "duration": 88,
    "start_time": "2023-07-30T15:40:28.071Z"
   },
   {
    "duration": 15,
    "start_time": "2023-07-30T15:40:28.859Z"
   },
   {
    "duration": 12,
    "start_time": "2023-07-30T15:40:29.355Z"
   },
   {
    "duration": 12,
    "start_time": "2023-07-30T15:40:31.014Z"
   },
   {
    "duration": 61,
    "start_time": "2023-07-30T15:40:31.028Z"
   },
   {
    "duration": 4,
    "start_time": "2023-07-30T15:40:31.581Z"
   },
   {
    "duration": 10,
    "start_time": "2023-07-30T15:40:32.176Z"
   },
   {
    "duration": 4,
    "start_time": "2023-07-30T15:40:33.520Z"
   },
   {
    "duration": 6,
    "start_time": "2023-07-30T15:40:33.534Z"
   },
   {
    "duration": 7,
    "start_time": "2023-07-30T15:40:33.796Z"
   },
   {
    "duration": 57,
    "start_time": "2023-07-30T15:40:36.563Z"
   },
   {
    "duration": 13,
    "start_time": "2023-07-30T15:40:36.642Z"
   },
   {
    "duration": 7,
    "start_time": "2023-07-30T15:40:38.151Z"
   },
   {
    "duration": 17,
    "start_time": "2023-07-30T15:40:38.345Z"
   },
   {
    "duration": 21,
    "start_time": "2023-07-30T15:40:42.838Z"
   },
   {
    "duration": 31,
    "start_time": "2023-07-30T15:40:42.861Z"
   },
   {
    "duration": 6,
    "start_time": "2023-07-30T15:40:42.894Z"
   },
   {
    "duration": 37,
    "start_time": "2023-07-30T15:40:42.908Z"
   },
   {
    "duration": 23,
    "start_time": "2023-07-30T15:40:42.948Z"
   },
   {
    "duration": 4,
    "start_time": "2023-07-30T15:40:42.973Z"
   },
   {
    "duration": 30,
    "start_time": "2023-07-30T15:40:42.979Z"
   },
   {
    "duration": 3,
    "start_time": "2023-07-30T15:40:45.196Z"
   },
   {
    "duration": 2,
    "start_time": "2023-07-30T15:40:47.086Z"
   },
   {
    "duration": 3,
    "start_time": "2023-07-30T15:40:48.918Z"
   },
   {
    "duration": 3,
    "start_time": "2023-07-30T15:40:49.389Z"
   },
   {
    "duration": 3,
    "start_time": "2023-07-30T15:40:51.642Z"
   },
   {
    "duration": 8,
    "start_time": "2023-07-30T15:40:55.285Z"
   },
   {
    "duration": 8,
    "start_time": "2023-07-30T15:41:11.966Z"
   },
   {
    "duration": 7,
    "start_time": "2023-07-30T15:41:26.477Z"
   },
   {
    "duration": 7,
    "start_time": "2023-07-30T15:41:29.250Z"
   },
   {
    "duration": 8,
    "start_time": "2023-07-30T15:42:36.598Z"
   },
   {
    "duration": 8,
    "start_time": "2023-07-30T15:43:01.870Z"
   },
   {
    "duration": 2782,
    "start_time": "2023-08-01T07:40:35.165Z"
   },
   {
    "duration": 2786,
    "start_time": "2023-08-01T07:44:29.691Z"
   },
   {
    "duration": 4756,
    "start_time": "2023-08-01T07:44:54.076Z"
   },
   {
    "duration": 3396,
    "start_time": "2023-08-01T07:45:32.950Z"
   },
   {
    "duration": 3466,
    "start_time": "2023-08-01T07:45:53.522Z"
   },
   {
    "duration": 5475,
    "start_time": "2023-08-01T07:47:07.497Z"
   },
   {
    "duration": 3347,
    "start_time": "2023-08-01T07:49:14.520Z"
   },
   {
    "duration": 5501,
    "start_time": "2023-08-01T07:49:28.052Z"
   },
   {
    "duration": 4202,
    "start_time": "2023-08-01T07:49:47.919Z"
   },
   {
    "duration": 3475,
    "start_time": "2023-08-01T07:50:10.821Z"
   },
   {
    "duration": 10,
    "start_time": "2023-08-01T07:54:49.895Z"
   },
   {
    "duration": 8,
    "start_time": "2023-08-01T08:04:22.048Z"
   },
   {
    "duration": 3635,
    "start_time": "2023-08-01T08:04:45.153Z"
   },
   {
    "duration": 9,
    "start_time": "2023-08-01T08:08:12.778Z"
   },
   {
    "duration": 1676,
    "start_time": "2023-08-01T08:09:13.140Z"
   },
   {
    "duration": 10,
    "start_time": "2023-08-01T08:11:20.557Z"
   },
   {
    "duration": 1793,
    "start_time": "2023-08-01T08:13:29.079Z"
   },
   {
    "duration": 2109,
    "start_time": "2023-08-01T08:14:38.922Z"
   },
   {
    "duration": 10,
    "start_time": "2023-08-01T08:14:47.452Z"
   },
   {
    "duration": 2662,
    "start_time": "2023-08-01T08:16:20.651Z"
   },
   {
    "duration": 2443,
    "start_time": "2023-08-01T08:22:59.487Z"
   },
   {
    "duration": 18,
    "start_time": "2023-08-01T08:31:43.008Z"
   },
   {
    "duration": 12,
    "start_time": "2023-08-01T08:32:16.631Z"
   },
   {
    "duration": 8,
    "start_time": "2023-08-01T08:32:38.345Z"
   },
   {
    "duration": 31,
    "start_time": "2023-08-01T08:34:26.985Z"
   },
   {
    "duration": 9,
    "start_time": "2023-08-01T08:37:01.286Z"
   },
   {
    "duration": 13,
    "start_time": "2023-08-01T08:39:44.142Z"
   },
   {
    "duration": 9,
    "start_time": "2023-08-01T08:40:02.239Z"
   },
   {
    "duration": 241,
    "start_time": "2023-08-01T08:40:50.888Z"
   },
   {
    "duration": 264,
    "start_time": "2023-08-01T08:41:12.436Z"
   },
   {
    "duration": 19,
    "start_time": "2023-08-01T08:41:35.859Z"
   },
   {
    "duration": 11,
    "start_time": "2023-08-01T08:41:37.727Z"
   },
   {
    "duration": 2,
    "start_time": "2023-08-01T08:41:38.141Z"
   },
   {
    "duration": 4,
    "start_time": "2023-08-01T08:41:39.488Z"
   },
   {
    "duration": 3,
    "start_time": "2023-08-01T08:41:40.470Z"
   },
   {
    "duration": 321,
    "start_time": "2023-08-01T08:41:41.891Z"
   },
   {
    "duration": 18,
    "start_time": "2023-08-01T08:42:01.222Z"
   },
   {
    "duration": 11986,
    "start_time": "2023-08-01T08:45:03.490Z"
   },
   {
    "duration": 7994,
    "start_time": "2023-08-01T08:45:46.848Z"
   },
   {
    "duration": 408,
    "start_time": "2023-08-01T08:46:29.641Z"
   },
   {
    "duration": 308,
    "start_time": "2023-08-01T08:46:40.218Z"
   },
   {
    "duration": 349,
    "start_time": "2023-08-01T08:46:56.728Z"
   },
   {
    "duration": 412,
    "start_time": "2023-08-01T08:47:15.414Z"
   },
   {
    "duration": 385,
    "start_time": "2023-08-01T08:47:32.189Z"
   },
   {
    "duration": 10,
    "start_time": "2023-08-01T08:47:54.437Z"
   },
   {
    "duration": 19,
    "start_time": "2023-08-01T08:48:06.545Z"
   },
   {
    "duration": 29,
    "start_time": "2023-08-01T08:48:36.140Z"
   },
   {
    "duration": 14,
    "start_time": "2023-08-01T08:48:52.480Z"
   },
   {
    "duration": 18,
    "start_time": "2023-08-01T08:49:05.260Z"
   },
   {
    "duration": 455,
    "start_time": "2023-08-01T08:49:42.494Z"
   },
   {
    "duration": 313,
    "start_time": "2023-08-01T08:49:49.677Z"
   },
   {
    "duration": 1168,
    "start_time": "2023-08-01T08:49:59.249Z"
   },
   {
    "duration": 140,
    "start_time": "2023-08-01T08:50:10.144Z"
   },
   {
    "duration": 1857,
    "start_time": "2023-08-01T08:50:39.778Z"
   },
   {
    "duration": 483,
    "start_time": "2023-08-01T08:51:08.152Z"
   },
   {
    "duration": 474,
    "start_time": "2023-08-01T08:51:13.050Z"
   },
   {
    "duration": 387,
    "start_time": "2023-08-01T08:51:28.072Z"
   },
   {
    "duration": 123,
    "start_time": "2023-08-01T08:51:49.056Z"
   },
   {
    "duration": 707,
    "start_time": "2023-08-01T08:52:05.826Z"
   },
   {
    "duration": 409,
    "start_time": "2023-08-01T08:52:10.650Z"
   },
   {
    "duration": 5,
    "start_time": "2023-08-01T08:52:17.973Z"
   },
   {
    "duration": 17,
    "start_time": "2023-08-01T08:52:18.188Z"
   },
   {
    "duration": 7,
    "start_time": "2023-08-01T08:52:18.598Z"
   },
   {
    "duration": 4,
    "start_time": "2023-08-01T08:52:19.332Z"
   },
   {
    "duration": 8,
    "start_time": "2023-08-01T08:52:19.765Z"
   },
   {
    "duration": 22,
    "start_time": "2023-08-01T08:52:20.068Z"
   },
   {
    "duration": 2,
    "start_time": "2023-08-01T08:52:22.630Z"
   },
   {
    "duration": 11,
    "start_time": "2023-08-01T08:52:23.106Z"
   },
   {
    "duration": 2,
    "start_time": "2023-08-01T08:52:23.655Z"
   },
   {
    "duration": 2,
    "start_time": "2023-08-01T08:52:24.395Z"
   },
   {
    "duration": 286,
    "start_time": "2023-08-01T08:52:25.344Z"
   },
   {
    "duration": 260,
    "start_time": "2023-08-01T08:52:52.733Z"
   },
   {
    "duration": 271,
    "start_time": "2023-08-01T08:52:58.322Z"
   },
   {
    "duration": 18,
    "start_time": "2023-08-01T08:54:18.222Z"
   },
   {
    "duration": 104,
    "start_time": "2023-08-01T08:54:57.330Z"
   },
   {
    "duration": 82,
    "start_time": "2023-08-01T08:55:22.754Z"
   },
   {
    "duration": 244,
    "start_time": "2023-08-01T08:55:28.437Z"
   },
   {
    "duration": 226,
    "start_time": "2023-08-01T08:55:33.166Z"
   },
   {
    "duration": 118,
    "start_time": "2023-08-01T08:56:37.101Z"
   },
   {
    "duration": 10,
    "start_time": "2023-08-01T08:56:53.740Z"
   },
   {
    "duration": 24,
    "start_time": "2023-08-01T08:57:21.597Z"
   },
   {
    "duration": 14,
    "start_time": "2023-08-01T08:57:27.419Z"
   },
   {
    "duration": 11,
    "start_time": "2023-08-01T08:57:40.945Z"
   },
   {
    "duration": 10,
    "start_time": "2023-08-01T08:58:09.546Z"
   },
   {
    "duration": 18,
    "start_time": "2023-08-01T08:58:28.424Z"
   },
   {
    "duration": 10,
    "start_time": "2023-08-01T09:00:30.273Z"
   },
   {
    "duration": 15,
    "start_time": "2023-08-01T09:01:29.311Z"
   },
   {
    "duration": 5956,
    "start_time": "2023-08-01T09:01:34.688Z"
   },
   {
    "duration": 7764,
    "start_time": "2023-08-01T09:02:06.227Z"
   },
   {
    "duration": 19,
    "start_time": "2023-08-01T09:04:23.320Z"
   },
   {
    "duration": 356,
    "start_time": "2023-08-01T09:06:42.349Z"
   },
   {
    "duration": 30,
    "start_time": "2023-08-01T09:06:49.375Z"
   },
   {
    "duration": 122,
    "start_time": "2023-08-01T09:07:29.595Z"
   },
   {
    "duration": 409,
    "start_time": "2023-08-01T09:07:34.176Z"
   },
   {
    "duration": 17,
    "start_time": "2023-08-01T09:07:46.140Z"
   },
   {
    "duration": 713,
    "start_time": "2023-08-01T09:08:16.967Z"
   },
   {
    "duration": 29,
    "start_time": "2023-08-01T09:08:44.694Z"
   },
   {
    "duration": 11,
    "start_time": "2023-08-01T09:09:06.864Z"
   },
   {
    "duration": 10,
    "start_time": "2023-08-01T09:09:39.680Z"
   },
   {
    "duration": 16,
    "start_time": "2023-08-01T09:10:12.426Z"
   },
   {
    "duration": 18,
    "start_time": "2023-08-01T09:22:55.966Z"
   },
   {
    "duration": 9,
    "start_time": "2023-08-01T09:23:33.364Z"
   },
   {
    "duration": 9,
    "start_time": "2023-08-01T09:23:57.820Z"
   },
   {
    "duration": 14,
    "start_time": "2023-08-01T09:24:07.079Z"
   },
   {
    "duration": 14,
    "start_time": "2023-08-01T09:24:27.434Z"
   },
   {
    "duration": 2792,
    "start_time": "2023-08-01T09:24:47.666Z"
   },
   {
    "duration": 23,
    "start_time": "2023-08-01T09:25:10.799Z"
   },
   {
    "duration": 14,
    "start_time": "2023-08-01T09:25:27.378Z"
   },
   {
    "duration": 14,
    "start_time": "2023-08-01T09:26:20.876Z"
   },
   {
    "duration": 15,
    "start_time": "2023-08-01T09:26:56.254Z"
   },
   {
    "duration": 17,
    "start_time": "2023-08-01T09:27:35.402Z"
   },
   {
    "duration": 975,
    "start_time": "2023-08-01T10:09:10.676Z"
   },
   {
    "duration": 17,
    "start_time": "2023-08-01T10:09:48.140Z"
   },
   {
    "duration": 21,
    "start_time": "2023-08-01T10:10:04.981Z"
   },
   {
    "duration": 135,
    "start_time": "2023-08-01T10:10:50.018Z"
   },
   {
    "duration": 84,
    "start_time": "2023-08-01T10:11:05.105Z"
   },
   {
    "duration": 13,
    "start_time": "2023-08-01T10:11:23.074Z"
   },
   {
    "duration": 14,
    "start_time": "2023-08-01T10:11:58.781Z"
   },
   {
    "duration": 13,
    "start_time": "2023-08-01T10:12:40.445Z"
   },
   {
    "duration": 107,
    "start_time": "2023-08-01T10:13:56.339Z"
   },
   {
    "duration": 18,
    "start_time": "2023-08-01T10:14:01.805Z"
   },
   {
    "duration": 134,
    "start_time": "2023-08-01T10:14:33.378Z"
   },
   {
    "duration": 4,
    "start_time": "2023-08-01T10:14:39.445Z"
   },
   {
    "duration": 28,
    "start_time": "2023-08-01T10:14:46.079Z"
   },
   {
    "duration": 15,
    "start_time": "2023-08-01T10:33:46.835Z"
   },
   {
    "duration": 15,
    "start_time": "2023-08-01T10:34:12.282Z"
   },
   {
    "duration": 11,
    "start_time": "2023-08-01T10:34:45.590Z"
   },
   {
    "duration": 12,
    "start_time": "2023-08-01T10:34:59.443Z"
   },
   {
    "duration": 14,
    "start_time": "2023-08-01T10:35:14.160Z"
   },
   {
    "duration": 10,
    "start_time": "2023-08-01T10:45:30.780Z"
   },
   {
    "duration": 17,
    "start_time": "2023-08-01T10:46:05.472Z"
   },
   {
    "duration": 21,
    "start_time": "2023-08-01T10:47:01.680Z"
   },
   {
    "duration": 59,
    "start_time": "2023-08-01T10:48:01.158Z"
   },
   {
    "duration": 18,
    "start_time": "2023-08-01T10:49:09.026Z"
   },
   {
    "duration": 32,
    "start_time": "2023-08-01T10:49:47.291Z"
   },
   {
    "duration": 32,
    "start_time": "2023-08-01T10:50:25.166Z"
   },
   {
    "duration": 184,
    "start_time": "2023-08-01T10:50:37.492Z"
   },
   {
    "duration": 180,
    "start_time": "2023-08-01T10:50:43.940Z"
   },
   {
    "duration": 79,
    "start_time": "2023-08-01T10:50:47.600Z"
   },
   {
    "duration": 57,
    "start_time": "2023-08-01T10:51:34.573Z"
   },
   {
    "duration": 55,
    "start_time": "2023-08-01T10:51:59.208Z"
   },
   {
    "duration": 113,
    "start_time": "2023-08-01T10:52:30.444Z"
   },
   {
    "duration": 70,
    "start_time": "2023-08-01T10:54:08.450Z"
   },
   {
    "duration": 43,
    "start_time": "2023-08-01T10:54:17.730Z"
   },
   {
    "duration": 22,
    "start_time": "2023-08-01T10:55:09.932Z"
   },
   {
    "duration": 19,
    "start_time": "2023-08-01T10:55:36.374Z"
   },
   {
    "duration": 34,
    "start_time": "2023-08-01T10:55:48.122Z"
   },
   {
    "duration": 4,
    "start_time": "2023-08-01T10:55:51.911Z"
   },
   {
    "duration": 8,
    "start_time": "2023-08-01T10:55:52.421Z"
   },
   {
    "duration": 18,
    "start_time": "2023-08-01T10:55:52.928Z"
   },
   {
    "duration": 7,
    "start_time": "2023-08-01T10:55:55.109Z"
   },
   {
    "duration": 2,
    "start_time": "2023-08-01T10:55:55.572Z"
   },
   {
    "duration": 2,
    "start_time": "2023-08-01T10:55:56.648Z"
   },
   {
    "duration": 2,
    "start_time": "2023-08-01T10:55:57.623Z"
   },
   {
    "duration": 33,
    "start_time": "2023-08-01T10:55:59.014Z"
   },
   {
    "duration": 15,
    "start_time": "2023-08-01T10:57:04.695Z"
   },
   {
    "duration": 3,
    "start_time": "2023-08-01T10:57:05.237Z"
   },
   {
    "duration": 16,
    "start_time": "2023-08-01T10:57:05.798Z"
   },
   {
    "duration": 28,
    "start_time": "2023-08-01T10:57:06.189Z"
   },
   {
    "duration": 31,
    "start_time": "2023-08-01T10:57:06.395Z"
   },
   {
    "duration": 4,
    "start_time": "2023-08-01T10:57:07.901Z"
   },
   {
    "duration": 9,
    "start_time": "2023-08-01T10:57:08.437Z"
   },
   {
    "duration": 6,
    "start_time": "2023-08-01T10:57:09.321Z"
   },
   {
    "duration": 9,
    "start_time": "2023-08-01T10:57:10.200Z"
   },
   {
    "duration": 8,
    "start_time": "2023-08-01T10:57:10.567Z"
   },
   {
    "duration": 18,
    "start_time": "2023-08-01T10:57:10.815Z"
   },
   {
    "duration": 2,
    "start_time": "2023-08-01T10:57:16.620Z"
   },
   {
    "duration": 6,
    "start_time": "2023-08-01T10:57:17.211Z"
   },
   {
    "duration": 2,
    "start_time": "2023-08-01T10:57:17.897Z"
   },
   {
    "duration": 5,
    "start_time": "2023-08-01T10:57:19.008Z"
   },
   {
    "duration": 5,
    "start_time": "2023-08-01T10:57:21.482Z"
   },
   {
    "duration": 25,
    "start_time": "2023-08-01T10:57:30.390Z"
   },
   {
    "duration": 4,
    "start_time": "2023-08-01T10:58:33.038Z"
   },
   {
    "duration": 17,
    "start_time": "2023-08-01T10:58:43.770Z"
   },
   {
    "duration": 18,
    "start_time": "2023-08-01T10:59:13.204Z"
   },
   {
    "duration": 34,
    "start_time": "2023-08-01T10:59:22.786Z"
   },
   {
    "duration": 2,
    "start_time": "2023-08-01T10:59:30.489Z"
   },
   {
    "duration": 3,
    "start_time": "2023-08-01T10:59:31.240Z"
   },
   {
    "duration": 34,
    "start_time": "2023-08-01T10:59:32.886Z"
   },
   {
    "duration": 28,
    "start_time": "2023-08-01T10:59:45.180Z"
   },
   {
    "duration": 63,
    "start_time": "2023-08-01T11:00:41.429Z"
   },
   {
    "duration": 13,
    "start_time": "2023-08-01T11:00:42.126Z"
   },
   {
    "duration": 13,
    "start_time": "2023-08-01T11:00:42.619Z"
   },
   {
    "duration": 9,
    "start_time": "2023-08-01T11:00:43.592Z"
   },
   {
    "duration": 29,
    "start_time": "2023-08-01T11:00:44.063Z"
   },
   {
    "duration": 3,
    "start_time": "2023-08-01T11:00:44.847Z"
   },
   {
    "duration": 7,
    "start_time": "2023-08-01T11:00:45.326Z"
   },
   {
    "duration": 7,
    "start_time": "2023-08-01T11:00:46.038Z"
   },
   {
    "duration": 5,
    "start_time": "2023-08-01T11:00:46.511Z"
   },
   {
    "duration": 5,
    "start_time": "2023-08-01T11:00:46.975Z"
   },
   {
    "duration": 31,
    "start_time": "2023-08-01T11:00:47.674Z"
   },
   {
    "duration": 9,
    "start_time": "2023-08-01T11:00:48.148Z"
   },
   {
    "duration": 4,
    "start_time": "2023-08-01T11:00:49.089Z"
   },
   {
    "duration": 9,
    "start_time": "2023-08-01T11:00:49.970Z"
   },
   {
    "duration": 19,
    "start_time": "2023-08-01T11:00:50.475Z"
   },
   {
    "duration": 17,
    "start_time": "2023-08-01T11:00:50.705Z"
   },
   {
    "duration": 4,
    "start_time": "2023-08-01T11:00:51.400Z"
   },
   {
    "duration": 9,
    "start_time": "2023-08-01T11:00:51.752Z"
   },
   {
    "duration": 6,
    "start_time": "2023-08-01T11:00:52.959Z"
   },
   {
    "duration": 3,
    "start_time": "2023-08-01T11:00:53.476Z"
   },
   {
    "duration": 13,
    "start_time": "2023-08-01T11:00:53.980Z"
   },
   {
    "duration": 20,
    "start_time": "2023-08-01T11:00:54.430Z"
   },
   {
    "duration": 1,
    "start_time": "2023-08-01T11:01:00.875Z"
   },
   {
    "duration": 2,
    "start_time": "2023-08-01T11:01:01.929Z"
   },
   {
    "duration": 5,
    "start_time": "2023-08-01T11:01:03.001Z"
   },
   {
    "duration": 2,
    "start_time": "2023-08-01T11:01:04.253Z"
   },
   {
    "duration": 2,
    "start_time": "2023-08-01T11:01:05.263Z"
   },
   {
    "duration": 28,
    "start_time": "2023-08-01T11:01:06.339Z"
   },
   {
    "duration": 68,
    "start_time": "2023-08-01T11:02:12.310Z"
   },
   {
    "duration": 14,
    "start_time": "2023-08-01T11:02:13.028Z"
   },
   {
    "duration": 13,
    "start_time": "2023-08-01T11:02:13.482Z"
   },
   {
    "duration": 9,
    "start_time": "2023-08-01T11:02:14.411Z"
   },
   {
    "duration": 36,
    "start_time": "2023-08-01T11:02:14.896Z"
   },
   {
    "duration": 4,
    "start_time": "2023-08-01T11:02:15.632Z"
   },
   {
    "duration": 8,
    "start_time": "2023-08-01T11:02:16.085Z"
   },
   {
    "duration": 4,
    "start_time": "2023-08-01T11:02:16.817Z"
   },
   {
    "duration": 6,
    "start_time": "2023-08-01T11:02:17.368Z"
   },
   {
    "duration": 4,
    "start_time": "2023-08-01T11:02:17.880Z"
   },
   {
    "duration": 32,
    "start_time": "2023-08-01T11:02:18.610Z"
   },
   {
    "duration": 11,
    "start_time": "2023-08-01T11:02:19.073Z"
   },
   {
    "duration": 3,
    "start_time": "2023-08-01T11:02:19.891Z"
   },
   {
    "duration": 9,
    "start_time": "2023-08-01T11:02:20.630Z"
   },
   {
    "duration": 17,
    "start_time": "2023-08-01T11:02:21.120Z"
   },
   {
    "duration": 17,
    "start_time": "2023-08-01T11:02:21.340Z"
   },
   {
    "duration": 4,
    "start_time": "2023-08-01T11:02:22.246Z"
   },
   {
    "duration": 9,
    "start_time": "2023-08-01T11:02:22.482Z"
   },
   {
    "duration": 6,
    "start_time": "2023-08-01T11:02:22.950Z"
   },
   {
    "duration": 5,
    "start_time": "2023-08-01T11:02:23.902Z"
   },
   {
    "duration": 12,
    "start_time": "2023-08-01T11:02:24.415Z"
   },
   {
    "duration": 20,
    "start_time": "2023-08-01T11:02:25.963Z"
   },
   {
    "duration": 2,
    "start_time": "2023-08-01T11:02:29.768Z"
   },
   {
    "duration": 2,
    "start_time": "2023-08-01T11:02:30.711Z"
   },
   {
    "duration": 3,
    "start_time": "2023-08-01T11:02:31.435Z"
   },
   {
    "duration": 2,
    "start_time": "2023-08-01T11:02:32.082Z"
   },
   {
    "duration": 2,
    "start_time": "2023-08-01T11:02:32.635Z"
   },
   {
    "duration": 27,
    "start_time": "2023-08-01T11:02:32.923Z"
   },
   {
    "duration": 17,
    "start_time": "2023-08-01T11:03:34.925Z"
   },
   {
    "duration": 18,
    "start_time": "2023-08-01T11:03:53.821Z"
   },
   {
    "duration": 10,
    "start_time": "2023-08-01T11:04:06.012Z"
   },
   {
    "duration": 84,
    "start_time": "2023-08-01T11:06:43.753Z"
   },
   {
    "duration": 19,
    "start_time": "2023-08-01T11:06:44.404Z"
   },
   {
    "duration": 13,
    "start_time": "2023-08-01T11:06:44.825Z"
   },
   {
    "duration": 11,
    "start_time": "2023-08-01T11:06:45.720Z"
   },
   {
    "duration": 35,
    "start_time": "2023-08-01T11:06:46.226Z"
   },
   {
    "duration": 3,
    "start_time": "2023-08-01T11:06:46.966Z"
   },
   {
    "duration": 11,
    "start_time": "2023-08-01T11:06:47.397Z"
   },
   {
    "duration": 5,
    "start_time": "2023-08-01T11:06:48.054Z"
   },
   {
    "duration": 6,
    "start_time": "2023-08-01T11:06:48.521Z"
   },
   {
    "duration": 5,
    "start_time": "2023-08-01T11:06:48.988Z"
   },
   {
    "duration": 33,
    "start_time": "2023-08-01T11:06:49.741Z"
   },
   {
    "duration": 10,
    "start_time": "2023-08-01T11:06:50.267Z"
   },
   {
    "duration": 4,
    "start_time": "2023-08-01T11:06:51.033Z"
   },
   {
    "duration": 11,
    "start_time": "2023-08-01T11:06:51.933Z"
   },
   {
    "duration": 20,
    "start_time": "2023-08-01T11:06:52.350Z"
   },
   {
    "duration": 20,
    "start_time": "2023-08-01T11:06:52.560Z"
   },
   {
    "duration": 6,
    "start_time": "2023-08-01T11:06:53.214Z"
   },
   {
    "duration": 12,
    "start_time": "2023-08-01T11:06:53.411Z"
   },
   {
    "duration": 6,
    "start_time": "2023-08-01T11:06:53.861Z"
   },
   {
    "duration": 5,
    "start_time": "2023-08-01T11:06:54.260Z"
   },
   {
    "duration": 14,
    "start_time": "2023-08-01T11:06:55.460Z"
   },
   {
    "duration": 28,
    "start_time": "2023-08-01T11:06:55.779Z"
   },
   {
    "duration": 2,
    "start_time": "2023-08-01T11:06:58.560Z"
   },
   {
    "duration": 3,
    "start_time": "2023-08-01T11:06:59.336Z"
   },
   {
    "duration": 3,
    "start_time": "2023-08-01T11:07:00.051Z"
   },
   {
    "duration": 4,
    "start_time": "2023-08-01T11:07:01.157Z"
   },
   {
    "duration": 2,
    "start_time": "2023-08-01T11:07:01.613Z"
   },
   {
    "duration": 31,
    "start_time": "2023-08-01T11:07:02.580Z"
   },
   {
    "duration": 2,
    "start_time": "2023-08-01T11:07:11.390Z"
   },
   {
    "duration": 2,
    "start_time": "2023-08-01T11:07:11.848Z"
   },
   {
    "duration": 2,
    "start_time": "2023-08-01T11:07:12.280Z"
   },
   {
    "duration": 2,
    "start_time": "2023-08-01T11:07:12.729Z"
   },
   {
    "duration": 2,
    "start_time": "2023-08-01T11:07:14.023Z"
   },
   {
    "duration": 2,
    "start_time": "2023-08-01T11:07:14.727Z"
   },
   {
    "duration": 2,
    "start_time": "2023-08-01T11:07:15.462Z"
   },
   {
    "duration": 2,
    "start_time": "2023-08-01T11:07:17.272Z"
   },
   {
    "duration": 2,
    "start_time": "2023-08-01T11:07:19.012Z"
   },
   {
    "duration": 8,
    "start_time": "2023-08-01T11:07:19.527Z"
   },
   {
    "duration": 2,
    "start_time": "2023-08-01T11:07:20.021Z"
   },
   {
    "duration": 2,
    "start_time": "2023-08-01T11:07:20.451Z"
   },
   {
    "duration": 32,
    "start_time": "2023-08-01T11:07:29.496Z"
   },
   {
    "duration": 14,
    "start_time": "2023-08-01T11:09:15.084Z"
   },
   {
    "duration": 17,
    "start_time": "2023-08-01T11:09:20.686Z"
   },
   {
    "duration": 16,
    "start_time": "2023-08-01T11:09:36.538Z"
   },
   {
    "duration": 408,
    "start_time": "2023-08-01T11:16:19.852Z"
   },
   {
    "duration": 19,
    "start_time": "2023-08-01T11:16:21.647Z"
   },
   {
    "duration": 14,
    "start_time": "2023-08-01T11:16:22.973Z"
   },
   {
    "duration": 9,
    "start_time": "2023-08-01T11:16:24.841Z"
   },
   {
    "duration": 30,
    "start_time": "2023-08-01T11:16:25.720Z"
   },
   {
    "duration": 3,
    "start_time": "2023-08-01T11:16:26.926Z"
   },
   {
    "duration": 9,
    "start_time": "2023-08-01T11:16:27.597Z"
   },
   {
    "duration": 4,
    "start_time": "2023-08-01T11:16:28.885Z"
   },
   {
    "duration": 6,
    "start_time": "2023-08-01T11:16:29.388Z"
   },
   {
    "duration": 5,
    "start_time": "2023-08-01T11:16:29.848Z"
   },
   {
    "duration": 29,
    "start_time": "2023-08-01T11:16:30.814Z"
   },
   {
    "duration": 17,
    "start_time": "2023-08-01T11:16:32.504Z"
   },
   {
    "duration": 4,
    "start_time": "2023-08-01T11:16:33.895Z"
   },
   {
    "duration": 10,
    "start_time": "2023-08-01T11:16:35.139Z"
   },
   {
    "duration": 25,
    "start_time": "2023-08-01T11:16:35.935Z"
   },
   {
    "duration": 19,
    "start_time": "2023-08-01T11:16:36.386Z"
   },
   {
    "duration": 3,
    "start_time": "2023-08-01T11:16:38.295Z"
   },
   {
    "duration": 9,
    "start_time": "2023-08-01T11:16:39.381Z"
   },
   {
    "duration": 5,
    "start_time": "2023-08-01T11:16:40.922Z"
   },
   {
    "duration": 4,
    "start_time": "2023-08-01T11:16:42.304Z"
   },
   {
    "duration": 8,
    "start_time": "2023-08-01T11:16:42.823Z"
   },
   {
    "duration": 22,
    "start_time": "2023-08-01T11:16:44.079Z"
   },
   {
    "duration": 3,
    "start_time": "2023-08-01T11:16:46.243Z"
   },
   {
    "duration": 2,
    "start_time": "2023-08-01T11:16:47.235Z"
   },
   {
    "duration": 2,
    "start_time": "2023-08-01T11:16:48.240Z"
   },
   {
    "duration": 5,
    "start_time": "2023-08-01T11:16:49.214Z"
   },
   {
    "duration": 2,
    "start_time": "2023-08-01T11:16:50.080Z"
   },
   {
    "duration": 74,
    "start_time": "2023-08-01T11:16:50.669Z"
   },
   {
    "duration": 23,
    "start_time": "2023-08-01T11:17:54.800Z"
   },
   {
    "duration": 14,
    "start_time": "2023-08-01T11:18:20.627Z"
   },
   {
    "duration": 15,
    "start_time": "2023-08-01T11:18:44.365Z"
   },
   {
    "duration": 14,
    "start_time": "2023-08-01T11:20:09.669Z"
   },
   {
    "duration": 17,
    "start_time": "2023-08-01T11:20:15.478Z"
   },
   {
    "duration": 2,
    "start_time": "2023-08-01T11:20:18.754Z"
   },
   {
    "duration": 2,
    "start_time": "2023-08-01T11:20:19.296Z"
   },
   {
    "duration": 3,
    "start_time": "2023-08-01T11:20:20.088Z"
   },
   {
    "duration": 16,
    "start_time": "2023-08-01T11:20:21.925Z"
   },
   {
    "duration": 29,
    "start_time": "2023-08-01T16:52:38.971Z"
   },
   {
    "duration": 57,
    "start_time": "2023-08-01T16:54:17.280Z"
   },
   {
    "duration": 79,
    "start_time": "2023-08-01T16:54:30.835Z"
   },
   {
    "duration": 9,
    "start_time": "2023-08-01T16:54:37.577Z"
   },
   {
    "duration": 13,
    "start_time": "2023-08-01T16:54:48.760Z"
   },
   {
    "duration": 20,
    "start_time": "2023-08-01T16:56:21.990Z"
   },
   {
    "duration": 73,
    "start_time": "2023-08-01T16:57:07.034Z"
   },
   {
    "duration": 125,
    "start_time": "2023-08-01T16:57:26.321Z"
   },
   {
    "duration": 24,
    "start_time": "2023-08-01T16:59:43.280Z"
   },
   {
    "duration": 14,
    "start_time": "2023-08-01T16:59:57.745Z"
   },
   {
    "duration": 30,
    "start_time": "2023-08-01T17:00:52.034Z"
   },
   {
    "duration": 34,
    "start_time": "2023-08-01T17:01:02.957Z"
   },
   {
    "duration": 11,
    "start_time": "2023-08-01T17:07:32.266Z"
   },
   {
    "duration": 198,
    "start_time": "2023-08-01T17:10:11.118Z"
   },
   {
    "duration": 195,
    "start_time": "2023-08-01T17:10:32.836Z"
   },
   {
    "duration": 88,
    "start_time": "2023-08-01T17:10:43.283Z"
   },
   {
    "duration": 92,
    "start_time": "2023-08-01T17:10:49.081Z"
   },
   {
    "duration": 172,
    "start_time": "2023-08-01T17:11:06.360Z"
   },
   {
    "duration": 29,
    "start_time": "2023-08-01T17:11:17.835Z"
   },
   {
    "duration": 21,
    "start_time": "2023-08-01T17:13:54.085Z"
   },
   {
    "duration": 19,
    "start_time": "2023-08-01T17:14:36.152Z"
   },
   {
    "duration": 27,
    "start_time": "2023-08-01T17:14:47.911Z"
   },
   {
    "duration": 25,
    "start_time": "2023-08-01T17:16:08.523Z"
   },
   {
    "duration": 527,
    "start_time": "2023-08-01T17:16:58.740Z"
   },
   {
    "duration": 26,
    "start_time": "2023-08-01T17:19:25.236Z"
   },
   {
    "duration": 12,
    "start_time": "2023-08-01T17:19:59.821Z"
   },
   {
    "duration": 56,
    "start_time": "2023-08-01T17:20:55.037Z"
   },
   {
    "duration": 90,
    "start_time": "2023-08-01T17:22:03.444Z"
   },
   {
    "duration": 27,
    "start_time": "2023-08-01T17:22:13.436Z"
   },
   {
    "duration": 79,
    "start_time": "2023-08-01T17:22:52.263Z"
   },
   {
    "duration": 11,
    "start_time": "2023-08-01T17:22:59.618Z"
   },
   {
    "duration": 18,
    "start_time": "2023-08-01T17:24:10.136Z"
   },
   {
    "duration": 70,
    "start_time": "2023-08-01T17:26:08.745Z"
   },
   {
    "duration": 86,
    "start_time": "2023-08-01T17:26:37.670Z"
   },
   {
    "duration": 77,
    "start_time": "2023-08-01T17:26:53.676Z"
   },
   {
    "duration": 76,
    "start_time": "2023-08-01T17:27:01.571Z"
   },
   {
    "duration": 156,
    "start_time": "2023-08-01T17:27:11.604Z"
   },
   {
    "duration": 283,
    "start_time": "2023-08-01T17:27:20.026Z"
   },
   {
    "duration": 116,
    "start_time": "2023-08-01T17:27:30.892Z"
   },
   {
    "duration": 117,
    "start_time": "2023-08-01T17:28:38.655Z"
   },
   {
    "duration": 8,
    "start_time": "2023-08-01T17:29:09.072Z"
   },
   {
    "duration": 2,
    "start_time": "2023-08-01T17:30:19.181Z"
   },
   {
    "duration": 7,
    "start_time": "2023-08-01T17:30:19.621Z"
   },
   {
    "duration": 19,
    "start_time": "2023-08-01T17:35:16.425Z"
   },
   {
    "duration": 17,
    "start_time": "2023-08-01T17:38:29.122Z"
   },
   {
    "duration": 16,
    "start_time": "2023-08-01T17:38:40.552Z"
   },
   {
    "duration": 10,
    "start_time": "2023-08-01T17:39:30.231Z"
   },
   {
    "duration": 504,
    "start_time": "2023-08-01T17:40:02.940Z"
   },
   {
    "duration": 65,
    "start_time": "2023-08-01T17:40:29.157Z"
   },
   {
    "duration": 54,
    "start_time": "2023-08-01T17:40:37.048Z"
   },
   {
    "duration": 99,
    "start_time": "2023-08-01T17:40:47.940Z"
   },
   {
    "duration": 94,
    "start_time": "2023-08-01T17:40:59.897Z"
   },
   {
    "duration": 132,
    "start_time": "2023-08-01T17:41:50.165Z"
   },
   {
    "duration": 67,
    "start_time": "2023-08-01T17:42:03.583Z"
   },
   {
    "duration": 375,
    "start_time": "2023-08-01T17:42:09.188Z"
   },
   {
    "duration": 79,
    "start_time": "2023-08-01T17:42:17.987Z"
   },
   {
    "duration": 6,
    "start_time": "2023-08-01T17:42:26.010Z"
   },
   {
    "duration": 4,
    "start_time": "2023-08-01T17:42:26.967Z"
   },
   {
    "duration": 7,
    "start_time": "2023-08-01T17:42:27.376Z"
   },
   {
    "duration": 17,
    "start_time": "2023-08-01T17:42:27.618Z"
   },
   {
    "duration": 2,
    "start_time": "2023-08-01T17:42:28.948Z"
   },
   {
    "duration": 2,
    "start_time": "2023-08-01T17:42:29.572Z"
   },
   {
    "duration": 2,
    "start_time": "2023-08-01T17:42:30.531Z"
   },
   {
    "duration": 2,
    "start_time": "2023-08-01T17:42:31.377Z"
   },
   {
    "duration": 2,
    "start_time": "2023-08-01T17:42:31.904Z"
   },
   {
    "duration": 16,
    "start_time": "2023-08-01T17:42:32.400Z"
   },
   {
    "duration": 15,
    "start_time": "2023-08-01T17:42:35.172Z"
   },
   {
    "duration": 3,
    "start_time": "2023-08-01T17:42:35.994Z"
   },
   {
    "duration": 2,
    "start_time": "2023-08-01T17:42:36.462Z"
   },
   {
    "duration": 2,
    "start_time": "2023-08-01T17:42:36.963Z"
   },
   {
    "duration": 14,
    "start_time": "2023-08-01T17:42:39.336Z"
   },
   {
    "duration": 2,
    "start_time": "2023-08-01T17:42:41.363Z"
   },
   {
    "duration": 2,
    "start_time": "2023-08-01T17:42:43.296Z"
   },
   {
    "duration": 2,
    "start_time": "2023-08-01T17:42:44.575Z"
   },
   {
    "duration": 66,
    "start_time": "2023-08-01T17:42:45.397Z"
   },
   {
    "duration": 62,
    "start_time": "2023-08-01T18:26:51.534Z"
   },
   {
    "duration": 2,
    "start_time": "2023-08-01T18:27:38.983Z"
   },
   {
    "duration": 78,
    "start_time": "2023-08-01T18:27:39.252Z"
   },
   {
    "duration": 72,
    "start_time": "2023-08-01T18:27:52.260Z"
   },
   {
    "duration": 59,
    "start_time": "2023-08-01T18:28:01.555Z"
   },
   {
    "duration": 98,
    "start_time": "2023-08-01T18:28:15.345Z"
   },
   {
    "duration": 58,
    "start_time": "2023-08-01T18:28:33.484Z"
   },
   {
    "duration": 70,
    "start_time": "2023-08-01T18:28:46.325Z"
   },
   {
    "duration": 48,
    "start_time": "2023-08-01T18:29:08.315Z"
   },
   {
    "duration": 6,
    "start_time": "2023-08-01T18:29:20.308Z"
   },
   {
    "duration": 7,
    "start_time": "2023-08-01T18:29:53.701Z"
   },
   {
    "duration": 6,
    "start_time": "2023-08-01T18:30:11.701Z"
   },
   {
    "duration": 3,
    "start_time": "2023-08-01T18:30:19.582Z"
   },
   {
    "duration": 9,
    "start_time": "2023-08-01T18:30:23.503Z"
   },
   {
    "duration": 7,
    "start_time": "2023-08-01T18:30:31.796Z"
   },
   {
    "duration": 6,
    "start_time": "2023-08-01T18:30:42.495Z"
   },
   {
    "duration": 7,
    "start_time": "2023-08-01T18:31:50.854Z"
   },
   {
    "duration": 7,
    "start_time": "2023-08-01T18:32:35.984Z"
   },
   {
    "duration": 11,
    "start_time": "2023-08-01T18:32:51.116Z"
   },
   {
    "duration": 11,
    "start_time": "2023-08-01T18:33:28.351Z"
   },
   {
    "duration": 60,
    "start_time": "2023-08-01T18:33:55.691Z"
   },
   {
    "duration": 70,
    "start_time": "2023-08-01T18:34:08.968Z"
   },
   {
    "duration": 13,
    "start_time": "2023-08-01T18:34:27.237Z"
   },
   {
    "duration": 14,
    "start_time": "2023-08-01T18:34:32.062Z"
   },
   {
    "duration": 2,
    "start_time": "2023-08-01T18:34:32.638Z"
   },
   {
    "duration": 2,
    "start_time": "2023-08-01T18:34:33.389Z"
   },
   {
    "duration": 2,
    "start_time": "2023-08-01T18:34:33.995Z"
   },
   {
    "duration": 14,
    "start_time": "2023-08-01T18:34:36.961Z"
   },
   {
    "duration": 2,
    "start_time": "2023-08-01T18:34:38.065Z"
   },
   {
    "duration": 2,
    "start_time": "2023-08-01T18:34:38.968Z"
   },
   {
    "duration": 2,
    "start_time": "2023-08-01T18:34:40.412Z"
   },
   {
    "duration": 69,
    "start_time": "2023-08-01T18:34:41.468Z"
   },
   {
    "duration": 68,
    "start_time": "2023-08-01T18:35:15.611Z"
   },
   {
    "duration": 76,
    "start_time": "2023-08-01T18:35:25.788Z"
   },
   {
    "duration": 114,
    "start_time": "2023-08-01T18:36:15.409Z"
   },
   {
    "duration": 485,
    "start_time": "2023-08-01T18:36:47.185Z"
   },
   {
    "duration": 22,
    "start_time": "2023-08-01T18:36:48.935Z"
   },
   {
    "duration": 15,
    "start_time": "2023-08-01T18:36:49.903Z"
   },
   {
    "duration": 8,
    "start_time": "2023-08-01T18:36:51.958Z"
   },
   {
    "duration": 32,
    "start_time": "2023-08-01T18:36:52.573Z"
   },
   {
    "duration": 4,
    "start_time": "2023-08-01T18:36:53.535Z"
   },
   {
    "duration": 8,
    "start_time": "2023-08-01T18:36:54.174Z"
   },
   {
    "duration": 4,
    "start_time": "2023-08-01T18:36:55.624Z"
   },
   {
    "duration": 7,
    "start_time": "2023-08-01T18:36:56.183Z"
   },
   {
    "duration": 4,
    "start_time": "2023-08-01T18:36:56.768Z"
   },
   {
    "duration": 29,
    "start_time": "2023-08-01T18:36:58.062Z"
   },
   {
    "duration": 9,
    "start_time": "2023-08-01T18:36:58.632Z"
   },
   {
    "duration": 4,
    "start_time": "2023-08-01T18:36:59.403Z"
   },
   {
    "duration": 11,
    "start_time": "2023-08-01T18:37:00.065Z"
   },
   {
    "duration": 20,
    "start_time": "2023-08-01T18:37:00.497Z"
   },
   {
    "duration": 17,
    "start_time": "2023-08-01T18:37:00.713Z"
   },
   {
    "duration": 3,
    "start_time": "2023-08-01T18:37:01.352Z"
   },
   {
    "duration": 10,
    "start_time": "2023-08-01T18:37:01.559Z"
   },
   {
    "duration": 7,
    "start_time": "2023-08-01T18:37:02.260Z"
   },
   {
    "duration": 3,
    "start_time": "2023-08-01T18:37:03.742Z"
   },
   {
    "duration": 7,
    "start_time": "2023-08-01T18:37:04.196Z"
   },
   {
    "duration": 23,
    "start_time": "2023-08-01T18:37:06.203Z"
   },
   {
    "duration": 2,
    "start_time": "2023-08-01T18:37:09.636Z"
   },
   {
    "duration": 2,
    "start_time": "2023-08-01T18:37:10.094Z"
   },
   {
    "duration": 2,
    "start_time": "2023-08-01T18:37:10.561Z"
   },
   {
    "duration": 2,
    "start_time": "2023-08-01T18:37:11.103Z"
   },
   {
    "duration": 2,
    "start_time": "2023-08-01T18:37:11.695Z"
   },
   {
    "duration": 16,
    "start_time": "2023-08-01T18:37:11.965Z"
   },
   {
    "duration": 15,
    "start_time": "2023-08-01T18:37:15.831Z"
   },
   {
    "duration": 3,
    "start_time": "2023-08-01T18:37:16.589Z"
   },
   {
    "duration": 2,
    "start_time": "2023-08-01T18:37:17.207Z"
   },
   {
    "duration": 2,
    "start_time": "2023-08-01T18:37:17.654Z"
   },
   {
    "duration": 16,
    "start_time": "2023-08-01T18:37:20.106Z"
   },
   {
    "duration": 3,
    "start_time": "2023-08-01T18:37:22.063Z"
   },
   {
    "duration": 2,
    "start_time": "2023-08-01T18:37:22.931Z"
   },
   {
    "duration": 2,
    "start_time": "2023-08-01T18:37:24.232Z"
   },
   {
    "duration": 74,
    "start_time": "2023-08-01T18:37:24.767Z"
   },
   {
    "duration": 66,
    "start_time": "2023-08-01T18:37:49.756Z"
   },
   {
    "duration": 54,
    "start_time": "2023-08-01T18:38:00.227Z"
   },
   {
    "duration": 67,
    "start_time": "2023-08-01T18:50:01.603Z"
   },
   {
    "duration": 157,
    "start_time": "2023-08-01T18:50:08.739Z"
   },
   {
    "duration": 62,
    "start_time": "2023-08-01T18:50:45.099Z"
   },
   {
    "duration": 55,
    "start_time": "2023-08-01T18:51:10.902Z"
   },
   {
    "duration": 98,
    "start_time": "2023-08-01T18:51:24.860Z"
   },
   {
    "duration": 82,
    "start_time": "2023-08-01T18:51:59.384Z"
   },
   {
    "duration": 510,
    "start_time": "2023-08-01T18:55:46.575Z"
   },
   {
    "duration": 2,
    "start_time": "2023-08-01T18:56:21.582Z"
   },
   {
    "duration": 67,
    "start_time": "2023-08-01T18:56:22.013Z"
   },
   {
    "duration": 20,
    "start_time": "2023-08-01T19:01:58.987Z"
   },
   {
    "duration": 14,
    "start_time": "2023-08-01T19:02:00.868Z"
   },
   {
    "duration": 8,
    "start_time": "2023-08-01T19:02:02.753Z"
   },
   {
    "duration": 29,
    "start_time": "2023-08-01T19:02:03.885Z"
   },
   {
    "duration": 4,
    "start_time": "2023-08-01T19:02:05.069Z"
   },
   {
    "duration": 9,
    "start_time": "2023-08-01T19:02:06.069Z"
   },
   {
    "duration": 4,
    "start_time": "2023-08-01T19:02:07.420Z"
   },
   {
    "duration": 5,
    "start_time": "2023-08-01T19:02:07.894Z"
   },
   {
    "duration": 4,
    "start_time": "2023-08-01T19:02:08.419Z"
   },
   {
    "duration": 28,
    "start_time": "2023-08-01T19:02:11.992Z"
   },
   {
    "duration": 10,
    "start_time": "2023-08-01T19:02:12.769Z"
   },
   {
    "duration": 3,
    "start_time": "2023-08-01T19:02:13.511Z"
   },
   {
    "duration": 11,
    "start_time": "2023-08-01T19:02:14.157Z"
   },
   {
    "duration": 18,
    "start_time": "2023-08-01T19:02:14.595Z"
   },
   {
    "duration": 16,
    "start_time": "2023-08-01T19:02:14.869Z"
   },
   {
    "duration": 4,
    "start_time": "2023-08-01T19:02:16.257Z"
   },
   {
    "duration": 12,
    "start_time": "2023-08-01T19:02:16.553Z"
   },
   {
    "duration": 6,
    "start_time": "2023-08-01T19:02:18.148Z"
   },
   {
    "duration": 4,
    "start_time": "2023-08-01T19:02:18.789Z"
   },
   {
    "duration": 9,
    "start_time": "2023-08-01T19:02:19.253Z"
   },
   {
    "duration": 20,
    "start_time": "2023-08-01T19:02:20.886Z"
   },
   {
    "duration": 62,
    "start_time": "2023-08-01T19:04:57.547Z"
   },
   {
    "duration": 16,
    "start_time": "2023-08-01T19:22:07.880Z"
   },
   {
    "duration": 2,
    "start_time": "2023-08-01T19:28:06.881Z"
   },
   {
    "duration": 14,
    "start_time": "2023-08-01T19:28:07.684Z"
   },
   {
    "duration": 14,
    "start_time": "2023-08-01T19:28:32.584Z"
   },
   {
    "duration": 66,
    "start_time": "2023-08-02T06:17:22.419Z"
   },
   {
    "duration": 12,
    "start_time": "2023-08-02T06:17:39.772Z"
   },
   {
    "duration": 14,
    "start_time": "2023-08-02T06:18:03.012Z"
   },
   {
    "duration": 25,
    "start_time": "2023-08-02T06:18:46.620Z"
   },
   {
    "duration": 16,
    "start_time": "2023-08-02T06:19:12.901Z"
   },
   {
    "duration": 25,
    "start_time": "2023-08-02T06:19:18.973Z"
   },
   {
    "duration": 14,
    "start_time": "2023-08-02T06:20:34.114Z"
   },
   {
    "duration": 20,
    "start_time": "2023-08-02T06:20:58.549Z"
   },
   {
    "duration": 268,
    "start_time": "2023-08-02T06:22:13.052Z"
   },
   {
    "duration": 85,
    "start_time": "2023-08-02T06:22:23.056Z"
   },
   {
    "duration": 15,
    "start_time": "2023-08-02T14:53:45.219Z"
   },
   {
    "duration": 199,
    "start_time": "2023-08-02T14:58:51.716Z"
   },
   {
    "duration": 9,
    "start_time": "2023-08-02T15:00:49.139Z"
   },
   {
    "duration": 10,
    "start_time": "2023-08-02T15:00:52.172Z"
   },
   {
    "duration": 6,
    "start_time": "2023-08-02T15:00:54.130Z"
   },
   {
    "duration": 14,
    "start_time": "2023-08-02T15:00:58.257Z"
   },
   {
    "duration": 3,
    "start_time": "2023-08-02T15:01:38.224Z"
   },
   {
    "duration": 3,
    "start_time": "2023-08-02T15:01:38.751Z"
   },
   {
    "duration": 3,
    "start_time": "2023-08-02T15:01:39.211Z"
   },
   {
    "duration": 4,
    "start_time": "2023-08-02T15:01:40.611Z"
   },
   {
    "duration": 7,
    "start_time": "2023-08-02T15:02:32.202Z"
   },
   {
    "duration": 15,
    "start_time": "2023-08-02T15:03:07.566Z"
   },
   {
    "duration": 238,
    "start_time": "2023-08-02T15:15:17.837Z"
   },
   {
    "duration": 9,
    "start_time": "2023-08-02T15:28:46.945Z"
   },
   {
    "duration": 28,
    "start_time": "2023-08-02T15:29:39.614Z"
   },
   {
    "duration": 31,
    "start_time": "2023-08-02T15:31:09.864Z"
   },
   {
    "duration": 42,
    "start_time": "2023-08-02T15:31:23.324Z"
   },
   {
    "duration": 31,
    "start_time": "2023-08-02T15:32:04.654Z"
   },
   {
    "duration": 44,
    "start_time": "2023-08-02T15:32:15.148Z"
   },
   {
    "duration": 37,
    "start_time": "2023-08-02T15:36:49.147Z"
   },
   {
    "duration": 49,
    "start_time": "2023-08-02T15:37:21.665Z"
   },
   {
    "duration": 64,
    "start_time": "2023-08-02T15:37:57.966Z"
   },
   {
    "duration": 43,
    "start_time": "2023-08-02T15:38:31.201Z"
   },
   {
    "duration": 35,
    "start_time": "2023-08-02T15:39:11.117Z"
   },
   {
    "duration": 37,
    "start_time": "2023-08-02T15:39:25.044Z"
   },
   {
    "duration": 2361,
    "start_time": "2023-08-02T15:40:20.067Z"
   },
   {
    "duration": 2748,
    "start_time": "2023-08-02T15:41:16.120Z"
   },
   {
    "duration": 48,
    "start_time": "2023-08-02T15:42:04.316Z"
   },
   {
    "duration": 32,
    "start_time": "2023-08-02T15:42:40.366Z"
   },
   {
    "duration": 57,
    "start_time": "2023-08-02T15:42:46.791Z"
   },
   {
    "duration": 54,
    "start_time": "2023-08-02T15:43:06.751Z"
   },
   {
    "duration": 43,
    "start_time": "2023-08-02T15:43:27.585Z"
   },
   {
    "duration": 42,
    "start_time": "2023-08-02T15:44:08.933Z"
   },
   {
    "duration": 49,
    "start_time": "2023-08-02T15:45:18.724Z"
   },
   {
    "duration": 43,
    "start_time": "2023-08-02T15:46:20.619Z"
   },
   {
    "duration": 47,
    "start_time": "2023-08-02T15:47:01.335Z"
   },
   {
    "duration": 38,
    "start_time": "2023-08-02T15:47:41.751Z"
   },
   {
    "duration": 35,
    "start_time": "2023-08-02T15:47:53.431Z"
   },
   {
    "duration": 61,
    "start_time": "2023-08-02T15:48:09.359Z"
   },
   {
    "duration": 35,
    "start_time": "2023-08-02T15:49:39.224Z"
   },
   {
    "duration": 42,
    "start_time": "2023-08-02T15:49:46.988Z"
   },
   {
    "duration": 40,
    "start_time": "2023-08-02T15:50:14.849Z"
   },
   {
    "duration": 49,
    "start_time": "2023-08-02T15:50:33.646Z"
   },
   {
    "duration": 45,
    "start_time": "2023-08-02T15:53:05.878Z"
   },
   {
    "duration": 36,
    "start_time": "2023-08-02T16:04:16.429Z"
   },
   {
    "duration": 38,
    "start_time": "2023-08-02T16:04:31.332Z"
   },
   {
    "duration": 46,
    "start_time": "2023-08-02T16:06:07.101Z"
   },
   {
    "duration": 41,
    "start_time": "2023-08-02T16:06:58.432Z"
   },
   {
    "duration": 54,
    "start_time": "2023-08-02T16:10:42.174Z"
   },
   {
    "duration": 46,
    "start_time": "2023-08-02T16:11:15.942Z"
   },
   {
    "duration": 77,
    "start_time": "2023-08-02T16:11:48.102Z"
   },
   {
    "duration": 52,
    "start_time": "2023-08-02T16:13:21.382Z"
   },
   {
    "duration": 69,
    "start_time": "2023-08-02T16:13:34.579Z"
   },
   {
    "duration": 44,
    "start_time": "2023-08-02T16:13:53.946Z"
   },
   {
    "duration": 42,
    "start_time": "2023-08-02T16:14:03.430Z"
   },
   {
    "duration": 66,
    "start_time": "2023-08-02T16:14:35.751Z"
   },
   {
    "duration": 52,
    "start_time": "2023-08-02T16:14:59.883Z"
   },
   {
    "duration": 42,
    "start_time": "2023-08-02T16:31:55.339Z"
   },
   {
    "duration": 41,
    "start_time": "2023-08-02T16:34:14.739Z"
   },
   {
    "duration": 16,
    "start_time": "2023-08-03T07:20:02.890Z"
   },
   {
    "duration": 21,
    "start_time": "2023-08-03T07:21:36.081Z"
   },
   {
    "duration": 18,
    "start_time": "2023-08-03T07:21:50.715Z"
   },
   {
    "duration": 61,
    "start_time": "2023-08-03T07:22:24.607Z"
   },
   {
    "duration": 40,
    "start_time": "2023-08-03T07:23:24.856Z"
   },
   {
    "duration": 47,
    "start_time": "2023-08-03T07:23:44.886Z"
   },
   {
    "duration": 388,
    "start_time": "2023-08-03T11:05:02.926Z"
   },
   {
    "duration": 132,
    "start_time": "2023-08-03T11:05:04.484Z"
   },
   {
    "duration": 29,
    "start_time": "2023-08-03T11:05:06.953Z"
   },
   {
    "duration": 19,
    "start_time": "2023-08-03T11:05:10.306Z"
   },
   {
    "duration": 16,
    "start_time": "2023-08-03T11:05:13.451Z"
   },
   {
    "duration": 30,
    "start_time": "2023-08-03T11:05:15.256Z"
   },
   {
    "duration": 5,
    "start_time": "2023-08-03T11:05:16.314Z"
   },
   {
    "duration": 9,
    "start_time": "2023-08-03T11:05:17.381Z"
   },
   {
    "duration": 6,
    "start_time": "2023-08-03T11:05:18.770Z"
   },
   {
    "duration": 7,
    "start_time": "2023-08-03T11:05:19.688Z"
   },
   {
    "duration": 5,
    "start_time": "2023-08-03T11:05:20.744Z"
   },
   {
    "duration": 32,
    "start_time": "2023-08-03T11:05:22.246Z"
   },
   {
    "duration": 10,
    "start_time": "2023-08-03T11:05:26.520Z"
   },
   {
    "duration": 7,
    "start_time": "2023-08-03T11:05:28.214Z"
   },
   {
    "duration": 11,
    "start_time": "2023-08-03T11:05:29.615Z"
   },
   {
    "duration": 20,
    "start_time": "2023-08-03T11:05:30.332Z"
   },
   {
    "duration": 18,
    "start_time": "2023-08-03T11:05:30.654Z"
   },
   {
    "duration": 5,
    "start_time": "2023-08-03T11:05:31.615Z"
   },
   {
    "duration": 10,
    "start_time": "2023-08-03T11:05:32.121Z"
   },
   {
    "duration": 6,
    "start_time": "2023-08-03T11:05:32.952Z"
   },
   {
    "duration": 4,
    "start_time": "2023-08-03T11:05:33.954Z"
   },
   {
    "duration": 9,
    "start_time": "2023-08-03T11:05:34.366Z"
   },
   {
    "duration": 26,
    "start_time": "2023-08-03T11:05:35.572Z"
   },
   {
    "duration": 2,
    "start_time": "2023-08-03T11:05:44.783Z"
   },
   {
    "duration": 3,
    "start_time": "2023-08-03T11:05:45.222Z"
   },
   {
    "duration": 3,
    "start_time": "2023-08-03T11:05:45.819Z"
   },
   {
    "duration": 3,
    "start_time": "2023-08-03T11:05:46.239Z"
   },
   {
    "duration": 7,
    "start_time": "2023-08-03T11:05:46.711Z"
   },
   {
    "duration": 17,
    "start_time": "2023-08-03T11:05:48.578Z"
   },
   {
    "duration": 16,
    "start_time": "2023-08-03T11:05:56.675Z"
   },
   {
    "duration": 2,
    "start_time": "2023-08-03T11:05:57.244Z"
   },
   {
    "duration": 2,
    "start_time": "2023-08-03T11:05:58.043Z"
   },
   {
    "duration": 3,
    "start_time": "2023-08-03T11:05:58.319Z"
   },
   {
    "duration": 2,
    "start_time": "2023-08-03T11:06:04.764Z"
   },
   {
    "duration": 3,
    "start_time": "2023-08-03T11:06:05.292Z"
   },
   {
    "duration": 3,
    "start_time": "2023-08-03T11:06:05.769Z"
   },
   {
    "duration": 2,
    "start_time": "2023-08-03T11:06:06.966Z"
   },
   {
    "duration": 27,
    "start_time": "2023-08-03T11:06:07.998Z"
   },
   {
    "duration": 2,
    "start_time": "2023-08-03T11:06:14.445Z"
   },
   {
    "duration": 6,
    "start_time": "2023-08-03T11:06:14.699Z"
   },
   {
    "duration": 2,
    "start_time": "2023-08-03T11:06:14.963Z"
   },
   {
    "duration": 3,
    "start_time": "2023-08-03T11:06:19.229Z"
   },
   {
    "duration": 3,
    "start_time": "2023-08-03T11:06:19.715Z"
   },
   {
    "duration": 17,
    "start_time": "2023-08-03T11:06:20.068Z"
   },
   {
    "duration": 45,
    "start_time": "2023-08-03T11:06:41.820Z"
   },
   {
    "duration": 42,
    "start_time": "2023-08-03T11:08:07.253Z"
   },
   {
    "duration": 47,
    "start_time": "2023-08-03T11:13:44.599Z"
   },
   {
    "duration": 3,
    "start_time": "2023-08-03T11:16:38.327Z"
   },
   {
    "duration": 90,
    "start_time": "2023-08-03T11:16:39.076Z"
   },
   {
    "duration": 14,
    "start_time": "2023-08-03T11:16:41.580Z"
   },
   {
    "duration": 13,
    "start_time": "2023-08-03T11:16:43.951Z"
   },
   {
    "duration": 12,
    "start_time": "2023-08-03T11:16:46.812Z"
   },
   {
    "duration": 32,
    "start_time": "2023-08-03T11:16:48.744Z"
   },
   {
    "duration": 4,
    "start_time": "2023-08-03T11:16:49.969Z"
   },
   {
    "duration": 8,
    "start_time": "2023-08-03T11:16:51.158Z"
   },
   {
    "duration": 6,
    "start_time": "2023-08-03T11:16:56.287Z"
   },
   {
    "duration": 6,
    "start_time": "2023-08-03T11:16:56.814Z"
   },
   {
    "duration": 4,
    "start_time": "2023-08-03T11:16:57.359Z"
   },
   {
    "duration": 30,
    "start_time": "2023-08-03T11:16:58.563Z"
   },
   {
    "duration": 8,
    "start_time": "2023-08-03T11:16:59.154Z"
   },
   {
    "duration": 4,
    "start_time": "2023-08-03T11:17:01.943Z"
   },
   {
    "duration": 11,
    "start_time": "2023-08-03T11:17:02.776Z"
   },
   {
    "duration": 29,
    "start_time": "2023-08-03T11:17:03.342Z"
   },
   {
    "duration": 17,
    "start_time": "2023-08-03T11:17:03.815Z"
   },
   {
    "duration": 3,
    "start_time": "2023-08-03T11:17:04.644Z"
   },
   {
    "duration": 10,
    "start_time": "2023-08-03T11:17:04.919Z"
   },
   {
    "duration": 5,
    "start_time": "2023-08-03T11:17:05.813Z"
   },
   {
    "duration": 4,
    "start_time": "2023-08-03T11:17:07.162Z"
   },
   {
    "duration": 9,
    "start_time": "2023-08-03T11:17:07.561Z"
   },
   {
    "duration": 39,
    "start_time": "2023-08-03T11:17:08.280Z"
   },
   {
    "duration": 2,
    "start_time": "2023-08-03T11:17:17.261Z"
   },
   {
    "duration": 3,
    "start_time": "2023-08-03T11:17:17.649Z"
   },
   {
    "duration": 3,
    "start_time": "2023-08-03T11:17:17.930Z"
   },
   {
    "duration": 3,
    "start_time": "2023-08-03T11:17:18.243Z"
   },
   {
    "duration": 2,
    "start_time": "2023-08-03T11:17:18.779Z"
   },
   {
    "duration": 15,
    "start_time": "2023-08-03T11:17:22.924Z"
   },
   {
    "duration": 23,
    "start_time": "2023-08-03T11:17:39.192Z"
   },
   {
    "duration": 2,
    "start_time": "2023-08-03T11:17:39.859Z"
   },
   {
    "duration": 5,
    "start_time": "2023-08-03T11:17:40.518Z"
   },
   {
    "duration": 2,
    "start_time": "2023-08-03T11:17:40.821Z"
   },
   {
    "duration": 2,
    "start_time": "2023-08-03T11:17:45.238Z"
   },
   {
    "duration": 3,
    "start_time": "2023-08-03T11:17:45.681Z"
   },
   {
    "duration": 2,
    "start_time": "2023-08-03T11:17:45.971Z"
   },
   {
    "duration": 3,
    "start_time": "2023-08-03T11:17:47.336Z"
   },
   {
    "duration": 16,
    "start_time": "2023-08-03T11:17:48.125Z"
   },
   {
    "duration": 3,
    "start_time": "2023-08-03T11:17:53.361Z"
   },
   {
    "duration": 3,
    "start_time": "2023-08-03T11:17:53.615Z"
   },
   {
    "duration": 3,
    "start_time": "2023-08-03T11:17:53.853Z"
   },
   {
    "duration": 3,
    "start_time": "2023-08-03T11:17:54.122Z"
   },
   {
    "duration": 2,
    "start_time": "2023-08-03T11:17:55.054Z"
   },
   {
    "duration": 25,
    "start_time": "2023-08-03T11:17:56.636Z"
   },
   {
    "duration": 49,
    "start_time": "2023-08-03T11:18:05.769Z"
   },
   {
    "duration": 260,
    "start_time": "2023-08-04T09:09:56.397Z"
   },
   {
    "duration": 176,
    "start_time": "2023-08-04T09:21:37.127Z"
   },
   {
    "duration": 156,
    "start_time": "2023-08-04T10:29:06.055Z"
   },
   {
    "duration": 49,
    "start_time": "2024-02-19T20:19:08.049Z"
   },
   {
    "duration": 6,
    "start_time": "2024-02-19T20:19:21.005Z"
   },
   {
    "duration": 6,
    "start_time": "2024-02-19T20:19:31.687Z"
   },
   {
    "duration": 6,
    "start_time": "2024-02-19T20:19:44.026Z"
   },
   {
    "duration": 427,
    "start_time": "2024-02-19T20:21:00.990Z"
   },
   {
    "duration": 283,
    "start_time": "2024-02-19T20:21:01.419Z"
   },
   {
    "duration": 33,
    "start_time": "2024-02-19T20:21:01.704Z"
   },
   {
    "duration": 28,
    "start_time": "2024-02-19T20:21:01.740Z"
   },
   {
    "duration": 13,
    "start_time": "2024-02-19T20:21:01.770Z"
   },
   {
    "duration": 69,
    "start_time": "2024-02-19T20:21:01.785Z"
   },
   {
    "duration": 4,
    "start_time": "2024-02-19T20:21:01.857Z"
   },
   {
    "duration": 40,
    "start_time": "2024-02-19T20:21:01.862Z"
   },
   {
    "duration": 35,
    "start_time": "2024-02-19T20:21:01.904Z"
   },
   {
    "duration": 21,
    "start_time": "2024-02-19T20:21:01.943Z"
   },
   {
    "duration": 15,
    "start_time": "2024-02-19T20:21:01.966Z"
   },
   {
    "duration": 59,
    "start_time": "2024-02-19T20:21:01.983Z"
   },
   {
    "duration": 14,
    "start_time": "2024-02-19T20:21:02.045Z"
   },
   {
    "duration": 38,
    "start_time": "2024-02-19T20:21:02.060Z"
   },
   {
    "duration": 19,
    "start_time": "2024-02-19T20:21:02.099Z"
   },
   {
    "duration": 101,
    "start_time": "2024-02-19T20:21:02.120Z"
   },
   {
    "duration": 0,
    "start_time": "2024-02-19T20:21:02.223Z"
   },
   {
    "duration": 0,
    "start_time": "2024-02-19T20:21:02.224Z"
   },
   {
    "duration": 0,
    "start_time": "2024-02-19T20:21:02.225Z"
   },
   {
    "duration": 0,
    "start_time": "2024-02-19T20:21:02.226Z"
   },
   {
    "duration": 0,
    "start_time": "2024-02-19T20:21:02.228Z"
   },
   {
    "duration": 0,
    "start_time": "2024-02-19T20:21:02.229Z"
   },
   {
    "duration": 0,
    "start_time": "2024-02-19T20:21:02.230Z"
   },
   {
    "duration": 0,
    "start_time": "2024-02-19T20:21:02.231Z"
   },
   {
    "duration": 0,
    "start_time": "2024-02-19T20:21:02.232Z"
   },
   {
    "duration": 0,
    "start_time": "2024-02-19T20:21:02.233Z"
   },
   {
    "duration": 0,
    "start_time": "2024-02-19T20:21:02.234Z"
   },
   {
    "duration": 0,
    "start_time": "2024-02-19T20:21:02.235Z"
   },
   {
    "duration": 0,
    "start_time": "2024-02-19T20:21:02.236Z"
   },
   {
    "duration": 0,
    "start_time": "2024-02-19T20:21:02.238Z"
   },
   {
    "duration": 7,
    "start_time": "2024-02-19T20:22:29.750Z"
   },
   {
    "duration": 8,
    "start_time": "2024-02-19T20:23:35.508Z"
   },
   {
    "duration": 8,
    "start_time": "2024-02-19T20:23:47.041Z"
   },
   {
    "duration": 9,
    "start_time": "2024-02-19T20:25:00.495Z"
   },
   {
    "duration": 7,
    "start_time": "2024-02-19T20:25:06.433Z"
   },
   {
    "duration": 30,
    "start_time": "2024-02-19T20:25:49.146Z"
   },
   {
    "duration": 390,
    "start_time": "2024-02-27T12:56:34.516Z"
   },
   {
    "duration": 133,
    "start_time": "2024-02-27T12:56:34.908Z"
   },
   {
    "duration": 24,
    "start_time": "2024-02-27T12:56:35.042Z"
   },
   {
    "duration": 28,
    "start_time": "2024-02-27T12:56:35.068Z"
   },
   {
    "duration": 16,
    "start_time": "2024-02-27T12:56:35.098Z"
   },
   {
    "duration": 39,
    "start_time": "2024-02-27T12:56:35.115Z"
   },
   {
    "duration": 4,
    "start_time": "2024-02-27T12:56:35.156Z"
   },
   {
    "duration": 24,
    "start_time": "2024-02-27T12:56:35.162Z"
   },
   {
    "duration": 7,
    "start_time": "2024-02-27T12:56:35.188Z"
   },
   {
    "duration": 16,
    "start_time": "2024-02-27T12:56:35.197Z"
   },
   {
    "duration": 5,
    "start_time": "2024-02-27T12:56:35.215Z"
   },
   {
    "duration": 61,
    "start_time": "2024-02-27T12:56:35.221Z"
   },
   {
    "duration": 13,
    "start_time": "2024-02-27T12:56:35.283Z"
   },
   {
    "duration": 7,
    "start_time": "2024-02-27T12:56:35.300Z"
   },
   {
    "duration": 15,
    "start_time": "2024-02-27T12:56:35.308Z"
   },
   {
    "duration": 22,
    "start_time": "2024-02-27T12:56:35.324Z"
   },
   {
    "duration": 47,
    "start_time": "2024-02-27T12:56:35.347Z"
   },
   {
    "duration": 5,
    "start_time": "2024-02-27T12:56:35.395Z"
   },
   {
    "duration": 23,
    "start_time": "2024-02-27T12:56:35.401Z"
   },
   {
    "duration": 8,
    "start_time": "2024-02-27T12:56:35.426Z"
   },
   {
    "duration": 25,
    "start_time": "2024-02-27T12:56:35.436Z"
   },
   {
    "duration": 22,
    "start_time": "2024-02-27T12:56:35.463Z"
   },
   {
    "duration": 23,
    "start_time": "2024-02-27T12:56:35.486Z"
   },
   {
    "duration": 3,
    "start_time": "2024-02-27T12:56:35.511Z"
   },
   {
    "duration": 39,
    "start_time": "2024-02-27T12:56:35.516Z"
   },
   {
    "duration": 25,
    "start_time": "2024-02-27T12:56:35.556Z"
   },
   {
    "duration": 16,
    "start_time": "2024-02-27T12:56:35.582Z"
   },
   {
    "duration": 2,
    "start_time": "2024-02-27T12:56:35.600Z"
   },
   {
    "duration": 27,
    "start_time": "2024-02-27T12:56:35.603Z"
   },
   {
    "duration": 64,
    "start_time": "2024-02-27T12:56:35.631Z"
   }
  ],
  "celltoolbar": "Редактировать метаданные",
  "colab": {
   "provenance": []
  },
  "kernelspec": {
   "display_name": "Python 3 (ipykernel)",
   "language": "python",
   "name": "python3"
  },
  "language_info": {
   "codemirror_mode": {
    "name": "ipython",
    "version": 3
   },
   "file_extension": ".py",
   "mimetype": "text/x-python",
   "name": "python",
   "nbconvert_exporter": "python",
   "pygments_lexer": "ipython3",
   "version": "3.9.5"
  },
  "toc": {
   "base_numbering": 1,
   "nav_menu": {},
   "number_sections": true,
   "sideBar": true,
   "skip_h1_title": true,
   "title_cell": "Table of Contents",
   "title_sidebar": "Contents",
   "toc_cell": false,
   "toc_position": {},
   "toc_section_display": true,
   "toc_window_display": false
  }
 },
 "nbformat": 4,
 "nbformat_minor": 5
}
