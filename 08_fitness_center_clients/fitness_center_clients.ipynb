{
 "cells": [
  {
   "cell_type": "markdown",
   "metadata": {},
   "source": [
    "Анализ и подготовка плана действий по удержанию клиентов сети фитнес-центров «Культурист-датасаентист»"
   ]
  },
  {
   "cell_type": "markdown",
   "metadata": {},
   "source": [
    "Отдел по работе с клиентами «Культуриста-датасаентиста» перевёл в электронный вид множество клиентских анкет. Наша задача — провести анализ и подготовить план действий по удержанию клиентов.  \n",
    "А именно: \n",
    "Спрогнозировать вероятность оттока (на уровне следующего месяца) для каждого клиента;\n",
    "сформировать типичные портреты клиентов: выделить несколько наиболее ярких групп и охарактеризовать их основные свойства;\n",
    "проанализировать основные признаки, наиболее сильно влияющие на отток;\n",
    "сформулировать основные выводы и разработать рекомендации по повышению качества работы с клиентами:\n",
    "1) выделить целевые группы клиентов;\n",
    "2) предложить меры по снижению оттока;\n",
    "3) определить другие особенности взаимодействия с клиентами."
   ]
  },
  {
   "cell_type": "markdown",
   "metadata": {},
   "source": [
    "План исследования:\n",
    "1. [Ознакомление с данными](#start)\n",
    "    - [Загрузка данных](#1.1) \n",
    "    - [Изучение общей информации о датасетах](#1.2)\n",
    "2. [Предобработка данных и исследовательский анализ](#preprocessing) \n",
    "    - [Изучение отдельных столбцов и предобработка](#2.1)\n",
    "    - [Изучение средних значений признаков по группа ушли/остались](#2.2) \n",
    "    - [Графики распределения признаков по группам ушли/остались](#2.3)\n",
    "    - [Построение матрицы корреляций](#1.1)\n",
    "    - [Вывод по разделу](#1.1)\n",
    "3. [Построение модели прогнозирования оттока клиентов ](#analitic)\n",
    "    - [Разделение данных на обучающую и валидационную выборку ](#3.1) \n",
    "    - [Стандартизация](#3.2)\n",
    "    - [Обучение модели логистической регрессией](#3.3)\n",
    "    - [Обучение модели случайным лесом ](#3.4)\n",
    "    - [Вывод по разделу](#3.5) \n",
    "4. [Кластеризация клиентов  ](#anal)\n",
    "    - [Построение матрицы расстояний ](#4.1)\n",
    "    - [Дендрограмма](#4.2) \n",
    "    - [Обучение модели кластеризации на основании алгоритма K-Means ](#4.3)\n",
    "    - [Изучение значений признаков кластеров](#4.4)\n",
    "    - [Графики распределения признаков кластеров](#4.5)\n",
    "    - [Выводы о признаках кластерах](#4.6)\n",
    "    - [Расчет доли оттока по кластерам](#4.7) \n",
    "5. [Вывод и рекомендации](#end)"
   ]
  },
  {
   "cell_type": "markdown",
   "metadata": {},
   "source": [
    "<a id=\"start\"></a>\n",
    "Загрузим необходимые библиотеки"
   ]
  },
  {
   "cell_type": "code",
   "execution_count": 1,
   "metadata": {
    "scrolled": true
   },
   "outputs": [],
   "source": [
    "import pandas as pd\n",
    "import seaborn as sns; sns.set()\n",
    "from sklearn.preprocessing import StandardScaler\n",
    "from sklearn.model_selection import train_test_split\n",
    "from sklearn.linear_model import Lasso, Ridge\n",
    "from sklearn.tree import DecisionTreeRegressor\n",
    "from sklearn.ensemble import RandomForestRegressor, GradientBoostingRegressor\n",
    "from sklearn.linear_model import LogisticRegression\n",
    "from sklearn.tree import DecisionTreeRegressor, DecisionTreeClassifier\n",
    "from sklearn.ensemble import RandomForestRegressor, GradientBoostingRegressor\n",
    "from sklearn.ensemble import RandomForestClassifier, GradientBoostingClassifier\n",
    "from sklearn.metrics import accuracy_score, precision_score, recall_score\n",
    "from sklearn.cluster import KMeans\n",
    "from scipy.cluster.hierarchy import dendrogram, linkage\n",
    "from sklearn.metrics import accuracy_score, precision_score, recall_score, f1_score\n",
    "import matplotlib.pyplot as plt\n",
    "from sklearn.metrics import mean_absolute_error, mean_squared_error, r2_score\n",
    "pd.set_option('display.max_columns', 500)\n",
    "pd.set_option('display.max_rows', 1000)\n",
    "pd.set_option('display.float_format', '{:,.2f}'.format)\n",
    "pd.set_option('display.max_colwidth', False)\n",
    "pd.options.display.expand_frame_repr = False\n",
    "#import warnings\n",
    "#warnings.filterwarnings('ignore')  \n"
   ]
  },
  {
   "cell_type": "markdown",
   "metadata": {},
   "source": [
    "<a id=\"1.1\"></a>\n",
    "Загрузим данные"
   ]
  },
  {
   "cell_type": "code",
   "execution_count": 2,
   "metadata": {
    "scrolled": true
   },
   "outputs": [],
   "source": [
    "# загружаем датафрейм\n",
    "try:\n",
    "    df = pd.read_csv('/datasets/gym_churn.csv')\n",
    "\n",
    "except:\n",
    "    df = pd.read_csv('https://code.s3.yandex.net/datasets/gym_churn.csv')\n",
    "    "
   ]
  },
  {
   "cell_type": "markdown",
   "metadata": {},
   "source": [
    "<a id=\"1.2\"></a>\n",
    "Посмотрим на наши данные, для этого используем функцию."
   ]
  },
  {
   "cell_type": "code",
   "execution_count": 3,
   "metadata": {},
   "outputs": [],
   "source": [
    "def show_info(data):\n",
    "    display(data.head())\n",
    "    \n",
    "    # Описательные статистики для категориальных признаков\n",
    "    cat_data = data.select_dtypes(include='object')\n",
    "    for col in cat_data.columns:\n",
    "        print(f\"Уникальные значения для {col}: {data[col].unique()}\")\n",
    "    \n",
    "    # Описательные статистики для числовых признаков\n",
    "    num_data = data.select_dtypes(include=['int64', 'float64'])\n",
    "    if not num_data.empty:\n",
    "        display(num_data.describe().T)\n",
    "    \n",
    "    print(data.info())\n",
    "    print(\"Проверка на пропуски:\")\n",
    "    display(data.isnull().sum())\n",
    "    \n",
    "    # Проверка на дубликаты\n",
    "    print(\"Проверка на дубликаты:\")\n",
    "    if (duplicated := data.duplicated(keep=False)).any():\n",
    "        some_duplicates = data[duplicated].sort_values(by=data.columns.to_list()).head()\n",
    "        print(f\"DataFrame содержит одну или несколько дублирующихся строк, например:\\n{some_duplicates}\")\n",
    "    else:\n",
    "        print(\"В DataFrame нет дублирующихся строк.\")"
   ]
  },
  {
   "cell_type": "code",
   "execution_count": 4,
   "metadata": {},
   "outputs": [
    {
     "data": {
      "text/html": [
       "<div>\n",
       "<style scoped>\n",
       "    .dataframe tbody tr th:only-of-type {\n",
       "        vertical-align: middle;\n",
       "    }\n",
       "\n",
       "    .dataframe tbody tr th {\n",
       "        vertical-align: top;\n",
       "    }\n",
       "\n",
       "    .dataframe thead th {\n",
       "        text-align: right;\n",
       "    }\n",
       "</style>\n",
       "<table border=\"1\" class=\"dataframe\">\n",
       "  <thead>\n",
       "    <tr style=\"text-align: right;\">\n",
       "      <th></th>\n",
       "      <th>gender</th>\n",
       "      <th>Near_Location</th>\n",
       "      <th>Partner</th>\n",
       "      <th>Promo_friends</th>\n",
       "      <th>Phone</th>\n",
       "      <th>Contract_period</th>\n",
       "      <th>Group_visits</th>\n",
       "      <th>Age</th>\n",
       "      <th>Avg_additional_charges_total</th>\n",
       "      <th>Month_to_end_contract</th>\n",
       "      <th>Lifetime</th>\n",
       "      <th>Avg_class_frequency_total</th>\n",
       "      <th>Avg_class_frequency_current_month</th>\n",
       "      <th>Churn</th>\n",
       "    </tr>\n",
       "  </thead>\n",
       "  <tbody>\n",
       "    <tr>\n",
       "      <th>0</th>\n",
       "      <td>1</td>\n",
       "      <td>1</td>\n",
       "      <td>1</td>\n",
       "      <td>1</td>\n",
       "      <td>0</td>\n",
       "      <td>6</td>\n",
       "      <td>1</td>\n",
       "      <td>29</td>\n",
       "      <td>14.23</td>\n",
       "      <td>5.00</td>\n",
       "      <td>3</td>\n",
       "      <td>0.02</td>\n",
       "      <td>0.00</td>\n",
       "      <td>0</td>\n",
       "    </tr>\n",
       "    <tr>\n",
       "      <th>1</th>\n",
       "      <td>0</td>\n",
       "      <td>1</td>\n",
       "      <td>0</td>\n",
       "      <td>0</td>\n",
       "      <td>1</td>\n",
       "      <td>12</td>\n",
       "      <td>1</td>\n",
       "      <td>31</td>\n",
       "      <td>113.20</td>\n",
       "      <td>12.00</td>\n",
       "      <td>7</td>\n",
       "      <td>1.92</td>\n",
       "      <td>1.91</td>\n",
       "      <td>0</td>\n",
       "    </tr>\n",
       "    <tr>\n",
       "      <th>2</th>\n",
       "      <td>0</td>\n",
       "      <td>1</td>\n",
       "      <td>1</td>\n",
       "      <td>0</td>\n",
       "      <td>1</td>\n",
       "      <td>1</td>\n",
       "      <td>0</td>\n",
       "      <td>28</td>\n",
       "      <td>129.45</td>\n",
       "      <td>1.00</td>\n",
       "      <td>2</td>\n",
       "      <td>1.86</td>\n",
       "      <td>1.74</td>\n",
       "      <td>0</td>\n",
       "    </tr>\n",
       "    <tr>\n",
       "      <th>3</th>\n",
       "      <td>0</td>\n",
       "      <td>1</td>\n",
       "      <td>1</td>\n",
       "      <td>1</td>\n",
       "      <td>1</td>\n",
       "      <td>12</td>\n",
       "      <td>1</td>\n",
       "      <td>33</td>\n",
       "      <td>62.67</td>\n",
       "      <td>12.00</td>\n",
       "      <td>2</td>\n",
       "      <td>3.21</td>\n",
       "      <td>3.36</td>\n",
       "      <td>0</td>\n",
       "    </tr>\n",
       "    <tr>\n",
       "      <th>4</th>\n",
       "      <td>1</td>\n",
       "      <td>1</td>\n",
       "      <td>1</td>\n",
       "      <td>1</td>\n",
       "      <td>1</td>\n",
       "      <td>1</td>\n",
       "      <td>0</td>\n",
       "      <td>26</td>\n",
       "      <td>198.36</td>\n",
       "      <td>1.00</td>\n",
       "      <td>3</td>\n",
       "      <td>1.11</td>\n",
       "      <td>1.12</td>\n",
       "      <td>0</td>\n",
       "    </tr>\n",
       "  </tbody>\n",
       "</table>\n",
       "</div>"
      ],
      "text/plain": [
       "   gender  Near_Location  Partner  Promo_friends  Phone  Contract_period  Group_visits  Age  Avg_additional_charges_total  Month_to_end_contract  Lifetime  Avg_class_frequency_total  Avg_class_frequency_current_month  Churn\n",
       "0  1       1              1        1              0      6                1             29  14.23                         5.00                    3        0.02                       0.00                                0    \n",
       "1  0       1              0        0              1      12               1             31  113.20                        12.00                   7        1.92                       1.91                                0    \n",
       "2  0       1              1        0              1      1                0             28  129.45                        1.00                    2        1.86                       1.74                                0    \n",
       "3  0       1              1        1              1      12               1             33  62.67                         12.00                   2        3.21                       3.36                                0    \n",
       "4  1       1              1        1              1      1                0             26  198.36                        1.00                    3        1.11                       1.12                                0    "
      ]
     },
     "metadata": {},
     "output_type": "display_data"
    },
    {
     "data": {
      "text/html": [
       "<div>\n",
       "<style scoped>\n",
       "    .dataframe tbody tr th:only-of-type {\n",
       "        vertical-align: middle;\n",
       "    }\n",
       "\n",
       "    .dataframe tbody tr th {\n",
       "        vertical-align: top;\n",
       "    }\n",
       "\n",
       "    .dataframe thead th {\n",
       "        text-align: right;\n",
       "    }\n",
       "</style>\n",
       "<table border=\"1\" class=\"dataframe\">\n",
       "  <thead>\n",
       "    <tr style=\"text-align: right;\">\n",
       "      <th></th>\n",
       "      <th>count</th>\n",
       "      <th>mean</th>\n",
       "      <th>std</th>\n",
       "      <th>min</th>\n",
       "      <th>25%</th>\n",
       "      <th>50%</th>\n",
       "      <th>75%</th>\n",
       "      <th>max</th>\n",
       "    </tr>\n",
       "  </thead>\n",
       "  <tbody>\n",
       "    <tr>\n",
       "      <th>gender</th>\n",
       "      <td>4,000.00</td>\n",
       "      <td>0.51</td>\n",
       "      <td>0.50</td>\n",
       "      <td>0.00</td>\n",
       "      <td>0.00</td>\n",
       "      <td>1.00</td>\n",
       "      <td>1.00</td>\n",
       "      <td>1.00</td>\n",
       "    </tr>\n",
       "    <tr>\n",
       "      <th>Near_Location</th>\n",
       "      <td>4,000.00</td>\n",
       "      <td>0.85</td>\n",
       "      <td>0.36</td>\n",
       "      <td>0.00</td>\n",
       "      <td>1.00</td>\n",
       "      <td>1.00</td>\n",
       "      <td>1.00</td>\n",
       "      <td>1.00</td>\n",
       "    </tr>\n",
       "    <tr>\n",
       "      <th>Partner</th>\n",
       "      <td>4,000.00</td>\n",
       "      <td>0.49</td>\n",
       "      <td>0.50</td>\n",
       "      <td>0.00</td>\n",
       "      <td>0.00</td>\n",
       "      <td>0.00</td>\n",
       "      <td>1.00</td>\n",
       "      <td>1.00</td>\n",
       "    </tr>\n",
       "    <tr>\n",
       "      <th>Promo_friends</th>\n",
       "      <td>4,000.00</td>\n",
       "      <td>0.31</td>\n",
       "      <td>0.46</td>\n",
       "      <td>0.00</td>\n",
       "      <td>0.00</td>\n",
       "      <td>0.00</td>\n",
       "      <td>1.00</td>\n",
       "      <td>1.00</td>\n",
       "    </tr>\n",
       "    <tr>\n",
       "      <th>Phone</th>\n",
       "      <td>4,000.00</td>\n",
       "      <td>0.90</td>\n",
       "      <td>0.30</td>\n",
       "      <td>0.00</td>\n",
       "      <td>1.00</td>\n",
       "      <td>1.00</td>\n",
       "      <td>1.00</td>\n",
       "      <td>1.00</td>\n",
       "    </tr>\n",
       "    <tr>\n",
       "      <th>Contract_period</th>\n",
       "      <td>4,000.00</td>\n",
       "      <td>4.68</td>\n",
       "      <td>4.55</td>\n",
       "      <td>1.00</td>\n",
       "      <td>1.00</td>\n",
       "      <td>1.00</td>\n",
       "      <td>6.00</td>\n",
       "      <td>12.00</td>\n",
       "    </tr>\n",
       "    <tr>\n",
       "      <th>Group_visits</th>\n",
       "      <td>4,000.00</td>\n",
       "      <td>0.41</td>\n",
       "      <td>0.49</td>\n",
       "      <td>0.00</td>\n",
       "      <td>0.00</td>\n",
       "      <td>0.00</td>\n",
       "      <td>1.00</td>\n",
       "      <td>1.00</td>\n",
       "    </tr>\n",
       "    <tr>\n",
       "      <th>Age</th>\n",
       "      <td>4,000.00</td>\n",
       "      <td>29.18</td>\n",
       "      <td>3.26</td>\n",
       "      <td>18.00</td>\n",
       "      <td>27.00</td>\n",
       "      <td>29.00</td>\n",
       "      <td>31.00</td>\n",
       "      <td>41.00</td>\n",
       "    </tr>\n",
       "    <tr>\n",
       "      <th>Avg_additional_charges_total</th>\n",
       "      <td>4,000.00</td>\n",
       "      <td>146.94</td>\n",
       "      <td>96.36</td>\n",
       "      <td>0.15</td>\n",
       "      <td>68.87</td>\n",
       "      <td>136.22</td>\n",
       "      <td>210.95</td>\n",
       "      <td>552.59</td>\n",
       "    </tr>\n",
       "    <tr>\n",
       "      <th>Month_to_end_contract</th>\n",
       "      <td>4,000.00</td>\n",
       "      <td>4.32</td>\n",
       "      <td>4.19</td>\n",
       "      <td>1.00</td>\n",
       "      <td>1.00</td>\n",
       "      <td>1.00</td>\n",
       "      <td>6.00</td>\n",
       "      <td>12.00</td>\n",
       "    </tr>\n",
       "    <tr>\n",
       "      <th>Lifetime</th>\n",
       "      <td>4,000.00</td>\n",
       "      <td>3.72</td>\n",
       "      <td>3.75</td>\n",
       "      <td>0.00</td>\n",
       "      <td>1.00</td>\n",
       "      <td>3.00</td>\n",
       "      <td>5.00</td>\n",
       "      <td>31.00</td>\n",
       "    </tr>\n",
       "    <tr>\n",
       "      <th>Avg_class_frequency_total</th>\n",
       "      <td>4,000.00</td>\n",
       "      <td>1.88</td>\n",
       "      <td>0.97</td>\n",
       "      <td>0.00</td>\n",
       "      <td>1.18</td>\n",
       "      <td>1.83</td>\n",
       "      <td>2.54</td>\n",
       "      <td>6.02</td>\n",
       "    </tr>\n",
       "    <tr>\n",
       "      <th>Avg_class_frequency_current_month</th>\n",
       "      <td>4,000.00</td>\n",
       "      <td>1.77</td>\n",
       "      <td>1.05</td>\n",
       "      <td>0.00</td>\n",
       "      <td>0.96</td>\n",
       "      <td>1.72</td>\n",
       "      <td>2.51</td>\n",
       "      <td>6.15</td>\n",
       "    </tr>\n",
       "    <tr>\n",
       "      <th>Churn</th>\n",
       "      <td>4,000.00</td>\n",
       "      <td>0.27</td>\n",
       "      <td>0.44</td>\n",
       "      <td>0.00</td>\n",
       "      <td>0.00</td>\n",
       "      <td>0.00</td>\n",
       "      <td>1.00</td>\n",
       "      <td>1.00</td>\n",
       "    </tr>\n",
       "  </tbody>\n",
       "</table>\n",
       "</div>"
      ],
      "text/plain": [
       "                                     count   mean   std   min   25%    50%    75%    max\n",
       "gender                            4,000.00 0.51   0.50  0.00  0.00  1.00   1.00   1.00  \n",
       "Near_Location                     4,000.00 0.85   0.36  0.00  1.00  1.00   1.00   1.00  \n",
       "Partner                           4,000.00 0.49   0.50  0.00  0.00  0.00   1.00   1.00  \n",
       "Promo_friends                     4,000.00 0.31   0.46  0.00  0.00  0.00   1.00   1.00  \n",
       "Phone                             4,000.00 0.90   0.30  0.00  1.00  1.00   1.00   1.00  \n",
       "Contract_period                   4,000.00 4.68   4.55  1.00  1.00  1.00   6.00   12.00 \n",
       "Group_visits                      4,000.00 0.41   0.49  0.00  0.00  0.00   1.00   1.00  \n",
       "Age                               4,000.00 29.18  3.26  18.00 27.00 29.00  31.00  41.00 \n",
       "Avg_additional_charges_total      4,000.00 146.94 96.36 0.15  68.87 136.22 210.95 552.59\n",
       "Month_to_end_contract             4,000.00 4.32   4.19  1.00  1.00  1.00   6.00   12.00 \n",
       "Lifetime                          4,000.00 3.72   3.75  0.00  1.00  3.00   5.00   31.00 \n",
       "Avg_class_frequency_total         4,000.00 1.88   0.97  0.00  1.18  1.83   2.54   6.02  \n",
       "Avg_class_frequency_current_month 4,000.00 1.77   1.05  0.00  0.96  1.72   2.51   6.15  \n",
       "Churn                             4,000.00 0.27   0.44  0.00  0.00  0.00   1.00   1.00  "
      ]
     },
     "metadata": {},
     "output_type": "display_data"
    },
    {
     "name": "stdout",
     "output_type": "stream",
     "text": [
      "<class 'pandas.core.frame.DataFrame'>\n",
      "RangeIndex: 4000 entries, 0 to 3999\n",
      "Data columns (total 14 columns):\n",
      " #   Column                             Non-Null Count  Dtype  \n",
      "---  ------                             --------------  -----  \n",
      " 0   gender                             4000 non-null   int64  \n",
      " 1   Near_Location                      4000 non-null   int64  \n",
      " 2   Partner                            4000 non-null   int64  \n",
      " 3   Promo_friends                      4000 non-null   int64  \n",
      " 4   Phone                              4000 non-null   int64  \n",
      " 5   Contract_period                    4000 non-null   int64  \n",
      " 6   Group_visits                       4000 non-null   int64  \n",
      " 7   Age                                4000 non-null   int64  \n",
      " 8   Avg_additional_charges_total       4000 non-null   float64\n",
      " 9   Month_to_end_contract              4000 non-null   float64\n",
      " 10  Lifetime                           4000 non-null   int64  \n",
      " 11  Avg_class_frequency_total          4000 non-null   float64\n",
      " 12  Avg_class_frequency_current_month  4000 non-null   float64\n",
      " 13  Churn                              4000 non-null   int64  \n",
      "dtypes: float64(4), int64(10)\n",
      "memory usage: 437.6 KB\n",
      "None\n",
      "Проверка на пропуски:\n"
     ]
    },
    {
     "data": {
      "text/plain": [
       "gender                               0\n",
       "Near_Location                        0\n",
       "Partner                              0\n",
       "Promo_friends                        0\n",
       "Phone                                0\n",
       "Contract_period                      0\n",
       "Group_visits                         0\n",
       "Age                                  0\n",
       "Avg_additional_charges_total         0\n",
       "Month_to_end_contract                0\n",
       "Lifetime                             0\n",
       "Avg_class_frequency_total            0\n",
       "Avg_class_frequency_current_month    0\n",
       "Churn                                0\n",
       "dtype: int64"
      ]
     },
     "metadata": {},
     "output_type": "display_data"
    },
    {
     "name": "stdout",
     "output_type": "stream",
     "text": [
      "Проверка на дубликаты:\n",
      "В DataFrame нет дублирующихся строк.\n"
     ]
    }
   ],
   "source": [
    "show_info(df)"
   ]
  },
  {
   "cell_type": "markdown",
   "metadata": {},
   "source": [
    "Вывод по анализу результата describe()\n",
    "\n",
    "- Gender (пол) :представлен 2-мя уникальными значениями 0 и 1, примерко в равном количестве\n",
    "- Near_Location: представлен 2-мя уникальными значениями 0 и 1. Большинство клиентов (85%) находятся в близи к фитнес-центру\n",
    "- Partner: представлен 2-мя уникальными значениями 0 и 1. Примерно половина клиентов пришла по партнерской программе.\n",
    "- Promo_friends: представлен 2-мя уникальными значениями 0 и 1. Примерно 30% клиентов возпользовались программой Promo_friends.\n",
    "- Phone: представлен 2-мя уникальными значениями 0 и 1. Большинство клиентов (90%) предоставили телефон для связи.\n",
    "- Contract_period: Средний срок контракта составляет около 4.68 лет.\n",
    "- Group_visits: Не все клиенты (41%) посещает групповые занятия.\n",
    "- Age: Средний возраст клиентов составляет около 29 лет.\n",
    "- Avg_additional_charges_total: Средние дополнительные сборы составляют около 146.94\n",
    "- Month_to_end_contract: Средний оставшийся срок контракта составляет около 4.32 месяца.\n",
    "- Lifetime: Средний период жизни клиента составляет около 3.72 года.\n",
    "- Avg_class_frequency_total: Средняя частота посещения составляет около 1.88 раза.\n",
    "- Avg_class_frequency_current_month: Средняя частота посещения в текущем месяце составляет около 1.77 раза.\n",
    "- Churn: представлен 2-мя уникальными значениями 0 и 1. Примерно треть клиентов (27%) покинула компанию.\n",
    "\n",
    "В данных не наблюдается аномальных значений выбросов."
   ]
  },
  {
   "cell_type": "markdown",
   "metadata": {},
   "source": [
    "<a id=\"preprocessing\"></a> \n",
    "Предобработаем и изучим данные"
   ]
  },
  {
   "cell_type": "markdown",
   "metadata": {},
   "source": [
    "<a id=\"2.1\"></a>\n",
    "Посмотрим на значения столбца с длительностью текущего действующего абонемента (месяц, 6 месяцев, год), выясним, какие абонементы преобладают."
   ]
  },
  {
   "cell_type": "code",
   "execution_count": 5,
   "metadata": {},
   "outputs": [
    {
     "data": {
      "text/plain": [
       "1     2207\n",
       "12    960 \n",
       "6     833 \n",
       "Name: Contract_period, dtype: int64"
      ]
     },
     "execution_count": 5,
     "metadata": {},
     "output_type": "execute_result"
    }
   ],
   "source": [
    "df['Contract_period'].value_counts()"
   ]
  },
  {
   "cell_type": "markdown",
   "metadata": {},
   "source": [
    "Распределение по полу почти одинаково, только не понятно какое значение принадлежит какому полу.\n",
    "- 85% клиентов живет или работает рядом с фитнес-клубом\n",
    "- Около половины клиентов являются сотрудниками компании-партнёра клуба\n",
    "- 31% клиентов пришли по программе \"Приведи друга\"\n",
    "- 90% клиентов указали контактный телефон\n",
    "- Длительность текущего действующего абонемента (месяц, 6 месяцев, год) - большинство абонементов на месяц\n",
    "- 41% клиентов посещают групповые занятия\n",
    "- Средний возраст клиентов 29 лет\n",
    "- Средняя выручка от других услуг фитнес-центра - 146\n",
    "- Средний срок до окончания договора - 4.3 месяцев\n",
    "- Среднее время с момента первого обращения в фитнес-центр - 3.7 месяцев\n",
    "- Средняя частота посещений в неделю за все время с начала действия абонемента - 1.87 раз в неделю\n",
    "- Средняя частота посещений в неделю за предыдущий месяц - 1.76 раз в неделю\n",
    "- Доля оттока - 27%"
   ]
  },
  {
   "cell_type": "markdown",
   "metadata": {},
   "source": [
    "Приведем названия столбцов к нижнему регистру"
   ]
  },
  {
   "cell_type": "code",
   "execution_count": 6,
   "metadata": {
    "scrolled": true
   },
   "outputs": [],
   "source": [
    "df.columns = df.columns.str.lower()"
   ]
  },
  {
   "cell_type": "markdown",
   "metadata": {},
   "source": [
    "Поработаем над типом данных. Приведем столбцы со значениями 1 и 0 к типу bool, а столбец 'Month_to_end_contract', в котором только целые значения, к типу int64"
   ]
  },
  {
   "cell_type": "code",
   "execution_count": 7,
   "metadata": {},
   "outputs": [],
   "source": [
    "df[['gender', 'near_location', 'partner', 'promo_friends', 'phone', 'group_visits', 'churn' ]] = df[\n",
    "    ['gender', 'near_location', 'partner', 'promo_friends', 'phone', 'group_visits', 'churn' ]].astype(bool)\n",
    "\n",
    "df[['month_to_end_contract']] = df[['month_to_end_contract']].astype('int64')"
   ]
  },
  {
   "cell_type": "code",
   "execution_count": 8,
   "metadata": {},
   "outputs": [
    {
     "name": "stdout",
     "output_type": "stream",
     "text": [
      "<class 'pandas.core.frame.DataFrame'>\n",
      "RangeIndex: 4000 entries, 0 to 3999\n",
      "Data columns (total 14 columns):\n",
      " #   Column                             Non-Null Count  Dtype  \n",
      "---  ------                             --------------  -----  \n",
      " 0   gender                             4000 non-null   bool   \n",
      " 1   near_location                      4000 non-null   bool   \n",
      " 2   partner                            4000 non-null   bool   \n",
      " 3   promo_friends                      4000 non-null   bool   \n",
      " 4   phone                              4000 non-null   bool   \n",
      " 5   contract_period                    4000 non-null   int64  \n",
      " 6   group_visits                       4000 non-null   bool   \n",
      " 7   age                                4000 non-null   int64  \n",
      " 8   avg_additional_charges_total       4000 non-null   float64\n",
      " 9   month_to_end_contract              4000 non-null   int64  \n",
      " 10  lifetime                           4000 non-null   int64  \n",
      " 11  avg_class_frequency_total          4000 non-null   float64\n",
      " 12  avg_class_frequency_current_month  4000 non-null   float64\n",
      " 13  churn                              4000 non-null   bool   \n",
      "dtypes: bool(7), float64(3), int64(4)\n",
      "memory usage: 246.2 KB\n"
     ]
    }
   ],
   "source": [
    "df.info()"
   ]
  },
  {
   "cell_type": "markdown",
   "metadata": {},
   "source": [
    "<a id=\"2.2\"></a>\n",
    "Посмотрим на средние значения признаков в двух группах — тех, кто ушел в отток и тех, кто остался "
   ]
  },
  {
   "cell_type": "code",
   "execution_count": 9,
   "metadata": {
    "scrolled": true
   },
   "outputs": [
    {
     "data": {
      "text/html": [
       "<div>\n",
       "<style scoped>\n",
       "    .dataframe tbody tr th:only-of-type {\n",
       "        vertical-align: middle;\n",
       "    }\n",
       "\n",
       "    .dataframe tbody tr th {\n",
       "        vertical-align: top;\n",
       "    }\n",
       "\n",
       "    .dataframe thead th {\n",
       "        text-align: right;\n",
       "    }\n",
       "</style>\n",
       "<table border=\"1\" class=\"dataframe\">\n",
       "  <thead>\n",
       "    <tr style=\"text-align: right;\">\n",
       "      <th></th>\n",
       "      <th>gender</th>\n",
       "      <th>near_location</th>\n",
       "      <th>partner</th>\n",
       "      <th>promo_friends</th>\n",
       "      <th>phone</th>\n",
       "      <th>contract_period</th>\n",
       "      <th>group_visits</th>\n",
       "      <th>age</th>\n",
       "      <th>avg_additional_charges_total</th>\n",
       "      <th>month_to_end_contract</th>\n",
       "      <th>lifetime</th>\n",
       "      <th>avg_class_frequency_total</th>\n",
       "      <th>avg_class_frequency_current_month</th>\n",
       "    </tr>\n",
       "    <tr>\n",
       "      <th>churn</th>\n",
       "      <th></th>\n",
       "      <th></th>\n",
       "      <th></th>\n",
       "      <th></th>\n",
       "      <th></th>\n",
       "      <th></th>\n",
       "      <th></th>\n",
       "      <th></th>\n",
       "      <th></th>\n",
       "      <th></th>\n",
       "      <th></th>\n",
       "      <th></th>\n",
       "      <th></th>\n",
       "    </tr>\n",
       "  </thead>\n",
       "  <tbody>\n",
       "    <tr>\n",
       "      <th>False</th>\n",
       "      <td>0.51</td>\n",
       "      <td>0.87</td>\n",
       "      <td>0.53</td>\n",
       "      <td>0.35</td>\n",
       "      <td>0.90</td>\n",
       "      <td>5.75</td>\n",
       "      <td>0.46</td>\n",
       "      <td>29.98</td>\n",
       "      <td>158.45</td>\n",
       "      <td>5.28</td>\n",
       "      <td>4.71</td>\n",
       "      <td>2.02</td>\n",
       "      <td>2.03</td>\n",
       "    </tr>\n",
       "    <tr>\n",
       "      <th>True</th>\n",
       "      <td>0.51</td>\n",
       "      <td>0.77</td>\n",
       "      <td>0.36</td>\n",
       "      <td>0.18</td>\n",
       "      <td>0.90</td>\n",
       "      <td>1.73</td>\n",
       "      <td>0.27</td>\n",
       "      <td>26.99</td>\n",
       "      <td>115.08</td>\n",
       "      <td>1.66</td>\n",
       "      <td>0.99</td>\n",
       "      <td>1.47</td>\n",
       "      <td>1.04</td>\n",
       "    </tr>\n",
       "  </tbody>\n",
       "</table>\n",
       "</div>"
      ],
      "text/plain": [
       "       gender  near_location  partner  promo_friends  phone  contract_period  group_visits   age  avg_additional_charges_total  month_to_end_contract  lifetime  avg_class_frequency_total  avg_class_frequency_current_month\n",
       "churn                                                                                                                                                                                                                        \n",
       "False 0.51    0.87           0.53     0.35           0.90   5.75             0.46          29.98 158.45                        5.28                   4.71      2.02                       2.03                              \n",
       "True  0.51    0.77           0.36     0.18           0.90   1.73             0.27          26.99 115.08                        1.66                   0.99      1.47                       1.04                              "
      ]
     },
     "execution_count": 9,
     "metadata": {},
     "output_type": "execute_result"
    }
   ],
   "source": [
    "mean_values = df.groupby('churn').mean()\n",
    "mean_values"
   ]
  },
  {
   "cell_type": "markdown",
   "metadata": {},
   "source": [
    "Значения churn False - оставшиеся, True - ушедшие\n"
   ]
  },
  {
   "cell_type": "markdown",
   "metadata": {},
   "source": [
    "<a id=\"2.3\"></a>\n",
    "Построим столбчатые гистограммы и распределения признаков для тех, кто ушёл (отток) и тех, кто остался (не попали в отток)"
   ]
  },
  {
   "cell_type": "code",
   "execution_count": 10,
   "metadata": {},
   "outputs": [],
   "source": [
    "from sklearn.preprocessing import LabelEncoder\n",
    "\n",
    "# Создаем экземпляр LabelEncoder\n",
    "\n",
    "le = LabelEncoder()\n",
    "\n",
    "# Применяем fit_transform к столбцу 'churn', чтобы преобразовать категориальные значения в числовые метки\n",
    "# Результат сохраняется в новом столбце 'churn_encoded'\n",
    "\n",
    "df['churn'] = le.fit_transform(df['churn'])\n",
    "\n",
    "# Создаем подмножество данных, где 'churn_encoded' равен 1, что указывает на то, что клиент покинул компанию\n",
    "\n",
    "churned = df[df['churn'] == 1]\n",
    "\n",
    "# Создаем подмножество данных, где 'churn_encoded' равен 0, что указывает на то, что клиент остался\n",
    "\n",
    "stayed = df[df['churn'] == 0]\n",
    "\n"
   ]
  },
  {
   "cell_type": "code",
   "execution_count": 11,
   "metadata": {},
   "outputs": [
    {
     "data": {
      "image/png": "[encoded data removed]",
      "text/plain": [
       "<Figure size 720x2016 with 6 Axes>"
      ]
     },
     "metadata": {},
     "output_type": "display_data"
    }
   ],
   "source": [
    "distplot_columns = ['avg_additional_charges_total', 'avg_class_frequency_total', \n",
    "                    'avg_class_frequency_current_month', 'lifetime', 'age', \n",
    "                    'contract_period', 'month_to_end_contract']\n",
    "\n",
    "# Создание фигуры и осей для графиков\n",
    "fig, axes = plt.subplots(len(distplot_columns), 1, figsize=(10, 4 * len(distplot_columns)))\n",
    "\n",
    "for i, column in enumerate(distplot_columns):\n",
    "    # Построение графика для ушедших\n",
    "    sns.histplot(churned[column], ax=axes[i], label='Отток', color='yellow', alpha=0.7)\n",
    "    \n",
    "    # Построение графика для остававшихся\n",
    "    sns.histplot(stayed[column], ax=axes[i], label='Оставшиеся', color='lightblue', alpha=0.7)\n",
    "    \n",
    "    # Добавление названия оси и заголовка\n",
    "    axes[i].set_title(column)\n",
    "    axes[i].legend(loc='upper right')\n",
    "\n",
    "# Удаление последней оси, если количество признаков нечетное\n",
    "if len(distplot_columns) % 2 != 0:\n",
    "    fig.delaxes(axes[-1])\n",
    "\n",
    "# Отображение графика\n",
    "\n",
    "plt.tight_layout()\n",
    "plt.show()"
   ]
  },
  {
   "cell_type": "code",
   "execution_count": 12,
   "metadata": {},
   "outputs": [
    {
     "data": {
      "image/png": "[encoded data removed]",
      "text/plain": [
       "<Figure size 1008x720 with 6 Axes>"
      ]
     },
     "metadata": {},
     "output_type": "display_data"
    }
   ],
   "source": [
    "# Определение списка булевых признаков\n",
    "bool_features = df.select_dtypes(include=[bool]).columns.tolist()\n",
    "\n",
    "# Создание фигуры и осей для графиков\n",
    "fig, axes = plt.subplots(nrows=2, ncols=3, figsize=(14, 10))\n",
    "fig.tight_layout(pad=5.0)\n",
    "fig.suptitle('Распределение булевых признаков', fontsize=16)\n",
    "\n",
    "# Итерация по всем подграфикам\n",
    "for ax, feature in zip(axes.flat, bool_features):\n",
    "    # Построение гистограммы для ушедших\n",
    "    sns.histplot(df.query('churn == 1')[feature].astype(int), bins=4, ax=ax, kde=False, color='yellow', label='ушли-1')\n",
    "    \n",
    "    # Построение гистограммы для остававшихся\n",
    "    sns.histplot(df.query('churn == 0')[feature].astype(int), bins=4, ax=ax, kde=False, color='lightblue', label='остались-0')\n",
    "    \n",
    "    # Настройка подграфика\n",
    "    ax.set_xticks([0, 1])\n",
    "    ax.set_xlabel(feature, fontsize=12)\n",
    "    ax.set_ylabel('Кол-во записей', fontsize=12)\n",
    "    \n",
    "    # Расположение легенды посередине сверху у каждого графика\n",
    "    ax.legend(loc='upper center', bbox_to_anchor=(0.5, 1.05), ncol=2)\n",
    "\n",
    "plt.show()"
   ]
  },
  {
   "cell_type": "markdown",
   "metadata": {},
   "source": [
    "1. По признаку пол среднее значение одинаково, значит в равной степени уходили как мужчины так и женщины\n",
    "2. Проживание или работа рядом - тот кто близко живет, реже уходят в отток\n",
    "3. Сотрудники компании-партнёра клуба реже уходят в отток\n",
    "4. Пришедшие по акции \"Приведи друга\" - значительно реже, в 2 раза, уходят в отток\n",
    "5. И те и те оставили свой контактый телефон в равной степени.\n",
    "6. Клиенты с большим сроком абонемента реже уходили в отток\n",
    "7. Оставшиеся пользователи чаще ходят на групповые занятия, чем ушедшие, почти в 2 раза\n",
    "8. Средний возраст ушедших - 27 лет, оставшихся - 30 лет.\n",
    "9. Ушедшие тратили на доп услуги 115, оставшиеся - 158.\n",
    "10. У оставшихся клиентов в среднем длительный срок до окончания договора - более 5 месяцев, тогда как у ушедших в среднем оставалось полтора месяца.\n",
    "11. Лайфтам ушедших пользователей - один месяц, а те, кто посещает более 5 месяцев - остаются.\n",
    "12. Так же оставшиеся клиенты немного чаще посещали фитнес-центр, чем ушедшие\n",
    "13. А в предыдущий месяц оставшиеся посещали занятия в 2 раза чаще, чем ушедшие."
   ]
  },
  {
   "cell_type": "markdown",
   "metadata": {},
   "source": [
    "<a id=\"2.4\"></a>\n",
    "Построим матрицу корреляций"
   ]
  },
  {
   "cell_type": "markdown",
   "metadata": {},
   "source": [
    "Так как большинство наших признаков распределены не нормально,но больших выбросов в них мы не наблюдаем, для расчета коэфициентов корреляции будем использовать метод Спирмена."
   ]
  },
  {
   "cell_type": "code",
   "execution_count": 13,
   "metadata": {},
   "outputs": [
    {
     "data": {
      "image/png": "[encoded data removed]",
      "text/plain": [
       "<Figure size 1008x576 with 2 Axes>"
      ]
     },
     "metadata": {},
     "output_type": "display_data"
    }
   ],
   "source": [
    "# Рассчитываем матрицу корреляций с использованием Спирмена\n",
    "correlation_matrix = df.corr(method='spearman')\n",
    "\n",
    "# Создание фигуры\n",
    "plt.figure(figsize=(14, 8))\n",
    "\n",
    "# Построение матрицы корреляций \n",
    "sns.heatmap(correlation_matrix, annot=True, cmap='viridis', vmin=-1, vmax=1, center=0)\n",
    "plt.show()"
   ]
  },
  {
   "cell_type": "markdown",
   "metadata": {},
   "source": [
    "На карте между 'churn' и признаками видна отрицательная корреляция - значит, чем сильнее признак, тем слабее отток.\n",
    "Можно отметить очень сильную (выше 0,95) корреляцию пар признаков\n",
    "а) 'contract_period' и 'month_to_end_contract'- чем больше период абонемента, тем больше месяцев осталось до конца\n",
    "б) 'avg_class_frequency_current_month' и 'avg_class_frequency_total' - то есть клиенты ходят на занятия с постоянным определенным графиком\n",
    "Так же корелируют признаки 'partner' и 'promo_friends' с коэфициентом 0,45. И можно сказать, что по акциям клинты заключают контракт на более длительный период."
   ]
  },
  {
   "cell_type": "markdown",
   "metadata": {},
   "source": [
    "<a id=\"2.5\"></a>\n",
    "В ходе проведения исследователького анализа данных мы ознакомились с данными, привели типы данных в соответствие к их значениям, привели названия столбцов к нижнему регистру, выяснили, что в данных нет пропусков и дубликатов.\n",
    "Так же мы изучили и проанализировали распределения признаков для ушедших и оставшихся клиентов. Вот некоторые выводы:\n",
    "- средний возраст клиентов 29 лет,  ушедших - 27 лет, оставшихся — 30 лет\n",
    "- большишиство клиентов живут или работают недалеко (85%), большинство ушедших живет не близко\n",
    "- большинство клиентов приобретают абонемент на 1 месяц, и ушедшие клиенты так же чаще брали короткие абонементы на 1 месяц\n",
    "- треть клинетов пришли по программе «Приведи друга»\n",
    "- около половины клиентов являются сотрудниками компании-партнера клуба и они реже уходят в отток\n",
    "- ушедшие клиенты очень редко посещали фитнес-клуб, и реже, чем оставшиесяходили на групповые занятия \n",
    "- ушедшие клиенты  меньше тратили денег на другие услуги фитнес-центра\n",
    "- клиенты в основном прекращают пользоваться услугами фитнес-центра в последние полтора месяца действия абонемента\n",
    "- Доля оттока клиентов составляет 27%"
   ]
  },
  {
   "cell_type": "markdown",
   "metadata": {},
   "source": [
    "<a id=\"analitic\"></a>\n",
    "Шаг 3. Построим модель прогнозирования оттока клиентов"
   ]
  },
  {
   "cell_type": "markdown",
   "metadata": {},
   "source": [
    "<a id=\"3.1\"></a>\n",
    "Разделим данные на обучающую и валидационную выборку "
   ]
  },
  {
   "cell_type": "code",
   "execution_count": 14,
   "metadata": {
    "scrolled": true
   },
   "outputs": [],
   "source": [
    "# Разделение данных на признаки X и целевой признак y\n",
    "X = df.drop('churn', axis=1)\n",
    "y = df['churn']\n",
    "# Разделение данных на обучающую и валидационную выборки\n",
    "X_train, X_val, y_train, y_val = train_test_split(X, y, test_size=0.2, random_state=0)"
   ]
  },
  {
   "cell_type": "markdown",
   "metadata": {},
   "source": [
    "Проверим размеры полученных выборок"
   ]
  },
  {
   "cell_type": "code",
   "execution_count": 15,
   "metadata": {},
   "outputs": [
    {
     "name": "stdout",
     "output_type": "stream",
     "text": [
      "Размерность обучающей выборки: (3200, 13)\n",
      "Количество строк в обучающей выборке: 3200\n",
      "Количество столбцов в обучающей выборке: 13\n",
      "Размерность валидационной выборки: (800, 13)\n",
      "Количество строк в валидационной выборке: 800\n",
      "Количество столбцов в валидационной выборке: 13\n"
     ]
    }
   ],
   "source": [
    "# Проверка размеров и размерностей обучающей выборки\n",
    "print(\"Размерность обучающей выборки:\", X_train.shape)\n",
    "print(\"Количество строк в обучающей выборке:\", X_train.shape[0])\n",
    "print(\"Количество столбцов в обучающей выборке:\", X_train.shape[1])\n",
    "\n",
    "# Проверка размеров и размерностей валидационной выборки\n",
    "print(\"Размерность валидационной выборки:\", X_val.shape)\n",
    "print(\"Количество строк в валидационной выборке:\", X_val.shape[0])\n",
    "print(\"Количество столбцов в валидационной выборке:\", X_val.shape[1])"
   ]
  },
  {
   "cell_type": "markdown",
   "metadata": {},
   "source": [
    "Разбиение данных прошло нормально, размеры выборок соответствуют ожидаемым"
   ]
  },
  {
   "cell_type": "markdown",
   "metadata": {},
   "source": [
    "<a id=\"3.2\"></a>\n",
    "Стандартизируем"
   ]
  },
  {
   "cell_type": "code",
   "execution_count": 16,
   "metadata": {
    "scrolled": true
   },
   "outputs": [],
   "source": [
    "# стандартизируем данные \n",
    "scaler = StandardScaler()\n",
    "scaler.fit(X_train)\n",
    "X_train_st = scaler.fit_transform(X_train)\n",
    "X_val_st = scaler.transform(X_val)"
   ]
  },
  {
   "cell_type": "markdown",
   "metadata": {},
   "source": [
    "<a id=\"3.3\"></a>\n",
    "Обучим модель на train-выборке логистической регрессией"
   ]
  },
  {
   "cell_type": "code",
   "execution_count": 17,
   "metadata": {
    "scrolled": true
   },
   "outputs": [
    {
     "name": "stdout",
     "output_type": "stream",
     "text": [
      "Метрики для модели логистической регрессии:\n",
      "accuracy_score: 0.922\n",
      "precision_score: 0.854\n",
      "recall_score:0.828\n",
      "ROC_AUC: 0.97\n"
     ]
    }
   ],
   "source": [
    "from sklearn.metrics import roc_auc_score\n",
    "# Обучение модели логистической регрессии\n",
    "lr_model = LogisticRegression(random_state=0)\n",
    "lr_model.fit(X_train_st, y_train)\n",
    "lr_predictions = lr_model.predict(X_val_st)\n",
    "lr_probabilities = lr_model.predict_proba(X_val_st)[:,1]\n",
    "# Вывод метрик для модели логистической регрессии\n",
    "print('Метрики для модели логистической регрессии:')\n",
    "print('accuracy_score: {}\\nprecision_score: {}\\nrecall_score:{}'.format(\n",
    "    accuracy_score(y_val, lr_predictions).round(3),\n",
    "    precision_score(y_val, lr_predictions).round(3),\n",
    "    recall_score(y_val, lr_predictions).round(3)))\n",
    "# Вычисление и вывод ROC AUC\n",
    "print('ROC_AUC: {:.2f}'.format(roc_auc_score(y_val, lr_probabilities)))"
   ]
  },
  {
   "cell_type": "markdown",
   "metadata": {},
   "source": [
    "<a id=\"3.4\"></a>\n",
    "Обучим модель на train-выборке случайным лесом"
   ]
  },
  {
   "cell_type": "code",
   "execution_count": 18,
   "metadata": {
    "scrolled": true
   },
   "outputs": [
    {
     "name": "stdout",
     "output_type": "stream",
     "text": [
      "Метрики для модели случайного леса:\n",
      "accuracy_score: 0.915\n",
      "precision_score: 0.839\n",
      "recall_score:0.813\n",
      "ROC_AUC: 0.97\n"
     ]
    }
   ],
   "source": [
    "# Обучение модели случайного леса\n",
    "rf_model = RandomForestClassifier(n_estimators = 100, random_state = 0) \n",
    "rf_model.fit(X_train_st, y_train)\n",
    "rf_predictions = rf_model.predict(X_val_st)\n",
    "rf_probabilities = rf_model.predict_proba(X_val_st)[:,1]\n",
    "# Вывод метрик для модели случайного леса\n",
    "print('Метрики для модели случайного леса:')\n",
    "print('accuracy_score: {}\\nprecision_score: {}\\nrecall_score:{}'.format(\n",
    "    accuracy_score(y_val, rf_predictions).round(3),\n",
    "    precision_score(y_val, rf_predictions).round(3),\n",
    "    recall_score(y_val, rf_predictions).round(3)))\n",
    "# Вычисление и вывод ROC AUC\n",
    "print('ROC_AUC: {:.2f}'.format(roc_auc_score(y_val, rf_probabilities)))"
   ]
  },
  {
   "cell_type": "markdown",
   "metadata": {},
   "source": [
    "<a id=\"3.5\"></a>\n",
    "Сравнивая эти метрики, можно заметить следующее:\n",
    "\n",
    "Обе модели показывают очень высокие значения ROC AUC, что указывает на их хорошую способность различать между классами. Accuracy (точность) для модели логистической регрессии выше, чем для модели случайного леса. Это означает, что модель логистической регрессии лучше обобщает данные и делает более точные предсказания.\n",
    "Precision (точность) для модели логистической регрессии также выше, что указывает на то, что модель лучше избегает ложных срабатываний, то есть количество истинно положительных результатов, которые модель правильно идентифицировала, выше.\n",
    "Recall (полнота) для модели случайного леса выше, что означает, что модель лучше идентифицирует все положительные случаи, то есть количество истинно положительных результатов, которые модель смогла обнаружить, выше.\n",
    "Исходя из этих данных, можно сделать вывод, что модель логистической регрессии показала лучшие результаты по метрикам accuracy и precision, что делает её более предпочтительной для данной задачи. Однако, если важнее обнаруживать все положительные случаи, то модель случайного леса может быть предпочтительнее благодаря более высокому значению recall.\n",
    "\n",
    "Выбор между этими моделями зависит от конкретных требований к задаче. Если важнее избежать ложных срабатываний, то лучше выбрать модель логистической регрессии. Если же важнее обнаруживать все положительные случаи, то лучше выбрать модель случайного леса."
   ]
  },
  {
   "cell_type": "markdown",
   "metadata": {},
   "source": [
    "<a id=\"anal\"></a> \n",
    "Шаг 4. Сделаем кластеризацию клиентов"
   ]
  },
  {
   "cell_type": "code",
   "execution_count": 19,
   "metadata": {
    "scrolled": true
   },
   "outputs": [],
   "source": [
    "# Отложим в сторону столбец с оттоком\n",
    "df_no_churn = df.drop('churn', axis=1)"
   ]
  },
  {
   "cell_type": "markdown",
   "metadata": {},
   "source": [
    "Стандартизируем данные."
   ]
  },
  {
   "cell_type": "code",
   "execution_count": 20,
   "metadata": {
    "scrolled": true
   },
   "outputs": [],
   "source": [
    "scaler = StandardScaler()\n",
    "df_no_churn_scaled = scaler.fit_transform(df_no_churn)"
   ]
  },
  {
   "cell_type": "markdown",
   "metadata": {},
   "source": [
    "<a id=\"4.1\"></a>\n",
    "Построим матрицу расстояний функцией linkage() на стандартизованной матрице признаков "
   ]
  },
  {
   "cell_type": "code",
   "execution_count": 21,
   "metadata": {
    "scrolled": true
   },
   "outputs": [
    {
     "data": {
      "text/plain": [
       "array([[9.70000000e+01, 3.22200000e+03, 1.00990653e-01, 2.00000000e+00],\n",
       "       [2.61000000e+02, 3.17900000e+03, 1.22634574e-01, 2.00000000e+00],\n",
       "       [8.90000000e+02, 1.75000000e+03, 1.28123291e-01, 2.00000000e+00],\n",
       "       ...,\n",
       "       [7.98700000e+03, 7.99500000e+03, 8.38725499e+01, 2.65600000e+03],\n",
       "       [7.98800000e+03, 7.99600000e+03, 8.89563592e+01, 3.03400000e+03],\n",
       "       [7.99200000e+03, 7.99700000e+03, 1.04627601e+02, 4.00000000e+03]])"
      ]
     },
     "execution_count": 21,
     "metadata": {},
     "output_type": "execute_result"
    }
   ],
   "source": [
    "# Построение матрицы расстояний\n",
    "Z = linkage(df_no_churn_scaled, method='ward')\n",
    "Z"
   ]
  },
  {
   "cell_type": "markdown",
   "metadata": {},
   "source": [
    "<a id=\"4.2\"></a>\n",
    "Нарисуем дендрограмму"
   ]
  },
  {
   "cell_type": "code",
   "execution_count": 22,
   "metadata": {},
   "outputs": [
    {
     "data": {
      "image/png": "[encoded data removed]",
      "text/plain": [
       "<Figure size 720x504 with 1 Axes>"
      ]
     },
     "metadata": {},
     "output_type": "display_data"
    }
   ],
   "source": [
    "# Построение дендрограммы\n",
    "plt.figure(figsize=(10, 7))\n",
    "dendrogram(Z)\n",
    "plt.title('Дендрограмма')\n",
    "plt.xlabel('Объекты')\n",
    "plt.ylabel('Расстояние')\n",
    "plt.show()"
   ]
  },
  {
   "cell_type": "markdown",
   "metadata": {},
   "source": [
    "На основании полученного графика дендрограммы выделим 5 кластеров."
   ]
  },
  {
   "cell_type": "markdown",
   "metadata": {},
   "source": [
    "<a id=\"4.3\"></a>\n",
    "Обучим модель кластеризации на основании алгоритма K-Means и спрогнозируем кластеры клиентов."
   ]
  },
  {
   "cell_type": "code",
   "execution_count": 23,
   "metadata": {
    "scrolled": true
   },
   "outputs": [],
   "source": [
    "# Обучение модели K-Means\n",
    "kmeans = KMeans(n_clusters=5, random_state=0)\n",
    "kmeans.fit(df_no_churn_scaled)\n",
    "\n",
    "# Спрогнозирование кластеров клиентов\n",
    "df['cluster'] = kmeans.labels_"
   ]
  },
  {
   "cell_type": "markdown",
   "metadata": {},
   "source": [
    "<a id=\"4.4\"></a>\n",
    "Посмотрим на средние значения признаков для кластеров"
   ]
  },
  {
   "cell_type": "code",
   "execution_count": 24,
   "metadata": {
    "scrolled": true
   },
   "outputs": [
    {
     "data": {
      "text/html": [
       "<div>\n",
       "<style scoped>\n",
       "    .dataframe tbody tr th:only-of-type {\n",
       "        vertical-align: middle;\n",
       "    }\n",
       "\n",
       "    .dataframe tbody tr th {\n",
       "        vertical-align: top;\n",
       "    }\n",
       "\n",
       "    .dataframe thead th {\n",
       "        text-align: right;\n",
       "    }\n",
       "</style>\n",
       "<table border=\"1\" class=\"dataframe\">\n",
       "  <thead>\n",
       "    <tr style=\"text-align: right;\">\n",
       "      <th></th>\n",
       "      <th>gender</th>\n",
       "      <th>near_location</th>\n",
       "      <th>partner</th>\n",
       "      <th>promo_friends</th>\n",
       "      <th>phone</th>\n",
       "      <th>contract_period</th>\n",
       "      <th>group_visits</th>\n",
       "      <th>age</th>\n",
       "      <th>avg_additional_charges_total</th>\n",
       "      <th>month_to_end_contract</th>\n",
       "      <th>lifetime</th>\n",
       "      <th>avg_class_frequency_total</th>\n",
       "      <th>avg_class_frequency_current_month</th>\n",
       "      <th>churn</th>\n",
       "    </tr>\n",
       "    <tr>\n",
       "      <th>cluster</th>\n",
       "      <th></th>\n",
       "      <th></th>\n",
       "      <th></th>\n",
       "      <th></th>\n",
       "      <th></th>\n",
       "      <th></th>\n",
       "      <th></th>\n",
       "      <th></th>\n",
       "      <th></th>\n",
       "      <th></th>\n",
       "      <th></th>\n",
       "      <th></th>\n",
       "      <th></th>\n",
       "      <th></th>\n",
       "    </tr>\n",
       "  </thead>\n",
       "  <tbody>\n",
       "    <tr>\n",
       "      <th>0</th>\n",
       "      <td>0.50</td>\n",
       "      <td>0.96</td>\n",
       "      <td>0.78</td>\n",
       "      <td>0.57</td>\n",
       "      <td>1.00</td>\n",
       "      <td>10.89</td>\n",
       "      <td>0.54</td>\n",
       "      <td>29.98</td>\n",
       "      <td>160.76</td>\n",
       "      <td>9.95</td>\n",
       "      <td>4.74</td>\n",
       "      <td>1.98</td>\n",
       "      <td>1.97</td>\n",
       "      <td>0.03</td>\n",
       "    </tr>\n",
       "    <tr>\n",
       "      <th>1</th>\n",
       "      <td>0.52</td>\n",
       "      <td>0.86</td>\n",
       "      <td>0.47</td>\n",
       "      <td>0.31</td>\n",
       "      <td>0.00</td>\n",
       "      <td>4.79</td>\n",
       "      <td>0.43</td>\n",
       "      <td>29.30</td>\n",
       "      <td>143.96</td>\n",
       "      <td>4.48</td>\n",
       "      <td>3.92</td>\n",
       "      <td>1.85</td>\n",
       "      <td>1.72</td>\n",
       "      <td>0.27</td>\n",
       "    </tr>\n",
       "    <tr>\n",
       "      <th>2</th>\n",
       "      <td>0.50</td>\n",
       "      <td>0.00</td>\n",
       "      <td>0.46</td>\n",
       "      <td>0.08</td>\n",
       "      <td>1.00</td>\n",
       "      <td>2.35</td>\n",
       "      <td>0.22</td>\n",
       "      <td>28.48</td>\n",
       "      <td>135.46</td>\n",
       "      <td>2.20</td>\n",
       "      <td>2.81</td>\n",
       "      <td>1.66</td>\n",
       "      <td>1.48</td>\n",
       "      <td>0.44</td>\n",
       "    </tr>\n",
       "    <tr>\n",
       "      <th>3</th>\n",
       "      <td>0.49</td>\n",
       "      <td>1.00</td>\n",
       "      <td>0.35</td>\n",
       "      <td>0.24</td>\n",
       "      <td>1.00</td>\n",
       "      <td>1.95</td>\n",
       "      <td>0.34</td>\n",
       "      <td>28.17</td>\n",
       "      <td>131.62</td>\n",
       "      <td>1.86</td>\n",
       "      <td>2.44</td>\n",
       "      <td>1.25</td>\n",
       "      <td>1.01</td>\n",
       "      <td>0.51</td>\n",
       "    </tr>\n",
       "    <tr>\n",
       "      <th>4</th>\n",
       "      <td>0.56</td>\n",
       "      <td>0.98</td>\n",
       "      <td>0.36</td>\n",
       "      <td>0.23</td>\n",
       "      <td>1.00</td>\n",
       "      <td>2.67</td>\n",
       "      <td>0.47</td>\n",
       "      <td>30.13</td>\n",
       "      <td>161.66</td>\n",
       "      <td>2.46</td>\n",
       "      <td>4.90</td>\n",
       "      <td>2.85</td>\n",
       "      <td>2.85</td>\n",
       "      <td>0.07</td>\n",
       "    </tr>\n",
       "  </tbody>\n",
       "</table>\n",
       "</div>"
      ],
      "text/plain": [
       "         gender  near_location  partner  promo_friends  phone  contract_period  group_visits   age  avg_additional_charges_total  month_to_end_contract  lifetime  avg_class_frequency_total  avg_class_frequency_current_month  churn\n",
       "cluster                                                                                                                                                                                                                               \n",
       "0       0.50    0.96           0.78     0.57           1.00   10.89            0.54          29.98 160.76                        9.95                   4.74      1.98                       1.97                               0.03  \n",
       "1       0.52    0.86           0.47     0.31           0.00   4.79             0.43          29.30 143.96                        4.48                   3.92      1.85                       1.72                               0.27  \n",
       "2       0.50    0.00           0.46     0.08           1.00   2.35             0.22          28.48 135.46                        2.20                   2.81      1.66                       1.48                               0.44  \n",
       "3       0.49    1.00           0.35     0.24           1.00   1.95             0.34          28.17 131.62                        1.86                   2.44      1.25                       1.01                               0.51  \n",
       "4       0.56    0.98           0.36     0.23           1.00   2.67             0.47          30.13 161.66                        2.46                   4.90      2.85                       2.85                               0.07  "
      ]
     },
     "execution_count": 24,
     "metadata": {},
     "output_type": "execute_result"
    }
   ],
   "source": [
    "# Средние значения признаков для каждого кластера\n",
    "cluster_means = df.groupby('cluster').mean()\n",
    "cluster_means"
   ]
  },
  {
   "cell_type": "markdown",
   "metadata": {},
   "source": [
    "Что можем сразу заметить по средним значениям:\n",
    "Для всех кластеров распределение по полу примерно одинаковое. Во втором кластере все клиенты живут/работают далеко от фитнес-центра. В первом кластере никто не оставил контактный номер телефона.  Самый высокий отток у 3 кластера, самый низкий у 0.\n"
   ]
  },
  {
   "cell_type": "markdown",
   "metadata": {},
   "source": [
    "<a id=\"4.5\"></a>\n",
    "Построим графики распределения признаков для кластеров"
   ]
  },
  {
   "cell_type": "code",
   "execution_count": 25,
   "metadata": {},
   "outputs": [
    {
     "data": {
      "image/png": "[encoded data removed]",
      "text/plain": [
       "<Figure size 864x720 with 9 Axes>"
      ]
     },
     "metadata": {},
     "output_type": "display_data"
    },
    {
     "data": {
      "image/png": "[encoded data removed]",
      "text/plain": [
       "<Figure size 864x720 with 9 Axes>"
      ]
     },
     "metadata": {},
     "output_type": "display_data"
    },
    {
     "data": {
      "image/png": "[encoded data removed]",
      "text/plain": [
       "<Figure size 864x720 with 9 Axes>"
      ]
     },
     "metadata": {},
     "output_type": "display_data"
    },
    {
     "data": {
      "image/png": "[encoded data removed]",
      "text/plain": [
       "<Figure size 864x720 with 9 Axes>"
      ]
     },
     "metadata": {},
     "output_type": "display_data"
    },
    {
     "data": {
      "image/png": "[encoded data removed]",
      "text/plain": [
       "<Figure size 864x720 with 9 Axes>"
      ]
     },
     "metadata": {},
     "output_type": "display_data"
    }
   ],
   "source": [
    "n_clusters = 5\n",
    "colors = ['#FFB6C1', '#ADD8E6', '#98FB98', '#DDA0DD', '#FFD700']  # пастельные цвета для каждого кластера\n",
    "\n",
    "for cluster in range(n_clusters):\n",
    "    cluster_data = df[df['cluster'] == cluster].drop('cluster', axis=1)  # исключаем столбец 'cluster'\n",
    "    cluster_data.hist(figsize=(12, 10), color=colors[cluster])  # устанавливаем пастельный цвет для текущего кластера\n",
    "    plt.suptitle('\\nРаспределение признаков кластера {}'.format(cluster), fontsize=12)\n",
    "    plt.show()  "
   ]
  },
  {
   "cell_type": "markdown",
   "metadata": {},
   "source": [
    "<a id=\"4.6\"></a>\n",
    "На основе средних значений и диаграмм распределения признаков кластеров сделаем следующие выводы о кластерах:"
   ]
  },
  {
   "cell_type": "markdown",
   "metadata": {},
   "source": [
    "**Кластер 0**\n",
    "\n",
    "- Проживают или работают рядом\n",
    "- Пришли по партнерской или промо программе\n",
    "- У всех указан телефон\n",
    "- Большинство клиентов купили длительный абонемент на 12 месяцев, некоторые на 6 месяцев, но нет клиентов с абонементами на месяц\n",
    "- Часто посещают групповые занятия\n",
    "- Возраст в среднем 30 лет, но больше клинтов 32 лет\n",
    "- Высокая выручка от доп услуг\n",
    "- До конца абонемента более 9 месяцев, большинство клиентов недавно начали пользоваться абонементом.\n",
    "- Самый высокий лайфтам, в среднем почти 5 месяцев\n",
    "- Посещают примерно 2 раза в неделю постоянно\n",
    "- Самый низкий показатель оттока\n",
    "\n",
    "**Кластер 1**\n",
    "\n",
    "- Проживают или работают рядом\n",
    "- Половина клиентов по партнерской и треть по промо программе\n",
    "- Ни у кого не указан телефон\n",
    "- Большинство купили абонемент на 1 месяц, так жже покупали и на 6 и на 12. \n",
    "- Часто посещают групповые занятия\n",
    "- Возраст в среднем 29 лет, но больше клиентов 30 лет\n",
    "- Средняя выручка от доп услуг\n",
    "- До конца абонемента более в большинстве случаев 1 месяц\n",
    "- Лайфтам, в среднем почти 4 месяца\n",
    "- Посещают примерно 2 раза в неделю постоянно\n",
    "- Средний показатель оттока\n",
    "\n",
    "**Кластер 2**\n",
    "\n",
    "- Все живут/работают не близко от финтес-центра\n",
    "- Половина клиентов по партнерской и почти нет по промо программе\n",
    "- У всех указан телефон\n",
    "- Чаще покупали абонемент на 1 месяц, есть те которые купили на 6 месяцев и совсем мало на 12. \n",
    "- Реже всех посещают групповые занятия\n",
    "- Возраст в среднем 28,5 лет\n",
    "- Средняя выручка от доп услуг\n",
    "- До конца абонемента около 2 месяцев\n",
    "- Лайфтам, в среднем почти 3 месяца\n",
    "- Посещают примерно 1,5 раза в неделю постоянно\n",
    "- Показатель оттока второй по величине\n",
    "\n",
    "**Кластер 3**\n",
    "\n",
    "- Все живут/работают близко с финтес-центром\n",
    "- примерно треть клиентов по партнерской и одна четвертая по промо программе\n",
    "- У всех указан телефон\n",
    "- Чаще покупали абонемент на 1  месяц, иногда на 6\n",
    "- Редко посещают групповые занятия\n",
    "- Возраст в среднем 28 лет, но большинство клиентов 26 лет\n",
    "- Самая низкая выручка от доп услуг\n",
    "- До конца абонемента менее 2 месяцев\n",
    "- Лайфтам, в среднем почти 2,5 месяца\n",
    "- Реже всех посещают занятия\n",
    "- Самый высокий отток\n",
    "\n",
    "**Кластер 4**\n",
    "\n",
    "- Почти все живут/работают близко с финтес-центром\n",
    "- примерно треть клиентов по партнерской и одна четвертая по промо программе\n",
    "- У всех указан телефон\n",
    "- Чаще покупали абонемент на 1 или 6 месяцев , редко на 12\n",
    "- Часто посещают групповые занятия\n",
    "- Возраст в среднем 30 лет, больше клиентов 31-32 лет\n",
    "- Самая высокая выручка от доп услуг\n",
    "- До конца абонемента около 2,5 месяцев\n",
    "- Лайфтам, в среднем почти 5 месяцев\n",
    "- Чаще всех посещают занятия, почти 3 раза в неделю\n",
    "- Самый низкий отток"
   ]
  },
  {
   "cell_type": "markdown",
   "metadata": {},
   "source": [
    "<a id=\"4.7\"></a>\n",
    "Для каждого полученного кластера посчитаем долю оттока в процентах"
   ]
  },
  {
   "cell_type": "code",
   "execution_count": 26,
   "metadata": {
    "scrolled": true
   },
   "outputs": [
    {
     "data": {
      "text/plain": [
       "cluster\n",
       "0   2.64 \n",
       "1   9.71 \n",
       "2   21.11\n",
       "3   61.17\n",
       "4   5.37 \n",
       "Name: churn, dtype: float64"
      ]
     },
     "execution_count": 26,
     "metadata": {},
     "output_type": "execute_result"
    }
   ],
   "source": [
    "# Доля оттока для каждого кластера от общего оттока\n",
    "churn_share = df.query('churn==1').groupby('cluster')['churn'].count() / df.query('churn==1')['churn'].count()*100\n",
    "churn_share "
   ]
  },
  {
   "cell_type": "markdown",
   "metadata": {},
   "source": [
    "Самая высокая доля оттока клиентов у 3 кластера, это кластер с самыми молодыми клиентами, которые чаще покупали абонемент на 1 месяц, реже всех посещали занятия и пользовались доп услугами. А самый надежный кластер с минимальной долей оттока - кластер 0, это кластер, клиенты которого воспользовали акцией при покупке абонемента, купили абонемент на длительный срок 12 месяцев, пользуются доп услугами и стабильно, примерно 2 раза в неделю посещают фитнес-клуб."
   ]
  },
  {
   "cell_type": "markdown",
   "metadata": {},
   "source": [
    "<a id=\"end\"></a>\n",
    "5. Выводы и рекомендации "
   ]
  },
  {
   "cell_type": "markdown",
   "metadata": {},
   "source": [
    "В данном проекте мы провели анализ оттока клиентов сети фитнес-клуба. \n",
    "Ознакомились с данными и провели исследователький анализ. Привели названия столбцов к нижнему региста, поменяли тип данных столбцов, где есть только два значения 0 и 1 на bool. Проверили на пропуски и дубликаты. Затем изучили средние значения. Описали характеристики признаков как:\n",
    "- 85% клиентов живет или работает рядом с фитнес-клубом\n",
    "- Около половины клиентов являются сотрудниками компании-партнёра клуба\n",
    "- 31% клиентов пришли по программе \"Приведи друга\"\n",
    "- 90% клиентов указали контактный телефон\n",
    "- Длительность текущего действующего абонемента (месяц, 6 месяцев, год) - большинство абонементов на месяц\n",
    "- 41% клиентов посещают групповые занятия\n",
    "- Средний возраст клиентов 29 лет\n",
    "- Средняя выручка от других услуг фитнес-центра - 146\n",
    "- Средний срок до окончания договора - 4.3 месяцев\n",
    "- Среднее время с момента первого обращения в фитнес-центр - 3.7 месяцев\n",
    "- Средняя частота посещений в неделю за все время с начала действия абонемента - 1.87 раз в неделю\n",
    "- Средняя частота посещений в неделю за предыдущий месяц - 1.76 раз в неделю\n",
    "- Доля оттока — 27%\n",
    "\n",
    "Затем разделили данные на 2 группы по признаку ушли ли в отток клиенты или нет, изучили распределения признаков в каждой группе, посмотрели как коррелируют признаки и сделали следующие выводы: \n",
    "- средний возраст клиентов 29 лет,  ушедших - 27 лет, оставшихся — 30 лет\n",
    "- большишиство клиентов живут или работают недалеко (85%), большинство ушедших живет не близко\n",
    "- большинство клиентов приобретают абонемент на 1 месяц, и ушедшие клиенты так же чаще брали короткие абонементы на 1 месяц\n",
    "- треть клинетов пришли по программе «Приведи друга»\n",
    "- около половины клиентов являются сотрудниками компании-партнера клуба и они реже уходят в отток\n",
    "- ушедшие клиенты очень редко посещали фитнес-клуб, и реже, чем оставшиесяходили на групповые занятия \n",
    "- ушедшие клиенты  меньше тратили денег на другие услуги фитнес-центра\n",
    "- клиенты в основном прекращают пользоваться услугами фитнес-центра в последние полтора месяца действия абонемента\n",
    "- Доля оттока клиентов составляет 27%\n",
    "Между показателем оттока и признаками видна отрицательная корреляция - значит, чем сильнее признак, тем слабее отток. Можно отметить очень сильную (выше 0,95) корреляцию пар признаков а) 'contract_period' и 'month_to_end_contract'- чем больше период абонемента, тем больше месяцев осталось до конца б) 'avg_class_frequency_current_month' и 'avg_class_frequency_total' - то есть клиенты ходят на занятия с постоянным определенным графиком Так же корелируют признаки 'partner' и 'promo_friends' с коэфициентом 0,45. И можно сказать, что по акциям клинты заключают контракт на более длительный период.\n",
    "\n",
    "Далее мы построили модели прогнозирования оттока клиентов - логистической регрессии и случайного леса. Accuracy (точность) для модели логистической регрессии оказалась выше, чем для модели случайного леса. Значит модель логистической регрессии лучше обобщает данные и делает более точные предсказания.\n",
    "Precision (точность) для модели логистической регрессии также выше, что указывает на то, что модель лучше избегает ложных срабатываний.\n",
    "Recall (полнота) для модели случайного леса выше, что означает, что модель лучше идентифицирует все положительные случаи.\n",
    "Исходя из этих данных, мы сделали вывод, что модель логистической регрессии показала лучшие результаты по метрикам accuracy и precision, что делает её более предпочтительной для данной задачи. \n",
    "Затем мы решали задачу кластеризации клиентов. На основе дендрограммы мы выделили 5 кластеров и на основе алгоритма  K-Means и спрогнозировали кластеры клиентов. Изучив распределение признаков по кластерам мы выявили характерные признаки для каждого кластера, выяснили, что самая высокая доля оттока клиентов у 3 кластера, это кластер с самыми молодыми клиентами, которые чаще покупали абонемент на 1 месяц, реже всех посещали занятия и пользовались доп услугами. А самый надежный кластер с минимальной долей оттока - кластер 0, это кластер, клиенты которого воспользовали акцией при покупке абонемента, купили абонемент на длительный срок 12 месяцев, пользуются доп услугами и стабильно, примерно 2 раза в неделю посещают фитнес-клуб.\n",
    "\n",
    "**Рекомендации**\n",
    "\n",
    "На основе проведенного анализа можем дать следующие рекомендации по удержанию клиентов сети фитнес-центров «Культурист-датасаентист»:\n",
    "Стоит обратить внимание на низкий отток клиентов, которые приобретают абонементы на длительный срок 12 месяцев. Возможно стоит сделать еще более привлекательные условия по цене на длительный срок или включить в стоимость абонемента дополнительные услуги, направленные на более молодых клиентов, которые не склонны покупать абонемент на длительный срок, например пользование солярием или групповые виды спорта (баскетболл, футболл...).\n",
    "Так же мы видим, что большинство клиентов воспользовались акциями при покупке абонементов, нужно рассмотреть количество и периодичность акций, расширив тем самым влияние на покупку абонементов разных категорий пользователей. \n"
   ]
  }
 ],
 "metadata": {
  "ExecuteTimeLog": [
   {
    "duration": 49,
    "start_time": "2024-04-20T08:42:33.101Z"
   },
   {
    "duration": 1684,
    "start_time": "2024-04-20T08:42:46.287Z"
   },
   {
    "duration": 109,
    "start_time": "2024-04-20T08:42:49.513Z"
   },
   {
    "duration": 6,
    "start_time": "2024-04-20T10:15:06.195Z"
   },
   {
    "duration": 4,
    "start_time": "2024-04-20T10:15:13.237Z"
   },
   {
    "duration": 104,
    "start_time": "2024-04-20T10:15:37.286Z"
   },
   {
    "duration": 4,
    "start_time": "2024-04-20T10:16:17.689Z"
   },
   {
    "duration": 27,
    "start_time": "2024-04-20T10:16:18.690Z"
   },
   {
    "duration": 37,
    "start_time": "2024-04-20T10:16:31.376Z"
   },
   {
    "duration": 5,
    "start_time": "2024-04-20T10:16:31.858Z"
   },
   {
    "duration": 24,
    "start_time": "2024-04-20T10:16:32.480Z"
   },
   {
    "duration": 4,
    "start_time": "2024-04-20T10:17:19.657Z"
   },
   {
    "duration": 25,
    "start_time": "2024-04-20T10:17:20.238Z"
   },
   {
    "duration": 5,
    "start_time": "2024-04-20T10:18:01.308Z"
   },
   {
    "duration": 75,
    "start_time": "2024-04-20T10:18:02.331Z"
   },
   {
    "duration": 17,
    "start_time": "2024-04-20T10:21:01.315Z"
   },
   {
    "duration": 49,
    "start_time": "2024-04-21T19:28:07.573Z"
   },
   {
    "duration": 1538,
    "start_time": "2024-04-21T19:28:14.152Z"
   },
   {
    "duration": 105,
    "start_time": "2024-04-21T19:28:15.692Z"
   },
   {
    "duration": 4,
    "start_time": "2024-04-21T19:28:15.799Z"
   },
   {
    "duration": 77,
    "start_time": "2024-04-21T19:28:15.805Z"
   },
   {
    "duration": 3,
    "start_time": "2024-04-21T19:28:15.884Z"
   },
   {
    "duration": 119,
    "start_time": "2024-04-21T19:28:15.888Z"
   },
   {
    "duration": 10,
    "start_time": "2024-04-21T19:30:07.647Z"
   },
   {
    "duration": 8,
    "start_time": "2024-04-21T19:31:29.339Z"
   },
   {
    "duration": 9,
    "start_time": "2024-04-21T19:31:35.926Z"
   },
   {
    "duration": 8,
    "start_time": "2024-04-21T19:31:52.616Z"
   },
   {
    "duration": 1424,
    "start_time": "2024-04-21T19:32:03.937Z"
   },
   {
    "duration": 32,
    "start_time": "2024-04-21T19:32:05.363Z"
   },
   {
    "duration": 6,
    "start_time": "2024-04-21T19:32:05.397Z"
   },
   {
    "duration": 87,
    "start_time": "2024-04-21T19:32:05.405Z"
   },
   {
    "duration": 3,
    "start_time": "2024-04-21T19:32:05.494Z"
   },
   {
    "duration": 124,
    "start_time": "2024-04-21T19:32:05.498Z"
   },
   {
    "duration": 9,
    "start_time": "2024-04-21T19:33:39.347Z"
   },
   {
    "duration": 10,
    "start_time": "2024-04-21T19:36:46.282Z"
   },
   {
    "duration": 10,
    "start_time": "2024-04-21T19:36:55.241Z"
   },
   {
    "duration": 9,
    "start_time": "2024-04-21T19:38:15.789Z"
   },
   {
    "duration": 9,
    "start_time": "2024-04-21T19:38:44.490Z"
   },
   {
    "duration": 3,
    "start_time": "2024-04-21T19:38:53.213Z"
   },
   {
    "duration": 32,
    "start_time": "2024-04-21T19:38:54.283Z"
   },
   {
    "duration": 4,
    "start_time": "2024-04-21T19:38:56.569Z"
   },
   {
    "duration": 62,
    "start_time": "2024-04-21T19:39:00.384Z"
   },
   {
    "duration": 3,
    "start_time": "2024-04-21T19:39:06.720Z"
   },
   {
    "duration": 8,
    "start_time": "2024-04-21T19:39:08.744Z"
   },
   {
    "duration": 11,
    "start_time": "2024-04-21T19:39:20.534Z"
   },
   {
    "duration": 2,
    "start_time": "2024-04-21T19:39:21.733Z"
   },
   {
    "duration": 8,
    "start_time": "2024-04-21T19:39:24.100Z"
   },
   {
    "duration": 1375,
    "start_time": "2024-04-21T19:39:32.327Z"
   },
   {
    "duration": 32,
    "start_time": "2024-04-21T19:39:33.704Z"
   },
   {
    "duration": 4,
    "start_time": "2024-04-21T19:39:33.738Z"
   },
   {
    "duration": 82,
    "start_time": "2024-04-21T19:39:33.745Z"
   },
   {
    "duration": 2,
    "start_time": "2024-04-21T19:39:33.828Z"
   },
   {
    "duration": 10,
    "start_time": "2024-04-21T19:39:33.832Z"
   },
   {
    "duration": 24,
    "start_time": "2024-04-21T19:39:33.843Z"
   },
   {
    "duration": 22,
    "start_time": "2024-04-21T19:40:02.387Z"
   },
   {
    "duration": 4,
    "start_time": "2024-04-21T19:40:18.329Z"
   },
   {
    "duration": 117,
    "start_time": "2024-04-21T19:40:19.345Z"
   },
   {
    "duration": 1406,
    "start_time": "2024-04-21T19:40:54.772Z"
   },
   {
    "duration": 34,
    "start_time": "2024-04-21T19:40:56.180Z"
   },
   {
    "duration": 5,
    "start_time": "2024-04-21T19:40:56.215Z"
   },
   {
    "duration": 73,
    "start_time": "2024-04-21T19:40:56.222Z"
   },
   {
    "duration": 6,
    "start_time": "2024-04-21T19:40:56.297Z"
   },
   {
    "duration": 12,
    "start_time": "2024-04-21T19:40:56.305Z"
   },
   {
    "duration": 122,
    "start_time": "2024-04-21T19:40:56.319Z"
   },
   {
    "duration": 15,
    "start_time": "2024-04-21T19:41:05.788Z"
   },
   {
    "duration": 119,
    "start_time": "2024-04-21T19:41:24.392Z"
   },
   {
    "duration": 1366,
    "start_time": "2024-04-21T19:42:06.086Z"
   },
   {
    "duration": 12,
    "start_time": "2024-04-21T19:45:06.623Z"
   },
   {
    "duration": 855,
    "start_time": "2024-04-21T19:45:27.757Z"
   },
   {
    "duration": 2818,
    "start_time": "2024-04-21T19:45:53.109Z"
   },
   {
    "duration": 4,
    "start_time": "2024-04-21T19:46:37.316Z"
   },
   {
    "duration": 31,
    "start_time": "2024-04-21T19:46:38.362Z"
   },
   {
    "duration": 4,
    "start_time": "2024-04-21T19:46:38.786Z"
   },
   {
    "duration": 61,
    "start_time": "2024-04-21T19:46:39.020Z"
   },
   {
    "duration": 4,
    "start_time": "2024-04-21T19:46:39.651Z"
   },
   {
    "duration": 15,
    "start_time": "2024-04-21T19:46:40.115Z"
   },
   {
    "duration": 14,
    "start_time": "2024-04-21T19:46:40.320Z"
   },
   {
    "duration": 2652,
    "start_time": "2024-04-21T19:46:40.588Z"
   },
   {
    "duration": 1551,
    "start_time": "2024-04-21T19:47:07.757Z"
   },
   {
    "duration": 33,
    "start_time": "2024-04-21T19:47:09.310Z"
   },
   {
    "duration": 4,
    "start_time": "2024-04-21T19:47:09.344Z"
   },
   {
    "duration": 61,
    "start_time": "2024-04-21T19:47:09.350Z"
   },
   {
    "duration": 3,
    "start_time": "2024-04-21T19:47:09.413Z"
   },
   {
    "duration": 26,
    "start_time": "2024-04-21T19:47:09.417Z"
   },
   {
    "duration": 17,
    "start_time": "2024-04-21T19:47:09.444Z"
   },
   {
    "duration": 2746,
    "start_time": "2024-04-21T19:47:09.462Z"
   },
   {
    "duration": 1467,
    "start_time": "2024-04-21T19:47:12.209Z"
   },
   {
    "duration": 1468,
    "start_time": "2024-04-21T19:49:26.551Z"
   },
   {
    "duration": 31,
    "start_time": "2024-04-21T19:49:28.021Z"
   },
   {
    "duration": 5,
    "start_time": "2024-04-21T19:49:28.054Z"
   },
   {
    "duration": 64,
    "start_time": "2024-04-21T19:49:28.060Z"
   },
   {
    "duration": 3,
    "start_time": "2024-04-21T19:49:28.125Z"
   },
   {
    "duration": 22,
    "start_time": "2024-04-21T19:49:28.129Z"
   },
   {
    "duration": 22,
    "start_time": "2024-04-21T19:49:28.153Z"
   },
   {
    "duration": 3225,
    "start_time": "2024-04-21T19:49:28.176Z"
   },
   {
    "duration": 1465,
    "start_time": "2024-04-21T19:49:31.403Z"
   },
   {
    "duration": 5,
    "start_time": "2024-04-21T19:50:11.448Z"
   },
   {
    "duration": 3303,
    "start_time": "2024-04-21T19:50:17.871Z"
   },
   {
    "duration": 5028,
    "start_time": "2024-04-21T19:51:50.878Z"
   },
   {
    "duration": 5294,
    "start_time": "2024-04-21T19:52:33.021Z"
   },
   {
    "duration": 5574,
    "start_time": "2024-04-21T19:54:01.464Z"
   },
   {
    "duration": 7291,
    "start_time": "2024-04-21T19:54:41.067Z"
   },
   {
    "duration": 10,
    "start_time": "2024-04-26T07:01:49.093Z"
   },
   {
    "duration": 1640,
    "start_time": "2024-04-26T07:01:59.160Z"
   },
   {
    "duration": 102,
    "start_time": "2024-04-26T07:02:00.802Z"
   },
   {
    "duration": 4,
    "start_time": "2024-04-26T07:02:00.908Z"
   },
   {
    "duration": 112,
    "start_time": "2024-04-26T07:02:00.914Z"
   },
   {
    "duration": 4,
    "start_time": "2024-04-26T07:02:01.027Z"
   },
   {
    "duration": 61,
    "start_time": "2024-04-26T07:02:01.032Z"
   },
   {
    "duration": 65,
    "start_time": "2024-04-26T07:02:01.095Z"
   },
   {
    "duration": 56,
    "start_time": "2024-04-26T07:02:01.161Z"
   },
   {
    "duration": 68,
    "start_time": "2024-04-26T07:02:01.219Z"
   },
   {
    "duration": 1735,
    "start_time": "2024-04-26T07:02:01.289Z"
   },
   {
    "duration": 110,
    "start_time": "2024-04-26T07:02:42.185Z"
   },
   {
    "duration": 216,
    "start_time": "2024-04-26T07:03:19.916Z"
   },
   {
    "duration": 89,
    "start_time": "2024-04-26T07:09:05.413Z"
   },
   {
    "duration": 13,
    "start_time": "2024-04-26T07:09:24.945Z"
   },
   {
    "duration": 1427,
    "start_time": "2024-04-26T07:09:41.154Z"
   },
   {
    "duration": 34,
    "start_time": "2024-04-26T07:09:42.584Z"
   },
   {
    "duration": 4,
    "start_time": "2024-04-26T07:09:42.620Z"
   },
   {
    "duration": 76,
    "start_time": "2024-04-26T07:09:42.626Z"
   },
   {
    "duration": 3,
    "start_time": "2024-04-26T07:09:42.704Z"
   },
   {
    "duration": 20,
    "start_time": "2024-04-26T07:09:42.709Z"
   },
   {
    "duration": 13,
    "start_time": "2024-04-26T07:09:42.730Z"
   },
   {
    "duration": 6,
    "start_time": "2024-04-26T07:09:42.744Z"
   },
   {
    "duration": 6,
    "start_time": "2024-04-26T07:09:42.751Z"
   },
   {
    "duration": 131,
    "start_time": "2024-04-26T07:09:42.758Z"
   },
   {
    "duration": 0,
    "start_time": "2024-04-26T07:09:42.890Z"
   },
   {
    "duration": 13,
    "start_time": "2024-04-26T07:10:42.412Z"
   },
   {
    "duration": 1436,
    "start_time": "2024-04-26T07:11:53.142Z"
   },
   {
    "duration": 33,
    "start_time": "2024-04-26T07:11:54.580Z"
   },
   {
    "duration": 4,
    "start_time": "2024-04-26T07:11:54.615Z"
   },
   {
    "duration": 72,
    "start_time": "2024-04-26T07:11:54.620Z"
   },
   {
    "duration": 3,
    "start_time": "2024-04-26T07:11:54.695Z"
   },
   {
    "duration": 22,
    "start_time": "2024-04-26T07:11:54.699Z"
   },
   {
    "duration": 13,
    "start_time": "2024-04-26T07:11:54.729Z"
   },
   {
    "duration": 6,
    "start_time": "2024-04-26T07:11:54.743Z"
   },
   {
    "duration": 2501,
    "start_time": "2024-04-26T07:11:54.751Z"
   },
   {
    "duration": 111,
    "start_time": "2024-04-26T07:11:57.254Z"
   },
   {
    "duration": 0,
    "start_time": "2024-04-26T07:11:57.366Z"
   },
   {
    "duration": 1924,
    "start_time": "2024-04-26T07:13:20.153Z"
   },
   {
    "duration": 2063,
    "start_time": "2024-04-26T07:14:31.732Z"
   },
   {
    "duration": 1393,
    "start_time": "2024-04-26T07:14:40.856Z"
   },
   {
    "duration": 34,
    "start_time": "2024-04-26T07:14:42.251Z"
   },
   {
    "duration": 4,
    "start_time": "2024-04-26T07:14:42.286Z"
   },
   {
    "duration": 102,
    "start_time": "2024-04-26T07:14:42.292Z"
   },
   {
    "duration": 3,
    "start_time": "2024-04-26T07:14:42.396Z"
   },
   {
    "duration": 28,
    "start_time": "2024-04-26T07:14:42.401Z"
   },
   {
    "duration": 13,
    "start_time": "2024-04-26T07:14:42.431Z"
   },
   {
    "duration": 9,
    "start_time": "2024-04-26T07:14:42.446Z"
   },
   {
    "duration": 2091,
    "start_time": "2024-04-26T07:14:42.457Z"
   },
   {
    "duration": 112,
    "start_time": "2024-04-26T07:14:44.550Z"
   },
   {
    "duration": 0,
    "start_time": "2024-04-26T07:14:44.663Z"
   },
   {
    "duration": 1873,
    "start_time": "2024-04-26T07:16:52.990Z"
   },
   {
    "duration": 2037,
    "start_time": "2024-04-26T07:17:13.306Z"
   },
   {
    "duration": 2106,
    "start_time": "2024-04-26T07:17:49.432Z"
   },
   {
    "duration": 1920,
    "start_time": "2024-04-26T07:18:27.560Z"
   },
   {
    "duration": 2094,
    "start_time": "2024-04-26T07:19:31.207Z"
   },
   {
    "duration": 25,
    "start_time": "2024-04-26T07:22:19.313Z"
   },
   {
    "duration": 3014,
    "start_time": "2024-04-26T07:24:34.135Z"
   },
   {
    "duration": 853,
    "start_time": "2024-04-26T07:26:44.422Z"
   },
   {
    "duration": 1212,
    "start_time": "2024-04-26T07:27:36.726Z"
   },
   {
    "duration": 1306,
    "start_time": "2024-04-26T07:28:11.079Z"
   },
   {
    "duration": 1229,
    "start_time": "2024-04-26T07:28:22.225Z"
   },
   {
    "duration": 1235,
    "start_time": "2024-04-26T07:29:03.110Z"
   },
   {
    "duration": 1276,
    "start_time": "2024-04-26T07:29:18.281Z"
   },
   {
    "duration": 1216,
    "start_time": "2024-04-26T07:29:39.785Z"
   },
   {
    "duration": 1222,
    "start_time": "2024-04-26T07:30:00.698Z"
   },
   {
    "duration": 1325,
    "start_time": "2024-04-26T07:30:37.713Z"
   },
   {
    "duration": 1210,
    "start_time": "2024-04-26T07:30:55.414Z"
   },
   {
    "duration": 1252,
    "start_time": "2024-04-26T07:31:16.086Z"
   },
   {
    "duration": 1305,
    "start_time": "2024-04-26T07:33:09.255Z"
   },
   {
    "duration": 1190,
    "start_time": "2024-04-26T07:33:28.681Z"
   },
   {
    "duration": 1582,
    "start_time": "2024-04-26T07:33:45.607Z"
   },
   {
    "duration": 1665,
    "start_time": "2024-04-26T07:34:50.931Z"
   },
   {
    "duration": 8,
    "start_time": "2024-04-26T07:39:41.617Z"
   },
   {
    "duration": 10,
    "start_time": "2024-04-26T07:39:54.144Z"
   },
   {
    "duration": 9,
    "start_time": "2024-04-26T07:40:09.985Z"
   },
   {
    "duration": 1571,
    "start_time": "2024-04-27T05:55:59.665Z"
   },
   {
    "duration": 123,
    "start_time": "2024-04-27T05:56:01.238Z"
   },
   {
    "duration": 4,
    "start_time": "2024-04-27T05:56:01.363Z"
   },
   {
    "duration": 91,
    "start_time": "2024-04-27T05:56:01.368Z"
   },
   {
    "duration": 2,
    "start_time": "2024-04-27T05:56:01.461Z"
   },
   {
    "duration": 65,
    "start_time": "2024-04-27T05:56:01.465Z"
   },
   {
    "duration": 26,
    "start_time": "2024-04-27T05:56:01.531Z"
   },
   {
    "duration": 34,
    "start_time": "2024-04-27T05:56:01.558Z"
   },
   {
    "duration": 1636,
    "start_time": "2024-04-27T05:56:01.593Z"
   },
   {
    "duration": 900,
    "start_time": "2024-04-27T05:56:03.231Z"
   },
   {
    "duration": 1141,
    "start_time": "2024-04-27T05:56:04.132Z"
   },
   {
    "duration": 12,
    "start_time": "2024-04-27T05:56:05.274Z"
   },
   {
    "duration": 121,
    "start_time": "2024-04-27T05:56:05.287Z"
   },
   {
    "duration": 7,
    "start_time": "2024-04-27T05:59:23.343Z"
   },
   {
    "duration": 1243,
    "start_time": "2024-04-27T06:00:01.840Z"
   },
   {
    "duration": 32,
    "start_time": "2024-04-27T06:00:03.084Z"
   },
   {
    "duration": 6,
    "start_time": "2024-04-27T06:00:03.117Z"
   },
   {
    "duration": 70,
    "start_time": "2024-04-27T06:00:03.125Z"
   },
   {
    "duration": 2,
    "start_time": "2024-04-27T06:00:03.196Z"
   },
   {
    "duration": 39,
    "start_time": "2024-04-27T06:00:03.200Z"
   },
   {
    "duration": 37,
    "start_time": "2024-04-27T06:00:03.240Z"
   },
   {
    "duration": 40,
    "start_time": "2024-04-27T06:00:03.278Z"
   },
   {
    "duration": 1578,
    "start_time": "2024-04-27T06:00:03.319Z"
   },
   {
    "duration": 930,
    "start_time": "2024-04-27T06:00:04.899Z"
   },
   {
    "duration": 1138,
    "start_time": "2024-04-27T06:00:05.831Z"
   },
   {
    "duration": 16,
    "start_time": "2024-04-27T06:00:06.970Z"
   },
   {
    "duration": 27,
    "start_time": "2024-04-27T06:00:06.987Z"
   },
   {
    "duration": 95,
    "start_time": "2024-04-27T06:01:50.565Z"
   },
   {
    "duration": 8,
    "start_time": "2024-04-27T06:02:16.342Z"
   },
   {
    "duration": 7,
    "start_time": "2024-04-27T06:08:44.949Z"
   },
   {
    "duration": 19,
    "start_time": "2024-04-27T06:09:21.543Z"
   },
   {
    "duration": 106,
    "start_time": "2024-04-27T06:09:21.581Z"
   },
   {
    "duration": 10,
    "start_time": "2024-04-27T06:09:25.391Z"
   },
   {
    "duration": 44,
    "start_time": "2024-04-27T06:10:25.549Z"
   },
   {
    "duration": 1154,
    "start_time": "2024-04-27T06:11:27.922Z"
   },
   {
    "duration": 31,
    "start_time": "2024-04-27T06:11:29.077Z"
   },
   {
    "duration": 3,
    "start_time": "2024-04-27T06:11:29.109Z"
   },
   {
    "duration": 52,
    "start_time": "2024-04-27T06:11:29.114Z"
   },
   {
    "duration": 2,
    "start_time": "2024-04-27T06:11:29.167Z"
   },
   {
    "duration": 10,
    "start_time": "2024-04-27T06:11:29.171Z"
   },
   {
    "duration": 10,
    "start_time": "2024-04-27T06:11:29.182Z"
   },
   {
    "duration": 7,
    "start_time": "2024-04-27T06:11:29.193Z"
   },
   {
    "duration": 1572,
    "start_time": "2024-04-27T06:11:29.201Z"
   },
   {
    "duration": 885,
    "start_time": "2024-04-27T06:11:30.775Z"
   },
   {
    "duration": 1171,
    "start_time": "2024-04-27T06:11:31.661Z"
   },
   {
    "duration": 5,
    "start_time": "2024-04-27T06:11:32.833Z"
   },
   {
    "duration": 20,
    "start_time": "2024-04-27T06:11:32.839Z"
   },
   {
    "duration": 50,
    "start_time": "2024-04-27T06:11:32.861Z"
   },
   {
    "duration": 72,
    "start_time": "2024-04-27T06:11:32.913Z"
   },
   {
    "duration": 374,
    "start_time": "2024-04-27T06:11:32.987Z"
   },
   {
    "duration": 16,
    "start_time": "2024-04-27T06:11:52.622Z"
   },
   {
    "duration": 6,
    "start_time": "2024-04-27T06:12:38.917Z"
   },
   {
    "duration": 50,
    "start_time": "2024-04-27T06:12:40.140Z"
   },
   {
    "duration": 8,
    "start_time": "2024-04-27T06:14:09.420Z"
   },
   {
    "duration": 1283,
    "start_time": "2024-04-27T06:15:06.915Z"
   },
   {
    "duration": 31,
    "start_time": "2024-04-27T06:15:08.199Z"
   },
   {
    "duration": 4,
    "start_time": "2024-04-27T06:15:08.232Z"
   },
   {
    "duration": 62,
    "start_time": "2024-04-27T06:15:08.237Z"
   },
   {
    "duration": 2,
    "start_time": "2024-04-27T06:15:08.302Z"
   },
   {
    "duration": 16,
    "start_time": "2024-04-27T06:15:08.306Z"
   },
   {
    "duration": 10,
    "start_time": "2024-04-27T06:15:08.324Z"
   },
   {
    "duration": 20,
    "start_time": "2024-04-27T06:15:08.335Z"
   },
   {
    "duration": 1553,
    "start_time": "2024-04-27T06:15:08.356Z"
   },
   {
    "duration": 934,
    "start_time": "2024-04-27T06:15:09.910Z"
   },
   {
    "duration": 1171,
    "start_time": "2024-04-27T06:15:10.845Z"
   },
   {
    "duration": 5,
    "start_time": "2024-04-27T06:15:12.017Z"
   },
   {
    "duration": 22,
    "start_time": "2024-04-27T06:15:12.023Z"
   },
   {
    "duration": 26,
    "start_time": "2024-04-27T06:15:12.047Z"
   },
   {
    "duration": 13,
    "start_time": "2024-04-27T06:15:12.074Z"
   },
   {
    "duration": 205,
    "start_time": "2024-04-27T06:15:12.088Z"
   },
   {
    "duration": 440,
    "start_time": "2024-04-27T06:15:12.385Z"
   },
   {
    "duration": 295,
    "start_time": "2024-04-27T06:16:13.465Z"
   },
   {
    "duration": 16,
    "start_time": "2024-04-27T06:16:37.073Z"
   },
   {
    "duration": 69,
    "start_time": "2024-04-27T06:23:23.316Z"
   },
   {
    "duration": 55,
    "start_time": "2024-04-27T06:23:30.629Z"
   },
   {
    "duration": 98,
    "start_time": "2024-04-27T06:23:36.389Z"
   },
   {
    "duration": 337,
    "start_time": "2024-04-27T06:23:49.061Z"
   },
   {
    "duration": 329,
    "start_time": "2024-04-27T06:27:19.815Z"
   },
   {
    "duration": 343,
    "start_time": "2024-04-27T06:27:40.318Z"
   },
   {
    "duration": 12,
    "start_time": "2024-04-27T06:32:09.075Z"
   },
   {
    "duration": 18,
    "start_time": "2024-04-27T06:32:09.931Z"
   },
   {
    "duration": 6,
    "start_time": "2024-04-27T06:32:10.898Z"
   },
   {
    "duration": 42,
    "start_time": "2024-04-27T06:32:11.642Z"
   },
   {
    "duration": 330,
    "start_time": "2024-04-27T06:32:16.102Z"
   },
   {
    "duration": 1272,
    "start_time": "2024-04-27T06:39:30.210Z"
   },
   {
    "duration": 32,
    "start_time": "2024-04-27T06:39:31.484Z"
   },
   {
    "duration": 94,
    "start_time": "2024-04-27T06:39:31.518Z"
   },
   {
    "duration": 123,
    "start_time": "2024-04-27T06:39:31.613Z"
   },
   {
    "duration": 11,
    "start_time": "2024-04-27T06:39:31.737Z"
   },
   {
    "duration": 43,
    "start_time": "2024-04-27T06:39:31.749Z"
   },
   {
    "duration": 25,
    "start_time": "2024-04-27T06:39:31.794Z"
   },
   {
    "duration": 7,
    "start_time": "2024-04-27T06:39:31.820Z"
   },
   {
    "duration": 1560,
    "start_time": "2024-04-27T06:39:31.829Z"
   },
   {
    "duration": 906,
    "start_time": "2024-04-27T06:39:33.391Z"
   },
   {
    "duration": 1144,
    "start_time": "2024-04-27T06:39:34.299Z"
   },
   {
    "duration": 6,
    "start_time": "2024-04-27T06:39:35.444Z"
   },
   {
    "duration": 10,
    "start_time": "2024-04-27T06:39:35.451Z"
   },
   {
    "duration": 107,
    "start_time": "2024-04-27T06:39:35.462Z"
   },
   {
    "duration": 0,
    "start_time": "2024-04-27T06:39:35.570Z"
   },
   {
    "duration": 0,
    "start_time": "2024-04-27T06:39:35.572Z"
   },
   {
    "duration": 18,
    "start_time": "2024-04-27T06:39:49.193Z"
   },
   {
    "duration": 10,
    "start_time": "2024-04-27T06:39:50.161Z"
   },
   {
    "duration": 16,
    "start_time": "2024-04-27T06:39:51.066Z"
   },
   {
    "duration": 328,
    "start_time": "2024-04-27T06:39:51.586Z"
   },
   {
    "duration": 1159,
    "start_time": "2024-04-27T06:40:55.728Z"
   },
   {
    "duration": 32,
    "start_time": "2024-04-27T06:40:56.888Z"
   },
   {
    "duration": 3,
    "start_time": "2024-04-27T06:40:56.921Z"
   },
   {
    "duration": 53,
    "start_time": "2024-04-27T06:40:56.925Z"
   },
   {
    "duration": 3,
    "start_time": "2024-04-27T06:40:56.980Z"
   },
   {
    "duration": 10,
    "start_time": "2024-04-27T06:40:56.984Z"
   },
   {
    "duration": 12,
    "start_time": "2024-04-27T06:40:56.995Z"
   },
   {
    "duration": 4,
    "start_time": "2024-04-27T06:40:57.009Z"
   },
   {
    "duration": 1551,
    "start_time": "2024-04-27T06:40:57.014Z"
   },
   {
    "duration": 904,
    "start_time": "2024-04-27T06:40:58.566Z"
   },
   {
    "duration": 1160,
    "start_time": "2024-04-27T06:40:59.471Z"
   },
   {
    "duration": 5,
    "start_time": "2024-04-27T06:41:00.632Z"
   },
   {
    "duration": 89,
    "start_time": "2024-04-27T06:41:00.639Z"
   },
   {
    "duration": 154,
    "start_time": "2024-04-27T06:41:00.731Z"
   },
   {
    "duration": 495,
    "start_time": "2024-04-27T06:41:00.887Z"
   },
   {
    "duration": 4,
    "start_time": "2024-04-27T06:56:17.304Z"
   },
   {
    "duration": 6,
    "start_time": "2024-04-27T06:56:32.071Z"
   },
   {
    "duration": 1268,
    "start_time": "2024-04-27T06:57:55.623Z"
   },
   {
    "duration": 31,
    "start_time": "2024-04-27T06:57:56.893Z"
   },
   {
    "duration": 4,
    "start_time": "2024-04-27T06:57:56.925Z"
   },
   {
    "duration": 61,
    "start_time": "2024-04-27T06:57:56.931Z"
   },
   {
    "duration": 4,
    "start_time": "2024-04-27T06:57:56.995Z"
   },
   {
    "duration": 13,
    "start_time": "2024-04-27T06:57:57.000Z"
   },
   {
    "duration": 11,
    "start_time": "2024-04-27T06:57:57.014Z"
   },
   {
    "duration": 5,
    "start_time": "2024-04-27T06:57:57.026Z"
   },
   {
    "duration": 1540,
    "start_time": "2024-04-27T06:57:57.033Z"
   },
   {
    "duration": 912,
    "start_time": "2024-04-27T06:57:58.575Z"
   },
   {
    "duration": 1182,
    "start_time": "2024-04-27T06:57:59.488Z"
   },
   {
    "duration": 14,
    "start_time": "2024-04-27T06:58:00.672Z"
   },
   {
    "duration": 65,
    "start_time": "2024-04-27T06:58:00.687Z"
   },
   {
    "duration": 132,
    "start_time": "2024-04-27T06:58:00.754Z"
   },
   {
    "duration": 441,
    "start_time": "2024-04-27T06:58:00.887Z"
   },
   {
    "duration": 3,
    "start_time": "2024-04-27T06:58:01.329Z"
   },
   {
    "duration": 67,
    "start_time": "2024-04-27T06:58:01.333Z"
   },
   {
    "duration": 1255,
    "start_time": "2024-04-27T06:58:50.280Z"
   },
   {
    "duration": 31,
    "start_time": "2024-04-27T06:58:51.537Z"
   },
   {
    "duration": 3,
    "start_time": "2024-04-27T06:58:51.570Z"
   },
   {
    "duration": 62,
    "start_time": "2024-04-27T06:58:51.574Z"
   },
   {
    "duration": 2,
    "start_time": "2024-04-27T06:58:51.638Z"
   },
   {
    "duration": 13,
    "start_time": "2024-04-27T06:58:51.642Z"
   },
   {
    "duration": 21,
    "start_time": "2024-04-27T06:58:51.656Z"
   },
   {
    "duration": 14,
    "start_time": "2024-04-27T06:58:51.679Z"
   },
   {
    "duration": 1611,
    "start_time": "2024-04-27T06:58:51.694Z"
   },
   {
    "duration": 935,
    "start_time": "2024-04-27T06:58:53.306Z"
   },
   {
    "duration": 1162,
    "start_time": "2024-04-27T06:58:54.242Z"
   },
   {
    "duration": 5,
    "start_time": "2024-04-27T06:58:55.405Z"
   },
   {
    "duration": 14,
    "start_time": "2024-04-27T06:58:55.411Z"
   },
   {
    "duration": 65,
    "start_time": "2024-04-27T06:58:55.427Z"
   },
   {
    "duration": 539,
    "start_time": "2024-04-27T06:58:55.494Z"
   },
   {
    "duration": 3,
    "start_time": "2024-04-27T06:58:56.035Z"
   },
   {
    "duration": 14,
    "start_time": "2024-04-27T06:58:56.039Z"
   },
   {
    "duration": 1201,
    "start_time": "2024-04-27T07:00:04.034Z"
   },
   {
    "duration": 33,
    "start_time": "2024-04-27T07:00:05.237Z"
   },
   {
    "duration": 16,
    "start_time": "2024-04-27T07:00:05.271Z"
   },
   {
    "duration": 62,
    "start_time": "2024-04-27T07:00:05.289Z"
   },
   {
    "duration": 3,
    "start_time": "2024-04-27T07:00:05.353Z"
   },
   {
    "duration": 45,
    "start_time": "2024-04-27T07:00:05.357Z"
   },
   {
    "duration": 15,
    "start_time": "2024-04-27T07:00:05.403Z"
   },
   {
    "duration": 10,
    "start_time": "2024-04-27T07:00:05.419Z"
   },
   {
    "duration": 1550,
    "start_time": "2024-04-27T07:00:05.431Z"
   },
   {
    "duration": 940,
    "start_time": "2024-04-27T07:00:06.983Z"
   },
   {
    "duration": 1132,
    "start_time": "2024-04-27T07:00:07.924Z"
   },
   {
    "duration": 5,
    "start_time": "2024-04-27T07:00:09.057Z"
   },
   {
    "duration": 29,
    "start_time": "2024-04-27T07:00:09.064Z"
   },
   {
    "duration": 90,
    "start_time": "2024-04-27T07:00:09.095Z"
   },
   {
    "duration": 432,
    "start_time": "2024-04-27T07:00:09.189Z"
   },
   {
    "duration": 4,
    "start_time": "2024-04-27T07:00:09.622Z"
   },
   {
    "duration": 26,
    "start_time": "2024-04-27T07:00:09.627Z"
   },
   {
    "duration": 87038,
    "start_time": "2024-04-27T07:00:09.654Z"
   },
   {
    "duration": 996,
    "start_time": "2024-04-27T07:01:36.694Z"
   },
   {
    "duration": 98,
    "start_time": "2024-04-27T07:01:37.692Z"
   },
   {
    "duration": 2342,
    "start_time": "2024-04-27T07:01:37.791Z"
   },
   {
    "duration": 5,
    "start_time": "2024-04-27T07:01:40.135Z"
   },
   {
    "duration": 423,
    "start_time": "2024-04-27T07:02:18.789Z"
   },
   {
    "duration": 12,
    "start_time": "2024-04-27T07:02:42.525Z"
   },
   {
    "duration": 114,
    "start_time": "2024-04-27T07:06:33.561Z"
   },
   {
    "duration": 1032,
    "start_time": "2024-04-27T07:07:35.170Z"
   },
   {
    "duration": 13882,
    "start_time": "2024-04-27T07:08:57.950Z"
   },
   {
    "duration": 480,
    "start_time": "2024-04-27T07:11:08.994Z"
   },
   {
    "duration": 3908,
    "start_time": "2024-04-27T07:11:53.650Z"
   },
   {
    "duration": 4115,
    "start_time": "2024-04-27T07:13:28.343Z"
   },
   {
    "duration": 7533,
    "start_time": "2024-04-27T07:16:06.264Z"
   },
   {
    "duration": 509,
    "start_time": "2024-04-27T07:16:48.459Z"
   },
   {
    "duration": 650,
    "start_time": "2024-04-27T07:17:35.794Z"
   },
   {
    "duration": 4335,
    "start_time": "2024-04-27T07:18:25.210Z"
   },
   {
    "duration": 95,
    "start_time": "2024-04-27T07:20:33.134Z"
   },
   {
    "duration": 1656,
    "start_time": "2024-04-27T07:20:41.367Z"
   },
   {
    "duration": 2294,
    "start_time": "2024-04-27T07:23:33.507Z"
   },
   {
    "duration": 1110,
    "start_time": "2024-04-27T07:25:38.028Z"
   },
   {
    "duration": 754,
    "start_time": "2024-04-27T07:26:27.754Z"
   },
   {
    "duration": 761,
    "start_time": "2024-04-27T07:26:36.662Z"
   },
   {
    "duration": 1454,
    "start_time": "2024-04-27T07:27:27.064Z"
   },
   {
    "duration": 1226,
    "start_time": "2024-04-27T07:28:30.131Z"
   },
   {
    "duration": 1293,
    "start_time": "2024-04-27T07:28:45.573Z"
   },
   {
    "duration": 1178,
    "start_time": "2024-04-27T07:28:56.553Z"
   },
   {
    "duration": 8,
    "start_time": "2024-04-27T10:40:13.226Z"
   },
   {
    "duration": 9,
    "start_time": "2024-04-27T10:42:02.132Z"
   },
   {
    "duration": 9,
    "start_time": "2024-04-27T10:45:28.479Z"
   },
   {
    "duration": 1634,
    "start_time": "2024-04-28T18:54:52.917Z"
   },
   {
    "duration": 107,
    "start_time": "2024-04-28T18:54:54.553Z"
   },
   {
    "duration": 4,
    "start_time": "2024-04-28T18:54:54.661Z"
   },
   {
    "duration": 72,
    "start_time": "2024-04-28T18:54:54.667Z"
   },
   {
    "duration": 3,
    "start_time": "2024-04-28T18:54:54.740Z"
   },
   {
    "duration": 23,
    "start_time": "2024-04-28T18:54:54.745Z"
   },
   {
    "duration": 13,
    "start_time": "2024-04-28T18:54:54.769Z"
   },
   {
    "duration": 6,
    "start_time": "2024-04-28T18:54:54.783Z"
   },
   {
    "duration": 2140,
    "start_time": "2024-04-28T18:54:54.790Z"
   },
   {
    "duration": 1213,
    "start_time": "2024-04-28T18:54:56.932Z"
   },
   {
    "duration": 1654,
    "start_time": "2024-04-28T18:54:58.146Z"
   },
   {
    "duration": 6,
    "start_time": "2024-04-28T18:54:59.802Z"
   },
   {
    "duration": 12,
    "start_time": "2024-04-28T18:54:59.810Z"
   },
   {
    "duration": 241,
    "start_time": "2024-04-28T18:54:59.824Z"
   },
   {
    "duration": 511,
    "start_time": "2024-04-28T18:55:00.067Z"
   },
   {
    "duration": 4,
    "start_time": "2024-04-28T18:55:00.581Z"
   },
   {
    "duration": 63,
    "start_time": "2024-04-28T18:55:00.587Z"
   },
   {
    "duration": 637,
    "start_time": "2024-04-28T18:55:00.651Z"
   },
   {
    "duration": 118792,
    "start_time": "2024-04-28T18:55:01.290Z"
   },
   {
    "duration": 1280,
    "start_time": "2024-04-28T18:57:00.084Z"
   },
   {
    "duration": 101,
    "start_time": "2024-04-28T18:57:01.366Z"
   },
   {
    "duration": 3244,
    "start_time": "2024-04-28T18:57:01.468Z"
   },
   {
    "duration": 1815,
    "start_time": "2024-04-28T18:57:04.714Z"
   },
   {
    "duration": 10,
    "start_time": "2024-04-28T18:57:06.530Z"
   },
   {
    "duration": 1730,
    "start_time": "2024-04-28T18:57:06.542Z"
   },
   {
    "duration": 1702,
    "start_time": "2024-04-28T18:57:32.307Z"
   },
   {
    "duration": 1833,
    "start_time": "2024-04-28T18:57:48.514Z"
   },
   {
    "duration": 1658,
    "start_time": "2024-04-28T18:57:57.961Z"
   },
   {
    "duration": 1647,
    "start_time": "2024-04-28T18:58:05.498Z"
   },
   {
    "duration": 1644,
    "start_time": "2024-04-28T18:58:21.863Z"
   },
   {
    "duration": 1792,
    "start_time": "2024-04-28T18:58:39.236Z"
   },
   {
    "duration": 26,
    "start_time": "2024-04-28T19:02:06.835Z"
   },
   {
    "duration": 10,
    "start_time": "2024-04-28T19:02:28.496Z"
   },
   {
    "duration": 136,
    "start_time": "2024-04-28T19:04:29.777Z"
   },
   {
    "duration": 2478,
    "start_time": "2024-04-28T19:05:00.046Z"
   },
   {
    "duration": 2669,
    "start_time": "2024-04-28T19:07:16.926Z"
   },
   {
    "duration": 1478,
    "start_time": "2024-04-28T19:07:26.708Z"
   },
   {
    "duration": 34,
    "start_time": "2024-04-28T19:07:28.188Z"
   },
   {
    "duration": 4,
    "start_time": "2024-04-28T19:07:28.224Z"
   },
   {
    "duration": 66,
    "start_time": "2024-04-28T19:07:28.229Z"
   },
   {
    "duration": 3,
    "start_time": "2024-04-28T19:07:28.298Z"
   },
   {
    "duration": 18,
    "start_time": "2024-04-28T19:07:28.303Z"
   },
   {
    "duration": 39,
    "start_time": "2024-04-28T19:07:28.322Z"
   },
   {
    "duration": 6,
    "start_time": "2024-04-28T19:07:28.362Z"
   },
   {
    "duration": 2060,
    "start_time": "2024-04-28T19:07:28.370Z"
   },
   {
    "duration": 1166,
    "start_time": "2024-04-28T19:07:30.432Z"
   },
   {
    "duration": 1469,
    "start_time": "2024-04-28T19:07:31.600Z"
   },
   {
    "duration": 7,
    "start_time": "2024-04-28T19:07:33.070Z"
   },
   {
    "duration": 12,
    "start_time": "2024-04-28T19:07:33.079Z"
   },
   {
    "duration": 283,
    "start_time": "2024-04-28T19:07:33.094Z"
   },
   {
    "duration": 410,
    "start_time": "2024-04-28T19:07:33.462Z"
   },
   {
    "duration": 4,
    "start_time": "2024-04-28T19:07:33.874Z"
   },
   {
    "duration": 9,
    "start_time": "2024-04-28T19:07:33.880Z"
   },
   {
    "duration": 590,
    "start_time": "2024-04-28T19:07:33.891Z"
   },
   {
    "duration": 1677,
    "start_time": "2024-04-28T19:08:24.449Z"
   },
   {
    "duration": 35,
    "start_time": "2024-04-28T19:08:26.128Z"
   },
   {
    "duration": 4,
    "start_time": "2024-04-28T19:08:26.166Z"
   },
   {
    "duration": 72,
    "start_time": "2024-04-28T19:08:26.172Z"
   },
   {
    "duration": 3,
    "start_time": "2024-04-28T19:08:26.260Z"
   },
   {
    "duration": 13,
    "start_time": "2024-04-28T19:08:26.265Z"
   },
   {
    "duration": 14,
    "start_time": "2024-04-28T19:08:26.280Z"
   },
   {
    "duration": 7,
    "start_time": "2024-04-28T19:08:26.296Z"
   },
   {
    "duration": 2077,
    "start_time": "2024-04-28T19:08:26.305Z"
   },
   {
    "duration": 1166,
    "start_time": "2024-04-28T19:08:28.384Z"
   },
   {
    "duration": 1478,
    "start_time": "2024-04-28T19:08:29.552Z"
   },
   {
    "duration": 7,
    "start_time": "2024-04-28T19:08:31.032Z"
   },
   {
    "duration": 93,
    "start_time": "2024-04-28T19:08:31.040Z"
   },
   {
    "duration": 226,
    "start_time": "2024-04-28T19:08:31.136Z"
   },
   {
    "duration": 490,
    "start_time": "2024-04-28T19:08:31.365Z"
   },
   {
    "duration": 8,
    "start_time": "2024-04-28T19:08:31.856Z"
   },
   {
    "duration": 10,
    "start_time": "2024-04-28T19:08:31.865Z"
   },
   {
    "duration": 600,
    "start_time": "2024-04-28T19:08:31.877Z"
   },
   {
    "duration": 3,
    "start_time": "2024-04-28T19:08:32.479Z"
   },
   {
    "duration": 1385,
    "start_time": "2024-04-28T19:08:32.483Z"
   },
   {
    "duration": 100,
    "start_time": "2024-04-28T19:08:33.871Z"
   },
   {
    "duration": 13,
    "start_time": "2024-04-28T19:08:33.973Z"
   },
   {
    "duration": 2933,
    "start_time": "2024-04-28T19:08:33.988Z"
   },
   {
    "duration": 0,
    "start_time": "2024-04-28T19:08:36.922Z"
   },
   {
    "duration": 0,
    "start_time": "2024-04-28T19:08:36.923Z"
   },
   {
    "duration": 0,
    "start_time": "2024-04-28T19:08:36.925Z"
   },
   {
    "duration": 805,
    "start_time": "2024-04-28T19:12:32.694Z"
   },
   {
    "duration": 504,
    "start_time": "2024-04-28T19:14:24.457Z"
   },
   {
    "duration": 481,
    "start_time": "2024-04-28T19:14:31.894Z"
   },
   {
    "duration": 1174,
    "start_time": "2024-04-28T19:14:46.457Z"
   },
   {
    "duration": 848,
    "start_time": "2024-04-28T19:15:04.161Z"
   },
   {
    "duration": 806,
    "start_time": "2024-04-28T19:16:14.246Z"
   },
   {
    "duration": 1415,
    "start_time": "2024-04-28T19:16:58.580Z"
   },
   {
    "duration": 35,
    "start_time": "2024-04-28T19:16:59.997Z"
   },
   {
    "duration": 5,
    "start_time": "2024-04-28T19:17:00.033Z"
   },
   {
    "duration": 106,
    "start_time": "2024-04-28T19:17:00.039Z"
   },
   {
    "duration": 3,
    "start_time": "2024-04-28T19:17:00.147Z"
   },
   {
    "duration": 64,
    "start_time": "2024-04-28T19:17:00.151Z"
   },
   {
    "duration": 69,
    "start_time": "2024-04-28T19:17:00.216Z"
   },
   {
    "duration": 79,
    "start_time": "2024-04-28T19:17:00.287Z"
   },
   {
    "duration": 2058,
    "start_time": "2024-04-28T19:17:00.368Z"
   },
   {
    "duration": 1166,
    "start_time": "2024-04-28T19:17:02.428Z"
   },
   {
    "duration": 1497,
    "start_time": "2024-04-28T19:17:03.596Z"
   },
   {
    "duration": 7,
    "start_time": "2024-04-28T19:17:05.094Z"
   },
   {
    "duration": 19,
    "start_time": "2024-04-28T19:17:05.103Z"
   },
   {
    "duration": 238,
    "start_time": "2024-04-28T19:17:05.125Z"
   },
   {
    "duration": 510,
    "start_time": "2024-04-28T19:17:05.371Z"
   },
   {
    "duration": 4,
    "start_time": "2024-04-28T19:17:05.882Z"
   },
   {
    "duration": 11,
    "start_time": "2024-04-28T19:17:05.888Z"
   },
   {
    "duration": 567,
    "start_time": "2024-04-28T19:17:05.901Z"
   },
   {
    "duration": 3,
    "start_time": "2024-04-28T19:17:06.469Z"
   },
   {
    "duration": 1392,
    "start_time": "2024-04-28T19:17:06.474Z"
   },
   {
    "duration": 107,
    "start_time": "2024-04-28T19:17:07.869Z"
   },
   {
    "duration": 10,
    "start_time": "2024-04-28T19:17:07.978Z"
   },
   {
    "duration": 2948,
    "start_time": "2024-04-28T19:22:35.964Z"
   },
   {
    "duration": 1665,
    "start_time": "2024-04-28T19:22:38.914Z"
   },
   {
    "duration": 9,
    "start_time": "2024-04-28T19:22:40.581Z"
   },
   {
    "duration": 12273,
    "start_time": "2024-04-28T19:22:40.593Z"
   },
   {
    "duration": 2006,
    "start_time": "2024-04-28T19:25:09.600Z"
   },
   {
    "duration": 14939,
    "start_time": "2024-04-28T19:25:46.019Z"
   },
   {
    "duration": 45,
    "start_time": "2024-04-28T19:27:49.364Z"
   },
   {
    "duration": 114,
    "start_time": "2024-04-28T19:28:01.412Z"
   },
   {
    "duration": 3602,
    "start_time": "2024-04-28T19:28:37.930Z"
   },
   {
    "duration": 4215,
    "start_time": "2024-04-28T19:30:43.425Z"
   },
   {
    "duration": 12475,
    "start_time": "2024-04-28T19:32:54.896Z"
   },
   {
    "duration": 13702,
    "start_time": "2024-04-28T19:33:30.499Z"
   },
   {
    "duration": 15256,
    "start_time": "2024-04-28T19:33:59.795Z"
   },
   {
    "duration": 6191,
    "start_time": "2024-04-28T19:35:36.181Z"
   },
   {
    "duration": 571,
    "start_time": "2024-04-28T19:38:53.145Z"
   },
   {
    "duration": 6904,
    "start_time": "2024-04-28T19:40:08.526Z"
   },
   {
    "duration": 13,
    "start_time": "2024-04-28T19:40:41.150Z"
   },
   {
    "duration": 6367,
    "start_time": "2024-04-28T19:41:23.812Z"
   },
   {
    "duration": 10340,
    "start_time": "2024-04-28T19:42:27.903Z"
   },
   {
    "duration": 10126,
    "start_time": "2024-04-28T19:43:13.896Z"
   },
   {
    "duration": 10442,
    "start_time": "2024-04-28T19:43:38.960Z"
   },
   {
    "duration": 10426,
    "start_time": "2024-04-28T19:44:10.376Z"
   },
   {
    "duration": 13308,
    "start_time": "2024-04-28T19:44:37.535Z"
   },
   {
    "duration": 45,
    "start_time": "2024-04-29T06:25:22.686Z"
   },
   {
    "duration": 1623,
    "start_time": "2024-04-29T06:25:31.861Z"
   },
   {
    "duration": 107,
    "start_time": "2024-04-29T06:25:33.486Z"
   },
   {
    "duration": 4,
    "start_time": "2024-04-29T06:25:33.594Z"
   },
   {
    "duration": 67,
    "start_time": "2024-04-29T06:25:33.599Z"
   },
   {
    "duration": 3,
    "start_time": "2024-04-29T06:25:33.669Z"
   },
   {
    "duration": 16,
    "start_time": "2024-04-29T06:25:33.673Z"
   },
   {
    "duration": 18,
    "start_time": "2024-04-29T06:25:33.690Z"
   },
   {
    "duration": 6,
    "start_time": "2024-04-29T06:25:33.710Z"
   },
   {
    "duration": 1793,
    "start_time": "2024-04-29T06:25:33.717Z"
   },
   {
    "duration": 1036,
    "start_time": "2024-04-29T06:25:35.512Z"
   },
   {
    "duration": 1311,
    "start_time": "2024-04-29T06:25:36.550Z"
   },
   {
    "duration": 7,
    "start_time": "2024-04-29T06:25:37.865Z"
   },
   {
    "duration": 14,
    "start_time": "2024-04-29T06:25:37.874Z"
   },
   {
    "duration": 180,
    "start_time": "2024-04-29T06:25:37.892Z"
   },
   {
    "duration": 529,
    "start_time": "2024-04-29T06:25:38.074Z"
   },
   {
    "duration": 4,
    "start_time": "2024-04-29T06:25:38.604Z"
   },
   {
    "duration": 14,
    "start_time": "2024-04-29T06:25:38.609Z"
   },
   {
    "duration": 612,
    "start_time": "2024-04-29T06:25:38.624Z"
   },
   {
    "duration": 3,
    "start_time": "2024-04-29T06:25:39.237Z"
   },
   {
    "duration": 1324,
    "start_time": "2024-04-29T06:25:39.241Z"
   },
   {
    "duration": 105,
    "start_time": "2024-04-29T06:25:40.567Z"
   },
   {
    "duration": 9,
    "start_time": "2024-04-29T06:25:40.674Z"
   },
   {
    "duration": 8794,
    "start_time": "2024-04-29T06:25:40.685Z"
   },
   {
    "duration": 2509,
    "start_time": "2024-04-29T06:25:49.481Z"
   },
   {
    "duration": 1342,
    "start_time": "2024-04-29T06:25:51.992Z"
   },
   {
    "duration": 8,
    "start_time": "2024-04-29T06:25:53.336Z"
   },
   {
    "duration": 7195,
    "start_time": "2024-04-29T06:29:48.336Z"
   },
   {
    "duration": 7122,
    "start_time": "2024-04-29T06:30:02.913Z"
   },
   {
    "duration": 7207,
    "start_time": "2024-04-29T06:30:15.574Z"
   },
   {
    "duration": 7518,
    "start_time": "2024-04-29T06:30:27.264Z"
   },
   {
    "duration": 7261,
    "start_time": "2024-04-29T06:34:47.904Z"
   },
   {
    "duration": 7449,
    "start_time": "2024-04-29T06:35:00.309Z"
   },
   {
    "duration": 7864,
    "start_time": "2024-04-29T06:38:16.896Z"
   },
   {
    "duration": 7353,
    "start_time": "2024-04-29T06:39:09.376Z"
   },
   {
    "duration": 1367,
    "start_time": "2024-04-29T06:41:40.464Z"
   },
   {
    "duration": 37,
    "start_time": "2024-04-29T06:41:41.832Z"
   },
   {
    "duration": 5,
    "start_time": "2024-04-29T06:41:41.871Z"
   },
   {
    "duration": 77,
    "start_time": "2024-04-29T06:41:41.878Z"
   },
   {
    "duration": 3,
    "start_time": "2024-04-29T06:41:41.957Z"
   },
   {
    "duration": 14,
    "start_time": "2024-04-29T06:41:41.961Z"
   },
   {
    "duration": 16,
    "start_time": "2024-04-29T06:41:41.976Z"
   },
   {
    "duration": 5,
    "start_time": "2024-04-29T06:41:41.994Z"
   },
   {
    "duration": 1710,
    "start_time": "2024-04-29T06:41:42.000Z"
   },
   {
    "duration": 1033,
    "start_time": "2024-04-29T06:41:43.712Z"
   },
   {
    "duration": 1322,
    "start_time": "2024-04-29T06:41:44.747Z"
   },
   {
    "duration": 7,
    "start_time": "2024-04-29T06:41:46.071Z"
   },
   {
    "duration": 12,
    "start_time": "2024-04-29T06:41:46.080Z"
   },
   {
    "duration": 181,
    "start_time": "2024-04-29T06:41:46.094Z"
   },
   {
    "duration": 427,
    "start_time": "2024-04-29T06:41:46.366Z"
   },
   {
    "duration": 3,
    "start_time": "2024-04-29T06:41:46.794Z"
   },
   {
    "duration": 8,
    "start_time": "2024-04-29T06:41:46.798Z"
   },
   {
    "duration": 535,
    "start_time": "2024-04-29T06:41:46.807Z"
   },
   {
    "duration": 3,
    "start_time": "2024-04-29T06:41:47.343Z"
   },
   {
    "duration": 1418,
    "start_time": "2024-04-29T06:41:47.348Z"
   },
   {
    "duration": 102,
    "start_time": "2024-04-29T06:41:48.769Z"
   },
   {
    "duration": 11,
    "start_time": "2024-04-29T06:41:48.872Z"
   },
   {
    "duration": 7412,
    "start_time": "2024-04-29T06:41:48.885Z"
   },
   {
    "duration": 8,
    "start_time": "2024-04-29T06:41:56.299Z"
   },
   {
    "duration": 1338,
    "start_time": "2024-04-29T06:42:16.723Z"
   },
   {
    "duration": 32,
    "start_time": "2024-04-29T06:42:18.063Z"
   },
   {
    "duration": 4,
    "start_time": "2024-04-29T06:42:18.097Z"
   },
   {
    "duration": 83,
    "start_time": "2024-04-29T06:42:18.104Z"
   },
   {
    "duration": 3,
    "start_time": "2024-04-29T06:42:18.189Z"
   },
   {
    "duration": 17,
    "start_time": "2024-04-29T06:42:18.194Z"
   },
   {
    "duration": 13,
    "start_time": "2024-04-29T06:42:18.212Z"
   },
   {
    "duration": 5,
    "start_time": "2024-04-29T06:42:18.226Z"
   },
   {
    "duration": 1774,
    "start_time": "2024-04-29T06:42:18.232Z"
   },
   {
    "duration": 990,
    "start_time": "2024-04-29T06:42:20.009Z"
   },
   {
    "duration": 1317,
    "start_time": "2024-04-29T06:42:21.001Z"
   },
   {
    "duration": 6,
    "start_time": "2024-04-29T06:42:22.320Z"
   },
   {
    "duration": 14,
    "start_time": "2024-04-29T06:42:22.327Z"
   },
   {
    "duration": 224,
    "start_time": "2024-04-29T06:42:22.342Z"
   },
   {
    "duration": 436,
    "start_time": "2024-04-29T06:42:22.568Z"
   },
   {
    "duration": 3,
    "start_time": "2024-04-29T06:42:23.005Z"
   },
   {
    "duration": 12,
    "start_time": "2024-04-29T06:42:23.010Z"
   },
   {
    "duration": 502,
    "start_time": "2024-04-29T06:42:23.023Z"
   },
   {
    "duration": 2,
    "start_time": "2024-04-29T06:42:23.526Z"
   },
   {
    "duration": 1336,
    "start_time": "2024-04-29T06:42:23.530Z"
   },
   {
    "duration": 17,
    "start_time": "2024-04-29T06:42:24.867Z"
   },
   {
    "duration": 9,
    "start_time": "2024-04-29T06:42:24.885Z"
   },
   {
    "duration": 7508,
    "start_time": "2024-04-29T06:42:24.895Z"
   },
   {
    "duration": 9,
    "start_time": "2024-04-29T06:42:32.405Z"
   },
   {
    "duration": 6,
    "start_time": "2024-04-29T06:44:14.015Z"
   },
   {
    "duration": 1307,
    "start_time": "2024-04-29T06:44:18.686Z"
   },
   {
    "duration": 33,
    "start_time": "2024-04-29T06:44:19.994Z"
   },
   {
    "duration": 4,
    "start_time": "2024-04-29T06:44:20.028Z"
   },
   {
    "duration": 70,
    "start_time": "2024-04-29T06:44:20.033Z"
   },
   {
    "duration": 3,
    "start_time": "2024-04-29T06:44:20.105Z"
   },
   {
    "duration": 16,
    "start_time": "2024-04-29T06:44:20.109Z"
   },
   {
    "duration": 17,
    "start_time": "2024-04-29T06:44:20.126Z"
   },
   {
    "duration": 4,
    "start_time": "2024-04-29T06:44:20.144Z"
   },
   {
    "duration": 1766,
    "start_time": "2024-04-29T06:44:20.150Z"
   },
   {
    "duration": 986,
    "start_time": "2024-04-29T06:44:21.918Z"
   },
   {
    "duration": 1294,
    "start_time": "2024-04-29T06:44:22.906Z"
   },
   {
    "duration": 7,
    "start_time": "2024-04-29T06:44:24.202Z"
   },
   {
    "duration": 20,
    "start_time": "2024-04-29T06:44:24.210Z"
   },
   {
    "duration": 232,
    "start_time": "2024-04-29T06:44:24.233Z"
   },
   {
    "duration": 429,
    "start_time": "2024-04-29T06:44:24.467Z"
   },
   {
    "duration": 4,
    "start_time": "2024-04-29T06:44:24.898Z"
   },
   {
    "duration": 14,
    "start_time": "2024-04-29T06:44:24.903Z"
   },
   {
    "duration": 539,
    "start_time": "2024-04-29T06:44:24.918Z"
   },
   {
    "duration": 6,
    "start_time": "2024-04-29T06:44:25.459Z"
   },
   {
    "duration": 1305,
    "start_time": "2024-04-29T06:44:25.466Z"
   },
   {
    "duration": 106,
    "start_time": "2024-04-29T06:44:26.773Z"
   },
   {
    "duration": 10,
    "start_time": "2024-04-29T06:44:26.880Z"
   },
   {
    "duration": 7341,
    "start_time": "2024-04-29T06:44:26.892Z"
   },
   {
    "duration": 10,
    "start_time": "2024-04-29T06:44:34.235Z"
   },
   {
    "duration": 1323,
    "start_time": "2024-04-29T06:44:39.676Z"
   },
   {
    "duration": 32,
    "start_time": "2024-04-29T06:44:41.001Z"
   },
   {
    "duration": 5,
    "start_time": "2024-04-29T06:44:41.034Z"
   },
   {
    "duration": 81,
    "start_time": "2024-04-29T06:44:41.041Z"
   },
   {
    "duration": 3,
    "start_time": "2024-04-29T06:44:41.124Z"
   },
   {
    "duration": 12,
    "start_time": "2024-04-29T06:44:41.129Z"
   },
   {
    "duration": 29,
    "start_time": "2024-04-29T06:44:41.142Z"
   },
   {
    "duration": 5,
    "start_time": "2024-04-29T06:44:41.172Z"
   },
   {
    "duration": 1748,
    "start_time": "2024-04-29T06:44:41.178Z"
   },
   {
    "duration": 965,
    "start_time": "2024-04-29T06:44:42.928Z"
   },
   {
    "duration": 1293,
    "start_time": "2024-04-29T06:44:43.894Z"
   },
   {
    "duration": 8,
    "start_time": "2024-04-29T06:44:45.188Z"
   },
   {
    "duration": 32,
    "start_time": "2024-04-29T06:44:45.198Z"
   },
   {
    "duration": 142,
    "start_time": "2024-04-29T06:44:45.232Z"
   },
   {
    "duration": 530,
    "start_time": "2024-04-29T06:44:45.375Z"
   },
   {
    "duration": 3,
    "start_time": "2024-04-29T06:44:45.907Z"
   },
   {
    "duration": 10,
    "start_time": "2024-04-29T06:44:45.912Z"
   },
   {
    "duration": 505,
    "start_time": "2024-04-29T06:44:45.923Z"
   },
   {
    "duration": 2,
    "start_time": "2024-04-29T06:44:46.430Z"
   },
   {
    "duration": 1239,
    "start_time": "2024-04-29T06:44:46.433Z"
   },
   {
    "duration": 102,
    "start_time": "2024-04-29T06:44:47.674Z"
   },
   {
    "duration": 11,
    "start_time": "2024-04-29T06:44:47.778Z"
   },
   {
    "duration": 7359,
    "start_time": "2024-04-29T06:44:47.791Z"
   },
   {
    "duration": 15,
    "start_time": "2024-04-29T06:44:55.151Z"
   },
   {
    "duration": 1363,
    "start_time": "2024-04-29T06:46:52.366Z"
   },
   {
    "duration": 33,
    "start_time": "2024-04-29T06:46:53.731Z"
   },
   {
    "duration": 5,
    "start_time": "2024-04-29T06:46:53.766Z"
   },
   {
    "duration": 68,
    "start_time": "2024-04-29T06:46:53.773Z"
   },
   {
    "duration": 3,
    "start_time": "2024-04-29T06:46:53.844Z"
   },
   {
    "duration": 12,
    "start_time": "2024-04-29T06:46:53.865Z"
   },
   {
    "duration": 16,
    "start_time": "2024-04-29T06:46:53.879Z"
   },
   {
    "duration": 4,
    "start_time": "2024-04-29T06:46:53.896Z"
   },
   {
    "duration": 1769,
    "start_time": "2024-04-29T06:46:53.902Z"
   },
   {
    "duration": 1044,
    "start_time": "2024-04-29T06:46:55.673Z"
   },
   {
    "duration": 1347,
    "start_time": "2024-04-29T06:46:56.718Z"
   },
   {
    "duration": 7,
    "start_time": "2024-04-29T06:46:58.068Z"
   },
   {
    "duration": 14,
    "start_time": "2024-04-29T06:46:58.076Z"
   },
   {
    "duration": 181,
    "start_time": "2024-04-29T06:46:58.092Z"
   },
   {
    "duration": 441,
    "start_time": "2024-04-29T06:46:58.366Z"
   },
   {
    "duration": 4,
    "start_time": "2024-04-29T06:46:58.808Z"
   },
   {
    "duration": 12,
    "start_time": "2024-04-29T06:46:58.813Z"
   },
   {
    "duration": 536,
    "start_time": "2024-04-29T06:46:58.826Z"
   },
   {
    "duration": 3,
    "start_time": "2024-04-29T06:46:59.364Z"
   },
   {
    "duration": 1206,
    "start_time": "2024-04-29T06:46:59.368Z"
   },
   {
    "duration": 101,
    "start_time": "2024-04-29T06:47:00.576Z"
   },
   {
    "duration": 9,
    "start_time": "2024-04-29T06:47:00.679Z"
   },
   {
    "duration": 7387,
    "start_time": "2024-04-29T06:47:00.690Z"
   },
   {
    "duration": 9,
    "start_time": "2024-04-29T06:47:08.078Z"
   },
   {
    "duration": 1393,
    "start_time": "2024-04-29T06:47:50.033Z"
   },
   {
    "duration": 33,
    "start_time": "2024-04-29T06:47:51.427Z"
   },
   {
    "duration": 4,
    "start_time": "2024-04-29T06:47:51.461Z"
   },
   {
    "duration": 60,
    "start_time": "2024-04-29T06:47:51.467Z"
   },
   {
    "duration": 3,
    "start_time": "2024-04-29T06:47:51.528Z"
   },
   {
    "duration": 11,
    "start_time": "2024-04-29T06:47:51.532Z"
   },
   {
    "duration": 27,
    "start_time": "2024-04-29T06:47:51.544Z"
   },
   {
    "duration": 5,
    "start_time": "2024-04-29T06:47:51.572Z"
   },
   {
    "duration": 1747,
    "start_time": "2024-04-29T06:47:51.578Z"
   },
   {
    "duration": 1053,
    "start_time": "2024-04-29T06:47:53.327Z"
   },
   {
    "duration": 1289,
    "start_time": "2024-04-29T06:47:54.381Z"
   },
   {
    "duration": 6,
    "start_time": "2024-04-29T06:47:55.672Z"
   },
   {
    "duration": 12,
    "start_time": "2024-04-29T06:47:55.679Z"
   },
   {
    "duration": 277,
    "start_time": "2024-04-29T06:47:55.693Z"
   },
   {
    "duration": 424,
    "start_time": "2024-04-29T06:47:55.972Z"
   },
   {
    "duration": 4,
    "start_time": "2024-04-29T06:47:56.397Z"
   },
   {
    "duration": 12,
    "start_time": "2024-04-29T06:47:56.402Z"
   },
   {
    "duration": 539,
    "start_time": "2024-04-29T06:47:56.416Z"
   },
   {
    "duration": 2,
    "start_time": "2024-04-29T06:47:56.956Z"
   },
   {
    "duration": 1309,
    "start_time": "2024-04-29T06:47:56.964Z"
   },
   {
    "duration": 98,
    "start_time": "2024-04-29T06:47:58.275Z"
   },
   {
    "duration": 12,
    "start_time": "2024-04-29T06:47:58.375Z"
   },
   {
    "duration": 7385,
    "start_time": "2024-04-29T06:47:58.388Z"
   },
   {
    "duration": 9,
    "start_time": "2024-04-29T06:48:05.775Z"
   },
   {
    "duration": 1608,
    "start_time": "2024-04-29T06:49:05.768Z"
   },
   {
    "duration": 1931,
    "start_time": "2024-04-29T06:49:18.864Z"
   },
   {
    "duration": 1317,
    "start_time": "2024-04-29T06:49:56.818Z"
   },
   {
    "duration": 33,
    "start_time": "2024-04-29T06:49:58.137Z"
   },
   {
    "duration": 4,
    "start_time": "2024-04-29T06:49:58.171Z"
   },
   {
    "duration": 65,
    "start_time": "2024-04-29T06:49:58.176Z"
   },
   {
    "duration": 3,
    "start_time": "2024-04-29T06:49:58.243Z"
   },
   {
    "duration": 22,
    "start_time": "2024-04-29T06:49:58.247Z"
   },
   {
    "duration": 19,
    "start_time": "2024-04-29T06:49:58.270Z"
   },
   {
    "duration": 18,
    "start_time": "2024-04-29T06:49:58.290Z"
   },
   {
    "duration": 1646,
    "start_time": "2024-04-29T06:49:58.309Z"
   },
   {
    "duration": 936,
    "start_time": "2024-04-29T06:49:59.957Z"
   },
   {
    "duration": 1303,
    "start_time": "2024-04-29T06:50:00.895Z"
   },
   {
    "duration": 6,
    "start_time": "2024-04-29T06:50:02.199Z"
   },
   {
    "duration": 28,
    "start_time": "2024-04-29T06:50:02.206Z"
   },
   {
    "duration": 229,
    "start_time": "2024-04-29T06:50:02.236Z"
   },
   {
    "duration": 435,
    "start_time": "2024-04-29T06:50:02.468Z"
   },
   {
    "duration": 4,
    "start_time": "2024-04-29T06:50:02.904Z"
   },
   {
    "duration": 13,
    "start_time": "2024-04-29T06:50:02.909Z"
   },
   {
    "duration": 522,
    "start_time": "2024-04-29T06:50:02.924Z"
   },
   {
    "duration": 2,
    "start_time": "2024-04-29T06:50:03.447Z"
   },
   {
    "duration": 1315,
    "start_time": "2024-04-29T06:50:03.451Z"
   },
   {
    "duration": 111,
    "start_time": "2024-04-29T06:50:04.769Z"
   },
   {
    "duration": 13,
    "start_time": "2024-04-29T06:50:04.882Z"
   },
   {
    "duration": 5974,
    "start_time": "2024-04-29T06:50:04.897Z"
   },
   {
    "duration": 9,
    "start_time": "2024-04-29T06:50:10.872Z"
   },
   {
    "duration": 1359,
    "start_time": "2024-04-29T06:50:21.585Z"
   },
   {
    "duration": 32,
    "start_time": "2024-04-29T06:50:22.946Z"
   },
   {
    "duration": 5,
    "start_time": "2024-04-29T06:50:22.979Z"
   },
   {
    "duration": 68,
    "start_time": "2024-04-29T06:50:22.985Z"
   },
   {
    "duration": 3,
    "start_time": "2024-04-29T06:50:23.055Z"
   },
   {
    "duration": 14,
    "start_time": "2024-04-29T06:50:23.065Z"
   },
   {
    "duration": 19,
    "start_time": "2024-04-29T06:50:23.080Z"
   },
   {
    "duration": 5,
    "start_time": "2024-04-29T06:50:23.101Z"
   },
   {
    "duration": 1611,
    "start_time": "2024-04-29T06:50:23.108Z"
   },
   {
    "duration": 933,
    "start_time": "2024-04-29T06:50:24.720Z"
   },
   {
    "duration": 1318,
    "start_time": "2024-04-29T06:50:25.654Z"
   },
   {
    "duration": 7,
    "start_time": "2024-04-29T06:50:26.973Z"
   },
   {
    "duration": 25,
    "start_time": "2024-04-29T06:50:26.981Z"
   },
   {
    "duration": 257,
    "start_time": "2024-04-29T06:50:27.009Z"
   },
   {
    "duration": 429,
    "start_time": "2024-04-29T06:50:27.268Z"
   },
   {
    "duration": 3,
    "start_time": "2024-04-29T06:50:27.699Z"
   },
   {
    "duration": 12,
    "start_time": "2024-04-29T06:50:27.703Z"
   },
   {
    "duration": 523,
    "start_time": "2024-04-29T06:50:27.716Z"
   },
   {
    "duration": 2,
    "start_time": "2024-04-29T06:50:28.240Z"
   },
   {
    "duration": 1326,
    "start_time": "2024-04-29T06:50:28.244Z"
   },
   {
    "duration": 100,
    "start_time": "2024-04-29T06:50:29.572Z"
   },
   {
    "duration": 10,
    "start_time": "2024-04-29T06:50:29.673Z"
   },
   {
    "duration": 5919,
    "start_time": "2024-04-29T06:50:29.684Z"
   },
   {
    "duration": 10,
    "start_time": "2024-04-29T06:50:35.605Z"
   },
   {
    "duration": 1349,
    "start_time": "2024-04-29T06:51:50.865Z"
   },
   {
    "duration": 31,
    "start_time": "2024-04-29T06:51:52.216Z"
   },
   {
    "duration": 4,
    "start_time": "2024-04-29T06:51:52.248Z"
   },
   {
    "duration": 56,
    "start_time": "2024-04-29T06:51:52.253Z"
   },
   {
    "duration": 2,
    "start_time": "2024-04-29T06:51:52.311Z"
   },
   {
    "duration": 8,
    "start_time": "2024-04-29T06:51:52.315Z"
   },
   {
    "duration": 11,
    "start_time": "2024-04-29T06:51:52.325Z"
   },
   {
    "duration": 7,
    "start_time": "2024-04-29T06:51:52.338Z"
   },
   {
    "duration": 1583,
    "start_time": "2024-04-29T06:51:52.346Z"
   },
   {
    "duration": 865,
    "start_time": "2024-04-29T06:51:53.930Z"
   },
   {
    "duration": 1295,
    "start_time": "2024-04-29T06:51:54.797Z"
   },
   {
    "duration": 5,
    "start_time": "2024-04-29T06:51:56.094Z"
   },
   {
    "duration": 11,
    "start_time": "2024-04-29T06:51:56.101Z"
   },
   {
    "duration": 251,
    "start_time": "2024-04-29T06:51:56.114Z"
   },
   {
    "duration": 437,
    "start_time": "2024-04-29T06:51:56.367Z"
   },
   {
    "duration": 3,
    "start_time": "2024-04-29T06:51:56.805Z"
   },
   {
    "duration": 8,
    "start_time": "2024-04-29T06:51:56.810Z"
   },
   {
    "duration": 534,
    "start_time": "2024-04-29T06:51:56.819Z"
   },
   {
    "duration": 13,
    "start_time": "2024-04-29T06:51:57.355Z"
   },
   {
    "duration": 1396,
    "start_time": "2024-04-29T06:51:57.369Z"
   },
   {
    "duration": 13,
    "start_time": "2024-04-29T06:51:58.767Z"
   },
   {
    "duration": 10,
    "start_time": "2024-04-29T06:51:58.782Z"
   },
   {
    "duration": 6003,
    "start_time": "2024-04-29T06:51:58.793Z"
   },
   {
    "duration": 9,
    "start_time": "2024-04-29T06:52:04.798Z"
   },
   {
    "duration": 1367,
    "start_time": "2024-04-29T06:52:38.500Z"
   },
   {
    "duration": 32,
    "start_time": "2024-04-29T06:52:39.869Z"
   },
   {
    "duration": 3,
    "start_time": "2024-04-29T06:52:39.903Z"
   },
   {
    "duration": 56,
    "start_time": "2024-04-29T06:52:39.908Z"
   },
   {
    "duration": 3,
    "start_time": "2024-04-29T06:52:39.965Z"
   },
   {
    "duration": 10,
    "start_time": "2024-04-29T06:52:39.969Z"
   },
   {
    "duration": 18,
    "start_time": "2024-04-29T06:52:39.980Z"
   },
   {
    "duration": 4,
    "start_time": "2024-04-29T06:52:39.999Z"
   },
   {
    "duration": 1763,
    "start_time": "2024-04-29T06:52:40.004Z"
   },
   {
    "duration": 1034,
    "start_time": "2024-04-29T06:52:41.770Z"
   },
   {
    "duration": 1317,
    "start_time": "2024-04-29T06:52:42.806Z"
   },
   {
    "duration": 6,
    "start_time": "2024-04-29T06:52:44.124Z"
   },
   {
    "duration": 17,
    "start_time": "2024-04-29T06:52:44.131Z"
   },
   {
    "duration": 214,
    "start_time": "2024-04-29T06:52:44.150Z"
   },
   {
    "duration": 428,
    "start_time": "2024-04-29T06:52:44.366Z"
   },
   {
    "duration": 3,
    "start_time": "2024-04-29T06:52:44.796Z"
   },
   {
    "duration": 8,
    "start_time": "2024-04-29T06:52:44.801Z"
   },
   {
    "duration": 548,
    "start_time": "2024-04-29T06:52:44.811Z"
   },
   {
    "duration": 5,
    "start_time": "2024-04-29T06:52:45.360Z"
   },
   {
    "duration": 1303,
    "start_time": "2024-04-29T06:52:45.367Z"
   },
   {
    "duration": 104,
    "start_time": "2024-04-29T06:52:46.672Z"
   },
   {
    "duration": 9,
    "start_time": "2024-04-29T06:52:46.778Z"
   },
   {
    "duration": 7349,
    "start_time": "2024-04-29T06:52:46.788Z"
   },
   {
    "duration": 9,
    "start_time": "2024-04-29T06:52:54.139Z"
   },
   {
    "duration": 1370,
    "start_time": "2024-04-29T06:53:10.252Z"
   },
   {
    "duration": 32,
    "start_time": "2024-04-29T06:53:11.624Z"
   },
   {
    "duration": 4,
    "start_time": "2024-04-29T06:53:11.658Z"
   },
   {
    "duration": 61,
    "start_time": "2024-04-29T06:53:11.664Z"
   },
   {
    "duration": 2,
    "start_time": "2024-04-29T06:53:11.727Z"
   },
   {
    "duration": 12,
    "start_time": "2024-04-29T06:53:11.731Z"
   },
   {
    "duration": 28,
    "start_time": "2024-04-29T06:53:11.744Z"
   },
   {
    "duration": 5,
    "start_time": "2024-04-29T06:53:11.773Z"
   },
   {
    "duration": 1773,
    "start_time": "2024-04-29T06:53:11.780Z"
   },
   {
    "duration": 1044,
    "start_time": "2024-04-29T06:53:13.556Z"
   },
   {
    "duration": 1303,
    "start_time": "2024-04-29T06:53:14.601Z"
   },
   {
    "duration": 8,
    "start_time": "2024-04-29T06:53:15.906Z"
   },
   {
    "duration": 14,
    "start_time": "2024-04-29T06:53:15.915Z"
   },
   {
    "duration": 236,
    "start_time": "2024-04-29T06:53:15.930Z"
   },
   {
    "duration": 440,
    "start_time": "2024-04-29T06:53:16.171Z"
   },
   {
    "duration": 4,
    "start_time": "2024-04-29T06:53:16.613Z"
   },
   {
    "duration": 9,
    "start_time": "2024-04-29T06:53:16.619Z"
   },
   {
    "duration": 507,
    "start_time": "2024-04-29T06:53:16.629Z"
   },
   {
    "duration": 3,
    "start_time": "2024-04-29T06:53:17.138Z"
   },
   {
    "duration": 1127,
    "start_time": "2024-04-29T06:53:17.142Z"
   },
   {
    "duration": 101,
    "start_time": "2024-04-29T06:53:18.271Z"
   },
   {
    "duration": 9,
    "start_time": "2024-04-29T06:53:18.374Z"
   },
   {
    "duration": 7337,
    "start_time": "2024-04-29T06:53:18.384Z"
   },
   {
    "duration": 9,
    "start_time": "2024-04-29T06:53:25.722Z"
   },
   {
    "duration": 7,
    "start_time": "2024-04-29T07:07:22.290Z"
   },
   {
    "duration": 12,
    "start_time": "2024-04-29T07:07:42.913Z"
   },
   {
    "duration": 112,
    "start_time": "2024-04-29T07:09:03.662Z"
   },
   {
    "duration": 7,
    "start_time": "2024-04-29T07:09:32.963Z"
   },
   {
    "duration": 10,
    "start_time": "2024-04-29T07:09:34.757Z"
   },
   {
    "duration": 1296,
    "start_time": "2024-04-29T07:11:50.525Z"
   },
   {
    "duration": 32,
    "start_time": "2024-04-29T07:11:51.822Z"
   },
   {
    "duration": 4,
    "start_time": "2024-04-29T07:11:51.855Z"
   },
   {
    "duration": 81,
    "start_time": "2024-04-29T07:11:51.860Z"
   },
   {
    "duration": 2,
    "start_time": "2024-04-29T07:11:51.943Z"
   },
   {
    "duration": 17,
    "start_time": "2024-04-29T07:11:51.947Z"
   },
   {
    "duration": 39,
    "start_time": "2024-04-29T07:11:51.966Z"
   },
   {
    "duration": 44,
    "start_time": "2024-04-29T07:11:52.006Z"
   },
   {
    "duration": 4,
    "start_time": "2024-04-29T07:11:52.052Z"
   },
   {
    "duration": 1687,
    "start_time": "2024-04-29T07:11:52.058Z"
   },
   {
    "duration": 1001,
    "start_time": "2024-04-29T07:11:53.747Z"
   },
   {
    "duration": 1332,
    "start_time": "2024-04-29T07:11:54.749Z"
   },
   {
    "duration": 7,
    "start_time": "2024-04-29T07:11:56.082Z"
   },
   {
    "duration": 27,
    "start_time": "2024-04-29T07:11:56.090Z"
   },
   {
    "duration": 148,
    "start_time": "2024-04-29T07:11:56.118Z"
   },
   {
    "duration": 427,
    "start_time": "2024-04-29T07:11:56.268Z"
   },
   {
    "duration": 3,
    "start_time": "2024-04-29T07:11:56.697Z"
   },
   {
    "duration": 14,
    "start_time": "2024-04-29T07:11:56.701Z"
   },
   {
    "duration": 538,
    "start_time": "2024-04-29T07:11:56.716Z"
   },
   {
    "duration": 2,
    "start_time": "2024-04-29T07:11:57.255Z"
   },
   {
    "duration": 1201,
    "start_time": "2024-04-29T07:11:57.264Z"
   },
   {
    "duration": 104,
    "start_time": "2024-04-29T07:11:58.467Z"
   },
   {
    "duration": 10,
    "start_time": "2024-04-29T07:11:58.572Z"
   },
   {
    "duration": 4462,
    "start_time": "2024-04-29T07:11:58.583Z"
   },
   {
    "duration": 8,
    "start_time": "2024-04-29T07:12:03.046Z"
   },
   {
    "duration": 1051,
    "start_time": "2024-04-29T07:12:14.945Z"
   },
   {
    "duration": 802,
    "start_time": "2024-04-29T07:18:49.102Z"
   },
   {
    "duration": 14,
    "start_time": "2024-04-29T07:18:58.048Z"
   },
   {
    "duration": 7,
    "start_time": "2024-04-29T07:19:23.921Z"
   },
   {
    "duration": 1597,
    "start_time": "2024-04-29T08:12:46.887Z"
   },
   {
    "duration": 1516,
    "start_time": "2024-04-29T08:12:55.310Z"
   },
   {
    "duration": 1494,
    "start_time": "2024-04-29T08:13:04.560Z"
   },
   {
    "duration": 1564,
    "start_time": "2024-04-29T08:15:23.735Z"
   },
   {
    "duration": 1466,
    "start_time": "2024-04-29T08:15:41.188Z"
   },
   {
    "duration": 1386,
    "start_time": "2024-04-29T08:17:10.345Z"
   },
   {
    "duration": 32,
    "start_time": "2024-04-29T08:17:11.732Z"
   },
   {
    "duration": 4,
    "start_time": "2024-04-29T08:17:11.766Z"
   },
   {
    "duration": 64,
    "start_time": "2024-04-29T08:17:11.772Z"
   },
   {
    "duration": 790,
    "start_time": "2024-04-29T08:17:11.839Z"
   },
   {
    "duration": 0,
    "start_time": "2024-04-29T08:17:12.632Z"
   },
   {
    "duration": 0,
    "start_time": "2024-04-29T08:17:12.634Z"
   },
   {
    "duration": 0,
    "start_time": "2024-04-29T08:17:12.635Z"
   },
   {
    "duration": 0,
    "start_time": "2024-04-29T08:17:12.636Z"
   },
   {
    "duration": 0,
    "start_time": "2024-04-29T08:17:12.637Z"
   },
   {
    "duration": 0,
    "start_time": "2024-04-29T08:17:12.638Z"
   },
   {
    "duration": 0,
    "start_time": "2024-04-29T08:17:12.639Z"
   },
   {
    "duration": 0,
    "start_time": "2024-04-29T08:17:12.641Z"
   },
   {
    "duration": 0,
    "start_time": "2024-04-29T08:17:12.642Z"
   },
   {
    "duration": 0,
    "start_time": "2024-04-29T08:17:12.643Z"
   },
   {
    "duration": 0,
    "start_time": "2024-04-29T08:17:12.644Z"
   },
   {
    "duration": 0,
    "start_time": "2024-04-29T08:17:12.645Z"
   },
   {
    "duration": 0,
    "start_time": "2024-04-29T08:17:12.647Z"
   },
   {
    "duration": 0,
    "start_time": "2024-04-29T08:17:12.648Z"
   },
   {
    "duration": 0,
    "start_time": "2024-04-29T08:17:12.649Z"
   },
   {
    "duration": 0,
    "start_time": "2024-04-29T08:17:12.650Z"
   },
   {
    "duration": 0,
    "start_time": "2024-04-29T08:17:12.651Z"
   },
   {
    "duration": 0,
    "start_time": "2024-04-29T08:17:12.652Z"
   },
   {
    "duration": 0,
    "start_time": "2024-04-29T08:17:12.653Z"
   },
   {
    "duration": 0,
    "start_time": "2024-04-29T08:17:12.654Z"
   },
   {
    "duration": 0,
    "start_time": "2024-04-29T08:17:12.655Z"
   },
   {
    "duration": 1343,
    "start_time": "2024-04-29T08:17:33.905Z"
   },
   {
    "duration": 31,
    "start_time": "2024-04-29T08:17:35.250Z"
   },
   {
    "duration": 5,
    "start_time": "2024-04-29T08:17:35.282Z"
   },
   {
    "duration": 62,
    "start_time": "2024-04-29T08:17:35.289Z"
   },
   {
    "duration": 4,
    "start_time": "2024-04-29T08:17:35.353Z"
   },
   {
    "duration": 3,
    "start_time": "2024-04-29T08:17:35.365Z"
   },
   {
    "duration": 13,
    "start_time": "2024-04-29T08:17:35.369Z"
   },
   {
    "duration": 25,
    "start_time": "2024-04-29T08:17:35.384Z"
   },
   {
    "duration": 13,
    "start_time": "2024-04-29T08:17:35.411Z"
   },
   {
    "duration": 5,
    "start_time": "2024-04-29T08:17:35.426Z"
   },
   {
    "duration": 1706,
    "start_time": "2024-04-29T08:17:35.433Z"
   },
   {
    "duration": 1019,
    "start_time": "2024-04-29T08:17:37.140Z"
   },
   {
    "duration": 1379,
    "start_time": "2024-04-29T08:17:38.160Z"
   },
   {
    "duration": 6,
    "start_time": "2024-04-29T08:17:39.541Z"
   },
   {
    "duration": 31,
    "start_time": "2024-04-29T08:17:39.548Z"
   },
   {
    "duration": 188,
    "start_time": "2024-04-29T08:17:39.580Z"
   },
   {
    "duration": 437,
    "start_time": "2024-04-29T08:17:39.770Z"
   },
   {
    "duration": 3,
    "start_time": "2024-04-29T08:17:40.209Z"
   },
   {
    "duration": 13,
    "start_time": "2024-04-29T08:17:40.214Z"
   },
   {
    "duration": 547,
    "start_time": "2024-04-29T08:17:40.229Z"
   },
   {
    "duration": 3,
    "start_time": "2024-04-29T08:17:40.778Z"
   },
   {
    "duration": 1292,
    "start_time": "2024-04-29T08:17:40.782Z"
   },
   {
    "duration": 13,
    "start_time": "2024-04-29T08:17:42.166Z"
   },
   {
    "duration": 9,
    "start_time": "2024-04-29T08:17:42.181Z"
   },
   {
    "duration": 4397,
    "start_time": "2024-04-29T08:17:42.191Z"
   },
   {
    "duration": 8,
    "start_time": "2024-04-29T08:17:46.589Z"
   },
   {
    "duration": 1330,
    "start_time": "2024-04-29T10:16:27.322Z"
   },
   {
    "duration": 31,
    "start_time": "2024-04-29T10:16:28.654Z"
   },
   {
    "duration": 4,
    "start_time": "2024-04-29T10:16:28.686Z"
   },
   {
    "duration": 76,
    "start_time": "2024-04-29T10:16:28.692Z"
   },
   {
    "duration": 4,
    "start_time": "2024-04-29T10:16:28.770Z"
   },
   {
    "duration": 6,
    "start_time": "2024-04-29T10:16:28.776Z"
   },
   {
    "duration": 7,
    "start_time": "2024-04-29T10:16:28.783Z"
   },
   {
    "duration": 9,
    "start_time": "2024-04-29T10:16:28.791Z"
   },
   {
    "duration": 12,
    "start_time": "2024-04-29T10:16:28.802Z"
   },
   {
    "duration": 5,
    "start_time": "2024-04-29T10:16:28.817Z"
   },
   {
    "duration": 1831,
    "start_time": "2024-04-29T10:16:28.823Z"
   },
   {
    "duration": 1049,
    "start_time": "2024-04-29T10:16:30.656Z"
   },
   {
    "duration": 1363,
    "start_time": "2024-04-29T10:16:31.706Z"
   },
   {
    "duration": 6,
    "start_time": "2024-04-29T10:16:33.071Z"
   },
   {
    "duration": 24,
    "start_time": "2024-04-29T10:16:33.078Z"
   },
   {
    "duration": 168,
    "start_time": "2024-04-29T10:16:33.103Z"
   },
   {
    "duration": 443,
    "start_time": "2024-04-29T10:16:33.273Z"
   },
   {
    "duration": 3,
    "start_time": "2024-04-29T10:16:33.717Z"
   },
   {
    "duration": 25,
    "start_time": "2024-04-29T10:16:33.722Z"
   },
   {
    "duration": 513,
    "start_time": "2024-04-29T10:16:33.748Z"
   },
   {
    "duration": 2,
    "start_time": "2024-04-29T10:16:34.265Z"
   },
   {
    "duration": 1301,
    "start_time": "2024-04-29T10:16:34.268Z"
   },
   {
    "duration": 99,
    "start_time": "2024-04-29T10:16:35.574Z"
   },
   {
    "duration": 14,
    "start_time": "2024-04-29T10:16:35.674Z"
   },
   {
    "duration": 4540,
    "start_time": "2024-04-29T10:18:00.600Z"
   },
   {
    "duration": 3978,
    "start_time": "2024-04-29T10:30:31.174Z"
   },
   {
    "duration": 10,
    "start_time": "2024-04-29T10:33:13.208Z"
   },
   {
    "duration": 10724,
    "start_time": "2024-04-29T10:34:52.620Z"
   },
   {
    "duration": 12631,
    "start_time": "2024-04-29T10:36:26.983Z"
   },
   {
    "duration": 1486,
    "start_time": "2024-04-29T10:37:34.114Z"
   },
   {
    "duration": 3954,
    "start_time": "2024-04-29T10:38:00.229Z"
   },
   {
    "duration": 5187,
    "start_time": "2024-04-29T10:39:33.996Z"
   },
   {
    "duration": 3318,
    "start_time": "2024-04-29T10:42:05.184Z"
   },
   {
    "duration": 13878,
    "start_time": "2024-04-29T10:43:27.707Z"
   },
   {
    "duration": 12,
    "start_time": "2024-04-29T11:01:18.837Z"
   },
   {
    "duration": 10,
    "start_time": "2024-04-29T11:03:47.326Z"
   },
   {
    "duration": 12,
    "start_time": "2024-04-29T11:04:01.105Z"
   },
   {
    "duration": 1345,
    "start_time": "2024-04-29T11:30:29.892Z"
   },
   {
    "duration": 34,
    "start_time": "2024-04-29T11:30:31.239Z"
   },
   {
    "duration": 46,
    "start_time": "2024-04-29T11:30:31.274Z"
   },
   {
    "duration": 107,
    "start_time": "2024-04-29T11:30:31.322Z"
   },
   {
    "duration": 5,
    "start_time": "2024-04-29T11:30:31.431Z"
   },
   {
    "duration": 23,
    "start_time": "2024-04-29T11:30:31.438Z"
   },
   {
    "duration": 37,
    "start_time": "2024-04-29T11:30:31.462Z"
   },
   {
    "duration": 46,
    "start_time": "2024-04-29T11:30:31.500Z"
   },
   {
    "duration": 43,
    "start_time": "2024-04-29T11:30:31.547Z"
   },
   {
    "duration": 14,
    "start_time": "2024-04-29T11:30:31.592Z"
   },
   {
    "duration": 1787,
    "start_time": "2024-04-29T11:30:31.607Z"
   },
   {
    "duration": 1026,
    "start_time": "2024-04-29T11:30:33.396Z"
   },
   {
    "duration": 1379,
    "start_time": "2024-04-29T11:30:34.423Z"
   },
   {
    "duration": 8,
    "start_time": "2024-04-29T11:30:35.805Z"
   },
   {
    "duration": 34,
    "start_time": "2024-04-29T11:30:35.814Z"
   },
   {
    "duration": 215,
    "start_time": "2024-04-29T11:30:35.850Z"
   },
   {
    "duration": 424,
    "start_time": "2024-04-29T11:30:36.069Z"
   },
   {
    "duration": 4,
    "start_time": "2024-04-29T11:30:36.494Z"
   },
   {
    "duration": 15,
    "start_time": "2024-04-29T11:30:36.499Z"
   },
   {
    "duration": 531,
    "start_time": "2024-04-29T11:30:36.515Z"
   },
   {
    "duration": 101312,
    "start_time": "2024-04-29T11:30:37.048Z"
   },
   {
    "duration": 1306,
    "start_time": "2024-04-29T11:32:18.362Z"
   },
   {
    "duration": 101,
    "start_time": "2024-04-29T11:32:19.671Z"
   },
   {
    "duration": 4124,
    "start_time": "2024-04-29T11:32:19.774Z"
   },
   {
    "duration": 10,
    "start_time": "2024-04-29T11:32:23.899Z"
   },
   {
    "duration": 5,
    "start_time": "2024-04-29T11:46:05.180Z"
   },
   {
    "duration": 46,
    "start_time": "2024-04-29T11:46:08.415Z"
   },
   {
    "duration": 5,
    "start_time": "2024-04-29T11:47:48.353Z"
   },
   {
    "duration": 49,
    "start_time": "2024-04-29T11:47:49.164Z"
   },
   {
    "duration": 5,
    "start_time": "2024-04-29T11:48:31.018Z"
   },
   {
    "duration": 47,
    "start_time": "2024-04-29T11:48:31.673Z"
   },
   {
    "duration": 1348,
    "start_time": "2024-04-29T12:21:03.190Z"
   },
   {
    "duration": 33,
    "start_time": "2024-04-29T12:21:04.539Z"
   },
   {
    "duration": 5,
    "start_time": "2024-04-29T12:21:04.573Z"
   },
   {
    "duration": 61,
    "start_time": "2024-04-29T12:21:04.579Z"
   },
   {
    "duration": 4,
    "start_time": "2024-04-29T12:21:04.642Z"
   },
   {
    "duration": 2,
    "start_time": "2024-04-29T12:21:04.665Z"
   },
   {
    "duration": 7,
    "start_time": "2024-04-29T12:21:04.669Z"
   },
   {
    "duration": 16,
    "start_time": "2024-04-29T12:21:04.677Z"
   },
   {
    "duration": 25,
    "start_time": "2024-04-29T12:21:04.695Z"
   },
   {
    "duration": 5,
    "start_time": "2024-04-29T12:21:04.721Z"
   },
   {
    "duration": 1754,
    "start_time": "2024-04-29T12:21:04.727Z"
   },
   {
    "duration": 1044,
    "start_time": "2024-04-29T12:21:06.484Z"
   },
   {
    "duration": 1384,
    "start_time": "2024-04-29T12:21:07.530Z"
   },
   {
    "duration": 6,
    "start_time": "2024-04-29T12:21:08.917Z"
   },
   {
    "duration": 21,
    "start_time": "2024-04-29T12:21:08.925Z"
   },
   {
    "duration": 202,
    "start_time": "2024-04-29T12:21:08.964Z"
   },
   {
    "duration": 446,
    "start_time": "2024-04-29T12:21:09.169Z"
   },
   {
    "duration": 3,
    "start_time": "2024-04-29T12:21:09.617Z"
   },
   {
    "duration": 14,
    "start_time": "2024-04-29T12:21:09.621Z"
   },
   {
    "duration": 590,
    "start_time": "2024-04-29T12:21:09.636Z"
   },
   {
    "duration": 101943,
    "start_time": "2024-04-29T12:21:10.228Z"
   },
   {
    "duration": 1293,
    "start_time": "2024-04-29T12:22:52.172Z"
   },
   {
    "duration": 105,
    "start_time": "2024-04-29T12:22:53.467Z"
   },
   {
    "duration": 4159,
    "start_time": "2024-04-29T12:22:53.573Z"
   },
   {
    "duration": 10,
    "start_time": "2024-04-29T12:22:57.734Z"
   },
   {
    "duration": 1370,
    "start_time": "2024-04-29T13:36:11.465Z"
   },
   {
    "duration": 33,
    "start_time": "2024-04-29T13:36:12.836Z"
   },
   {
    "duration": 5,
    "start_time": "2024-04-29T13:36:12.871Z"
   },
   {
    "duration": 61,
    "start_time": "2024-04-29T13:36:12.878Z"
   },
   {
    "duration": 23,
    "start_time": "2024-04-29T13:36:12.942Z"
   },
   {
    "duration": 4,
    "start_time": "2024-04-29T13:36:12.966Z"
   },
   {
    "duration": 17,
    "start_time": "2024-04-29T13:36:12.971Z"
   },
   {
    "duration": 14,
    "start_time": "2024-04-29T13:36:12.989Z"
   },
   {
    "duration": 11,
    "start_time": "2024-04-29T13:36:13.005Z"
   },
   {
    "duration": 5,
    "start_time": "2024-04-29T13:36:13.017Z"
   },
   {
    "duration": 1728,
    "start_time": "2024-04-29T13:36:13.023Z"
   },
   {
    "duration": 1047,
    "start_time": "2024-04-29T13:36:14.752Z"
   },
   {
    "duration": 1310,
    "start_time": "2024-04-29T13:36:15.800Z"
   },
   {
    "duration": 6,
    "start_time": "2024-04-29T13:36:17.112Z"
   },
   {
    "duration": 18,
    "start_time": "2024-04-29T13:36:17.119Z"
   },
   {
    "duration": 231,
    "start_time": "2024-04-29T13:36:17.138Z"
   },
   {
    "duration": 441,
    "start_time": "2024-04-29T13:36:17.371Z"
   },
   {
    "duration": 4,
    "start_time": "2024-04-29T13:36:17.814Z"
   },
   {
    "duration": 20,
    "start_time": "2024-04-29T13:36:17.820Z"
   },
   {
    "duration": 553,
    "start_time": "2024-04-29T13:36:17.841Z"
   },
   {
    "duration": 100770,
    "start_time": "2024-04-29T13:36:18.395Z"
   },
   {
    "duration": 1205,
    "start_time": "2024-04-29T13:37:59.166Z"
   },
   {
    "duration": 99,
    "start_time": "2024-04-29T13:38:00.374Z"
   },
   {
    "duration": 4169,
    "start_time": "2024-04-29T13:38:00.474Z"
   },
   {
    "duration": 21,
    "start_time": "2024-04-29T13:38:04.644Z"
   },
   {
    "duration": 1266,
    "start_time": "2024-04-29T14:14:31.919Z"
   },
   {
    "duration": 32,
    "start_time": "2024-04-29T14:14:33.187Z"
   },
   {
    "duration": 4,
    "start_time": "2024-04-29T14:14:33.221Z"
   },
   {
    "duration": 61,
    "start_time": "2024-04-29T14:14:33.227Z"
   },
   {
    "duration": 4,
    "start_time": "2024-04-29T14:14:33.290Z"
   },
   {
    "duration": 3,
    "start_time": "2024-04-29T14:14:33.296Z"
   },
   {
    "duration": 8,
    "start_time": "2024-04-29T14:14:33.300Z"
   },
   {
    "duration": 9,
    "start_time": "2024-04-29T14:14:33.309Z"
   },
   {
    "duration": 11,
    "start_time": "2024-04-29T14:14:33.320Z"
   },
   {
    "duration": 37,
    "start_time": "2024-04-29T14:14:33.332Z"
   },
   {
    "duration": 1723,
    "start_time": "2024-04-29T14:14:33.370Z"
   },
   {
    "duration": 1009,
    "start_time": "2024-04-29T14:14:35.095Z"
   },
   {
    "duration": 1310,
    "start_time": "2024-04-29T14:14:36.105Z"
   },
   {
    "duration": 7,
    "start_time": "2024-04-29T14:14:37.417Z"
   },
   {
    "duration": 18,
    "start_time": "2024-04-29T14:14:37.425Z"
   },
   {
    "duration": 134,
    "start_time": "2024-04-29T14:14:37.444Z"
   },
   {
    "duration": 457,
    "start_time": "2024-04-29T14:14:37.665Z"
   },
   {
    "duration": 3,
    "start_time": "2024-04-29T14:14:38.123Z"
   },
   {
    "duration": 16,
    "start_time": "2024-04-29T14:14:38.128Z"
   },
   {
    "duration": 520,
    "start_time": "2024-04-29T14:14:38.145Z"
   },
   {
    "duration": 102577,
    "start_time": "2024-04-29T14:14:38.666Z"
   },
   {
    "duration": 1226,
    "start_time": "2024-04-29T14:16:21.244Z"
   },
   {
    "duration": 98,
    "start_time": "2024-04-29T14:16:22.472Z"
   },
   {
    "duration": 4220,
    "start_time": "2024-04-29T14:16:22.572Z"
   },
   {
    "duration": 11,
    "start_time": "2024-04-29T14:16:26.793Z"
   },
   {
    "duration": 84,
    "start_time": "2024-04-30T09:15:56.952Z"
   },
   {
    "duration": 1943,
    "start_time": "2024-04-30T09:16:27.350Z"
   },
   {
    "duration": 127,
    "start_time": "2024-04-30T09:16:29.295Z"
   },
   {
    "duration": 5,
    "start_time": "2024-04-30T09:16:29.424Z"
   },
   {
    "duration": 84,
    "start_time": "2024-04-30T09:16:29.431Z"
   },
   {
    "duration": 6,
    "start_time": "2024-04-30T09:16:29.517Z"
   },
   {
    "duration": 13,
    "start_time": "2024-04-30T09:16:29.524Z"
   },
   {
    "duration": 36,
    "start_time": "2024-04-30T09:16:29.538Z"
   },
   {
    "duration": 11,
    "start_time": "2024-04-30T09:16:29.576Z"
   },
   {
    "duration": 34,
    "start_time": "2024-04-30T09:16:29.589Z"
   },
   {
    "duration": 8,
    "start_time": "2024-04-30T09:16:29.625Z"
   },
   {
    "duration": 2291,
    "start_time": "2024-04-30T09:16:29.634Z"
   },
   {
    "duration": 1272,
    "start_time": "2024-04-30T09:16:31.927Z"
   },
   {
    "duration": 1639,
    "start_time": "2024-04-30T09:16:33.201Z"
   },
   {
    "duration": 8,
    "start_time": "2024-04-30T09:16:34.843Z"
   },
   {
    "duration": 41,
    "start_time": "2024-04-30T09:16:34.853Z"
   },
   {
    "duration": 293,
    "start_time": "2024-04-30T09:16:34.895Z"
   },
   {
    "duration": 602,
    "start_time": "2024-04-30T09:16:35.190Z"
   },
   {
    "duration": 4,
    "start_time": "2024-04-30T09:16:35.794Z"
   },
   {
    "duration": 31,
    "start_time": "2024-04-30T09:16:35.800Z"
   },
   {
    "duration": 664,
    "start_time": "2024-04-30T09:16:35.832Z"
   },
   {
    "duration": 3,
    "start_time": "2024-04-30T09:16:36.498Z"
   },
   {
    "duration": 1382,
    "start_time": "2024-04-30T09:16:36.503Z"
   },
   {
    "duration": 103,
    "start_time": "2024-04-30T09:16:37.888Z"
   },
   {
    "duration": 5050,
    "start_time": "2024-04-30T09:16:37.993Z"
   },
   {
    "duration": 12,
    "start_time": "2024-04-30T09:16:43.045Z"
   },
   {
    "duration": 7,
    "start_time": "2024-04-30T09:25:16.061Z"
   },
   {
    "duration": 9,
    "start_time": "2024-04-30T19:48:46.667Z"
   },
   {
    "duration": 2017,
    "start_time": "2024-04-30T19:48:49.203Z"
   },
   {
    "duration": 1186,
    "start_time": "2024-04-30T19:49:03.253Z"
   },
   {
    "duration": 1575,
    "start_time": "2024-05-01T06:55:29.285Z"
   },
   {
    "duration": 113,
    "start_time": "2024-05-01T06:55:30.862Z"
   },
   {
    "duration": 6,
    "start_time": "2024-05-01T06:55:30.977Z"
   },
   {
    "duration": 124,
    "start_time": "2024-05-01T06:55:30.984Z"
   },
   {
    "duration": 8,
    "start_time": "2024-05-01T06:55:31.111Z"
   },
   {
    "duration": 29,
    "start_time": "2024-05-01T06:55:31.120Z"
   },
   {
    "duration": 35,
    "start_time": "2024-05-01T06:55:31.150Z"
   },
   {
    "duration": 44,
    "start_time": "2024-05-01T06:55:31.187Z"
   },
   {
    "duration": 20,
    "start_time": "2024-05-01T06:55:31.233Z"
   },
   {
    "duration": 22,
    "start_time": "2024-05-01T06:55:31.255Z"
   },
   {
    "duration": 35,
    "start_time": "2024-05-01T06:55:31.280Z"
   },
   {
    "duration": 1908,
    "start_time": "2024-05-01T06:55:31.316Z"
   },
   {
    "duration": 1102,
    "start_time": "2024-05-01T06:55:33.225Z"
   },
   {
    "duration": 1571,
    "start_time": "2024-05-01T06:55:34.330Z"
   },
   {
    "duration": 7,
    "start_time": "2024-05-01T06:55:35.903Z"
   },
   {
    "duration": 40,
    "start_time": "2024-05-01T06:55:35.912Z"
   },
   {
    "duration": 136,
    "start_time": "2024-05-01T06:55:35.954Z"
   },
   {
    "duration": 343,
    "start_time": "2024-05-01T06:55:36.165Z"
   },
   {
    "duration": 4,
    "start_time": "2024-05-01T06:55:36.509Z"
   },
   {
    "duration": 13,
    "start_time": "2024-05-01T06:55:36.514Z"
   },
   {
    "duration": 580,
    "start_time": "2024-05-01T06:55:36.529Z"
   },
   {
    "duration": 3,
    "start_time": "2024-05-01T06:55:37.110Z"
   },
   {
    "duration": 1150,
    "start_time": "2024-05-01T06:55:37.115Z"
   },
   {
    "duration": 20,
    "start_time": "2024-05-01T06:55:38.272Z"
   },
   {
    "duration": 4889,
    "start_time": "2024-05-01T06:55:38.294Z"
   },
   {
    "duration": 11,
    "start_time": "2024-05-01T06:55:43.185Z"
   },
   {
    "duration": 1368,
    "start_time": "2024-05-01T07:04:43.858Z"
   },
   {
    "duration": 32,
    "start_time": "2024-05-01T07:04:45.227Z"
   },
   {
    "duration": 5,
    "start_time": "2024-05-01T07:04:45.262Z"
   },
   {
    "duration": 98,
    "start_time": "2024-05-01T07:04:45.270Z"
   },
   {
    "duration": 6,
    "start_time": "2024-05-01T07:04:45.370Z"
   },
   {
    "duration": 6,
    "start_time": "2024-05-01T07:04:45.377Z"
   },
   {
    "duration": 7,
    "start_time": "2024-05-01T07:04:45.385Z"
   },
   {
    "duration": 16,
    "start_time": "2024-05-01T07:04:45.394Z"
   },
   {
    "duration": 13,
    "start_time": "2024-05-01T07:04:45.411Z"
   },
   {
    "duration": 2,
    "start_time": "2024-05-01T07:04:45.427Z"
   },
   {
    "duration": 34,
    "start_time": "2024-05-01T07:04:45.431Z"
   },
   {
    "duration": 1956,
    "start_time": "2024-05-01T07:04:45.468Z"
   },
   {
    "duration": 1039,
    "start_time": "2024-05-01T07:04:47.426Z"
   },
   {
    "duration": 1617,
    "start_time": "2024-05-01T07:04:48.467Z"
   },
   {
    "duration": 6,
    "start_time": "2024-05-01T07:04:50.086Z"
   },
   {
    "duration": 30,
    "start_time": "2024-05-01T07:04:50.093Z"
   },
   {
    "duration": 342,
    "start_time": "2024-05-01T07:04:50.124Z"
   },
   {
    "duration": 337,
    "start_time": "2024-05-01T07:04:50.468Z"
   },
   {
    "duration": 3,
    "start_time": "2024-05-01T07:04:50.807Z"
   },
   {
    "duration": 15,
    "start_time": "2024-05-01T07:04:50.812Z"
   },
   {
    "duration": 546,
    "start_time": "2024-05-01T07:04:50.828Z"
   },
   {
    "duration": 3,
    "start_time": "2024-05-01T07:04:51.376Z"
   },
   {
    "duration": 1293,
    "start_time": "2024-05-01T07:04:51.380Z"
   },
   {
    "duration": 104,
    "start_time": "2024-05-01T07:04:52.677Z"
   },
   {
    "duration": 4737,
    "start_time": "2024-05-01T07:04:52.782Z"
   },
   {
    "duration": 10,
    "start_time": "2024-05-01T07:04:57.520Z"
   },
   {
    "duration": 1405,
    "start_time": "2024-05-01T07:15:51.334Z"
   },
   {
    "duration": 37,
    "start_time": "2024-05-01T07:15:52.741Z"
   },
   {
    "duration": 7,
    "start_time": "2024-05-01T07:15:52.779Z"
   },
   {
    "duration": 87,
    "start_time": "2024-05-01T07:15:52.787Z"
   },
   {
    "duration": 5,
    "start_time": "2024-05-01T07:15:52.876Z"
   },
   {
    "duration": 11,
    "start_time": "2024-05-01T07:15:52.883Z"
   },
   {
    "duration": 13,
    "start_time": "2024-05-01T07:15:52.896Z"
   },
   {
    "duration": 15,
    "start_time": "2024-05-01T07:15:52.911Z"
   },
   {
    "duration": 13,
    "start_time": "2024-05-01T07:15:52.927Z"
   },
   {
    "duration": 29,
    "start_time": "2024-05-01T07:15:52.941Z"
   },
   {
    "duration": 1820,
    "start_time": "2024-05-01T07:15:52.972Z"
   },
   {
    "duration": 1039,
    "start_time": "2024-05-01T07:25:45.606Z"
   },
   {
    "duration": 1530,
    "start_time": "2024-05-01T07:25:46.647Z"
   },
   {
    "duration": 7,
    "start_time": "2024-05-01T07:25:48.178Z"
   },
   {
    "duration": 18,
    "start_time": "2024-05-01T07:25:48.186Z"
   },
   {
    "duration": 364,
    "start_time": "2024-05-01T07:25:48.206Z"
   },
   {
    "duration": 361,
    "start_time": "2024-05-01T07:25:48.572Z"
   },
   {
    "duration": 5,
    "start_time": "2024-05-01T07:25:48.935Z"
   },
   {
    "duration": 27,
    "start_time": "2024-05-01T07:25:48.943Z"
   },
   {
    "duration": 545,
    "start_time": "2024-05-01T07:25:48.972Z"
   },
   {
    "duration": 2,
    "start_time": "2024-05-01T07:25:49.519Z"
   },
   {
    "duration": 1444,
    "start_time": "2024-05-01T07:25:49.523Z"
   },
   {
    "duration": 98,
    "start_time": "2024-05-01T07:25:50.969Z"
   },
   {
    "duration": 4404,
    "start_time": "2024-05-01T07:25:51.069Z"
   },
   {
    "duration": 10,
    "start_time": "2024-05-01T07:25:55.475Z"
   },
   {
    "duration": 585553,
    "start_time": "2024-05-01T07:25:55.486Z"
   },
   {
    "duration": 1715,
    "start_time": "2024-05-01T07:35:41.041Z"
   },
   {
    "duration": 1294,
    "start_time": "2024-05-01T07:49:34.523Z"
   },
   {
    "duration": 33,
    "start_time": "2024-05-01T07:49:35.820Z"
   },
   {
    "duration": 5,
    "start_time": "2024-05-01T07:49:35.854Z"
   },
   {
    "duration": 99,
    "start_time": "2024-05-01T07:49:35.862Z"
   },
   {
    "duration": 5,
    "start_time": "2024-05-01T07:49:35.963Z"
   },
   {
    "duration": 4,
    "start_time": "2024-05-01T07:49:35.970Z"
   },
   {
    "duration": 8,
    "start_time": "2024-05-01T07:49:35.976Z"
   },
   {
    "duration": 10,
    "start_time": "2024-05-01T07:49:35.986Z"
   },
   {
    "duration": 12,
    "start_time": "2024-05-01T07:49:35.997Z"
   },
   {
    "duration": 8,
    "start_time": "2024-05-01T07:49:36.011Z"
   },
   {
    "duration": 1771,
    "start_time": "2024-05-01T07:49:36.021Z"
   },
   {
    "duration": 1046,
    "start_time": "2024-05-01T07:49:37.794Z"
   },
   {
    "duration": 1579,
    "start_time": "2024-05-01T07:49:38.842Z"
   },
   {
    "duration": 1668,
    "start_time": "2024-05-01T07:49:40.422Z"
   },
   {
    "duration": 7,
    "start_time": "2024-05-01T07:49:42.091Z"
   },
   {
    "duration": 30,
    "start_time": "2024-05-01T07:49:42.099Z"
   },
   {
    "duration": 154,
    "start_time": "2024-05-01T07:49:42.130Z"
   },
   {
    "duration": 428,
    "start_time": "2024-05-01T07:49:42.288Z"
   },
   {
    "duration": 4,
    "start_time": "2024-05-01T07:49:42.717Z"
   },
   {
    "duration": 13,
    "start_time": "2024-05-01T07:49:42.722Z"
   },
   {
    "duration": 561,
    "start_time": "2024-05-01T07:49:42.737Z"
   },
   {
    "duration": 2,
    "start_time": "2024-05-01T07:49:43.300Z"
   },
   {
    "duration": 1261,
    "start_time": "2024-05-01T07:49:43.304Z"
   },
   {
    "duration": 108,
    "start_time": "2024-05-01T07:49:44.568Z"
   },
   {
    "duration": 4663,
    "start_time": "2024-05-01T07:49:44.678Z"
   },
   {
    "duration": 9,
    "start_time": "2024-05-01T07:49:49.343Z"
   },
   {
    "duration": 1393,
    "start_time": "2024-05-01T09:06:48.872Z"
   },
   {
    "duration": 38,
    "start_time": "2024-05-01T09:06:50.268Z"
   },
   {
    "duration": 8,
    "start_time": "2024-05-01T09:06:50.307Z"
   },
   {
    "duration": 91,
    "start_time": "2024-05-01T09:06:50.317Z"
   },
   {
    "duration": 4,
    "start_time": "2024-05-01T09:06:50.410Z"
   },
   {
    "duration": 10,
    "start_time": "2024-05-01T09:06:50.415Z"
   },
   {
    "duration": 9,
    "start_time": "2024-05-01T09:06:50.426Z"
   },
   {
    "duration": 32,
    "start_time": "2024-05-01T09:06:50.438Z"
   },
   {
    "duration": 13,
    "start_time": "2024-05-01T09:06:50.472Z"
   },
   {
    "duration": 7,
    "start_time": "2024-05-01T09:06:50.487Z"
   },
   {
    "duration": 1821,
    "start_time": "2024-05-01T09:06:50.495Z"
   },
   {
    "duration": 1038,
    "start_time": "2024-05-01T09:06:52.317Z"
   },
   {
    "duration": 1452,
    "start_time": "2024-05-01T09:06:53.364Z"
   },
   {
    "duration": 7,
    "start_time": "2024-05-01T09:06:54.817Z"
   },
   {
    "duration": 19,
    "start_time": "2024-05-01T09:06:54.825Z"
   },
   {
    "duration": 222,
    "start_time": "2024-05-01T09:06:54.846Z"
   },
   {
    "duration": 347,
    "start_time": "2024-05-01T09:06:55.070Z"
   },
   {
    "duration": 3,
    "start_time": "2024-05-01T09:06:55.419Z"
   },
   {
    "duration": 17,
    "start_time": "2024-05-01T09:06:55.424Z"
   },
   {
    "duration": 514,
    "start_time": "2024-05-01T09:06:55.443Z"
   },
   {
    "duration": 3,
    "start_time": "2024-05-01T09:06:55.958Z"
   },
   {
    "duration": 1400,
    "start_time": "2024-05-01T09:06:55.965Z"
   },
   {
    "duration": 105,
    "start_time": "2024-05-01T09:06:57.368Z"
   },
   {
    "duration": 4566,
    "start_time": "2024-05-01T09:06:57.474Z"
   },
   {
    "duration": 12,
    "start_time": "2024-05-01T09:07:02.041Z"
   },
   {
    "duration": 7,
    "start_time": "2024-05-01T09:12:56.547Z"
   },
   {
    "duration": 1349,
    "start_time": "2024-05-01T09:13:02.595Z"
   },
   {
    "duration": 32,
    "start_time": "2024-05-01T09:13:03.946Z"
   },
   {
    "duration": 5,
    "start_time": "2024-05-01T09:13:03.979Z"
   },
   {
    "duration": 63,
    "start_time": "2024-05-01T09:13:03.985Z"
   },
   {
    "duration": 5,
    "start_time": "2024-05-01T09:13:04.049Z"
   },
   {
    "duration": 3,
    "start_time": "2024-05-01T09:13:04.065Z"
   },
   {
    "duration": 8,
    "start_time": "2024-05-01T09:13:04.070Z"
   },
   {
    "duration": 9,
    "start_time": "2024-05-01T09:13:04.079Z"
   },
   {
    "duration": 12,
    "start_time": "2024-05-01T09:13:04.089Z"
   },
   {
    "duration": 8,
    "start_time": "2024-05-01T09:13:04.103Z"
   },
   {
    "duration": 1732,
    "start_time": "2024-05-01T09:13:04.112Z"
   },
   {
    "duration": 872,
    "start_time": "2024-05-01T09:13:05.845Z"
   },
   {
    "duration": 0,
    "start_time": "2024-05-01T09:13:06.719Z"
   },
   {
    "duration": 0,
    "start_time": "2024-05-01T09:13:06.720Z"
   },
   {
    "duration": 0,
    "start_time": "2024-05-01T09:13:06.722Z"
   },
   {
    "duration": 0,
    "start_time": "2024-05-01T09:13:06.722Z"
   },
   {
    "duration": 0,
    "start_time": "2024-05-01T09:13:06.723Z"
   },
   {
    "duration": 0,
    "start_time": "2024-05-01T09:13:06.724Z"
   },
   {
    "duration": 0,
    "start_time": "2024-05-01T09:13:06.725Z"
   },
   {
    "duration": 0,
    "start_time": "2024-05-01T09:13:06.726Z"
   },
   {
    "duration": 0,
    "start_time": "2024-05-01T09:13:06.727Z"
   },
   {
    "duration": 0,
    "start_time": "2024-05-01T09:13:06.728Z"
   },
   {
    "duration": 0,
    "start_time": "2024-05-01T09:13:06.729Z"
   },
   {
    "duration": 0,
    "start_time": "2024-05-01T09:13:06.730Z"
   },
   {
    "duration": 1,
    "start_time": "2024-05-01T09:13:06.730Z"
   },
   {
    "duration": 1025,
    "start_time": "2024-05-01T09:14:14.265Z"
   },
   {
    "duration": 1349,
    "start_time": "2024-05-01T09:14:22.771Z"
   },
   {
    "duration": 32,
    "start_time": "2024-05-01T09:14:24.122Z"
   },
   {
    "duration": 5,
    "start_time": "2024-05-01T09:14:24.156Z"
   },
   {
    "duration": 64,
    "start_time": "2024-05-01T09:14:24.162Z"
   },
   {
    "duration": 5,
    "start_time": "2024-05-01T09:14:24.229Z"
   },
   {
    "duration": 4,
    "start_time": "2024-05-01T09:14:24.235Z"
   },
   {
    "duration": 8,
    "start_time": "2024-05-01T09:14:24.240Z"
   },
   {
    "duration": 24,
    "start_time": "2024-05-01T09:14:24.249Z"
   },
   {
    "duration": 12,
    "start_time": "2024-05-01T09:14:24.275Z"
   },
   {
    "duration": 8,
    "start_time": "2024-05-01T09:14:24.288Z"
   },
   {
    "duration": 1786,
    "start_time": "2024-05-01T09:14:24.298Z"
   },
   {
    "duration": 1016,
    "start_time": "2024-05-01T09:14:26.086Z"
   },
   {
    "duration": 1316,
    "start_time": "2024-05-01T09:14:27.104Z"
   },
   {
    "duration": 117,
    "start_time": "2024-05-01T09:14:28.422Z"
   },
   {
    "duration": 0,
    "start_time": "2024-05-01T09:14:28.540Z"
   },
   {
    "duration": 0,
    "start_time": "2024-05-01T09:14:28.541Z"
   },
   {
    "duration": 0,
    "start_time": "2024-05-01T09:14:28.542Z"
   },
   {
    "duration": 0,
    "start_time": "2024-05-01T09:14:28.543Z"
   },
   {
    "duration": 0,
    "start_time": "2024-05-01T09:14:28.544Z"
   },
   {
    "duration": 0,
    "start_time": "2024-05-01T09:14:28.545Z"
   },
   {
    "duration": 0,
    "start_time": "2024-05-01T09:14:28.546Z"
   },
   {
    "duration": 0,
    "start_time": "2024-05-01T09:14:28.547Z"
   },
   {
    "duration": 0,
    "start_time": "2024-05-01T09:14:28.548Z"
   },
   {
    "duration": 0,
    "start_time": "2024-05-01T09:14:28.565Z"
   },
   {
    "duration": 0,
    "start_time": "2024-05-01T09:14:28.565Z"
   },
   {
    "duration": 7,
    "start_time": "2024-05-01T09:14:43.751Z"
   },
   {
    "duration": 19,
    "start_time": "2024-05-01T09:14:47.675Z"
   },
   {
    "duration": 204,
    "start_time": "2024-05-01T09:14:50.265Z"
   },
   {
    "duration": 342,
    "start_time": "2024-05-01T09:14:54.114Z"
   },
   {
    "duration": 345,
    "start_time": "2024-05-01T09:15:37.623Z"
   },
   {
    "duration": 115,
    "start_time": "2024-05-01T09:15:55.550Z"
   },
   {
    "duration": 336,
    "start_time": "2024-05-01T09:16:16.955Z"
   },
   {
    "duration": 1348,
    "start_time": "2024-05-01T09:17:53.965Z"
   },
   {
    "duration": 34,
    "start_time": "2024-05-01T09:17:55.315Z"
   },
   {
    "duration": 5,
    "start_time": "2024-05-01T09:17:55.350Z"
   },
   {
    "duration": 65,
    "start_time": "2024-05-01T09:17:55.356Z"
   },
   {
    "duration": 5,
    "start_time": "2024-05-01T09:17:55.423Z"
   },
   {
    "duration": 7,
    "start_time": "2024-05-01T09:17:55.430Z"
   },
   {
    "duration": 10,
    "start_time": "2024-05-01T09:17:55.439Z"
   },
   {
    "duration": 23,
    "start_time": "2024-05-01T09:17:55.450Z"
   },
   {
    "duration": 12,
    "start_time": "2024-05-01T09:17:55.475Z"
   },
   {
    "duration": 8,
    "start_time": "2024-05-01T09:17:55.489Z"
   },
   {
    "duration": 1810,
    "start_time": "2024-05-01T09:17:55.498Z"
   },
   {
    "duration": 1012,
    "start_time": "2024-05-01T09:17:57.309Z"
   },
   {
    "duration": 1461,
    "start_time": "2024-05-01T09:17:58.323Z"
   },
   {
    "duration": 5,
    "start_time": "2024-05-01T09:17:59.786Z"
   },
   {
    "duration": 49,
    "start_time": "2024-05-01T09:17:59.793Z"
   },
   {
    "duration": 223,
    "start_time": "2024-05-01T09:17:59.844Z"
   },
   {
    "duration": 430,
    "start_time": "2024-05-01T09:18:00.069Z"
   },
   {
    "duration": 108,
    "start_time": "2024-05-01T09:18:00.501Z"
   },
   {
    "duration": 0,
    "start_time": "2024-05-01T09:18:00.610Z"
   },
   {
    "duration": 0,
    "start_time": "2024-05-01T09:18:00.611Z"
   },
   {
    "duration": 0,
    "start_time": "2024-05-01T09:18:00.612Z"
   },
   {
    "duration": 0,
    "start_time": "2024-05-01T09:18:00.614Z"
   },
   {
    "duration": 0,
    "start_time": "2024-05-01T09:18:00.615Z"
   },
   {
    "duration": 0,
    "start_time": "2024-05-01T09:18:00.615Z"
   },
   {
    "duration": 0,
    "start_time": "2024-05-01T09:18:00.617Z"
   },
   {
    "duration": 339,
    "start_time": "2024-05-01T09:25:50.433Z"
   },
   {
    "duration": 4,
    "start_time": "2024-05-01T09:26:14.216Z"
   },
   {
    "duration": 21,
    "start_time": "2024-05-01T09:26:17.821Z"
   },
   {
    "duration": 521,
    "start_time": "2024-05-01T09:26:19.960Z"
   },
   {
    "duration": 2,
    "start_time": "2024-05-01T09:26:26.457Z"
   },
   {
    "duration": 1398,
    "start_time": "2024-05-01T09:26:28.169Z"
   },
   {
    "duration": 13,
    "start_time": "2024-05-01T09:26:30.360Z"
   },
   {
    "duration": 4349,
    "start_time": "2024-05-01T09:26:33.919Z"
   },
   {
    "duration": 10,
    "start_time": "2024-05-01T09:26:54.957Z"
   },
   {
    "duration": 1887,
    "start_time": "2024-05-01T09:27:43.465Z"
   },
   {
    "duration": 32,
    "start_time": "2024-05-01T09:27:45.353Z"
   },
   {
    "duration": 4,
    "start_time": "2024-05-01T09:27:45.387Z"
   },
   {
    "duration": 64,
    "start_time": "2024-05-01T09:27:45.393Z"
   },
   {
    "duration": 6,
    "start_time": "2024-05-01T09:27:45.459Z"
   },
   {
    "duration": 12,
    "start_time": "2024-05-01T09:27:45.467Z"
   },
   {
    "duration": 9,
    "start_time": "2024-05-01T09:27:45.480Z"
   },
   {
    "duration": 9,
    "start_time": "2024-05-01T09:27:45.490Z"
   },
   {
    "duration": 11,
    "start_time": "2024-05-01T09:27:45.500Z"
   },
   {
    "duration": 7,
    "start_time": "2024-05-01T09:27:45.513Z"
   },
   {
    "duration": 1727,
    "start_time": "2024-05-01T09:27:45.521Z"
   },
   {
    "duration": 1013,
    "start_time": "2024-05-01T09:27:47.250Z"
   },
   {
    "duration": 1376,
    "start_time": "2024-05-01T09:27:48.264Z"
   },
   {
    "duration": 5,
    "start_time": "2024-05-01T09:27:49.643Z"
   },
   {
    "duration": 28,
    "start_time": "2024-05-01T09:27:49.649Z"
   },
   {
    "duration": 189,
    "start_time": "2024-05-01T09:27:49.679Z"
   },
   {
    "duration": 447,
    "start_time": "2024-05-01T09:27:49.870Z"
   },
   {
    "duration": 3,
    "start_time": "2024-05-01T09:27:50.318Z"
   },
   {
    "duration": 22,
    "start_time": "2024-05-01T09:27:50.323Z"
   },
   {
    "duration": 591,
    "start_time": "2024-05-01T09:27:50.346Z"
   },
   {
    "duration": 102139,
    "start_time": "2024-05-01T09:27:50.938Z"
   },
   {
    "duration": 1088,
    "start_time": "2024-05-01T09:29:33.079Z"
   },
   {
    "duration": 100,
    "start_time": "2024-05-01T09:29:34.172Z"
   },
   {
    "duration": 4579,
    "start_time": "2024-05-01T09:29:34.274Z"
   },
   {
    "duration": 16,
    "start_time": "2024-05-01T09:29:38.855Z"
   },
   {
    "duration": 1810,
    "start_time": "2024-05-01T09:33:44.602Z"
   },
   {
    "duration": 1398,
    "start_time": "2024-05-01T09:34:25.441Z"
   },
   {
    "duration": 32,
    "start_time": "2024-05-01T09:34:26.841Z"
   },
   {
    "duration": 4,
    "start_time": "2024-05-01T09:34:26.874Z"
   },
   {
    "duration": 62,
    "start_time": "2024-05-01T09:34:26.880Z"
   },
   {
    "duration": 4,
    "start_time": "2024-05-01T09:34:26.944Z"
   },
   {
    "duration": 3,
    "start_time": "2024-05-01T09:34:26.964Z"
   },
   {
    "duration": 12,
    "start_time": "2024-05-01T09:34:26.969Z"
   },
   {
    "duration": 13,
    "start_time": "2024-05-01T09:34:26.982Z"
   },
   {
    "duration": 11,
    "start_time": "2024-05-01T09:34:26.996Z"
   },
   {
    "duration": 6,
    "start_time": "2024-05-01T09:34:27.008Z"
   },
   {
    "duration": 1781,
    "start_time": "2024-05-01T09:34:27.015Z"
   },
   {
    "duration": 948,
    "start_time": "2024-05-01T09:34:28.797Z"
   },
   {
    "duration": 0,
    "start_time": "2024-05-01T09:34:29.747Z"
   },
   {
    "duration": 0,
    "start_time": "2024-05-01T09:34:29.748Z"
   },
   {
    "duration": 0,
    "start_time": "2024-05-01T09:34:29.750Z"
   },
   {
    "duration": 0,
    "start_time": "2024-05-01T09:34:29.751Z"
   },
   {
    "duration": 0,
    "start_time": "2024-05-01T09:34:29.752Z"
   },
   {
    "duration": 0,
    "start_time": "2024-05-01T09:34:29.753Z"
   },
   {
    "duration": 0,
    "start_time": "2024-05-01T09:34:29.754Z"
   },
   {
    "duration": 0,
    "start_time": "2024-05-01T09:34:29.765Z"
   },
   {
    "duration": 0,
    "start_time": "2024-05-01T09:34:29.766Z"
   },
   {
    "duration": 0,
    "start_time": "2024-05-01T09:34:29.767Z"
   },
   {
    "duration": 0,
    "start_time": "2024-05-01T09:34:29.768Z"
   },
   {
    "duration": 0,
    "start_time": "2024-05-01T09:34:29.769Z"
   },
   {
    "duration": 0,
    "start_time": "2024-05-01T09:34:29.770Z"
   },
   {
    "duration": 1094,
    "start_time": "2024-05-01T09:35:04.073Z"
   },
   {
    "duration": 1468,
    "start_time": "2024-05-01T09:35:13.961Z"
   },
   {
    "duration": 7,
    "start_time": "2024-05-01T09:35:30.468Z"
   },
   {
    "duration": 19,
    "start_time": "2024-05-01T09:35:33.948Z"
   },
   {
    "duration": 187,
    "start_time": "2024-05-01T09:35:37.184Z"
   },
   {
    "duration": 324,
    "start_time": "2024-05-01T09:35:40.491Z"
   },
   {
    "duration": 3,
    "start_time": "2024-05-01T09:35:47.349Z"
   },
   {
    "duration": 14,
    "start_time": "2024-05-01T09:35:49.613Z"
   },
   {
    "duration": 565,
    "start_time": "2024-05-01T09:35:51.500Z"
   },
   {
    "duration": 2,
    "start_time": "2024-05-01T09:35:52.980Z"
   },
   {
    "duration": 1270,
    "start_time": "2024-05-01T09:35:56.001Z"
   },
   {
    "duration": 19,
    "start_time": "2024-05-01T09:35:57.823Z"
   },
   {
    "duration": 4481,
    "start_time": "2024-05-01T09:36:01.381Z"
   },
   {
    "duration": 11,
    "start_time": "2024-05-01T09:36:27.012Z"
   },
   {
    "duration": 5,
    "start_time": "2024-05-01T09:43:25.036Z"
   },
   {
    "duration": 18,
    "start_time": "2024-05-01T09:45:03.938Z"
   },
   {
    "duration": 312,
    "start_time": "2024-05-01T09:45:05.955Z"
   },
   {
    "duration": 456,
    "start_time": "2024-05-01T09:45:11.310Z"
   },
   {
    "duration": 341,
    "start_time": "2024-05-01T09:45:38.182Z"
   },
   {
    "duration": 4,
    "start_time": "2024-05-01T09:45:51.357Z"
   },
   {
    "duration": 14,
    "start_time": "2024-05-01T09:45:52.433Z"
   },
   {
    "duration": 532,
    "start_time": "2024-05-01T09:45:53.922Z"
   },
   {
    "duration": 2,
    "start_time": "2024-05-01T09:45:55.321Z"
   },
   {
    "duration": 943,
    "start_time": "2024-05-01T09:45:57.943Z"
   },
   {
    "duration": 13,
    "start_time": "2024-05-01T09:45:59.406Z"
   },
   {
    "duration": 4284,
    "start_time": "2024-05-01T09:46:02.822Z"
   },
   {
    "duration": 1349,
    "start_time": "2024-05-01T09:51:46.533Z"
   },
   {
    "duration": 33,
    "start_time": "2024-05-01T09:51:47.884Z"
   },
   {
    "duration": 5,
    "start_time": "2024-05-01T09:51:47.919Z"
   },
   {
    "duration": 76,
    "start_time": "2024-05-01T09:51:47.926Z"
   },
   {
    "duration": 5,
    "start_time": "2024-05-01T09:51:48.003Z"
   },
   {
    "duration": 18,
    "start_time": "2024-05-01T09:51:48.009Z"
   },
   {
    "duration": 21,
    "start_time": "2024-05-01T09:51:48.028Z"
   },
   {
    "duration": 24,
    "start_time": "2024-05-01T09:51:48.051Z"
   },
   {
    "duration": 28,
    "start_time": "2024-05-01T09:51:48.077Z"
   },
   {
    "duration": 12,
    "start_time": "2024-05-01T09:51:48.108Z"
   },
   {
    "duration": 1850,
    "start_time": "2024-05-01T09:51:48.122Z"
   },
   {
    "duration": 1102,
    "start_time": "2024-05-01T09:51:49.973Z"
   },
   {
    "duration": 1401,
    "start_time": "2024-05-01T09:51:51.076Z"
   },
   {
    "duration": 7,
    "start_time": "2024-05-01T09:51:52.478Z"
   },
   {
    "duration": 7,
    "start_time": "2024-05-01T09:51:52.486Z"
   },
   {
    "duration": 34,
    "start_time": "2024-05-01T09:51:52.495Z"
   },
   {
    "duration": 236,
    "start_time": "2024-05-01T09:51:52.531Z"
   },
   {
    "duration": 442,
    "start_time": "2024-05-01T09:51:52.769Z"
   },
   {
    "duration": 3,
    "start_time": "2024-05-01T09:51:53.213Z"
   },
   {
    "duration": 25,
    "start_time": "2024-05-01T09:51:53.217Z"
   },
   {
    "duration": 571,
    "start_time": "2024-05-01T09:51:53.243Z"
   },
   {
    "duration": 103806,
    "start_time": "2024-05-01T09:51:53.816Z"
   },
   {
    "duration": 1450,
    "start_time": "2024-05-01T09:53:37.623Z"
   },
   {
    "duration": 102,
    "start_time": "2024-05-01T09:53:39.075Z"
   },
   {
    "duration": 4621,
    "start_time": "2024-05-01T09:53:39.178Z"
   },
   {
    "duration": 9,
    "start_time": "2024-05-01T09:53:43.801Z"
   },
   {
    "duration": 5,
    "start_time": "2024-05-01T09:59:43.246Z"
   },
   {
    "duration": 6,
    "start_time": "2024-05-01T10:03:56.911Z"
   },
   {
    "duration": 5,
    "start_time": "2024-05-01T10:05:26.714Z"
   },
   {
    "duration": 6,
    "start_time": "2024-05-01T10:07:02.929Z"
   },
   {
    "duration": 5,
    "start_time": "2024-05-01T10:08:49.113Z"
   },
   {
    "duration": 1360,
    "start_time": "2024-05-01T10:20:12.860Z"
   },
   {
    "duration": 32,
    "start_time": "2024-05-01T10:20:14.222Z"
   },
   {
    "duration": 5,
    "start_time": "2024-05-01T10:20:14.255Z"
   },
   {
    "duration": 81,
    "start_time": "2024-05-01T10:20:14.261Z"
   },
   {
    "duration": 810,
    "start_time": "2024-05-01T10:20:14.344Z"
   },
   {
    "duration": 0,
    "start_time": "2024-05-01T10:20:15.156Z"
   },
   {
    "duration": 0,
    "start_time": "2024-05-01T10:20:15.157Z"
   },
   {
    "duration": 0,
    "start_time": "2024-05-01T10:20:15.158Z"
   },
   {
    "duration": 0,
    "start_time": "2024-05-01T10:20:15.159Z"
   },
   {
    "duration": 0,
    "start_time": "2024-05-01T10:20:15.160Z"
   },
   {
    "duration": 0,
    "start_time": "2024-05-01T10:20:15.161Z"
   },
   {
    "duration": 0,
    "start_time": "2024-05-01T10:20:15.162Z"
   },
   {
    "duration": 0,
    "start_time": "2024-05-01T10:20:15.163Z"
   },
   {
    "duration": 0,
    "start_time": "2024-05-01T10:20:15.165Z"
   },
   {
    "duration": 0,
    "start_time": "2024-05-01T10:20:15.165Z"
   },
   {
    "duration": 0,
    "start_time": "2024-05-01T10:20:15.166Z"
   },
   {
    "duration": 0,
    "start_time": "2024-05-01T10:20:15.167Z"
   },
   {
    "duration": 0,
    "start_time": "2024-05-01T10:20:15.167Z"
   },
   {
    "duration": 0,
    "start_time": "2024-05-01T10:20:15.168Z"
   },
   {
    "duration": 0,
    "start_time": "2024-05-01T10:20:15.169Z"
   },
   {
    "duration": 0,
    "start_time": "2024-05-01T10:20:15.169Z"
   },
   {
    "duration": 0,
    "start_time": "2024-05-01T10:20:15.170Z"
   },
   {
    "duration": 0,
    "start_time": "2024-05-01T10:20:15.172Z"
   },
   {
    "duration": 0,
    "start_time": "2024-05-01T10:20:15.173Z"
   },
   {
    "duration": 0,
    "start_time": "2024-05-01T10:20:15.174Z"
   },
   {
    "duration": 0,
    "start_time": "2024-05-01T10:20:15.175Z"
   },
   {
    "duration": 0,
    "start_time": "2024-05-01T10:20:15.176Z"
   },
   {
    "duration": 1385,
    "start_time": "2024-05-01T10:26:56.311Z"
   },
   {
    "duration": 31,
    "start_time": "2024-05-01T10:26:57.698Z"
   },
   {
    "duration": 4,
    "start_time": "2024-05-01T10:26:57.731Z"
   },
   {
    "duration": 72,
    "start_time": "2024-05-01T10:26:57.737Z"
   },
   {
    "duration": 6,
    "start_time": "2024-05-01T10:26:57.811Z"
   },
   {
    "duration": 5,
    "start_time": "2024-05-01T10:26:57.819Z"
   },
   {
    "duration": 9,
    "start_time": "2024-05-01T10:26:57.826Z"
   },
   {
    "duration": 34,
    "start_time": "2024-05-01T10:26:57.837Z"
   },
   {
    "duration": 12,
    "start_time": "2024-05-01T10:26:57.872Z"
   },
   {
    "duration": 8,
    "start_time": "2024-05-01T10:26:57.886Z"
   },
   {
    "duration": 1921,
    "start_time": "2024-05-01T10:26:57.895Z"
   },
   {
    "duration": 1035,
    "start_time": "2024-05-01T10:26:59.817Z"
   },
   {
    "duration": 1410,
    "start_time": "2024-05-01T10:27:00.853Z"
   },
   {
    "duration": 6,
    "start_time": "2024-05-01T10:27:02.265Z"
   },
   {
    "duration": 23,
    "start_time": "2024-05-01T10:27:02.272Z"
   },
   {
    "duration": 53,
    "start_time": "2024-05-01T10:27:02.296Z"
   },
   {
    "duration": 318,
    "start_time": "2024-05-01T10:27:02.351Z"
   },
   {
    "duration": 439,
    "start_time": "2024-05-01T10:27:02.671Z"
   },
   {
    "duration": 5,
    "start_time": "2024-05-01T10:27:03.111Z"
   },
   {
    "duration": 16,
    "start_time": "2024-05-01T10:27:03.117Z"
   },
   {
    "duration": 536,
    "start_time": "2024-05-01T10:27:03.135Z"
   },
   {
    "duration": 102915,
    "start_time": "2024-05-01T10:27:03.673Z"
   },
   {
    "duration": 1380,
    "start_time": "2024-05-01T10:28:46.589Z"
   },
   {
    "duration": 15,
    "start_time": "2024-05-01T10:28:47.971Z"
   },
   {
    "duration": 4710,
    "start_time": "2024-05-01T10:28:47.988Z"
   },
   {
    "duration": 11,
    "start_time": "2024-05-01T10:28:52.699Z"
   }
  ],
  "kernelspec": {
   "display_name": "Python 3 (ipykernel)",
   "language": "python",
   "name": "python3"
  },
  "language_info": {
   "codemirror_mode": {
    "name": "ipython",
    "version": 3
   },
   "file_extension": ".py",
   "mimetype": "text/x-python",
   "name": "python",
   "nbconvert_exporter": "python",
   "pygments_lexer": "ipython3",
   "version": "3.9.5"
  },
  "toc": {
   "base_numbering": 1,
   "nav_menu": {},
   "number_sections": true,
   "sideBar": true,
   "skip_h1_title": true,
   "title_cell": "Table of Contents",
   "title_sidebar": "Contents",
   "toc_cell": false,
   "toc_position": {
    "height": "calc(100% - 180px)",
    "left": "10px",
    "top": "150px",
    "width": "165px"
   },
   "toc_section_display": true,
   "toc_window_display": true
  }
 },
 "nbformat": 4,
 "nbformat_minor": 4
}
