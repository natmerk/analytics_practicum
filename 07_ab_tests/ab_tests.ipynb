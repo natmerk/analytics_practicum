{
 "cells": [
  {
   "cell_type": "markdown",
   "metadata": {},
   "source": [
    "# Анализ результатов А/В теста"
   ]
  },
  {
   "cell_type": "markdown",
   "metadata": {},
   "source": [
    "Цель исследования:\n",
    "  - Произвести приоритизацию гипотез для увеличения выручки интернет-магазина, подготовленных совместно с отделом маркетинга.\n",
    "  - Произвести анализ проведенного А/В теста, сделать выводы о его результате."
   ]
  },
  {
   "cell_type": "markdown",
   "metadata": {},
   "source": [
    "План исследования:\n",
    "1. [Загрузка данных](#start)\n",
    "    - [Изучение общей информации о датасете](#1.1) \n",
    "    - [Предобработка](#1.2) \n",
    "    - [Приоритизация гипотез](#1.3) \n",
    "    - [Вывод по разделу](#1.4) \n",
    "2. [Анализ А/В теста](#preprocessing) \n",
    "   - [График кумулятивной выручки по группам](#2.1)\n",
    "   - [График кумулятивного среднего чека по группам](#2.2)  \n",
    "   - [График относительного изменения кумулятивного среднего чека группы B к группе A](#2.3)\n",
    "   - [График кумулятивного среднего количества заказов на посетителя по группам](#2.4)\n",
    "   - [График относительного изменения кумулятивного среднего количества заказов на посетителя группы B к группе A ](#2.5)  \n",
    "   - [Точечный график количества заказов по пользователям](#2.6)   \n",
    "   - [95-й и 99-й перцентили количества заказов на пользователя](#2.7)\n",
    "   - [точечный график стоимостей заказов](#2.8)  \n",
    "   - [95-й и 99-й перцентили стоимости заказов](#2.9)   \n",
    "   - [Статистическая значимость различий в среднем количестве заказов по «сырым» данным](#2.10)\n",
    "   - [Статистическая значимость различий в среднем чеке заказа  по «сырым» данным](#2.11)  \n",
    "   - [Статистическая значимость различий в среднем количестве заказов по «очищенным» данным](#2.12)   \n",
    "   - [Статистическая значимость различий в среднем чеке заказа по «очищенным» данным](#2.13)\n",
    "2. [Общий вывод](#conclusion)    \n",
    "   \n"
   ]
  },
  {
   "cell_type": "markdown",
   "metadata": {},
   "source": [
    "Загрузим необходимые библиотеки"
   ]
  },
  {
   "cell_type": "code",
   "execution_count": 1,
   "metadata": {},
   "outputs": [],
   "source": [
    "# импорт библиотек\n",
    "import pandas as pd\n",
    "import numpy as np\n",
    "import math\n",
    "import plotly.express as px\n",
    "import scipy.stats as stats\n",
    "from scipy import stats as st\n",
    "import matplotlib.pyplot as plt\n",
    "import seaborn as sns\n",
    "from matplotlib.widgets import Cursor\n",
    "pd.set_option('display.max_colwidth', False)"
   ]
  },
  {
   "cell_type": "markdown",
   "metadata": {},
   "source": [
    "Выполним загрузку данных <a id=\"start\"></a>"
   ]
  },
  {
   "cell_type": "code",
   "execution_count": 2,
   "metadata": {},
   "outputs": [],
   "source": [
    "# загружаем датафреймы\n",
    "try:\n",
    "    hypo = pd.read_csv('/datasets/hypothesis.csv')\n",
    "except:\n",
    "    hypo = pd.read_csv('https://code.s3.yandex.net/datasets/hypothesis.csv') "
   ]
  },
  {
   "cell_type": "markdown",
   "metadata": {},
   "source": [
    "Посмотрим на наши данные <a id=\"1.1\"></a>"
   ]
  },
  {
   "cell_type": "code",
   "execution_count": 3,
   "metadata": {},
   "outputs": [
    {
     "data": {
      "text/html": [
       "<div>\n",
       "<style scoped>\n",
       "    .dataframe tbody tr th:only-of-type {\n",
       "        vertical-align: middle;\n",
       "    }\n",
       "\n",
       "    .dataframe tbody tr th {\n",
       "        vertical-align: top;\n",
       "    }\n",
       "\n",
       "    .dataframe thead th {\n",
       "        text-align: right;\n",
       "    }\n",
       "</style>\n",
       "<table border=\"1\" class=\"dataframe\">\n",
       "  <thead>\n",
       "    <tr style=\"text-align: right;\">\n",
       "      <th></th>\n",
       "      <th>Hypothesis</th>\n",
       "      <th>Reach</th>\n",
       "      <th>Impact</th>\n",
       "      <th>Confidence</th>\n",
       "      <th>Efforts</th>\n",
       "    </tr>\n",
       "  </thead>\n",
       "  <tbody>\n",
       "    <tr>\n",
       "      <th>0</th>\n",
       "      <td>Добавить два новых канала привлечения трафика, что позволит привлекать на 30% больше пользователей</td>\n",
       "      <td>3</td>\n",
       "      <td>10</td>\n",
       "      <td>8</td>\n",
       "      <td>6</td>\n",
       "    </tr>\n",
       "    <tr>\n",
       "      <th>1</th>\n",
       "      <td>Запустить собственную службу доставки, что сократит срок доставки заказов</td>\n",
       "      <td>2</td>\n",
       "      <td>5</td>\n",
       "      <td>4</td>\n",
       "      <td>10</td>\n",
       "    </tr>\n",
       "    <tr>\n",
       "      <th>2</th>\n",
       "      <td>Добавить блоки рекомендаций товаров на сайт интернет магазина, чтобы повысить конверсию и средний чек заказа</td>\n",
       "      <td>8</td>\n",
       "      <td>3</td>\n",
       "      <td>7</td>\n",
       "      <td>3</td>\n",
       "    </tr>\n",
       "    <tr>\n",
       "      <th>3</th>\n",
       "      <td>Изменить структура категорий, что увеличит конверсию, т.к. пользователи быстрее найдут нужный товар</td>\n",
       "      <td>8</td>\n",
       "      <td>3</td>\n",
       "      <td>3</td>\n",
       "      <td>8</td>\n",
       "    </tr>\n",
       "    <tr>\n",
       "      <th>4</th>\n",
       "      <td>Изменить цвет фона главной страницы, чтобы увеличить вовлеченность пользователей</td>\n",
       "      <td>3</td>\n",
       "      <td>1</td>\n",
       "      <td>1</td>\n",
       "      <td>1</td>\n",
       "    </tr>\n",
       "    <tr>\n",
       "      <th>5</th>\n",
       "      <td>Добавить страницу отзывов клиентов о магазине, что позволит увеличить количество заказов</td>\n",
       "      <td>3</td>\n",
       "      <td>2</td>\n",
       "      <td>2</td>\n",
       "      <td>3</td>\n",
       "    </tr>\n",
       "    <tr>\n",
       "      <th>6</th>\n",
       "      <td>Показать на главной странице баннеры с актуальными акциями и распродажами, чтобы увеличить конверсию</td>\n",
       "      <td>5</td>\n",
       "      <td>3</td>\n",
       "      <td>8</td>\n",
       "      <td>3</td>\n",
       "    </tr>\n",
       "    <tr>\n",
       "      <th>7</th>\n",
       "      <td>Добавить форму подписки на все основные страницы, чтобы собрать базу клиентов для email-рассылок</td>\n",
       "      <td>10</td>\n",
       "      <td>7</td>\n",
       "      <td>8</td>\n",
       "      <td>5</td>\n",
       "    </tr>\n",
       "    <tr>\n",
       "      <th>8</th>\n",
       "      <td>Запустить акцию, дающую скидку на товар в день рождения</td>\n",
       "      <td>1</td>\n",
       "      <td>9</td>\n",
       "      <td>9</td>\n",
       "      <td>5</td>\n",
       "    </tr>\n",
       "  </tbody>\n",
       "</table>\n",
       "</div>"
      ],
      "text/plain": [
       "                                                                                                     Hypothesis  \\\n",
       "0  Добавить два новых канала привлечения трафика, что позволит привлекать на 30% больше пользователей             \n",
       "1  Запустить собственную службу доставки, что сократит срок доставки заказов                                      \n",
       "2  Добавить блоки рекомендаций товаров на сайт интернет магазина, чтобы повысить конверсию и средний чек заказа   \n",
       "3  Изменить структура категорий, что увеличит конверсию, т.к. пользователи быстрее найдут нужный товар            \n",
       "4  Изменить цвет фона главной страницы, чтобы увеличить вовлеченность пользователей                               \n",
       "5  Добавить страницу отзывов клиентов о магазине, что позволит увеличить количество заказов                       \n",
       "6  Показать на главной странице баннеры с актуальными акциями и распродажами, чтобы увеличить конверсию           \n",
       "7  Добавить форму подписки на все основные страницы, чтобы собрать базу клиентов для email-рассылок               \n",
       "8  Запустить акцию, дающую скидку на товар в день рождения                                                        \n",
       "\n",
       "   Reach  Impact  Confidence  Efforts  \n",
       "0  3      10      8           6        \n",
       "1  2      5       4           10       \n",
       "2  8      3       7           3        \n",
       "3  8      3       3           8        \n",
       "4  3      1       1           1        \n",
       "5  3      2       2           3        \n",
       "6  5      3       8           3        \n",
       "7  10     7       8           5        \n",
       "8  1      9       9           5        "
      ]
     },
     "execution_count": 3,
     "metadata": {},
     "output_type": "execute_result"
    }
   ],
   "source": [
    "hypo"
   ]
  },
  {
   "cell_type": "markdown",
   "metadata": {},
   "source": [
    "Приведем название столбцов к \"змеиному регистру\" <a id=\"1.2\"></a>"
   ]
  },
  {
   "cell_type": "code",
   "execution_count": 4,
   "metadata": {},
   "outputs": [],
   "source": [
    "hypo.columns = hypo.columns.str.lower()"
   ]
  },
  {
   "cell_type": "code",
   "execution_count": 5,
   "metadata": {},
   "outputs": [
    {
     "data": {
      "text/html": [
       "<div>\n",
       "<style scoped>\n",
       "    .dataframe tbody tr th:only-of-type {\n",
       "        vertical-align: middle;\n",
       "    }\n",
       "\n",
       "    .dataframe tbody tr th {\n",
       "        vertical-align: top;\n",
       "    }\n",
       "\n",
       "    .dataframe thead th {\n",
       "        text-align: right;\n",
       "    }\n",
       "</style>\n",
       "<table border=\"1\" class=\"dataframe\">\n",
       "  <thead>\n",
       "    <tr style=\"text-align: right;\">\n",
       "      <th></th>\n",
       "      <th>hypothesis</th>\n",
       "      <th>reach</th>\n",
       "      <th>impact</th>\n",
       "      <th>confidence</th>\n",
       "      <th>efforts</th>\n",
       "    </tr>\n",
       "  </thead>\n",
       "  <tbody>\n",
       "    <tr>\n",
       "      <th>0</th>\n",
       "      <td>Добавить два новых канала привлечения трафика, что позволит привлекать на 30% больше пользователей</td>\n",
       "      <td>3</td>\n",
       "      <td>10</td>\n",
       "      <td>8</td>\n",
       "      <td>6</td>\n",
       "    </tr>\n",
       "    <tr>\n",
       "      <th>1</th>\n",
       "      <td>Запустить собственную службу доставки, что сократит срок доставки заказов</td>\n",
       "      <td>2</td>\n",
       "      <td>5</td>\n",
       "      <td>4</td>\n",
       "      <td>10</td>\n",
       "    </tr>\n",
       "    <tr>\n",
       "      <th>2</th>\n",
       "      <td>Добавить блоки рекомендаций товаров на сайт интернет магазина, чтобы повысить конверсию и средний чек заказа</td>\n",
       "      <td>8</td>\n",
       "      <td>3</td>\n",
       "      <td>7</td>\n",
       "      <td>3</td>\n",
       "    </tr>\n",
       "    <tr>\n",
       "      <th>3</th>\n",
       "      <td>Изменить структура категорий, что увеличит конверсию, т.к. пользователи быстрее найдут нужный товар</td>\n",
       "      <td>8</td>\n",
       "      <td>3</td>\n",
       "      <td>3</td>\n",
       "      <td>8</td>\n",
       "    </tr>\n",
       "    <tr>\n",
       "      <th>4</th>\n",
       "      <td>Изменить цвет фона главной страницы, чтобы увеличить вовлеченность пользователей</td>\n",
       "      <td>3</td>\n",
       "      <td>1</td>\n",
       "      <td>1</td>\n",
       "      <td>1</td>\n",
       "    </tr>\n",
       "    <tr>\n",
       "      <th>5</th>\n",
       "      <td>Добавить страницу отзывов клиентов о магазине, что позволит увеличить количество заказов</td>\n",
       "      <td>3</td>\n",
       "      <td>2</td>\n",
       "      <td>2</td>\n",
       "      <td>3</td>\n",
       "    </tr>\n",
       "    <tr>\n",
       "      <th>6</th>\n",
       "      <td>Показать на главной странице баннеры с актуальными акциями и распродажами, чтобы увеличить конверсию</td>\n",
       "      <td>5</td>\n",
       "      <td>3</td>\n",
       "      <td>8</td>\n",
       "      <td>3</td>\n",
       "    </tr>\n",
       "    <tr>\n",
       "      <th>7</th>\n",
       "      <td>Добавить форму подписки на все основные страницы, чтобы собрать базу клиентов для email-рассылок</td>\n",
       "      <td>10</td>\n",
       "      <td>7</td>\n",
       "      <td>8</td>\n",
       "      <td>5</td>\n",
       "    </tr>\n",
       "    <tr>\n",
       "      <th>8</th>\n",
       "      <td>Запустить акцию, дающую скидку на товар в день рождения</td>\n",
       "      <td>1</td>\n",
       "      <td>9</td>\n",
       "      <td>9</td>\n",
       "      <td>5</td>\n",
       "    </tr>\n",
       "  </tbody>\n",
       "</table>\n",
       "</div>"
      ],
      "text/plain": [
       "                                                                                                     hypothesis  \\\n",
       "0  Добавить два новых канала привлечения трафика, что позволит привлекать на 30% больше пользователей             \n",
       "1  Запустить собственную службу доставки, что сократит срок доставки заказов                                      \n",
       "2  Добавить блоки рекомендаций товаров на сайт интернет магазина, чтобы повысить конверсию и средний чек заказа   \n",
       "3  Изменить структура категорий, что увеличит конверсию, т.к. пользователи быстрее найдут нужный товар            \n",
       "4  Изменить цвет фона главной страницы, чтобы увеличить вовлеченность пользователей                               \n",
       "5  Добавить страницу отзывов клиентов о магазине, что позволит увеличить количество заказов                       \n",
       "6  Показать на главной странице баннеры с актуальными акциями и распродажами, чтобы увеличить конверсию           \n",
       "7  Добавить форму подписки на все основные страницы, чтобы собрать базу клиентов для email-рассылок               \n",
       "8  Запустить акцию, дающую скидку на товар в день рождения                                                        \n",
       "\n",
       "   reach  impact  confidence  efforts  \n",
       "0  3      10      8           6        \n",
       "1  2      5       4           10       \n",
       "2  8      3       7           3        \n",
       "3  8      3       3           8        \n",
       "4  3      1       1           1        \n",
       "5  3      2       2           3        \n",
       "6  5      3       8           3        \n",
       "7  10     7       8           5        \n",
       "8  1      9       9           5        "
      ]
     },
     "execution_count": 5,
     "metadata": {},
     "output_type": "execute_result"
    }
   ],
   "source": [
    "hypo"
   ]
  },
  {
   "cell_type": "markdown",
   "metadata": {},
   "source": [
    "Таблица небольшая и мы видим, что у нас нет ни пропусков ни дубликатов, но все же запустим проверку"
   ]
  },
  {
   "cell_type": "code",
   "execution_count": 6,
   "metadata": {},
   "outputs": [],
   "source": [
    "def check_missing_and_duplicates(df):\n",
    "    num_missing = df.isnull().sum().sum()\n",
    "    num_duplicates = df.duplicated().sum()\n",
    "    if num_missing == 0:\n",
    "        print(\"Пропусков не найдено.\")\n",
    "    else:\n",
    "        print(f\"Найдено {num_missing} пропусков в DataFrame.\")\n",
    "     \n",
    "    if num_duplicates == 0:\n",
    "        print(\"Дубликатов не найдено.\")\n",
    "    else:\n",
    "        print(f\"Найдено {num_duplicates} дубликатов в DataFrame.\")"
   ]
  },
  {
   "cell_type": "code",
   "execution_count": 7,
   "metadata": {},
   "outputs": [
    {
     "name": "stdout",
     "output_type": "stream",
     "text": [
      "Пропусков не найдено.\n",
      "Дубликатов не найдено.\n"
     ]
    }
   ],
   "source": [
    "check_missing_and_duplicates(hypo)"
   ]
  },
  {
   "cell_type": "markdown",
   "metadata": {},
   "source": [
    "<a id=\"1.3\"></a> \n",
    "## Часть 1.  Приоритизация гипотез. "
   ]
  },
  {
   "cell_type": "markdown",
   "metadata": {},
   "source": [
    "Применим фреймворк ICE для приоритизации гипотез. Отсортируйем их по убыванию приоритета."
   ]
  },
  {
   "cell_type": "code",
   "execution_count": 8,
   "metadata": {},
   "outputs": [
    {
     "name": "stdout",
     "output_type": "stream",
     "text": [
      "                                                                                                     hypothesis  \\\n",
      "8  Запустить акцию, дающую скидку на товар в день рождения                                                        \n",
      "0  Добавить два новых канала привлечения трафика, что позволит привлекать на 30% больше пользователей             \n",
      "7  Добавить форму подписки на все основные страницы, чтобы собрать базу клиентов для email-рассылок               \n",
      "6  Показать на главной странице баннеры с актуальными акциями и распродажами, чтобы увеличить конверсию           \n",
      "2  Добавить блоки рекомендаций товаров на сайт интернет магазина, чтобы повысить конверсию и средний чек заказа   \n",
      "1  Запустить собственную службу доставки, что сократит срок доставки заказов                                      \n",
      "5  Добавить страницу отзывов клиентов о магазине, что позволит увеличить количество заказов                       \n",
      "3  Изменить структура категорий, что увеличит конверсию, т.к. пользователи быстрее найдут нужный товар            \n",
      "4  Изменить цвет фона главной страницы, чтобы увеличить вовлеченность пользователей                               \n",
      "\n",
      "     ICE  \n",
      "8  16.20  \n",
      "0  13.33  \n",
      "7  11.20  \n",
      "6  8.00   \n",
      "2  7.00   \n",
      "1  2.00   \n",
      "5  1.33   \n",
      "3  1.12   \n",
      "4  1.00   \n"
     ]
    }
   ],
   "source": [
    "hypo['ICE'] = hypo['ICE'] = round((hypo['impact'] * hypo['confidence']) / hypo['efforts'], 2)\n",
    "print(hypo[['hypothesis','ICE']].sort_values(by='ICE', ascending=False))# напишите ваш код здесь "
   ]
  },
  {
   "cell_type": "markdown",
   "metadata": {},
   "source": [
    "После приоритизации гипотез фреймворком ICE на первое место вышла гипотеза №8, у которой одинаково высокие impact и\tconfidence и средний efforts. Далее гипотеза №0, так как у нее выше\tefforts. И на третьем месте №7."
   ]
  },
  {
   "cell_type": "markdown",
   "metadata": {},
   "source": [
    "Применим фреймворк RICE для приоритизации гипотез. Отсортируйем их по убыванию приоритета."
   ]
  },
  {
   "cell_type": "code",
   "execution_count": 9,
   "metadata": {},
   "outputs": [
    {
     "name": "stdout",
     "output_type": "stream",
     "text": [
      "                                                                                                     hypothesis  \\\n",
      "7  Добавить форму подписки на все основные страницы, чтобы собрать базу клиентов для email-рассылок               \n",
      "2  Добавить блоки рекомендаций товаров на сайт интернет магазина, чтобы повысить конверсию и средний чек заказа   \n",
      "0  Добавить два новых канала привлечения трафика, что позволит привлекать на 30% больше пользователей             \n",
      "6  Показать на главной странице баннеры с актуальными акциями и распродажами, чтобы увеличить конверсию           \n",
      "8  Запустить акцию, дающую скидку на товар в день рождения                                                        \n",
      "3  Изменить структура категорий, что увеличит конверсию, т.к. пользователи быстрее найдут нужный товар            \n",
      "1  Запустить собственную службу доставки, что сократит срок доставки заказов                                      \n",
      "5  Добавить страницу отзывов клиентов о магазине, что позволит увеличить количество заказов                       \n",
      "4  Изменить цвет фона главной страницы, чтобы увеличить вовлеченность пользователей                               \n",
      "\n",
      "    RICE  \n",
      "7  112.0  \n",
      "2  56.0   \n",
      "0  40.0   \n",
      "6  40.0   \n",
      "8  16.2   \n",
      "3  9.0    \n",
      "1  4.0    \n",
      "5  4.0    \n",
      "4  3.0    \n"
     ]
    }
   ],
   "source": [
    "hypo['RICE'] = round((hypo ['impact'] * hypo ['reach'] * hypo ['confidence']) / hypo ['efforts'], 2)\n",
    "print(hypo[['hypothesis','RICE']].sort_values(by='RICE', ascending=False))"
   ]
  },
  {
   "cell_type": "markdown",
   "metadata": {},
   "source": [
    "<a id=\"1.4\"></a>\n",
    "После приотизации гипотез при применении фреймворка RICE на первое место вышла гипотеза  под номером 7. Различие методов RICE и ICE, в том, что при методе RICE учитывается охват пользователей reach, а отдел маркетинга оценил охват пользователей при данном изменении на самый высокий балл. Так же гипотеза номер 2 заняла второе по значимости место. А вот гипотеза 8 спустилась до пятого."
   ]
  },
  {
   "cell_type": "markdown",
   "metadata": {},
   "source": [
    "<a id=\"preprocessing\"></a>\n",
    "## Часть 2. Анализ A/B-теста "
   ]
  },
  {
   "cell_type": "markdown",
   "metadata": {},
   "source": [
    "Мы провели A/B-тест и получили результаты, которые записаны в файлах. Загрузим данные и посмотрим на них. "
   ]
  },
  {
   "cell_type": "code",
   "execution_count": 10,
   "metadata": {},
   "outputs": [],
   "source": [
    "# загружаем датафреймы\n",
    "try:\n",
    "    orders = pd.read_csv('/datasets/orders.csv')\n",
    "except:\n",
    "    orders = pd.read_csv('https://code.s3.yandex.net/datasets/orders.csv') \n"
   ]
  },
  {
   "cell_type": "code",
   "execution_count": 11,
   "metadata": {},
   "outputs": [],
   "source": [
    "# загружаем датафреймы\n",
    "try:\n",
    "    visitors = pd.read_csv('/datasets/visitors.csv')\n",
    "except:\n",
    "    visitors = pd.read_csv('https://code.s3.yandex.net/datasets/visitors.csv') "
   ]
  },
  {
   "cell_type": "code",
   "execution_count": 12,
   "metadata": {},
   "outputs": [
    {
     "data": {
      "text/html": [
       "<div>\n",
       "<style scoped>\n",
       "    .dataframe tbody tr th:only-of-type {\n",
       "        vertical-align: middle;\n",
       "    }\n",
       "\n",
       "    .dataframe tbody tr th {\n",
       "        vertical-align: top;\n",
       "    }\n",
       "\n",
       "    .dataframe thead th {\n",
       "        text-align: right;\n",
       "    }\n",
       "</style>\n",
       "<table border=\"1\" class=\"dataframe\">\n",
       "  <thead>\n",
       "    <tr style=\"text-align: right;\">\n",
       "      <th></th>\n",
       "      <th>transactionId</th>\n",
       "      <th>visitorId</th>\n",
       "      <th>date</th>\n",
       "      <th>revenue</th>\n",
       "      <th>group</th>\n",
       "    </tr>\n",
       "  </thead>\n",
       "  <tbody>\n",
       "    <tr>\n",
       "      <th>0</th>\n",
       "      <td>3667963787</td>\n",
       "      <td>3312258926</td>\n",
       "      <td>2019-08-15</td>\n",
       "      <td>1650</td>\n",
       "      <td>B</td>\n",
       "    </tr>\n",
       "    <tr>\n",
       "      <th>1</th>\n",
       "      <td>2804400009</td>\n",
       "      <td>3642806036</td>\n",
       "      <td>2019-08-15</td>\n",
       "      <td>730</td>\n",
       "      <td>B</td>\n",
       "    </tr>\n",
       "    <tr>\n",
       "      <th>2</th>\n",
       "      <td>2961555356</td>\n",
       "      <td>4069496402</td>\n",
       "      <td>2019-08-15</td>\n",
       "      <td>400</td>\n",
       "      <td>A</td>\n",
       "    </tr>\n",
       "    <tr>\n",
       "      <th>3</th>\n",
       "      <td>3797467345</td>\n",
       "      <td>1196621759</td>\n",
       "      <td>2019-08-15</td>\n",
       "      <td>9759</td>\n",
       "      <td>B</td>\n",
       "    </tr>\n",
       "    <tr>\n",
       "      <th>4</th>\n",
       "      <td>2282983706</td>\n",
       "      <td>2322279887</td>\n",
       "      <td>2019-08-15</td>\n",
       "      <td>2308</td>\n",
       "      <td>B</td>\n",
       "    </tr>\n",
       "    <tr>\n",
       "      <th>...</th>\n",
       "      <td>...</td>\n",
       "      <td>...</td>\n",
       "      <td>...</td>\n",
       "      <td>...</td>\n",
       "      <td>...</td>\n",
       "    </tr>\n",
       "    <tr>\n",
       "      <th>1192</th>\n",
       "      <td>2662137336</td>\n",
       "      <td>3733762160</td>\n",
       "      <td>2019-08-14</td>\n",
       "      <td>6490</td>\n",
       "      <td>B</td>\n",
       "    </tr>\n",
       "    <tr>\n",
       "      <th>1193</th>\n",
       "      <td>2203539145</td>\n",
       "      <td>370388673</td>\n",
       "      <td>2019-08-14</td>\n",
       "      <td>3190</td>\n",
       "      <td>A</td>\n",
       "    </tr>\n",
       "    <tr>\n",
       "      <th>1194</th>\n",
       "      <td>1807773912</td>\n",
       "      <td>573423106</td>\n",
       "      <td>2019-08-14</td>\n",
       "      <td>10550</td>\n",
       "      <td>A</td>\n",
       "    </tr>\n",
       "    <tr>\n",
       "      <th>1195</th>\n",
       "      <td>1947021204</td>\n",
       "      <td>1614305549</td>\n",
       "      <td>2019-08-14</td>\n",
       "      <td>100</td>\n",
       "      <td>A</td>\n",
       "    </tr>\n",
       "    <tr>\n",
       "      <th>1196</th>\n",
       "      <td>3936777065</td>\n",
       "      <td>2108080724</td>\n",
       "      <td>2019-08-15</td>\n",
       "      <td>202740</td>\n",
       "      <td>B</td>\n",
       "    </tr>\n",
       "  </tbody>\n",
       "</table>\n",
       "<p>1197 rows × 5 columns</p>\n",
       "</div>"
      ],
      "text/plain": [
       "      transactionId   visitorId        date  revenue group\n",
       "0     3667963787     3312258926  2019-08-15  1650     B   \n",
       "1     2804400009     3642806036  2019-08-15  730      B   \n",
       "2     2961555356     4069496402  2019-08-15  400      A   \n",
       "3     3797467345     1196621759  2019-08-15  9759     B   \n",
       "4     2282983706     2322279887  2019-08-15  2308     B   \n",
       "...          ...            ...         ...   ...    ..   \n",
       "1192  2662137336     3733762160  2019-08-14  6490     B   \n",
       "1193  2203539145     370388673   2019-08-14  3190     A   \n",
       "1194  1807773912     573423106   2019-08-14  10550    A   \n",
       "1195  1947021204     1614305549  2019-08-14  100      A   \n",
       "1196  3936777065     2108080724  2019-08-15  202740   B   \n",
       "\n",
       "[1197 rows x 5 columns]"
      ]
     },
     "execution_count": 12,
     "metadata": {},
     "output_type": "execute_result"
    }
   ],
   "source": [
    "orders"
   ]
  },
  {
   "cell_type": "markdown",
   "metadata": {},
   "source": [
    "Посмотрим общую информацию о датафрейме orders (датафрейм с информацией о заказах, выручке и группы А/В теста пользователей)"
   ]
  },
  {
   "cell_type": "code",
   "execution_count": 13,
   "metadata": {},
   "outputs": [
    {
     "name": "stdout",
     "output_type": "stream",
     "text": [
      "<class 'pandas.core.frame.DataFrame'>\n",
      "RangeIndex: 1197 entries, 0 to 1196\n",
      "Data columns (total 5 columns):\n",
      " #   Column         Non-Null Count  Dtype \n",
      "---  ------         --------------  ----- \n",
      " 0   transactionId  1197 non-null   int64 \n",
      " 1   visitorId      1197 non-null   int64 \n",
      " 2   date           1197 non-null   object\n",
      " 3   revenue        1197 non-null   int64 \n",
      " 4   group          1197 non-null   object\n",
      "dtypes: int64(3), object(2)\n",
      "memory usage: 46.9+ KB\n"
     ]
    }
   ],
   "source": [
    "orders.info()"
   ]
  },
  {
   "cell_type": "markdown",
   "metadata": {},
   "source": [
    "В нашей таблице 5 столбцов и 1197 строк, тип данных столбца date не соответствует дате."
   ]
  },
  {
   "cell_type": "markdown",
   "metadata": {},
   "source": [
    "Проверим данные на пропуски и дубликаты"
   ]
  },
  {
   "cell_type": "code",
   "execution_count": 14,
   "metadata": {},
   "outputs": [
    {
     "name": "stdout",
     "output_type": "stream",
     "text": [
      "Пропусков не найдено.\n",
      "Дубликатов не найдено.\n"
     ]
    }
   ],
   "source": [
    "check_missing_and_duplicates(orders)"
   ]
  },
  {
   "cell_type": "markdown",
   "metadata": {},
   "source": [
    "Приведем названия столбцов к змеиному регистру и изменим тип данных столбца date"
   ]
  },
  {
   "cell_type": "code",
   "execution_count": 15,
   "metadata": {},
   "outputs": [],
   "source": [
    "# Переименование колонок\n",
    "orders.rename(columns={'transactionId': 'transaction_id', 'visitorId': 'visitor_id'}, inplace=True)\n",
    "\n",
    "# Приведение типа данных в формат даты\n",
    "orders['date'] = pd.to_datetime(orders['date'], format='%Y-%m-%dT')\n"
   ]
  },
  {
   "cell_type": "markdown",
   "metadata": {},
   "source": [
    "Проверим, что получилось"
   ]
  },
  {
   "cell_type": "code",
   "execution_count": 16,
   "metadata": {},
   "outputs": [
    {
     "name": "stdout",
     "output_type": "stream",
     "text": [
      "<class 'pandas.core.frame.DataFrame'>\n",
      "RangeIndex: 1197 entries, 0 to 1196\n",
      "Data columns (total 5 columns):\n",
      " #   Column          Non-Null Count  Dtype         \n",
      "---  ------          --------------  -----         \n",
      " 0   transaction_id  1197 non-null   int64         \n",
      " 1   visitor_id      1197 non-null   int64         \n",
      " 2   date            1197 non-null   datetime64[ns]\n",
      " 3   revenue         1197 non-null   int64         \n",
      " 4   group           1197 non-null   object        \n",
      "dtypes: datetime64[ns](1), int64(3), object(1)\n",
      "memory usage: 46.9+ KB\n"
     ]
    }
   ],
   "source": [
    "orders.info()"
   ]
  },
  {
   "cell_type": "markdown",
   "metadata": {},
   "source": [
    "Теперь все в порядке"
   ]
  },
  {
   "cell_type": "markdown",
   "metadata": {},
   "source": [
    "Выведем таблицу visitors (данные о принадлежности пользоватетй группам А/В теста) и посмотрим на общую информацию о ней."
   ]
  },
  {
   "cell_type": "code",
   "execution_count": 17,
   "metadata": {},
   "outputs": [
    {
     "data": {
      "text/html": [
       "<div>\n",
       "<style scoped>\n",
       "    .dataframe tbody tr th:only-of-type {\n",
       "        vertical-align: middle;\n",
       "    }\n",
       "\n",
       "    .dataframe tbody tr th {\n",
       "        vertical-align: top;\n",
       "    }\n",
       "\n",
       "    .dataframe thead th {\n",
       "        text-align: right;\n",
       "    }\n",
       "</style>\n",
       "<table border=\"1\" class=\"dataframe\">\n",
       "  <thead>\n",
       "    <tr style=\"text-align: right;\">\n",
       "      <th></th>\n",
       "      <th>date</th>\n",
       "      <th>group</th>\n",
       "      <th>visitors</th>\n",
       "    </tr>\n",
       "  </thead>\n",
       "  <tbody>\n",
       "    <tr>\n",
       "      <th>0</th>\n",
       "      <td>2019-08-01</td>\n",
       "      <td>A</td>\n",
       "      <td>719</td>\n",
       "    </tr>\n",
       "    <tr>\n",
       "      <th>1</th>\n",
       "      <td>2019-08-02</td>\n",
       "      <td>A</td>\n",
       "      <td>619</td>\n",
       "    </tr>\n",
       "    <tr>\n",
       "      <th>2</th>\n",
       "      <td>2019-08-03</td>\n",
       "      <td>A</td>\n",
       "      <td>507</td>\n",
       "    </tr>\n",
       "    <tr>\n",
       "      <th>3</th>\n",
       "      <td>2019-08-04</td>\n",
       "      <td>A</td>\n",
       "      <td>717</td>\n",
       "    </tr>\n",
       "    <tr>\n",
       "      <th>4</th>\n",
       "      <td>2019-08-05</td>\n",
       "      <td>A</td>\n",
       "      <td>756</td>\n",
       "    </tr>\n",
       "    <tr>\n",
       "      <th>...</th>\n",
       "      <td>...</td>\n",
       "      <td>...</td>\n",
       "      <td>...</td>\n",
       "    </tr>\n",
       "    <tr>\n",
       "      <th>57</th>\n",
       "      <td>2019-08-27</td>\n",
       "      <td>B</td>\n",
       "      <td>720</td>\n",
       "    </tr>\n",
       "    <tr>\n",
       "      <th>58</th>\n",
       "      <td>2019-08-28</td>\n",
       "      <td>B</td>\n",
       "      <td>654</td>\n",
       "    </tr>\n",
       "    <tr>\n",
       "      <th>59</th>\n",
       "      <td>2019-08-29</td>\n",
       "      <td>B</td>\n",
       "      <td>531</td>\n",
       "    </tr>\n",
       "    <tr>\n",
       "      <th>60</th>\n",
       "      <td>2019-08-30</td>\n",
       "      <td>B</td>\n",
       "      <td>490</td>\n",
       "    </tr>\n",
       "    <tr>\n",
       "      <th>61</th>\n",
       "      <td>2019-08-31</td>\n",
       "      <td>B</td>\n",
       "      <td>718</td>\n",
       "    </tr>\n",
       "  </tbody>\n",
       "</table>\n",
       "<p>62 rows × 3 columns</p>\n",
       "</div>"
      ],
      "text/plain": [
       "          date group  visitors\n",
       "0   2019-08-01  A     719     \n",
       "1   2019-08-02  A     619     \n",
       "2   2019-08-03  A     507     \n",
       "3   2019-08-04  A     717     \n",
       "4   2019-08-05  A     756     \n",
       "..         ... ..     ...     \n",
       "57  2019-08-27  B     720     \n",
       "58  2019-08-28  B     654     \n",
       "59  2019-08-29  B     531     \n",
       "60  2019-08-30  B     490     \n",
       "61  2019-08-31  B     718     \n",
       "\n",
       "[62 rows x 3 columns]"
      ]
     },
     "execution_count": 17,
     "metadata": {},
     "output_type": "execute_result"
    }
   ],
   "source": [
    "visitors"
   ]
  },
  {
   "cell_type": "code",
   "execution_count": 18,
   "metadata": {},
   "outputs": [
    {
     "name": "stdout",
     "output_type": "stream",
     "text": [
      "<class 'pandas.core.frame.DataFrame'>\n",
      "RangeIndex: 62 entries, 0 to 61\n",
      "Data columns (total 3 columns):\n",
      " #   Column    Non-Null Count  Dtype \n",
      "---  ------    --------------  ----- \n",
      " 0   date      62 non-null     object\n",
      " 1   group     62 non-null     object\n",
      " 2   visitors  62 non-null     int64 \n",
      "dtypes: int64(1), object(2)\n",
      "memory usage: 1.6+ KB\n"
     ]
    }
   ],
   "source": [
    "visitors.info()"
   ]
  },
  {
   "cell_type": "markdown",
   "metadata": {},
   "source": [
    "В таблице 3 столбца и 62 строки. Тип данныз столбца date не соответствует дате."
   ]
  },
  {
   "cell_type": "markdown",
   "metadata": {},
   "source": [
    "Проверим данные на пропуски и дубликаты"
   ]
  },
  {
   "cell_type": "code",
   "execution_count": 19,
   "metadata": {},
   "outputs": [
    {
     "name": "stdout",
     "output_type": "stream",
     "text": [
      "Пропусков не найдено.\n",
      "Дубликатов не найдено.\n"
     ]
    }
   ],
   "source": [
    "check_missing_and_duplicates(visitors)"
   ]
  },
  {
   "cell_type": "markdown",
   "metadata": {},
   "source": [
    "Так же приведем столбец date  к формату даты"
   ]
  },
  {
   "cell_type": "code",
   "execution_count": 20,
   "metadata": {},
   "outputs": [],
   "source": [
    "# Приведение типа данных в формат даты\n",
    "visitors['date'] = pd.to_datetime(visitors['date'], format='%Y-%m-%dT')"
   ]
  },
  {
   "cell_type": "markdown",
   "metadata": {},
   "source": [
    "Проверим, что получилось"
   ]
  },
  {
   "cell_type": "code",
   "execution_count": 21,
   "metadata": {},
   "outputs": [
    {
     "name": "stdout",
     "output_type": "stream",
     "text": [
      "<class 'pandas.core.frame.DataFrame'>\n",
      "RangeIndex: 62 entries, 0 to 61\n",
      "Data columns (total 3 columns):\n",
      " #   Column    Non-Null Count  Dtype         \n",
      "---  ------    --------------  -----         \n",
      " 0   date      62 non-null     datetime64[ns]\n",
      " 1   group     62 non-null     object        \n",
      " 2   visitors  62 non-null     int64         \n",
      "dtypes: datetime64[ns](1), int64(1), object(1)\n",
      "memory usage: 1.6+ KB\n"
     ]
    }
   ],
   "source": [
    "visitors.info()"
   ]
  },
  {
   "cell_type": "markdown",
   "metadata": {},
   "source": [
    "Теперь все в порядке."
   ]
  },
  {
   "cell_type": "markdown",
   "metadata": {},
   "source": [
    "Начнем анализ А/В теста. \n",
    "<a id=\"2.1\"></a>\n",
    "### Построим график кумулятивной выручки по группам. "
   ]
  },
  {
   "cell_type": "markdown",
   "metadata": {},
   "source": [
    "Чтобы построить графики, нужно собрать кумулятивные данные. Объявим датафрейм cumulativeData со столбцами: \n",
    "date — дата;\n",
    "group — группа A/B-теста (A или B);\n",
    "orders — кумулятивное количество заказов на указанную дату в указанной группе;\n",
    "buyers — кумулятивное количество пользователей, совершивших хотя бы один заказ, на указанную дату в указанной группе;\n",
    "revenue — кумулятивная выручка на указанную дату в указанной группе (средний чек);\n",
    "visitors — кумулятивное количество посетителей интернет-магазина на указанную дату в определённой группе."
   ]
  },
  {
   "cell_type": "markdown",
   "metadata": {},
   "source": [
    "Создадим массив уникальных пар значений дат и групп теста методом drop_duplicates(): "
   ]
  },
  {
   "cell_type": "code",
   "execution_count": 22,
   "metadata": {},
   "outputs": [
    {
     "data": {
      "text/html": [
       "<div>\n",
       "<style scoped>\n",
       "    .dataframe tbody tr th:only-of-type {\n",
       "        vertical-align: middle;\n",
       "    }\n",
       "\n",
       "    .dataframe tbody tr th {\n",
       "        vertical-align: top;\n",
       "    }\n",
       "\n",
       "    .dataframe thead th {\n",
       "        text-align: right;\n",
       "    }\n",
       "</style>\n",
       "<table border=\"1\" class=\"dataframe\">\n",
       "  <thead>\n",
       "    <tr style=\"text-align: right;\">\n",
       "      <th></th>\n",
       "      <th>date</th>\n",
       "      <th>group</th>\n",
       "    </tr>\n",
       "  </thead>\n",
       "  <tbody>\n",
       "    <tr>\n",
       "      <th>0</th>\n",
       "      <td>2019-08-15</td>\n",
       "      <td>B</td>\n",
       "    </tr>\n",
       "    <tr>\n",
       "      <th>2</th>\n",
       "      <td>2019-08-15</td>\n",
       "      <td>A</td>\n",
       "    </tr>\n",
       "    <tr>\n",
       "      <th>45</th>\n",
       "      <td>2019-08-16</td>\n",
       "      <td>A</td>\n",
       "    </tr>\n",
       "    <tr>\n",
       "      <th>47</th>\n",
       "      <td>2019-08-16</td>\n",
       "      <td>B</td>\n",
       "    </tr>\n",
       "    <tr>\n",
       "      <th>55</th>\n",
       "      <td>2019-08-01</td>\n",
       "      <td>A</td>\n",
       "    </tr>\n",
       "  </tbody>\n",
       "</table>\n",
       "</div>"
      ],
      "text/plain": [
       "         date group\n",
       "0  2019-08-15  B   \n",
       "2  2019-08-15  A   \n",
       "45 2019-08-16  A   \n",
       "47 2019-08-16  B   \n",
       "55 2019-08-01  A   "
      ]
     },
     "execution_count": 22,
     "metadata": {},
     "output_type": "execute_result"
    }
   ],
   "source": [
    "# создаем массив уникальных пар значений дат и групп теста\n",
    "datesGroups = orders[['date','group']].drop_duplicates() \n",
    "datesGroups.head()"
   ]
  },
  {
   "cell_type": "markdown",
   "metadata": {},
   "source": [
    "Соберём агрегированные кумулятивные по дням данные о заказах."
   ]
  },
  {
   "cell_type": "code",
   "execution_count": 23,
   "metadata": {},
   "outputs": [],
   "source": [
    "ordersAggregated = datesGroups.apply(lambda x: orders[np.logical_and(orders['date'] <= x['date'], orders['group'] == x['group'])]\\\n",
    ".agg({'date' : 'max', 'group' : 'max', 'transaction_id' : 'nunique', 'visitor_id' : 'nunique', 'revenue' : 'sum'}), axis=1).sort_values(by=['date','group'])"
   ]
  },
  {
   "cell_type": "markdown",
   "metadata": {},
   "source": [
    "Получим агрегированные кумулятивные по дням данные о посетителях интернет-магазина"
   ]
  },
  {
   "cell_type": "code",
   "execution_count": 24,
   "metadata": {},
   "outputs": [],
   "source": [
    "visitorsAggregated = datesGroups.apply(lambda x: visitors[np.logical_and(visitors['date'] <= x['date'], visitors['group'] == x['group'])].agg({'date' : 'max', 'group' : 'max', 'visitors' : 'sum'}), axis=1).sort_values(by=['date','group'])"
   ]
  },
  {
   "cell_type": "markdown",
   "metadata": {},
   "source": [
    "Объединим обе таблицы в одну с понятными названиями столбцов"
   ]
  },
  {
   "cell_type": "code",
   "execution_count": 25,
   "metadata": {},
   "outputs": [
    {
     "data": {
      "text/html": [
       "<div>\n",
       "<style scoped>\n",
       "    .dataframe tbody tr th:only-of-type {\n",
       "        vertical-align: middle;\n",
       "    }\n",
       "\n",
       "    .dataframe tbody tr th {\n",
       "        vertical-align: top;\n",
       "    }\n",
       "\n",
       "    .dataframe thead th {\n",
       "        text-align: right;\n",
       "    }\n",
       "</style>\n",
       "<table border=\"1\" class=\"dataframe\">\n",
       "  <thead>\n",
       "    <tr style=\"text-align: right;\">\n",
       "      <th></th>\n",
       "      <th>date</th>\n",
       "      <th>group</th>\n",
       "      <th>orders</th>\n",
       "      <th>buyers</th>\n",
       "      <th>revenue</th>\n",
       "      <th>visitors</th>\n",
       "    </tr>\n",
       "  </thead>\n",
       "  <tbody>\n",
       "    <tr>\n",
       "      <th>0</th>\n",
       "      <td>2019-08-01</td>\n",
       "      <td>A</td>\n",
       "      <td>24</td>\n",
       "      <td>20</td>\n",
       "      <td>148579</td>\n",
       "      <td>719</td>\n",
       "    </tr>\n",
       "    <tr>\n",
       "      <th>1</th>\n",
       "      <td>2019-08-01</td>\n",
       "      <td>B</td>\n",
       "      <td>21</td>\n",
       "      <td>20</td>\n",
       "      <td>101217</td>\n",
       "      <td>713</td>\n",
       "    </tr>\n",
       "    <tr>\n",
       "      <th>2</th>\n",
       "      <td>2019-08-02</td>\n",
       "      <td>A</td>\n",
       "      <td>44</td>\n",
       "      <td>38</td>\n",
       "      <td>242401</td>\n",
       "      <td>1338</td>\n",
       "    </tr>\n",
       "    <tr>\n",
       "      <th>3</th>\n",
       "      <td>2019-08-02</td>\n",
       "      <td>B</td>\n",
       "      <td>45</td>\n",
       "      <td>43</td>\n",
       "      <td>266748</td>\n",
       "      <td>1294</td>\n",
       "    </tr>\n",
       "    <tr>\n",
       "      <th>4</th>\n",
       "      <td>2019-08-03</td>\n",
       "      <td>A</td>\n",
       "      <td>68</td>\n",
       "      <td>62</td>\n",
       "      <td>354874</td>\n",
       "      <td>1845</td>\n",
       "    </tr>\n",
       "    <tr>\n",
       "      <th>...</th>\n",
       "      <td>...</td>\n",
       "      <td>...</td>\n",
       "      <td>...</td>\n",
       "      <td>...</td>\n",
       "      <td>...</td>\n",
       "      <td>...</td>\n",
       "    </tr>\n",
       "    <tr>\n",
       "      <th>57</th>\n",
       "      <td>2019-08-29</td>\n",
       "      <td>B</td>\n",
       "      <td>596</td>\n",
       "      <td>544</td>\n",
       "      <td>5559398</td>\n",
       "      <td>17708</td>\n",
       "    </tr>\n",
       "    <tr>\n",
       "      <th>58</th>\n",
       "      <td>2019-08-30</td>\n",
       "      <td>A</td>\n",
       "      <td>545</td>\n",
       "      <td>493</td>\n",
       "      <td>4022970</td>\n",
       "      <td>18037</td>\n",
       "    </tr>\n",
       "    <tr>\n",
       "      <th>59</th>\n",
       "      <td>2019-08-30</td>\n",
       "      <td>B</td>\n",
       "      <td>620</td>\n",
       "      <td>567</td>\n",
       "      <td>5774631</td>\n",
       "      <td>18198</td>\n",
       "    </tr>\n",
       "    <tr>\n",
       "      <th>60</th>\n",
       "      <td>2019-08-31</td>\n",
       "      <td>A</td>\n",
       "      <td>557</td>\n",
       "      <td>503</td>\n",
       "      <td>4084803</td>\n",
       "      <td>18736</td>\n",
       "    </tr>\n",
       "    <tr>\n",
       "      <th>61</th>\n",
       "      <td>2019-08-31</td>\n",
       "      <td>B</td>\n",
       "      <td>640</td>\n",
       "      <td>586</td>\n",
       "      <td>5907760</td>\n",
       "      <td>18916</td>\n",
       "    </tr>\n",
       "  </tbody>\n",
       "</table>\n",
       "<p>62 rows × 6 columns</p>\n",
       "</div>"
      ],
      "text/plain": [
       "         date group  orders  buyers  revenue  visitors\n",
       "0  2019-08-01  A     24      20      148579   719     \n",
       "1  2019-08-01  B     21      20      101217   713     \n",
       "2  2019-08-02  A     44      38      242401   1338    \n",
       "3  2019-08-02  B     45      43      266748   1294    \n",
       "4  2019-08-03  A     68      62      354874   1845    \n",
       "..        ... ..     ..      ..         ...    ...    \n",
       "57 2019-08-29  B     596     544     5559398  17708   \n",
       "58 2019-08-30  A     545     493     4022970  18037   \n",
       "59 2019-08-30  B     620     567     5774631  18198   \n",
       "60 2019-08-31  A     557     503     4084803  18736   \n",
       "61 2019-08-31  B     640     586     5907760  18916   \n",
       "\n",
       "[62 rows x 6 columns]"
      ]
     },
     "execution_count": 25,
     "metadata": {},
     "output_type": "execute_result"
    }
   ],
   "source": [
    "# объединяем кумулятивные данные в одной таблице и присваиваем ее столбцам понятные названия\n",
    "cumulativeData = ordersAggregated.merge(visitorsAggregated, left_on=['date', 'group'], right_on=['date', 'group'])\n",
    "cumulativeData.columns = ['date', 'group', 'orders', 'buyers', 'revenue', 'visitors']\n",
    "cumulativeData"
   ]
  },
  {
   "cell_type": "markdown",
   "metadata": {},
   "source": [
    "Построим графики кумулятивной выручки по дням и группам A/B-тестирования"
   ]
  },
  {
   "cell_type": "code",
   "execution_count": 26,
   "metadata": {},
   "outputs": [
    {
     "data": {
      "image/png": "[encoded data removed]",
      "text/plain": [
       "<Figure size 864x432 with 1 Axes>"
      ]
     },
     "metadata": {
      "needs_background": "light"
     },
     "output_type": "display_data"
    }
   ],
   "source": [
    "# датафрейм с кумулятивным количеством заказов и кумулятивной выручкой по дням в группе А\n",
    "cumulativeRevenueA = cumulativeData[cumulativeData['group']=='A'][['date','revenue', 'orders']]\n",
    "\n",
    "# датафрейм с кумулятивным количеством заказов и кумулятивной выручкой по дням в группе B\n",
    "cumulativeRevenueB = cumulativeData[cumulativeData['group']=='B'][['date','revenue', 'orders']]\n",
    "\n",
    "# Строим график выручки группы А\n",
    "plt.figure(figsize=(12, 6))\n",
    "plt.plot(cumulativeRevenueA['date'], cumulativeRevenueA['revenue'], label='A')\n",
    "\n",
    "# Строим график выручки группы B\n",
    "plt.plot(cumulativeRevenueB['date'], cumulativeRevenueB['revenue'], label='B')\n",
    "plt.title('График кумулятивной выручки по группам')\n",
    "plt.xlabel(\"Даты\")\n",
    "plt.ylabel(\"Выручка\")\n",
    "plt.legend()\n",
    "plt.grid(True)\n",
    "plt.show()"
   ]
  },
  {
   "cell_type": "markdown",
   "metadata": {},
   "source": [
    "Выручка равномерно увеличивается в течение всего теста, кроме одного промежутка времени с 18 августа по 19 августа, наблюдается резкий скачок данных о выручке группы В. Это либо резкое увеличение числа заказов, либо какие-то очень дорогие заказы были оформлены в этот период."
   ]
  },
  {
   "cell_type": "markdown",
   "metadata": {},
   "source": [
    "<a id=\"2.2\"></a>\n",
    "### Построим график кумулятивного среднего чека по группам. "
   ]
  },
  {
   "cell_type": "code",
   "execution_count": 27,
   "metadata": {},
   "outputs": [
    {
     "data": {
      "image/png": "[encoded data removed]",
      "text/plain": [
       "<Figure size 864x432 with 1 Axes>"
      ]
     },
     "metadata": {
      "needs_background": "light"
     },
     "output_type": "display_data"
    }
   ],
   "source": [
    "plt.figure(figsize=(12, 6))\n",
    "plt.plot(cumulativeRevenueA['date'], cumulativeRevenueA['revenue']/cumulativeRevenueA['orders'], label='A')\n",
    "plt.plot(cumulativeRevenueB['date'], cumulativeRevenueB['revenue']/cumulativeRevenueB['orders'], label='B')\n",
    "plt.title('График кумулятивного среднего чека по группам')\n",
    "plt.xlabel(\"Даты\")\n",
    "plt.ylabel(\"Средний чек\")\n",
    "plt.legend()\n",
    "plt.grid(True)\n",
    "plt.show()"
   ]
  },
  {
   "cell_type": "markdown",
   "metadata": {},
   "source": [
    "Средний чек тоже становится равномерным ближе к концу теста: установился для группы A и продолжает падать для группы B. Видимо, в группу B в середине теста попали крупные заказы (резкий всплеск на графике). Тогда ей нужно больше данных, чтобы прийти к реальному среднему чеку и установиться на его уровне. В основном на всем протяжении теста средний чек группы В превосходит средний чек группы А, хотя в период с 11 сентября по 13 сентября наблюдается падение среднего чека в группы В и, наоборот, увеличение у группы А."
   ]
  },
  {
   "cell_type": "markdown",
   "metadata": {},
   "source": [
    "### Построим график относительного изменения кумулятивного среднего чека группы B к группе A. \n",
    "<a id=\"2.3\"></a>"
   ]
  },
  {
   "cell_type": "code",
   "execution_count": 28,
   "metadata": {},
   "outputs": [
    {
     "data": {
      "image/png": "[encoded data removed]",
      "text/plain": [
       "<Figure size 864x432 with 1 Axes>"
      ]
     },
     "metadata": {
      "needs_background": "light"
     },
     "output_type": "display_data"
    }
   ],
   "source": [
    "# собираем данные в одном датафрейме\n",
    "mergedCumulativeRevenue = cumulativeRevenueA.merge(cumulativeRevenueB, left_on='date', right_on='date', how='left', suffixes=['A', 'B'])\n",
    "plt.figure(figsize=(12, 6))\n",
    "# cтроим отношение средних чеков\n",
    "plt.plot(mergedCumulativeRevenue['date'], (mergedCumulativeRevenue['revenueB']/mergedCumulativeRevenue['ordersB'])/(mergedCumulativeRevenue['revenueA']/mergedCumulativeRevenue['ordersA'])-1)\n",
    "\n",
    "# добавляем ось X\n",
    "plt.axhline(y=0, color='black', linestyle='--')\n",
    "plt.title('График относительного изменения кумулятивного среднего чека группы B к группе A')\n",
    "plt.xlabel(\"Даты\")\n",
    "plt.ylabel(\"Средний чек\")\n",
    "plt.grid(True)\n",
    "plt.show()"
   ]
  },
  {
   "cell_type": "markdown",
   "metadata": {},
   "source": [
    "В нескольких точках график различия между сегментами резко «скачет». В целом кумулятивные данные о среднем чеке группы В превосходят кумулятивные данные о среднем чеке группы А."
   ]
  },
  {
   "cell_type": "markdown",
   "metadata": {},
   "source": [
    "### Построим график кумулятивного среднего количества заказов на посетителя по группам. \n",
    "<a id=\"2.4\"></a>"
   ]
  },
  {
   "cell_type": "code",
   "execution_count": 29,
   "metadata": {},
   "outputs": [
    {
     "data": {
      "image/png": "[encoded data removed]",
      "text/plain": [
       "<Figure size 864x432 with 1 Axes>"
      ]
     },
     "metadata": {
      "needs_background": "light"
     },
     "output_type": "display_data"
    }
   ],
   "source": [
    "# считаем среднее количество заказов на посетителя\n",
    "cumulativeData['conversion'] = cumulativeData['orders']/cumulativeData['visitors']\n",
    "\n",
    "# отделяем данные по группе A\n",
    "cumulativeDataA = cumulativeData[cumulativeData['group']=='A']\n",
    "\n",
    "# отделяем данные по группе B\n",
    "cumulativeDataB = cumulativeData[cumulativeData['group']=='B']\n",
    "plt.figure(figsize=(12, 6))\n",
    "# строим графики\n",
    "plt.plot(cumulativeDataA['date'], cumulativeDataA['conversion'], label='A')\n",
    "plt.plot(cumulativeDataB['date'], cumulativeDataB['conversion'], label='B')\n",
    "plt.legend()\n",
    "\n",
    "# задаем масштаб осей\n",
    "plt.axis([pd.to_datetime(\"2019-08-01\"), pd.to_datetime(\"2019-09-01\"),0.025, 0.04])\n",
    "plt.title('График кумулятивного среднего количества заказов на посетителя по группам')\n",
    "plt.xlabel(\"Даты\")\n",
    "plt.ylabel(\"Cреднее количество заказов на посетителя\")\n",
    "plt.grid(True)\n",
    "plt.show()"
   ]
  },
  {
   "cell_type": "markdown",
   "metadata": {},
   "source": [
    "Получился симметричный график. Группы колебались около одного значения, но затем у группы В среднее количество заказов вырвалось вперёд и зафиксировалось, а у группы А — просело, но тоже зафиксировалось."
   ]
  },
  {
   "cell_type": "markdown",
   "metadata": {},
   "source": [
    "### Построим график относительного изменения кумулятивного среднего количества заказов на посетителя группы B к группе A \n",
    "<a id=\"2.5\"></a>"
   ]
  },
  {
   "cell_type": "code",
   "execution_count": 30,
   "metadata": {},
   "outputs": [
    {
     "data": {
      "image/png": "[encoded data removed]",
      "text/plain": [
       "<Figure size 864x432 with 1 Axes>"
      ]
     },
     "metadata": {
      "needs_background": "light"
     },
     "output_type": "display_data"
    }
   ],
   "source": [
    "mergedCumulativeConversions = cumulativeDataA[['date','conversion']].merge(cumulativeDataB[['date','conversion']], left_on='date', right_on='date', how='left', suffixes=['A', 'B'])\n",
    "plt.figure(figsize=(12, 6))\n",
    "plt.plot(mergedCumulativeConversions['date'], mergedCumulativeConversions['conversionB']/mergedCumulativeConversions['conversionA']-1, label=\"Относительный прирост кумулятивного среднего количества заказов на посетителя группы B относительно группы A\")\n",
    "\n",
    "plt.axhline(y=0, color='black', linestyle='--')\n",
    "plt.axhline(y=0.13, color='grey', linestyle='--')\n",
    "plt.axis([pd.to_datetime(\"2019-08-01\"), pd.to_datetime(\"2019-09-01\"), -0.5, 0.5])\n",
    "plt.title('График относительного изменения кумулятивного среднего количества заказов на посетителя группы B к группе A')\n",
    "plt.xlabel(\"Даты\")\n",
    "plt.ylabel(\"Cреднее количество заказов на посетителя\")\n",
    "plt.grid(True)\n",
    "plt.show()"
   ]
  },
  {
   "cell_type": "markdown",
   "metadata": {},
   "source": [
    "В начале теста группа B то проигрывала, то выигрывала группе A, затем вырвалась вперёд. В итоге можно сказать, что отношение среднего количества заказов на посетителя установилось на уровне 0,13"
   ]
  },
  {
   "cell_type": "markdown",
   "metadata": {},
   "source": [
    "### Построим точечный график количества заказов по пользователям. Для этого подсчитаем количество заказов по пользователям \n",
    "<a id=\"2.6\"></a>"
   ]
  },
  {
   "cell_type": "code",
   "execution_count": 31,
   "metadata": {},
   "outputs": [
    {
     "data": {
      "text/html": [
       "<div>\n",
       "<style scoped>\n",
       "    .dataframe tbody tr th:only-of-type {\n",
       "        vertical-align: middle;\n",
       "    }\n",
       "\n",
       "    .dataframe tbody tr th {\n",
       "        vertical-align: top;\n",
       "    }\n",
       "\n",
       "    .dataframe thead th {\n",
       "        text-align: right;\n",
       "    }\n",
       "</style>\n",
       "<table border=\"1\" class=\"dataframe\">\n",
       "  <thead>\n",
       "    <tr style=\"text-align: right;\">\n",
       "      <th></th>\n",
       "      <th>visitor_id</th>\n",
       "      <th>orders</th>\n",
       "    </tr>\n",
       "  </thead>\n",
       "  <tbody>\n",
       "    <tr>\n",
       "      <th>1023</th>\n",
       "      <td>4256040402</td>\n",
       "      <td>11</td>\n",
       "    </tr>\n",
       "    <tr>\n",
       "      <th>591</th>\n",
       "      <td>2458001652</td>\n",
       "      <td>11</td>\n",
       "    </tr>\n",
       "    <tr>\n",
       "      <th>569</th>\n",
       "      <td>2378935119</td>\n",
       "      <td>9</td>\n",
       "    </tr>\n",
       "    <tr>\n",
       "      <th>487</th>\n",
       "      <td>2038680547</td>\n",
       "      <td>8</td>\n",
       "    </tr>\n",
       "    <tr>\n",
       "      <th>44</th>\n",
       "      <td>199603092</td>\n",
       "      <td>5</td>\n",
       "    </tr>\n",
       "    <tr>\n",
       "      <th>...</th>\n",
       "      <td>...</td>\n",
       "      <td>...</td>\n",
       "    </tr>\n",
       "    <tr>\n",
       "      <th>359</th>\n",
       "      <td>1484903144</td>\n",
       "      <td>1</td>\n",
       "    </tr>\n",
       "    <tr>\n",
       "      <th>360</th>\n",
       "      <td>1485964287</td>\n",
       "      <td>1</td>\n",
       "    </tr>\n",
       "    <tr>\n",
       "      <th>361</th>\n",
       "      <td>1494664757</td>\n",
       "      <td>1</td>\n",
       "    </tr>\n",
       "    <tr>\n",
       "      <th>362</th>\n",
       "      <td>1495112755</td>\n",
       "      <td>1</td>\n",
       "    </tr>\n",
       "    <tr>\n",
       "      <th>1030</th>\n",
       "      <td>4283872382</td>\n",
       "      <td>1</td>\n",
       "    </tr>\n",
       "  </tbody>\n",
       "</table>\n",
       "<p>1031 rows × 2 columns</p>\n",
       "</div>"
      ],
      "text/plain": [
       "      visitor_id  orders\n",
       "1023  4256040402  11    \n",
       "591   2458001652  11    \n",
       "569   2378935119  9     \n",
       "487   2038680547  8     \n",
       "44    199603092   5     \n",
       "...         ...  ..     \n",
       "359   1484903144  1     \n",
       "360   1485964287  1     \n",
       "361   1494664757  1     \n",
       "362   1495112755  1     \n",
       "1030  4283872382  1     \n",
       "\n",
       "[1031 rows x 2 columns]"
      ]
     },
     "execution_count": 31,
     "metadata": {},
     "output_type": "execute_result"
    }
   ],
   "source": [
    "ordersByUsers = orders.groupby('visitor_id').agg(orders = ('transaction_id','nunique')).reset_index().sort_values(by='orders', ascending=False)\n",
    "ordersByUsers\n"
   ]
  },
  {
   "cell_type": "code",
   "execution_count": 32,
   "metadata": {},
   "outputs": [
    {
     "data": {
      "image/png": "[encoded data removed]",
      "text/plain": [
       "<Figure size 864x432 with 1 Axes>"
      ]
     },
     "metadata": {
      "needs_background": "light"
     },
     "output_type": "display_data"
    }
   ],
   "source": [
    "x_values = pd.Series(range(0,len(ordersByUsers)))\n",
    "plt.figure(figsize=(12, 6))\n",
    "plt.scatter(x_values, ordersByUsers['orders'])\n",
    "plt.title('График количества заказов по пользователям')\n",
    "plt.xlabel(\"Количество пользователей\")\n",
    "plt.ylabel(\"Количество заказов одного пользователя\")\n",
    "plt.grid(True)\n",
    "plt.show()"
   ]
  },
  {
   "cell_type": "markdown",
   "metadata": {},
   "source": [
    "Большинство пользователей делало по одному заказу, видим такие аномально большие данные, как 8-11 заказов на пользователя. Какое количество заказов нам считать аномальным, определим с помощью подсчета процентилей."
   ]
  },
  {
   "cell_type": "markdown",
   "metadata": {},
   "source": [
    "### Посчитаем 95-й и 99-й перцентили количества заказов на пользователя. Выберем границу для определения аномальных пользователей. \n",
    "<a id=\"2.7\"></a>"
   ]
  },
  {
   "cell_type": "code",
   "execution_count": 33,
   "metadata": {},
   "outputs": [
    {
     "name": "stdout",
     "output_type": "stream",
     "text": [
      "[2. 4.]\n"
     ]
    }
   ],
   "source": [
    "print(np.percentile(ordersByUsers['orders'], [95, 99])) "
   ]
  },
  {
   "cell_type": "markdown",
   "metadata": {},
   "source": [
    "Не более 5% пользователей оформляли больше чем 2 заказа. И не более 1% пользователей заказывали более 4 раз. \n",
    "Разумно выбрать 4 заказа на одного пользователя за верхнюю границу числа заказов, и отсеять аномальных пользователей по ней, так как выбросы единичные. "
   ]
  },
  {
   "cell_type": "markdown",
   "metadata": {},
   "source": [
    "### Построим точечный график стоимостей заказов. <a id=\"2.8\"></a>"
   ]
  },
  {
   "cell_type": "code",
   "execution_count": 34,
   "metadata": {},
   "outputs": [
    {
     "data": {
      "image/png": "[encoded data removed]",
      "text/plain": [
       "<Figure size 864x432 with 1 Axes>"
      ]
     },
     "metadata": {
      "needs_background": "light"
     },
     "output_type": "display_data"
    }
   ],
   "source": [
    "x_values = pd.Series(range(0, len(orders['revenue'])))\n",
    "plt.figure(figsize=(12, 6))\n",
    "plt.scatter(x_values, orders['revenue'])\n",
    "plt.title('График стоимости заказов')\n",
    "plt.xlabel(\"Индексы заказов\")\n",
    "plt.ylabel(\"Стоимость одного заказа\")\n",
    "plt.grid(True)\n",
    "plt.show()"
   ]
  },
  {
   "cell_type": "markdown",
   "metadata": {},
   "source": [
    "Мы видим, что у нас есть аномально дорогие заказы, самый дорогой из которых стоимостью примерно 1,3 млн. Так же есть заказ стоимостью примерно 200 тыс и еще несколько от 50 тыс до 100 тыс. Определить, какую стоимость можно считать аномальной нам поможет подсчет процентилей."
   ]
  },
  {
   "cell_type": "markdown",
   "metadata": {},
   "source": [
    "Приблизим наш график, чтобы поподробнее изуть стоимость заказов"
   ]
  },
  {
   "cell_type": "code",
   "execution_count": 35,
   "metadata": {},
   "outputs": [
    {
     "data": {
      "image/png": "[encoded data removed]",
      "text/plain": [
       "<Figure size 864x432 with 1 Axes>"
      ]
     },
     "metadata": {
      "needs_background": "light"
     },
     "output_type": "display_data"
    }
   ],
   "source": [
    "x_values = pd.Series(range(0, len(orders['revenue'])))\n",
    "plt.figure(figsize=(12, 6))\n",
    "plt.scatter(x_values, orders['revenue'])\n",
    "plt.title('График стоимости заказов')\n",
    "plt.xlabel(\"Индексы заказов\")\n",
    "plt.ylabel(\"Стоимость одного заказа\")\n",
    "plt.grid(True)\n",
    "plt.ylim(0,60000)\n",
    "plt.show()         "
   ]
  },
  {
   "cell_type": "markdown",
   "metadata": {},
   "source": [
    "Хоть и основная \"масса\" заказов по стоимости в пределах 20000, все же есть достаточное количество заказов в пределе от 20000 до 60000."
   ]
  },
  {
   "cell_type": "markdown",
   "metadata": {},
   "source": [
    "### Посчитаем 95-й и 99-й перцентили стоимости заказов. Выберем границу для определения аномальных заказов.\n",
    "<a id=\"2.9\"></a>"
   ]
  },
  {
   "cell_type": "code",
   "execution_count": 36,
   "metadata": {},
   "outputs": [
    {
     "name": "stdout",
     "output_type": "stream",
     "text": [
      "[28000.  58233.2]\n"
     ]
    }
   ],
   "source": [
    "print(np.percentile(orders['revenue'], [95, 99])) "
   ]
  },
  {
   "cell_type": "markdown",
   "metadata": {},
   "source": [
    "Не более 5% пользователей оформляли заказ на сумму более 28000. И не более 1% пользователей на сумму более 58233. Разумно выбрать сумму заказа 58233,2 за верхнюю границу стоимости заказов, и отсеять аномальных пользователей по ней, так как выбросы у нас точечные, много данных отфильтровывать не станем."
   ]
  },
  {
   "cell_type": "markdown",
   "metadata": {},
   "source": [
    "### Посчитаем статистическую значимость различий в среднем количестве заказов на посетителя между группами по «сырым» данным.\n",
    "<a id=\"2.10\"></a>"
   ]
  },
  {
   "cell_type": "markdown",
   "metadata": {},
   "source": [
    "Сформулируем гипотезы. Нулевая: различий в среднем количестве заказов между группами нет. Альтернативная: различия в среднем между группами есть. Уровень значимости возмем 0.05."
   ]
  },
  {
   "cell_type": "code",
   "execution_count": 37,
   "metadata": {},
   "outputs": [
    {
     "data": {
      "text/html": [
       "<div>\n",
       "<style scoped>\n",
       "    .dataframe tbody tr th:only-of-type {\n",
       "        vertical-align: middle;\n",
       "    }\n",
       "\n",
       "    .dataframe tbody tr th {\n",
       "        vertical-align: top;\n",
       "    }\n",
       "\n",
       "    .dataframe thead th {\n",
       "        text-align: right;\n",
       "    }\n",
       "</style>\n",
       "<table border=\"1\" class=\"dataframe\">\n",
       "  <thead>\n",
       "    <tr style=\"text-align: right;\">\n",
       "      <th></th>\n",
       "      <th>date</th>\n",
       "      <th>ordersPerDateA</th>\n",
       "      <th>revenuePerDateA</th>\n",
       "      <th>ordersPerDateB</th>\n",
       "      <th>revenuePerDateB</th>\n",
       "      <th>ordersCummulativeA</th>\n",
       "      <th>revenueCummulativeA</th>\n",
       "      <th>ordersCummulativeB</th>\n",
       "      <th>revenueCummulativeB</th>\n",
       "      <th>visitorsPerDateA</th>\n",
       "      <th>visitorsPerDateB</th>\n",
       "      <th>visitorsCummulativeA</th>\n",
       "      <th>visitorsCummulativeB</th>\n",
       "    </tr>\n",
       "  </thead>\n",
       "  <tbody>\n",
       "    <tr>\n",
       "      <th>0</th>\n",
       "      <td>2019-08-01</td>\n",
       "      <td>24</td>\n",
       "      <td>148579</td>\n",
       "      <td>21</td>\n",
       "      <td>101217</td>\n",
       "      <td>24</td>\n",
       "      <td>148579</td>\n",
       "      <td>21</td>\n",
       "      <td>101217</td>\n",
       "      <td>719</td>\n",
       "      <td>713</td>\n",
       "      <td>719</td>\n",
       "      <td>713</td>\n",
       "    </tr>\n",
       "    <tr>\n",
       "      <th>1</th>\n",
       "      <td>2019-08-02</td>\n",
       "      <td>20</td>\n",
       "      <td>93822</td>\n",
       "      <td>24</td>\n",
       "      <td>165531</td>\n",
       "      <td>44</td>\n",
       "      <td>242401</td>\n",
       "      <td>45</td>\n",
       "      <td>266748</td>\n",
       "      <td>619</td>\n",
       "      <td>581</td>\n",
       "      <td>1338</td>\n",
       "      <td>1294</td>\n",
       "    </tr>\n",
       "    <tr>\n",
       "      <th>2</th>\n",
       "      <td>2019-08-03</td>\n",
       "      <td>24</td>\n",
       "      <td>112473</td>\n",
       "      <td>16</td>\n",
       "      <td>114248</td>\n",
       "      <td>68</td>\n",
       "      <td>354874</td>\n",
       "      <td>61</td>\n",
       "      <td>380996</td>\n",
       "      <td>507</td>\n",
       "      <td>509</td>\n",
       "      <td>1845</td>\n",
       "      <td>1803</td>\n",
       "    </tr>\n",
       "    <tr>\n",
       "      <th>3</th>\n",
       "      <td>2019-08-04</td>\n",
       "      <td>16</td>\n",
       "      <td>70825</td>\n",
       "      <td>17</td>\n",
       "      <td>108571</td>\n",
       "      <td>84</td>\n",
       "      <td>425699</td>\n",
       "      <td>78</td>\n",
       "      <td>489567</td>\n",
       "      <td>717</td>\n",
       "      <td>770</td>\n",
       "      <td>2562</td>\n",
       "      <td>2573</td>\n",
       "    </tr>\n",
       "    <tr>\n",
       "      <th>4</th>\n",
       "      <td>2019-08-05</td>\n",
       "      <td>25</td>\n",
       "      <td>124218</td>\n",
       "      <td>23</td>\n",
       "      <td>92428</td>\n",
       "      <td>109</td>\n",
       "      <td>549917</td>\n",
       "      <td>101</td>\n",
       "      <td>581995</td>\n",
       "      <td>756</td>\n",
       "      <td>707</td>\n",
       "      <td>3318</td>\n",
       "      <td>3280</td>\n",
       "    </tr>\n",
       "  </tbody>\n",
       "</table>\n",
       "</div>"
      ],
      "text/plain": [
       "        date  ordersPerDateA  revenuePerDateA  ordersPerDateB  \\\n",
       "0 2019-08-01  24              148579           21               \n",
       "1 2019-08-02  20              93822            24               \n",
       "2 2019-08-03  24              112473           16               \n",
       "3 2019-08-04  16              70825            17               \n",
       "4 2019-08-05  25              124218           23               \n",
       "\n",
       "   revenuePerDateB  ordersCummulativeA  revenueCummulativeA  \\\n",
       "0  101217           24                  148579                \n",
       "1  165531           44                  242401                \n",
       "2  114248           68                  354874                \n",
       "3  108571           84                  425699                \n",
       "4  92428            109                 549917                \n",
       "\n",
       "   ordersCummulativeB  revenueCummulativeB  visitorsPerDateA  \\\n",
       "0  21                  101217               719                \n",
       "1  45                  266748               619                \n",
       "2  61                  380996               507                \n",
       "3  78                  489567               717                \n",
       "4  101                 581995               756                \n",
       "\n",
       "   visitorsPerDateB  visitorsCummulativeA  visitorsCummulativeB  \n",
       "0  713               719                   713                   \n",
       "1  581               1338                  1294                  \n",
       "2  509               1845                  1803                  \n",
       "3  770               2562                  2573                  \n",
       "4  707               3318                  3280                  "
      ]
     },
     "execution_count": 37,
     "metadata": {},
     "output_type": "execute_result"
    }
   ],
   "source": [
    "visitorsADaily = visitors[visitors['group'] == 'A'][['date', 'visitors']]\n",
    "visitorsADaily.columns = ['date', 'visitorsPerDateA']\n",
    "\n",
    "visitorsACummulative = visitorsADaily.apply(\n",
    "    lambda x: visitorsADaily[visitorsADaily['date'] <= x['date']].agg(\n",
    "        {'date': 'max', 'visitorsPerDateA': 'sum'}\n",
    "    ),\n",
    "    axis=1,\n",
    ")\n",
    "visitorsACummulative.columns = ['date', 'visitorsCummulativeA']\n",
    "\n",
    "visitorsBDaily = visitors[visitors['group'] == 'B'][['date', 'visitors']]\n",
    "visitorsBDaily.columns = ['date', 'visitorsPerDateB']\n",
    "\n",
    "visitorsBCummulative = visitorsBDaily.apply(\n",
    "    lambda x: visitorsBDaily[visitorsBDaily['date'] <= x['date']].agg(\n",
    "        {'date': 'max', 'visitorsPerDateB': 'sum'}\n",
    "    ),\n",
    "    axis=1,\n",
    ")\n",
    "visitorsBCummulative.columns = ['date', 'visitorsCummulativeB']\n",
    "\n",
    "ordersADaily = (\n",
    "    orders[orders['group'] == 'A'][['date', 'transaction_id', 'visitor_id', 'revenue']]\n",
    "    .groupby('date', as_index=False)\n",
    "    .agg({'transaction_id': pd.Series.nunique, 'revenue': 'sum'})\n",
    ")\n",
    "ordersADaily.columns = ['date', 'ordersPerDateA', 'revenuePerDateA']\n",
    "\n",
    "ordersACummulative = ordersADaily.apply(\n",
    "    lambda x: ordersADaily[ordersADaily['date'] <= x['date']].agg(\n",
    "        {'date': 'max', 'ordersPerDateA': 'sum', 'revenuePerDateA': 'sum'}\n",
    "    ),\n",
    "    axis=1,\n",
    ").sort_values(by=['date'])\n",
    "ordersACummulative.columns = [\n",
    "    'date',\n",
    "    'ordersCummulativeA',\n",
    "    'revenueCummulativeA',\n",
    "]\n",
    "\n",
    "ordersBDaily = (\n",
    "    orders[orders['group'] == 'B'][['date', 'transaction_id', 'visitor_id', 'revenue']]\n",
    "    .groupby('date', as_index=False)\n",
    "    .agg({'transaction_id': pd.Series.nunique, 'revenue': 'sum'})\n",
    ")\n",
    "ordersBDaily.columns = ['date', 'ordersPerDateB', 'revenuePerDateB']\n",
    "\n",
    "ordersBCummulative = ordersBDaily.apply(\n",
    "    lambda x: ordersBDaily[ordersBDaily['date'] <= x['date']].agg(\n",
    "        {'date': 'max', 'ordersPerDateB': 'sum', 'revenuePerDateB': 'sum'}\n",
    "    ),\n",
    "    axis=1,\n",
    ").sort_values(by=['date'])\n",
    "ordersBCummulative.columns = [\n",
    "    'date',\n",
    "    'ordersCummulativeB',\n",
    "    'revenueCummulativeB',\n",
    "]\n",
    "\n",
    "data = (\n",
    "    ordersADaily.merge(\n",
    "        ordersBDaily, left_on='date', right_on='date', how='left'\n",
    "    )\n",
    "    .merge(ordersACummulative, left_on='date', right_on='date', how='left')\n",
    "    .merge(ordersBCummulative, left_on='date', right_on='date', how='left')\n",
    "    .merge(visitorsADaily, left_on='date', right_on='date', how='left')\n",
    "    .merge(visitorsBDaily, left_on='date', right_on='date', how='left')\n",
    "    .merge(visitorsACummulative, left_on='date', right_on='date', how='left')\n",
    "    .merge(visitorsBCummulative, left_on='date', right_on='date', how='left')\n",
    ")\n",
    "\n",
    "data.head()"
   ]
  },
  {
   "cell_type": "markdown",
   "metadata": {},
   "source": [
    "У нас получилась таблица со следующими столбцами:\n",
    "date — дата;\n",
    "ordersPerDateA — количество заказов в выбранную дату в группе A;\n",
    "revenuePerDateA — суммарная выручка в выбранную дату в группе A;\n",
    "ordersPerDateB — количество заказов в выбранную дату в группе B;\n",
    "revenuePerDateB — суммарная выручка в выбранную дату в группе B;\n",
    "ordersCummulativeA — суммарное число заказов до выбранной даты включительно в группе A;\n",
    "revenueCummulativeA — суммарная выручка до выбранной даты включительно в группе A;\n",
    "ordersCummulativeB — суммарное количество заказов до выбранной даты включительно в группе B;\n",
    "revenueCummulativeB — суммарная выручка до выбранной даты включительно в группе B;\n",
    "visitorsPerDateA — количество пользователей в выбранную дату в группе A;\n",
    "visitorsPerDateB — количество пользователей в выбранную дату в группе B;\n",
    "visitorsCummulativeA — количество пользователей до выбранной даты включительно в группе A;\n",
    "visitorsCummulativeB — количество пользователей до выбранной даты включительно в группе B."
   ]
  },
  {
   "cell_type": "markdown",
   "metadata": {},
   "source": [
    "Посчитаем статистическую значимость различия в среднем количестве заказов между группами.\n",
    "Создадим переменные ordersByUsersA и ordersByUsersB со столбцами 'visitor_id', 'orders'. В них для пользователей, которые заказывали хотя бы 1 раз, укажем число совершённых заказов. "
   ]
  },
  {
   "cell_type": "code",
   "execution_count": 38,
   "metadata": {},
   "outputs": [],
   "source": [
    "ordersByUsersA = (\n",
    "    orders[orders['group'] == 'A']\n",
    "    .groupby('visitor_id', as_index=False)\n",
    "    .agg({'transaction_id': pd.Series.nunique})\n",
    ")\n",
    "ordersByUsersA.columns = ['visitor_id', 'orders']\n",
    "\n",
    "ordersByUsersB = (\n",
    "    orders[orders['group'] == 'B']\n",
    "    .groupby('visitor_id', as_index=False)\n",
    "    .agg({'transaction_id': pd.Series.nunique})\n",
    ")\n",
    "ordersByUsersB.columns = ['visitor_id', 'orders']"
   ]
  },
  {
   "cell_type": "markdown",
   "metadata": {},
   "source": [
    "Объявим переменные sampleA и sampleB, в которых пользователям из разных групп будет соответствовать количество заказов. Тем, кто ничего не заказал, будут соответствовать нули. Это нужно, чтобы подготовить выборки к проверке критерием Манна-Уитни."
   ]
  },
  {
   "cell_type": "markdown",
   "metadata": {},
   "source": [
    "Мы выбираем метод Манна-Уитни, так как выше, в результате анализа данных мы получили информацию о том, что в наших данных присутствуют значительные выбросы, распределение по выручке не является нормальным. И в случае, когда в данных есть большие (по сравнению с нормальным распределением) выбросы, алгебраические метрики, работают плохо. При наличии выбросов в данных, результаты t-теста могут быть искажены. "
   ]
  },
  {
   "cell_type": "code",
   "execution_count": 39,
   "metadata": {},
   "outputs": [],
   "source": [
    "pd.Series(0, index=np.arange(data['visitorsPerDateA'].sum() - len(ordersByUsersA['orders'])), name='orders')\n",
    "[ordersByUsersA['orders'],pd.Series(0, index=np.arange(data['visitorsPerDateA'].sum() - len(ordersByUsersA['orders'])), name='orders')]\n",
    "sampleA = pd.concat([ordersByUsersA['orders'],pd.Series(0, index=np.arange(data['visitorsPerDateA'].sum() - len(ordersByUsersA['orders'])), name='orders')],axis=0)\n",
    "\n",
    "sampleB = pd.concat([ordersByUsersB['orders'],pd.Series(0, index=np.arange(data['visitorsPerDateB'].sum() - len(ordersByUsersB['orders'])), name='orders')],axis=0)\n",
    " "
   ]
  },
  {
   "cell_type": "markdown",
   "metadata": {},
   "source": [
    "Применим критерий и отформатируем p-value, округлив его до трёх знаков после запятой."
   ]
  },
  {
   "cell_type": "code",
   "execution_count": 40,
   "metadata": {},
   "outputs": [
    {
     "name": "stdout",
     "output_type": "stream",
     "text": [
      "p-value: 0.017\n",
      "Отношение средних значений: 0.138\n",
      "Отвергаем нулевую гипотезу: между группами есть разница\n"
     ]
    }
   ],
   "source": [
    "p_value = stats.mannwhitneyu(sampleA, sampleB)[1]\n",
    "\n",
    "# Вывод p-value\n",
    "print(\"p-value: {0:.3f}\".format(p_value))\n",
    "\n",
    "# Вычисление и вывод отношения средних значений\n",
    "mean_ratio = sampleB.mean() / sampleA.mean() - 1\n",
    "print(\"Отношение средних значений: {0:.3f}\".format(mean_ratio))\n",
    "\n",
    "alpha = 0.05\n",
    "if (p_value < alpha):\n",
    "    print(\"Отвергаем нулевую гипотезу: между группами есть разница\")\n",
    "else:\n",
    "    print(\"Не получилось отвергнуть нулевую гипотезу, нет оснований считать группы разными\")"
   ]
  },
  {
   "cell_type": "markdown",
   "metadata": {},
   "source": [
    "### Посчитаем статистическую значимость различий в среднем чеке заказа между группами по «сырым» данным. \n",
    "<a id=\"2.11\"></a>"
   ]
  },
  {
   "cell_type": "markdown",
   "metadata": {},
   "source": [
    "Сформулируем гипотезы. Нулевая: различий в среднем чеке заказа между группами нет. Альтернативная: различия в среднем чеке заказа между группами есть. Уровень значимости возмем 0.05."
   ]
  },
  {
   "cell_type": "markdown",
   "metadata": {},
   "source": [
    "Для этого передадим критерию mannwhitneyu() данные о выручке с заказов. \n",
    "А ещё найдём относительные различия в среднем чеке между группами:"
   ]
  },
  {
   "cell_type": "code",
   "execution_count": 41,
   "metadata": {},
   "outputs": [
    {
     "name": "stdout",
     "output_type": "stream",
     "text": [
      "p-value: 0.729\n",
      "Отношение средних значений: 0.259\n",
      "Не получилось отвергнуть нулевую гипотезу, нет оснований считать группы разными\n"
     ]
    }
   ],
   "source": [
    "p_value = stats.mannwhitneyu(orders[orders['group']=='A']['revenue'], orders[orders['group']=='B']['revenue'])[1]\n",
    "mean_ratio = orders[orders['group']=='B']['revenue'].mean()/orders[orders['group']=='A']['revenue'].mean()-1\n",
    "# Вывод p-value и mean_ratio\n",
    "print(\"p-value: {0:.3f}\".format(p_value))\n",
    "print(\"Отношение средних значений: {0:.3f}\".format(mean_ratio))\n",
    "# Условие для отвержения нулевой гипотезы\n",
    "alpha = 0.05\n",
    "if (p_value < alpha):\n",
    "    print(\"Отвергаем нулевую гипотезу: между группами есть разница\")\n",
    "else:\n",
    "    print(\"Не получилось отвергнуть нулевую гипотезу, нет оснований считать группы разными\")"
   ]
  },
  {
   "cell_type": "markdown",
   "metadata": {},
   "source": [
    "P-value значительно больше 0.05. Значит, причин отвергать нулевую гипотезу и считать, что в среднем чеке есть различия, нет. Впрочем, средний чек группы А значительно ниже среднего чека группы В."
   ]
  },
  {
   "cell_type": "markdown",
   "metadata": {},
   "source": [
    "### Посчитаем статистическую значимость различий в среднем количестве заказов на посетителя между группами по «очищенным» данным. \n",
    "<a id=\"2.12\"></a>"
   ]
  },
  {
   "cell_type": "markdown",
   "metadata": {},
   "source": [
    "Примем за аномальных пользователей тех, кто совершил от 3 заказов или совершил заказ дороже 58233,2 рублей. Так мы уберём 5% пользователей с наибольшим числом заказов и 1%  пользователей с дорогими заказами. Сделаем срезы пользователей с числом заказов больше 2 — usersWithManyOrders и пользователей, совершивших заказы дороже 58233,2 — usersWithExpensiveOrders. Объединим их в таблице abnormalUsers. "
   ]
  },
  {
   "cell_type": "code",
   "execution_count": 42,
   "metadata": {},
   "outputs": [
    {
     "name": "stdout",
     "output_type": "stream",
     "text": [
      "1099    148427295 \n",
      "949     887908475 \n",
      "744     888512513 \n",
      "1103    1164614297\n",
      "1136    1307669133\n",
      "Name: visitor_id, dtype: int64\n",
      "15\n"
     ]
    }
   ],
   "source": [
    "# Находим 99-й процентили и сохраняем в переменные \n",
    "revenue_99th_percentile = orders['revenue'].quantile(0.99)\n",
    "orders_99th_percentile = ordersByUsers['orders'].quantile(0.99)\n",
    "\n",
    "# Используем полученное значение для фильтрации\n",
    "usersWithManyOrders = pd.concat(\n",
    "    [\n",
    "        ordersByUsersA[ordersByUsersA['orders'] > orders_99th_percentile]['visitor_id'],\n",
    "        ordersByUsersB[ordersByUsersB['orders'] > orders_99th_percentile]['visitor_id'],\n",
    "    ],\n",
    "    axis=0,\n",
    ")\n",
    "usersWithExpensiveOrders = orders[orders['revenue'] > revenue_99th_percentile]['visitor_id']\n",
    "\n",
    "# Объединяем и удаляем дубликаты\n",
    "abnormalUsers = (\n",
    "    pd.concat([usersWithManyOrders, usersWithExpensiveOrders], axis=0)\n",
    "    .drop_duplicates()\n",
    "    .sort_values()\n",
    ")\n",
    "\n",
    "print(abnormalUsers.head(5))\n",
    "print(abnormalUsers.shape[0])"
   ]
  },
  {
   "cell_type": "markdown",
   "metadata": {},
   "source": [
    "У нас получилось 15 аномальных пользователя"
   ]
  },
  {
   "cell_type": "markdown",
   "metadata": {},
   "source": [
    "Узнаем, как их действия повлияли на результаты теста. Посчитаем статистическую значимость различий в среднем количестве заказов между группами теста по очищенным данным. Сначала подготовим выборки количества заказов по пользователям по группам теста:"
   ]
  },
  {
   "cell_type": "code",
   "execution_count": 43,
   "metadata": {},
   "outputs": [],
   "source": [
    "sampleAFiltered = pd.concat(\n",
    "    [\n",
    "        ordersByUsersA[\n",
    "            np.logical_not(ordersByUsersA['visitor_id'].isin(abnormalUsers))\n",
    "        ]['orders'],\n",
    "        pd.Series(\n",
    "            0,\n",
    "            index=np.arange(\n",
    "                data['visitorsPerDateA'].sum() - len(ordersByUsersA['orders'])\n",
    "            ),\n",
    "            name='orders',\n",
    "        ),\n",
    "    ],\n",
    "    axis=0,\n",
    ")\n",
    "\n",
    "sampleBFiltered = pd.concat(\n",
    "    [\n",
    "        ordersByUsersB[\n",
    "            np.logical_not(ordersByUsersB['visitor_id'].isin(abnormalUsers))\n",
    "        ]['orders'],\n",
    "        pd.Series(\n",
    "            0,\n",
    "            index=np.arange(\n",
    "                data['visitorsPerDateB'].sum() - len(ordersByUsersB['orders'])\n",
    "            ),\n",
    "            name='orders',\n",
    "        ),\n",
    "    ],\n",
    "    axis=0,\n",
    ")"
   ]
  },
  {
   "cell_type": "markdown",
   "metadata": {},
   "source": [
    "Применим статистический критерий Манна-Уитни к полученным выборкам:"
   ]
  },
  {
   "cell_type": "code",
   "execution_count": 44,
   "metadata": {},
   "outputs": [
    {
     "name": "stdout",
     "output_type": "stream",
     "text": [
      "p-value: 0.014\n",
      "Отношение средних значений: 0.153\n",
      "Отвергаем нулевую гипотезу: между группами есть разница\n"
     ]
    }
   ],
   "source": [
    "p_value = stats.mannwhitneyu(sampleAFiltered, sampleBFiltered)[1]\n",
    "# Вывод p-value\n",
    "print(\"p-value: {0:.3f}\".format(p_value))\n",
    "# Вычисление и вывод отношения средних значений\n",
    "mean_ratio = sampleBFiltered.mean() / sampleAFiltered.mean() - 1\n",
    "print(\"Отношение средних значений: {0:.3f}\".format(mean_ratio))\n",
    "alpha = 0.05\n",
    "if (p_value < alpha):\n",
    "    print(\"Отвергаем нулевую гипотезу: между группами есть разница\")\n",
    "else:\n",
    "    print(\"Не получилось отвергнуть нулевую гипотезу, нет оснований считать группы разными\")"
   ]
  },
  {
   "cell_type": "markdown",
   "metadata": {},
   "source": [
    "Напомним результаты теста по сырым данным - p-value: 0.017, отношение средних значений: 0.138. P-value уменьшилось еще больше, а отношение средних значений увеличилось."
   ]
  },
  {
   "cell_type": "markdown",
   "metadata": {},
   "source": [
    "### Посчитаем статистическую значимость различий в среднем чеке заказа между группами по «очищенным» данным. \n",
    "<a id=\"2.13\"></a>"
   ]
  },
  {
   "cell_type": "code",
   "execution_count": 45,
   "metadata": {},
   "outputs": [
    {
     "name": "stdout",
     "output_type": "stream",
     "text": [
      "p-value: 0.851\n",
      "Отношение средних значений: -0.006\n",
      "Не получилось отвергнуть нулевую гипотезу, нет оснований считать группы разными\n"
     ]
    }
   ],
   "source": [
    "# Вычисление p-value\n",
    "p_value = stats.mannwhitneyu(\n",
    "    orders[\n",
    "        np.logical_and(\n",
    "            orders['group'] == 'A',\n",
    "            np.logical_not(orders['visitor_id'].isin(abnormalUsers)),\n",
    "        )\n",
    "    ]['revenue'],\n",
    "    orders[\n",
    "        np.logical_and(\n",
    "            orders['group'] == 'B',\n",
    "            np.logical_not(orders['visitor_id'].isin(abnormalUsers)),\n",
    "        )\n",
    "    ]['revenue'],\n",
    ")[1]\n",
    "\n",
    "# Вывод p-value\n",
    "print(\"p-value: {0:.3f}\".format(p_value))\n",
    "\n",
    "# Вычисление и вывод отношения средних значений\n",
    "mean_ratio = orders[\n",
    "    np.logical_and(\n",
    "        orders['group'] == 'B',\n",
    "        np.logical_not(orders['visitor_id'].isin(abnormalUsers)),\n",
    "    )\n",
    "]['revenue'].mean() / orders[\n",
    "    np.logical_and(\n",
    "        orders['group'] == 'A',\n",
    "        np.logical_not(orders['visitor_id'].isin(abnormalUsers)),\n",
    "    )\n",
    "]['revenue'].mean() - 1\n",
    "\n",
    "print(\"Отношение средних значений: {0:.3f}\".format(mean_ratio))\n",
    "\n",
    "# Условие для отвержения нулевой гипотезы\n",
    "alpha = 0.05\n",
    "if (p_value < alpha):\n",
    "    print(\"Отвергаем нулевую гипотезу: между группами есть разница\")\n",
    "else:\n",
    "    print(\"Не получилось отвергнуть нулевую гипотезу, нет оснований считать группы разными\")\n"
   ]
  },
  {
   "cell_type": "markdown",
   "metadata": {},
   "source": [
    "Напомним результаты теста по сырым данным - p-value: 0.729, отношение средних значений: 0.259. p-value сильно не изменилось, а вот отношение средних значений чеков сильно поменялось, по очищенным данным средний чек группы А немного превышает средний чек группы В."
   ]
  },
  {
   "cell_type": "markdown",
   "metadata": {},
   "source": [
    "## Выводы по исследованию: \n",
    "<a id=\"conclusion\"></a>"
   ]
  },
  {
   "cell_type": "markdown",
   "metadata": {},
   "source": [
    "Имеющиеся факты:\n",
    "- Мы имеем статистически значимое различие по среднему количеству заказов между группами по «сырым» и по данным после фильтрации аномалий и после фильтрации это различие возрасло.\n",
    "- Нет статистически значимого различия по среднему чеку между группами ни по «сырым», ни по данным после фильтрации аномалий, но после очистки данных отношение средних чеков поменялось в пользу данных группы А;\n",
    "- График различия среднего количества заказов между группами сообщает, что результаты группы B лучше группы A и есть тенденции к улучшению, и график различия среднего чека говорит о том, что результаты группы B лучше группы А. \n",
    "- Из всего выше сказанного сделаем вывод, что можно признать тест успешным, остановим тест и признаем победу группы В."
   ]
  }
 ],
 "metadata": {
  "ExecuteTimeLog": [
   {
    "duration": 1295,
    "start_time": "2024-03-30T07:07:33.376Z"
   },
   {
    "duration": 73,
    "start_time": "2024-03-30T07:10:00.582Z"
   },
   {
    "duration": 11,
    "start_time": "2024-03-30T07:10:10.389Z"
   },
   {
    "duration": 3,
    "start_time": "2024-03-30T07:15:21.742Z"
   },
   {
    "duration": 8,
    "start_time": "2024-03-30T07:15:31.335Z"
   },
   {
    "duration": 3,
    "start_time": "2024-03-30T07:17:25.245Z"
   },
   {
    "duration": 7,
    "start_time": "2024-03-30T07:17:29.714Z"
   },
   {
    "duration": 8,
    "start_time": "2024-03-30T07:17:58.318Z"
   },
   {
    "duration": 4,
    "start_time": "2024-03-30T07:17:59.250Z"
   },
   {
    "duration": 7,
    "start_time": "2024-03-30T07:17:59.956Z"
   },
   {
    "duration": 1138,
    "start_time": "2024-03-30T07:18:09.732Z"
   },
   {
    "duration": 28,
    "start_time": "2024-03-30T07:18:10.872Z"
   },
   {
    "duration": 10,
    "start_time": "2024-03-30T07:18:10.902Z"
   },
   {
    "duration": 33,
    "start_time": "2024-03-30T07:18:10.914Z"
   },
   {
    "duration": 36,
    "start_time": "2024-03-30T07:18:10.949Z"
   },
   {
    "duration": 42,
    "start_time": "2024-03-30T07:18:10.986Z"
   },
   {
    "duration": 34,
    "start_time": "2024-03-30T07:18:11.029Z"
   },
   {
    "duration": 7,
    "start_time": "2024-03-30T07:20:36.797Z"
   },
   {
    "duration": 7,
    "start_time": "2024-03-30T07:21:58.034Z"
   },
   {
    "duration": 8,
    "start_time": "2024-03-30T07:24:40.392Z"
   },
   {
    "duration": 7,
    "start_time": "2024-03-30T07:25:48.208Z"
   },
   {
    "duration": 9,
    "start_time": "2024-03-30T07:26:49.023Z"
   },
   {
    "duration": 1525,
    "start_time": "2024-04-02T06:50:39.801Z"
   },
   {
    "duration": 81,
    "start_time": "2024-04-02T06:50:41.328Z"
   },
   {
    "duration": 13,
    "start_time": "2024-04-02T06:50:41.411Z"
   },
   {
    "duration": 4,
    "start_time": "2024-04-02T06:50:41.426Z"
   },
   {
    "duration": 15,
    "start_time": "2024-04-02T06:50:41.432Z"
   },
   {
    "duration": 10,
    "start_time": "2024-04-02T06:50:41.448Z"
   },
   {
    "duration": 17,
    "start_time": "2024-04-02T06:50:41.459Z"
   },
   {
    "duration": 10,
    "start_time": "2024-04-02T06:50:41.477Z"
   },
   {
    "duration": 8,
    "start_time": "2024-04-02T06:50:41.488Z"
   },
   {
    "duration": 94,
    "start_time": "2024-04-02T06:58:43.686Z"
   },
   {
    "duration": 61,
    "start_time": "2024-04-02T06:58:44.278Z"
   },
   {
    "duration": 109,
    "start_time": "2024-04-02T06:58:55.351Z"
   },
   {
    "duration": 49,
    "start_time": "2024-04-02T06:59:21.312Z"
   },
   {
    "duration": 16,
    "start_time": "2024-04-02T06:59:21.555Z"
   },
   {
    "duration": 16,
    "start_time": "2024-04-02T06:59:21.817Z"
   },
   {
    "duration": 10,
    "start_time": "2024-04-02T06:59:31.029Z"
   },
   {
    "duration": 1492,
    "start_time": "2024-04-02T08:22:32.989Z"
   },
   {
    "duration": 90,
    "start_time": "2024-04-02T08:22:34.484Z"
   },
   {
    "duration": 14,
    "start_time": "2024-04-02T08:22:34.575Z"
   },
   {
    "duration": 46,
    "start_time": "2024-04-02T08:22:34.591Z"
   },
   {
    "duration": 60,
    "start_time": "2024-04-02T08:22:34.640Z"
   },
   {
    "duration": 66,
    "start_time": "2024-04-02T08:22:34.701Z"
   },
   {
    "duration": 53,
    "start_time": "2024-04-02T08:22:34.769Z"
   },
   {
    "duration": 55,
    "start_time": "2024-04-02T08:22:34.823Z"
   },
   {
    "duration": 62,
    "start_time": "2024-04-02T08:22:34.879Z"
   },
   {
    "duration": 141,
    "start_time": "2024-04-02T08:22:34.943Z"
   },
   {
    "duration": 60,
    "start_time": "2024-04-02T08:22:35.086Z"
   },
   {
    "duration": 43,
    "start_time": "2024-04-02T08:22:35.148Z"
   },
   {
    "duration": 39,
    "start_time": "2024-04-02T08:22:35.193Z"
   },
   {
    "duration": 8,
    "start_time": "2024-04-02T08:23:06.254Z"
   },
   {
    "duration": 3,
    "start_time": "2024-04-02T08:24:26.458Z"
   },
   {
    "duration": 6,
    "start_time": "2024-04-02T08:24:27.719Z"
   },
   {
    "duration": 4,
    "start_time": "2024-04-02T08:25:52.168Z"
   },
   {
    "duration": 7,
    "start_time": "2024-04-02T08:25:52.511Z"
   },
   {
    "duration": 6,
    "start_time": "2024-04-02T08:26:27.438Z"
   },
   {
    "duration": 6,
    "start_time": "2024-04-02T08:26:40.520Z"
   },
   {
    "duration": 12,
    "start_time": "2024-04-02T08:36:21.727Z"
   },
   {
    "duration": 7,
    "start_time": "2024-04-02T08:41:46.224Z"
   },
   {
    "duration": 12,
    "start_time": "2024-04-02T08:42:28.304Z"
   },
   {
    "duration": 10,
    "start_time": "2024-04-02T08:42:36.017Z"
   },
   {
    "duration": 11,
    "start_time": "2024-04-02T08:42:38.219Z"
   },
   {
    "duration": 13,
    "start_time": "2024-04-02T08:44:03.681Z"
   },
   {
    "duration": 11,
    "start_time": "2024-04-02T08:44:14.664Z"
   },
   {
    "duration": 5,
    "start_time": "2024-04-02T08:45:25.332Z"
   },
   {
    "duration": 14,
    "start_time": "2024-04-02T08:45:32.970Z"
   },
   {
    "duration": 6,
    "start_time": "2024-04-02T08:57:04.005Z"
   },
   {
    "duration": 106,
    "start_time": "2024-04-02T08:57:59.020Z"
   },
   {
    "duration": 1335,
    "start_time": "2024-04-02T08:58:28.185Z"
   },
   {
    "duration": 28,
    "start_time": "2024-04-02T08:58:29.522Z"
   },
   {
    "duration": 12,
    "start_time": "2024-04-02T08:58:29.552Z"
   },
   {
    "duration": 34,
    "start_time": "2024-04-02T08:58:29.566Z"
   },
   {
    "duration": 38,
    "start_time": "2024-04-02T08:58:29.602Z"
   },
   {
    "duration": 11,
    "start_time": "2024-04-02T08:58:29.641Z"
   },
   {
    "duration": 18,
    "start_time": "2024-04-02T08:58:29.653Z"
   },
   {
    "duration": 9,
    "start_time": "2024-04-02T08:58:29.672Z"
   },
   {
    "duration": 9,
    "start_time": "2024-04-02T08:58:29.683Z"
   },
   {
    "duration": 8,
    "start_time": "2024-04-02T08:58:29.694Z"
   },
   {
    "duration": 48,
    "start_time": "2024-04-02T08:58:29.704Z"
   },
   {
    "duration": 17,
    "start_time": "2024-04-02T08:58:29.754Z"
   },
   {
    "duration": 14,
    "start_time": "2024-04-02T08:58:29.773Z"
   },
   {
    "duration": 8,
    "start_time": "2024-04-02T08:58:29.789Z"
   },
   {
    "duration": 13,
    "start_time": "2024-04-02T08:58:29.799Z"
   },
   {
    "duration": 7,
    "start_time": "2024-04-02T08:58:29.813Z"
   },
   {
    "duration": 22,
    "start_time": "2024-04-02T08:58:29.822Z"
   },
   {
    "duration": 29,
    "start_time": "2024-04-02T08:58:29.846Z"
   },
   {
    "duration": 17,
    "start_time": "2024-04-02T08:58:29.877Z"
   },
   {
    "duration": 17,
    "start_time": "2024-04-02T08:58:29.896Z"
   },
   {
    "duration": 6,
    "start_time": "2024-04-02T08:58:29.914Z"
   },
   {
    "duration": 14,
    "start_time": "2024-04-02T08:58:29.922Z"
   },
   {
    "duration": 6,
    "start_time": "2024-04-02T08:58:29.938Z"
   },
   {
    "duration": 135,
    "start_time": "2024-04-02T08:58:29.946Z"
   },
   {
    "duration": 315,
    "start_time": "2024-04-02T09:00:13.342Z"
   },
   {
    "duration": 1349,
    "start_time": "2024-04-02T09:00:39.464Z"
   },
   {
    "duration": 27,
    "start_time": "2024-04-02T09:00:40.815Z"
   },
   {
    "duration": 14,
    "start_time": "2024-04-02T09:00:40.844Z"
   },
   {
    "duration": 32,
    "start_time": "2024-04-02T09:00:40.860Z"
   },
   {
    "duration": 80,
    "start_time": "2024-04-02T09:00:40.895Z"
   },
   {
    "duration": 33,
    "start_time": "2024-04-02T09:00:40.976Z"
   },
   {
    "duration": 25,
    "start_time": "2024-04-02T09:00:41.011Z"
   },
   {
    "duration": 33,
    "start_time": "2024-04-02T09:00:41.038Z"
   },
   {
    "duration": 17,
    "start_time": "2024-04-02T09:00:41.072Z"
   },
   {
    "duration": 10,
    "start_time": "2024-04-02T09:00:41.091Z"
   },
   {
    "duration": 74,
    "start_time": "2024-04-02T09:00:41.102Z"
   },
   {
    "duration": 16,
    "start_time": "2024-04-02T09:00:41.178Z"
   },
   {
    "duration": 18,
    "start_time": "2024-04-02T09:00:41.196Z"
   },
   {
    "duration": 9,
    "start_time": "2024-04-02T09:00:41.218Z"
   },
   {
    "duration": 15,
    "start_time": "2024-04-02T09:00:41.229Z"
   },
   {
    "duration": 433,
    "start_time": "2024-04-02T09:00:41.245Z"
   },
   {
    "duration": 0,
    "start_time": "2024-04-02T09:00:41.680Z"
   },
   {
    "duration": 0,
    "start_time": "2024-04-02T09:00:41.681Z"
   },
   {
    "duration": 0,
    "start_time": "2024-04-02T09:00:41.682Z"
   },
   {
    "duration": 0,
    "start_time": "2024-04-02T09:00:41.684Z"
   },
   {
    "duration": 0,
    "start_time": "2024-04-02T09:00:41.685Z"
   },
   {
    "duration": 0,
    "start_time": "2024-04-02T09:00:41.686Z"
   },
   {
    "duration": 0,
    "start_time": "2024-04-02T09:00:41.687Z"
   },
   {
    "duration": 0,
    "start_time": "2024-04-02T09:00:41.688Z"
   },
   {
    "duration": 87,
    "start_time": "2024-04-02T09:01:58.047Z"
   },
   {
    "duration": 367,
    "start_time": "2024-04-02T09:02:12.931Z"
   },
   {
    "duration": 48,
    "start_time": "2024-04-02T09:02:21.888Z"
   },
   {
    "duration": 6,
    "start_time": "2024-04-02T09:07:10.350Z"
   },
   {
    "duration": 11,
    "start_time": "2024-04-02T09:08:36.710Z"
   },
   {
    "duration": 27,
    "start_time": "2024-04-02T09:09:54.331Z"
   },
   {
    "duration": 12,
    "start_time": "2024-04-02T09:10:36.883Z"
   },
   {
    "duration": 22,
    "start_time": "2024-04-02T09:11:14.749Z"
   },
   {
    "duration": 1348,
    "start_time": "2024-04-02T09:11:25.410Z"
   },
   {
    "duration": 35,
    "start_time": "2024-04-02T09:11:26.760Z"
   },
   {
    "duration": 15,
    "start_time": "2024-04-02T09:11:26.798Z"
   },
   {
    "duration": 10,
    "start_time": "2024-04-02T09:11:26.815Z"
   },
   {
    "duration": 24,
    "start_time": "2024-04-02T09:11:26.828Z"
   },
   {
    "duration": 15,
    "start_time": "2024-04-02T09:11:26.853Z"
   },
   {
    "duration": 19,
    "start_time": "2024-04-02T09:11:26.871Z"
   },
   {
    "duration": 27,
    "start_time": "2024-04-02T09:11:26.892Z"
   },
   {
    "duration": 23,
    "start_time": "2024-04-02T09:11:26.921Z"
   },
   {
    "duration": 25,
    "start_time": "2024-04-02T09:11:26.946Z"
   },
   {
    "duration": 44,
    "start_time": "2024-04-02T09:11:26.973Z"
   },
   {
    "duration": 16,
    "start_time": "2024-04-02T09:11:27.019Z"
   },
   {
    "duration": 41,
    "start_time": "2024-04-02T09:11:27.037Z"
   },
   {
    "duration": 19,
    "start_time": "2024-04-02T09:11:27.083Z"
   },
   {
    "duration": 20,
    "start_time": "2024-04-02T09:11:27.104Z"
   },
   {
    "duration": 18,
    "start_time": "2024-04-02T09:11:27.126Z"
   },
   {
    "duration": 22,
    "start_time": "2024-04-02T09:11:27.145Z"
   },
   {
    "duration": 14,
    "start_time": "2024-04-02T09:11:27.169Z"
   },
   {
    "duration": 40,
    "start_time": "2024-04-02T09:11:27.185Z"
   },
   {
    "duration": 29,
    "start_time": "2024-04-02T09:11:27.227Z"
   },
   {
    "duration": 16,
    "start_time": "2024-04-02T09:11:27.258Z"
   },
   {
    "duration": 23,
    "start_time": "2024-04-02T09:11:27.275Z"
   },
   {
    "duration": 23,
    "start_time": "2024-04-02T09:11:27.300Z"
   },
   {
    "duration": 133,
    "start_time": "2024-04-02T09:11:27.325Z"
   },
   {
    "duration": 1312,
    "start_time": "2024-04-02T09:14:01.047Z"
   },
   {
    "duration": 27,
    "start_time": "2024-04-02T09:14:02.362Z"
   },
   {
    "duration": 113,
    "start_time": "2024-04-02T09:14:02.391Z"
   },
   {
    "duration": 54,
    "start_time": "2024-04-02T09:14:02.506Z"
   },
   {
    "duration": 65,
    "start_time": "2024-04-02T09:14:02.563Z"
   },
   {
    "duration": 47,
    "start_time": "2024-04-02T09:14:02.630Z"
   },
   {
    "duration": 20,
    "start_time": "2024-04-02T09:14:02.679Z"
   },
   {
    "duration": 13,
    "start_time": "2024-04-02T09:14:02.701Z"
   },
   {
    "duration": 57,
    "start_time": "2024-04-02T09:14:02.716Z"
   },
   {
    "duration": 65,
    "start_time": "2024-04-02T09:14:02.775Z"
   },
   {
    "duration": 73,
    "start_time": "2024-04-02T09:14:02.842Z"
   },
   {
    "duration": 16,
    "start_time": "2024-04-02T09:14:02.917Z"
   },
   {
    "duration": 26,
    "start_time": "2024-04-02T09:14:02.935Z"
   },
   {
    "duration": 26,
    "start_time": "2024-04-02T09:14:02.964Z"
   },
   {
    "duration": 19,
    "start_time": "2024-04-02T09:14:02.992Z"
   },
   {
    "duration": 30,
    "start_time": "2024-04-02T09:14:03.013Z"
   },
   {
    "duration": 21,
    "start_time": "2024-04-02T09:14:03.045Z"
   },
   {
    "duration": 11,
    "start_time": "2024-04-02T09:14:03.068Z"
   },
   {
    "duration": 18,
    "start_time": "2024-04-02T09:14:03.081Z"
   },
   {
    "duration": 17,
    "start_time": "2024-04-02T09:14:03.101Z"
   },
   {
    "duration": 8,
    "start_time": "2024-04-02T09:14:03.120Z"
   },
   {
    "duration": 15,
    "start_time": "2024-04-02T09:14:03.130Z"
   },
   {
    "duration": 21,
    "start_time": "2024-04-02T09:14:03.147Z"
   },
   {
    "duration": 209,
    "start_time": "2024-04-02T09:14:03.170Z"
   },
   {
    "duration": 125,
    "start_time": "2024-04-02T09:16:10.604Z"
   },
   {
    "duration": 11,
    "start_time": "2024-04-02T09:17:12.389Z"
   },
   {
    "duration": 311,
    "start_time": "2024-04-02T09:18:05.402Z"
   },
   {
    "duration": 342,
    "start_time": "2024-04-02T09:18:59.774Z"
   },
   {
    "duration": 218,
    "start_time": "2024-04-02T09:19:23.445Z"
   },
   {
    "duration": 215,
    "start_time": "2024-04-02T09:19:41.485Z"
   },
   {
    "duration": 214,
    "start_time": "2024-04-02T09:20:02.618Z"
   },
   {
    "duration": 237,
    "start_time": "2024-04-02T09:25:50.068Z"
   },
   {
    "duration": 194,
    "start_time": "2024-04-02T09:27:03.186Z"
   },
   {
    "duration": 312,
    "start_time": "2024-04-02T09:27:29.102Z"
   },
   {
    "duration": 273,
    "start_time": "2024-04-02T09:27:40.163Z"
   },
   {
    "duration": 221,
    "start_time": "2024-04-02T09:27:55.204Z"
   },
   {
    "duration": 220,
    "start_time": "2024-04-02T09:28:22.611Z"
   },
   {
    "duration": 287,
    "start_time": "2024-04-02T09:31:25.419Z"
   },
   {
    "duration": 349,
    "start_time": "2024-04-02T09:31:56.182Z"
   },
   {
    "duration": 322,
    "start_time": "2024-04-02T09:32:04.393Z"
   },
   {
    "duration": 338,
    "start_time": "2024-04-02T09:32:16.805Z"
   },
   {
    "duration": 345,
    "start_time": "2024-04-02T09:32:42.866Z"
   },
   {
    "duration": 324,
    "start_time": "2024-04-02T09:40:16.475Z"
   },
   {
    "duration": 224,
    "start_time": "2024-04-02T09:41:00.452Z"
   },
   {
    "duration": 205,
    "start_time": "2024-04-02T09:41:46.517Z"
   },
   {
    "duration": 218,
    "start_time": "2024-04-02T09:42:12.906Z"
   },
   {
    "duration": 20,
    "start_time": "2024-04-02T09:43:31.749Z"
   },
   {
    "duration": 306,
    "start_time": "2024-04-02T09:43:55.063Z"
   },
   {
    "duration": 106,
    "start_time": "2024-04-02T09:44:11.464Z"
   },
   {
    "duration": 124,
    "start_time": "2024-04-02T09:45:12.765Z"
   },
   {
    "duration": 214,
    "start_time": "2024-04-02T09:45:27.812Z"
   },
   {
    "duration": 216,
    "start_time": "2024-04-02T09:45:56.870Z"
   },
   {
    "duration": 227,
    "start_time": "2024-04-02T09:47:26.052Z"
   },
   {
    "duration": 234,
    "start_time": "2024-04-02T09:50:02.031Z"
   },
   {
    "duration": 207,
    "start_time": "2024-04-02T09:50:53.780Z"
   },
   {
    "duration": 199,
    "start_time": "2024-04-02T09:51:00.988Z"
   },
   {
    "duration": 198,
    "start_time": "2024-04-02T09:51:13.799Z"
   },
   {
    "duration": 186,
    "start_time": "2024-04-02T09:51:24.879Z"
   },
   {
    "duration": 202,
    "start_time": "2024-04-02T09:51:59.184Z"
   },
   {
    "duration": 229,
    "start_time": "2024-04-02T09:52:15.413Z"
   },
   {
    "duration": 242,
    "start_time": "2024-04-02T09:52:32.052Z"
   },
   {
    "duration": 329,
    "start_time": "2024-04-02T09:53:14.779Z"
   },
   {
    "duration": 313,
    "start_time": "2024-04-02T09:59:28.033Z"
   },
   {
    "duration": 301,
    "start_time": "2024-04-02T09:59:44.624Z"
   },
   {
    "duration": 341,
    "start_time": "2024-04-02T10:00:12.492Z"
   },
   {
    "duration": 333,
    "start_time": "2024-04-02T10:00:21.069Z"
   },
   {
    "duration": 369,
    "start_time": "2024-04-02T10:00:53.022Z"
   },
   {
    "duration": 304,
    "start_time": "2024-04-02T10:01:12.682Z"
   },
   {
    "duration": 335,
    "start_time": "2024-04-02T10:01:21.064Z"
   },
   {
    "duration": 317,
    "start_time": "2024-04-02T10:01:35.702Z"
   },
   {
    "duration": 362,
    "start_time": "2024-04-02T10:01:58.572Z"
   },
   {
    "duration": 335,
    "start_time": "2024-04-02T10:16:09.184Z"
   },
   {
    "duration": 344,
    "start_time": "2024-04-02T10:16:20.076Z"
   },
   {
    "duration": 305,
    "start_time": "2024-04-02T10:16:30.323Z"
   },
   {
    "duration": 447,
    "start_time": "2024-04-02T10:17:06.066Z"
   },
   {
    "duration": 336,
    "start_time": "2024-04-02T10:21:41.099Z"
   },
   {
    "duration": 360,
    "start_time": "2024-04-02T10:22:07.043Z"
   },
   {
    "duration": 388,
    "start_time": "2024-04-02T10:22:16.960Z"
   },
   {
    "duration": 10,
    "start_time": "2024-04-02T10:24:10.376Z"
   },
   {
    "duration": 10,
    "start_time": "2024-04-02T10:26:06.928Z"
   },
   {
    "duration": 12,
    "start_time": "2024-04-02T10:26:25.423Z"
   },
   {
    "duration": 81,
    "start_time": "2024-04-02T10:33:32.880Z"
   },
   {
    "duration": 94,
    "start_time": "2024-04-02T10:33:58.074Z"
   },
   {
    "duration": 182,
    "start_time": "2024-04-02T10:34:11.974Z"
   },
   {
    "duration": 12,
    "start_time": "2024-04-02T10:34:27.372Z"
   },
   {
    "duration": 12,
    "start_time": "2024-04-02T10:34:57.712Z"
   },
   {
    "duration": 17,
    "start_time": "2024-04-02T10:35:11.688Z"
   },
   {
    "duration": 127,
    "start_time": "2024-04-02T10:35:21.374Z"
   },
   {
    "duration": 151,
    "start_time": "2024-04-02T10:38:39.038Z"
   },
   {
    "duration": 6,
    "start_time": "2024-04-02T10:41:04.430Z"
   },
   {
    "duration": 13,
    "start_time": "2024-04-02T10:41:28.200Z"
   },
   {
    "duration": 16,
    "start_time": "2024-04-02T10:41:40.238Z"
   },
   {
    "duration": 125,
    "start_time": "2024-04-02T10:41:45.273Z"
   },
   {
    "duration": 156,
    "start_time": "2024-04-02T10:42:23.223Z"
   },
   {
    "duration": 142,
    "start_time": "2024-04-02T10:42:50.368Z"
   },
   {
    "duration": 142,
    "start_time": "2024-04-02T10:43:25.707Z"
   },
   {
    "duration": 6,
    "start_time": "2024-04-02T10:47:52.112Z"
   },
   {
    "duration": 4,
    "start_time": "2024-04-02T10:48:15.187Z"
   },
   {
    "duration": 179,
    "start_time": "2024-04-02T10:53:32.282Z"
   },
   {
    "duration": 158,
    "start_time": "2024-04-02T10:54:06.038Z"
   },
   {
    "duration": 161,
    "start_time": "2024-04-02T10:54:40.253Z"
   },
   {
    "duration": 201,
    "start_time": "2024-04-02T10:54:48.537Z"
   },
   {
    "duration": 5,
    "start_time": "2024-04-02T10:57:07.230Z"
   },
   {
    "duration": 286,
    "start_time": "2024-04-02T10:57:20.900Z"
   },
   {
    "duration": 1266,
    "start_time": "2024-04-02T10:57:41.043Z"
   },
   {
    "duration": 4,
    "start_time": "2024-04-02T10:57:57.517Z"
   },
   {
    "duration": 124,
    "start_time": "2024-04-02T13:32:04.910Z"
   },
   {
    "duration": 241,
    "start_time": "2024-04-02T13:34:12.215Z"
   },
   {
    "duration": 239,
    "start_time": "2024-04-02T13:38:08.060Z"
   },
   {
    "duration": 221,
    "start_time": "2024-04-02T13:38:24.426Z"
   },
   {
    "duration": 231,
    "start_time": "2024-04-02T13:38:35.942Z"
   },
   {
    "duration": 161,
    "start_time": "2024-04-02T13:43:27.852Z"
   },
   {
    "duration": 7,
    "start_time": "2024-04-02T13:44:47.263Z"
   },
   {
    "duration": 7,
    "start_time": "2024-04-02T13:45:27.361Z"
   },
   {
    "duration": 8,
    "start_time": "2024-04-02T13:48:45.319Z"
   },
   {
    "duration": 21,
    "start_time": "2024-04-02T13:49:09.968Z"
   },
   {
    "duration": 28,
    "start_time": "2024-04-02T13:49:38.805Z"
   },
   {
    "duration": 232,
    "start_time": "2024-04-02T13:50:44.636Z"
   },
   {
    "duration": 10,
    "start_time": "2024-04-02T13:53:07.147Z"
   },
   {
    "duration": 26,
    "start_time": "2024-04-02T13:53:54.249Z"
   },
   {
    "duration": 4,
    "start_time": "2024-04-02T13:56:37.700Z"
   },
   {
    "duration": 36,
    "start_time": "2024-04-02T13:56:46.832Z"
   },
   {
    "duration": 28,
    "start_time": "2024-04-02T13:59:42.777Z"
   },
   {
    "duration": 1300,
    "start_time": "2024-04-04T06:07:46.960Z"
   },
   {
    "duration": 73,
    "start_time": "2024-04-04T06:07:48.262Z"
   },
   {
    "duration": 11,
    "start_time": "2024-04-04T06:07:48.337Z"
   },
   {
    "duration": 4,
    "start_time": "2024-04-04T06:07:48.349Z"
   },
   {
    "duration": 24,
    "start_time": "2024-04-04T06:07:48.355Z"
   },
   {
    "duration": 11,
    "start_time": "2024-04-04T06:07:48.381Z"
   },
   {
    "duration": 13,
    "start_time": "2024-04-04T06:07:48.393Z"
   },
   {
    "duration": 21,
    "start_time": "2024-04-04T06:07:48.407Z"
   },
   {
    "duration": 10,
    "start_time": "2024-04-04T06:07:48.430Z"
   },
   {
    "duration": 7,
    "start_time": "2024-04-04T06:07:48.443Z"
   },
   {
    "duration": 95,
    "start_time": "2024-04-04T06:07:48.451Z"
   },
   {
    "duration": 70,
    "start_time": "2024-04-04T06:07:48.548Z"
   },
   {
    "duration": 11,
    "start_time": "2024-04-04T06:07:48.620Z"
   },
   {
    "duration": 7,
    "start_time": "2024-04-04T06:07:48.632Z"
   },
   {
    "duration": 16,
    "start_time": "2024-04-04T06:07:48.640Z"
   },
   {
    "duration": 6,
    "start_time": "2024-04-04T06:07:48.658Z"
   },
   {
    "duration": 16,
    "start_time": "2024-04-04T06:07:48.665Z"
   },
   {
    "duration": 15,
    "start_time": "2024-04-04T06:07:48.682Z"
   },
   {
    "duration": 5,
    "start_time": "2024-04-04T06:07:48.699Z"
   },
   {
    "duration": 11,
    "start_time": "2024-04-04T06:07:48.706Z"
   },
   {
    "duration": 15,
    "start_time": "2024-04-04T06:07:48.718Z"
   },
   {
    "duration": 19,
    "start_time": "2024-04-04T06:07:48.735Z"
   },
   {
    "duration": 8,
    "start_time": "2024-04-04T06:07:48.755Z"
   },
   {
    "duration": 205,
    "start_time": "2024-04-04T06:07:48.765Z"
   },
   {
    "duration": 120,
    "start_time": "2024-04-04T06:07:48.971Z"
   },
   {
    "duration": 14,
    "start_time": "2024-04-04T06:07:49.093Z"
   },
   {
    "duration": 303,
    "start_time": "2024-04-04T06:07:49.109Z"
   },
   {
    "duration": 202,
    "start_time": "2024-04-04T06:07:49.416Z"
   },
   {
    "duration": 371,
    "start_time": "2024-04-04T06:07:49.620Z"
   },
   {
    "duration": 204,
    "start_time": "2024-04-04T06:07:49.992Z"
   },
   {
    "duration": 290,
    "start_time": "2024-04-04T06:07:50.197Z"
   },
   {
    "duration": 15,
    "start_time": "2024-04-04T06:07:50.488Z"
   },
   {
    "duration": 181,
    "start_time": "2024-04-04T06:07:50.505Z"
   },
   {
    "duration": 6,
    "start_time": "2024-04-04T06:07:50.688Z"
   },
   {
    "duration": 199,
    "start_time": "2024-04-04T06:07:50.696Z"
   },
   {
    "duration": 4,
    "start_time": "2024-04-04T06:07:50.897Z"
   },
   {
    "duration": 230,
    "start_time": "2024-04-04T06:07:50.903Z"
   },
   {
    "duration": 150,
    "start_time": "2024-04-04T06:07:51.134Z"
   },
   {
    "duration": 8,
    "start_time": "2024-04-04T06:07:51.286Z"
   },
   {
    "duration": 27,
    "start_time": "2024-04-04T06:07:51.295Z"
   },
   {
    "duration": 12,
    "start_time": "2024-04-04T06:11:28.860Z"
   },
   {
    "duration": 9,
    "start_time": "2024-04-04T06:16:06.134Z"
   },
   {
    "duration": 8,
    "start_time": "2024-04-04T06:20:21.670Z"
   },
   {
    "duration": 24,
    "start_time": "2024-04-04T06:20:50.911Z"
   },
   {
    "duration": 25,
    "start_time": "2024-04-04T06:25:24.700Z"
   },
   {
    "duration": 24,
    "start_time": "2024-04-04T06:25:47.462Z"
   },
   {
    "duration": 27,
    "start_time": "2024-04-04T06:27:09.607Z"
   },
   {
    "duration": 25,
    "start_time": "2024-04-04T06:27:38.496Z"
   },
   {
    "duration": 26,
    "start_time": "2024-04-04T06:27:40.456Z"
   },
   {
    "duration": 1144,
    "start_time": "2024-04-04T06:27:48.436Z"
   },
   {
    "duration": 29,
    "start_time": "2024-04-04T06:27:49.581Z"
   },
   {
    "duration": 11,
    "start_time": "2024-04-04T06:27:49.612Z"
   },
   {
    "duration": 4,
    "start_time": "2024-04-04T06:27:49.625Z"
   },
   {
    "duration": 4,
    "start_time": "2024-04-04T06:27:49.630Z"
   },
   {
    "duration": 9,
    "start_time": "2024-04-04T06:27:49.636Z"
   },
   {
    "duration": 4,
    "start_time": "2024-04-04T06:27:49.647Z"
   },
   {
    "duration": 13,
    "start_time": "2024-04-04T06:27:49.653Z"
   },
   {
    "duration": 19,
    "start_time": "2024-04-04T06:27:49.668Z"
   },
   {
    "duration": 9,
    "start_time": "2024-04-04T06:27:49.690Z"
   },
   {
    "duration": 50,
    "start_time": "2024-04-04T06:27:49.700Z"
   },
   {
    "duration": 16,
    "start_time": "2024-04-04T06:27:49.752Z"
   },
   {
    "duration": 22,
    "start_time": "2024-04-04T06:27:49.769Z"
   },
   {
    "duration": 7,
    "start_time": "2024-04-04T06:27:49.792Z"
   },
   {
    "duration": 9,
    "start_time": "2024-04-04T06:27:49.801Z"
   },
   {
    "duration": 5,
    "start_time": "2024-04-04T06:27:49.812Z"
   },
   {
    "duration": 15,
    "start_time": "2024-04-04T06:27:49.819Z"
   },
   {
    "duration": 9,
    "start_time": "2024-04-04T06:27:49.836Z"
   },
   {
    "duration": 5,
    "start_time": "2024-04-04T06:27:49.865Z"
   },
   {
    "duration": 9,
    "start_time": "2024-04-04T06:27:49.871Z"
   },
   {
    "duration": 4,
    "start_time": "2024-04-04T06:27:49.881Z"
   },
   {
    "duration": 20,
    "start_time": "2024-04-04T06:27:49.886Z"
   },
   {
    "duration": 15,
    "start_time": "2024-04-04T06:27:49.907Z"
   },
   {
    "duration": 160,
    "start_time": "2024-04-04T06:27:49.924Z"
   },
   {
    "duration": 120,
    "start_time": "2024-04-04T06:27:50.086Z"
   },
   {
    "duration": 14,
    "start_time": "2024-04-04T06:27:50.208Z"
   },
   {
    "duration": 292,
    "start_time": "2024-04-04T06:27:50.223Z"
   },
   {
    "duration": 196,
    "start_time": "2024-04-04T06:27:50.518Z"
   },
   {
    "duration": 348,
    "start_time": "2024-04-04T06:27:50.717Z"
   },
   {
    "duration": 203,
    "start_time": "2024-04-04T06:27:51.066Z"
   },
   {
    "duration": 304,
    "start_time": "2024-04-04T06:27:51.270Z"
   },
   {
    "duration": 14,
    "start_time": "2024-04-04T06:27:51.575Z"
   },
   {
    "duration": 166,
    "start_time": "2024-04-04T06:27:51.591Z"
   },
   {
    "duration": 11,
    "start_time": "2024-04-04T06:27:51.759Z"
   },
   {
    "duration": 169,
    "start_time": "2024-04-04T06:27:51.772Z"
   },
   {
    "duration": 4,
    "start_time": "2024-04-04T06:27:51.942Z"
   },
   {
    "duration": 228,
    "start_time": "2024-04-04T06:27:51.948Z"
   },
   {
    "duration": 136,
    "start_time": "2024-04-04T06:27:52.178Z"
   },
   {
    "duration": 9,
    "start_time": "2024-04-04T06:27:52.315Z"
   },
   {
    "duration": 25,
    "start_time": "2024-04-04T06:27:52.325Z"
   },
   {
    "duration": 21,
    "start_time": "2024-04-04T06:27:52.352Z"
   },
   {
    "duration": 10,
    "start_time": "2024-04-04T06:27:52.375Z"
   },
   {
    "duration": 23,
    "start_time": "2024-04-04T06:27:52.387Z"
   },
   {
    "duration": 24,
    "start_time": "2024-04-04T06:27:52.411Z"
   },
   {
    "duration": 42,
    "start_time": "2024-04-04T06:27:52.436Z"
   },
   {
    "duration": 15,
    "start_time": "2024-04-04T06:29:20.746Z"
   },
   {
    "duration": 4,
    "start_time": "2024-04-04T07:54:49.437Z"
   },
   {
    "duration": 28,
    "start_time": "2024-04-04T07:54:50.292Z"
   },
   {
    "duration": 3,
    "start_time": "2024-04-04T07:55:12.853Z"
   },
   {
    "duration": 3,
    "start_time": "2024-04-04T07:55:23.982Z"
   },
   {
    "duration": 1192,
    "start_time": "2024-04-04T08:06:42.147Z"
   },
   {
    "duration": 37,
    "start_time": "2024-04-04T08:06:43.341Z"
   },
   {
    "duration": 10,
    "start_time": "2024-04-04T08:06:43.380Z"
   },
   {
    "duration": 9,
    "start_time": "2024-04-04T08:06:43.392Z"
   },
   {
    "duration": 4,
    "start_time": "2024-04-04T08:06:43.402Z"
   },
   {
    "duration": 9,
    "start_time": "2024-04-04T08:06:43.407Z"
   },
   {
    "duration": 5,
    "start_time": "2024-04-04T08:06:43.417Z"
   },
   {
    "duration": 8,
    "start_time": "2024-04-04T08:06:43.424Z"
   },
   {
    "duration": 8,
    "start_time": "2024-04-04T08:06:43.434Z"
   },
   {
    "duration": 22,
    "start_time": "2024-04-04T08:06:43.444Z"
   },
   {
    "duration": 39,
    "start_time": "2024-04-04T08:06:43.469Z"
   },
   {
    "duration": 17,
    "start_time": "2024-04-04T08:06:43.509Z"
   },
   {
    "duration": 12,
    "start_time": "2024-04-04T08:06:43.527Z"
   },
   {
    "duration": 15,
    "start_time": "2024-04-04T08:06:43.541Z"
   },
   {
    "duration": 15,
    "start_time": "2024-04-04T08:06:43.558Z"
   },
   {
    "duration": 5,
    "start_time": "2024-04-04T08:06:43.576Z"
   },
   {
    "duration": 20,
    "start_time": "2024-04-04T08:06:43.583Z"
   },
   {
    "duration": 10,
    "start_time": "2024-04-04T08:06:43.605Z"
   },
   {
    "duration": 11,
    "start_time": "2024-04-04T08:06:43.617Z"
   },
   {
    "duration": 7,
    "start_time": "2024-04-04T08:06:43.629Z"
   },
   {
    "duration": 5,
    "start_time": "2024-04-04T08:06:43.638Z"
   },
   {
    "duration": 32,
    "start_time": "2024-04-04T08:06:43.644Z"
   },
   {
    "duration": 10,
    "start_time": "2024-04-04T08:06:43.678Z"
   },
   {
    "duration": 163,
    "start_time": "2024-04-04T08:06:43.689Z"
   },
   {
    "duration": 125,
    "start_time": "2024-04-04T08:06:43.853Z"
   },
   {
    "duration": 16,
    "start_time": "2024-04-04T08:06:43.979Z"
   },
   {
    "duration": 300,
    "start_time": "2024-04-04T08:06:43.996Z"
   },
   {
    "duration": 222,
    "start_time": "2024-04-04T08:06:44.299Z"
   },
   {
    "duration": 312,
    "start_time": "2024-04-04T08:06:44.522Z"
   },
   {
    "duration": 217,
    "start_time": "2024-04-04T08:06:44.835Z"
   },
   {
    "duration": 344,
    "start_time": "2024-04-04T08:06:45.054Z"
   },
   {
    "duration": 14,
    "start_time": "2024-04-04T08:06:45.400Z"
   },
   {
    "duration": 171,
    "start_time": "2024-04-04T08:06:45.415Z"
   },
   {
    "duration": 4,
    "start_time": "2024-04-04T08:06:45.588Z"
   },
   {
    "duration": 198,
    "start_time": "2024-04-04T08:06:45.593Z"
   },
   {
    "duration": 4,
    "start_time": "2024-04-04T08:06:45.793Z"
   },
   {
    "duration": 237,
    "start_time": "2024-04-04T08:06:45.798Z"
   },
   {
    "duration": 140,
    "start_time": "2024-04-04T08:06:46.036Z"
   },
   {
    "duration": 9,
    "start_time": "2024-04-04T08:06:46.179Z"
   },
   {
    "duration": 27,
    "start_time": "2024-04-04T08:06:46.189Z"
   },
   {
    "duration": 10,
    "start_time": "2024-04-04T08:06:46.218Z"
   },
   {
    "duration": 16,
    "start_time": "2024-04-04T08:06:46.230Z"
   },
   {
    "duration": 27,
    "start_time": "2024-04-04T08:06:46.248Z"
   },
   {
    "duration": 26,
    "start_time": "2024-04-04T08:06:46.277Z"
   },
   {
    "duration": 14,
    "start_time": "2024-04-04T08:06:46.305Z"
   },
   {
    "duration": 1126,
    "start_time": "2024-04-04T08:20:56.260Z"
   },
   {
    "duration": 27,
    "start_time": "2024-04-04T08:20:57.388Z"
   },
   {
    "duration": 10,
    "start_time": "2024-04-04T08:20:57.417Z"
   },
   {
    "duration": 8,
    "start_time": "2024-04-04T08:20:57.428Z"
   },
   {
    "duration": 3,
    "start_time": "2024-04-04T08:20:57.438Z"
   },
   {
    "duration": 16,
    "start_time": "2024-04-04T08:20:57.442Z"
   },
   {
    "duration": 5,
    "start_time": "2024-04-04T08:20:57.460Z"
   },
   {
    "duration": 8,
    "start_time": "2024-04-04T08:20:57.466Z"
   },
   {
    "duration": 8,
    "start_time": "2024-04-04T08:20:57.475Z"
   },
   {
    "duration": 8,
    "start_time": "2024-04-04T08:20:57.485Z"
   },
   {
    "duration": 39,
    "start_time": "2024-04-04T08:20:57.495Z"
   },
   {
    "duration": 16,
    "start_time": "2024-04-04T08:20:57.536Z"
   },
   {
    "duration": 11,
    "start_time": "2024-04-04T08:20:57.553Z"
   },
   {
    "duration": 10,
    "start_time": "2024-04-04T08:20:57.568Z"
   },
   {
    "duration": 6,
    "start_time": "2024-04-04T08:20:57.579Z"
   },
   {
    "duration": 5,
    "start_time": "2024-04-04T08:20:57.587Z"
   },
   {
    "duration": 11,
    "start_time": "2024-04-04T08:20:57.593Z"
   },
   {
    "duration": 10,
    "start_time": "2024-04-04T08:20:57.605Z"
   },
   {
    "duration": 10,
    "start_time": "2024-04-04T08:20:57.617Z"
   },
   {
    "duration": 37,
    "start_time": "2024-04-04T08:20:57.629Z"
   },
   {
    "duration": 5,
    "start_time": "2024-04-04T08:20:57.668Z"
   },
   {
    "duration": 12,
    "start_time": "2024-04-04T08:20:57.674Z"
   },
   {
    "duration": 10,
    "start_time": "2024-04-04T08:20:57.688Z"
   },
   {
    "duration": 185,
    "start_time": "2024-04-04T08:20:57.700Z"
   },
   {
    "duration": 117,
    "start_time": "2024-04-04T08:20:57.886Z"
   },
   {
    "duration": 16,
    "start_time": "2024-04-04T08:20:58.005Z"
   },
   {
    "duration": 298,
    "start_time": "2024-04-04T08:20:58.022Z"
   },
   {
    "duration": 211,
    "start_time": "2024-04-04T08:20:58.321Z"
   },
   {
    "duration": 338,
    "start_time": "2024-04-04T08:20:58.534Z"
   },
   {
    "duration": 239,
    "start_time": "2024-04-04T08:20:58.874Z"
   },
   {
    "duration": 285,
    "start_time": "2024-04-04T08:20:59.115Z"
   },
   {
    "duration": 16,
    "start_time": "2024-04-04T08:20:59.402Z"
   },
   {
    "duration": 163,
    "start_time": "2024-04-04T08:20:59.420Z"
   },
   {
    "duration": 4,
    "start_time": "2024-04-04T08:20:59.585Z"
   },
   {
    "duration": 177,
    "start_time": "2024-04-04T08:20:59.591Z"
   },
   {
    "duration": 5,
    "start_time": "2024-04-04T08:20:59.770Z"
   },
   {
    "duration": 243,
    "start_time": "2024-04-04T08:20:59.776Z"
   },
   {
    "duration": 145,
    "start_time": "2024-04-04T08:21:00.020Z"
   },
   {
    "duration": 7,
    "start_time": "2024-04-04T08:21:00.167Z"
   },
   {
    "duration": 59,
    "start_time": "2024-04-04T08:21:00.176Z"
   },
   {
    "duration": 70,
    "start_time": "2024-04-04T08:21:00.238Z"
   },
   {
    "duration": 68,
    "start_time": "2024-04-04T08:21:00.310Z"
   },
   {
    "duration": 66,
    "start_time": "2024-04-04T08:21:00.379Z"
   },
   {
    "duration": 99,
    "start_time": "2024-04-04T08:21:00.447Z"
   },
   {
    "duration": 69,
    "start_time": "2024-04-04T08:21:00.548Z"
   },
   {
    "duration": 1125,
    "start_time": "2024-04-04T08:54:56.888Z"
   },
   {
    "duration": 28,
    "start_time": "2024-04-04T08:54:58.015Z"
   },
   {
    "duration": 12,
    "start_time": "2024-04-04T08:54:58.045Z"
   },
   {
    "duration": 4,
    "start_time": "2024-04-04T08:54:58.059Z"
   },
   {
    "duration": 8,
    "start_time": "2024-04-04T08:54:58.065Z"
   },
   {
    "duration": 22,
    "start_time": "2024-04-04T08:54:58.075Z"
   },
   {
    "duration": 4,
    "start_time": "2024-04-04T08:54:58.099Z"
   },
   {
    "duration": 7,
    "start_time": "2024-04-04T08:54:58.104Z"
   },
   {
    "duration": 9,
    "start_time": "2024-04-04T08:54:58.112Z"
   },
   {
    "duration": 8,
    "start_time": "2024-04-04T08:54:58.123Z"
   },
   {
    "duration": 45,
    "start_time": "2024-04-04T08:54:58.133Z"
   },
   {
    "duration": 15,
    "start_time": "2024-04-04T08:54:58.180Z"
   },
   {
    "duration": 12,
    "start_time": "2024-04-04T08:54:58.196Z"
   },
   {
    "duration": 16,
    "start_time": "2024-04-04T08:54:58.210Z"
   },
   {
    "duration": 15,
    "start_time": "2024-04-04T08:54:58.227Z"
   },
   {
    "duration": 11,
    "start_time": "2024-04-04T08:54:58.244Z"
   },
   {
    "duration": 11,
    "start_time": "2024-04-04T08:54:58.257Z"
   },
   {
    "duration": 21,
    "start_time": "2024-04-04T08:54:58.269Z"
   },
   {
    "duration": 10,
    "start_time": "2024-04-04T08:54:58.292Z"
   },
   {
    "duration": 7,
    "start_time": "2024-04-04T08:54:58.304Z"
   },
   {
    "duration": 5,
    "start_time": "2024-04-04T08:54:58.312Z"
   },
   {
    "duration": 14,
    "start_time": "2024-04-04T08:54:58.319Z"
   },
   {
    "duration": 10,
    "start_time": "2024-04-04T08:54:58.335Z"
   },
   {
    "duration": 183,
    "start_time": "2024-04-04T08:54:58.347Z"
   },
   {
    "duration": 119,
    "start_time": "2024-04-04T08:54:58.532Z"
   },
   {
    "duration": 25,
    "start_time": "2024-04-04T08:54:58.652Z"
   },
   {
    "duration": 308,
    "start_time": "2024-04-04T08:54:58.678Z"
   },
   {
    "duration": 202,
    "start_time": "2024-04-04T08:54:58.990Z"
   },
   {
    "duration": 303,
    "start_time": "2024-04-04T08:54:59.193Z"
   },
   {
    "duration": 219,
    "start_time": "2024-04-04T08:54:59.498Z"
   },
   {
    "duration": 297,
    "start_time": "2024-04-04T08:54:59.718Z"
   },
   {
    "duration": 15,
    "start_time": "2024-04-04T08:55:00.017Z"
   },
   {
    "duration": 168,
    "start_time": "2024-04-04T08:55:00.033Z"
   },
   {
    "duration": 4,
    "start_time": "2024-04-04T08:55:00.203Z"
   },
   {
    "duration": 196,
    "start_time": "2024-04-04T08:55:00.208Z"
   },
   {
    "duration": 4,
    "start_time": "2024-04-04T08:55:00.405Z"
   },
   {
    "duration": 247,
    "start_time": "2024-04-04T08:55:00.411Z"
   },
   {
    "duration": 152,
    "start_time": "2024-04-04T08:55:00.661Z"
   },
   {
    "duration": 7,
    "start_time": "2024-04-04T08:55:00.815Z"
   },
   {
    "duration": 74,
    "start_time": "2024-04-04T08:55:00.824Z"
   },
   {
    "duration": 36,
    "start_time": "2024-04-04T08:55:00.899Z"
   },
   {
    "duration": 42,
    "start_time": "2024-04-04T08:55:00.937Z"
   },
   {
    "duration": 79,
    "start_time": "2024-04-04T08:55:00.981Z"
   },
   {
    "duration": 140,
    "start_time": "2024-04-04T08:55:01.061Z"
   },
   {
    "duration": 32,
    "start_time": "2024-04-04T08:55:01.202Z"
   },
   {
    "duration": 1130,
    "start_time": "2024-04-04T08:58:03.564Z"
   },
   {
    "duration": 29,
    "start_time": "2024-04-04T08:58:04.696Z"
   },
   {
    "duration": 11,
    "start_time": "2024-04-04T08:58:04.727Z"
   },
   {
    "duration": 4,
    "start_time": "2024-04-04T08:58:04.740Z"
   },
   {
    "duration": 3,
    "start_time": "2024-04-04T08:58:04.746Z"
   },
   {
    "duration": 12,
    "start_time": "2024-04-04T08:58:04.751Z"
   },
   {
    "duration": 3,
    "start_time": "2024-04-04T08:58:04.765Z"
   },
   {
    "duration": 10,
    "start_time": "2024-04-04T08:58:04.770Z"
   },
   {
    "duration": 8,
    "start_time": "2024-04-04T08:58:04.781Z"
   },
   {
    "duration": 8,
    "start_time": "2024-04-04T08:58:04.790Z"
   },
   {
    "duration": 51,
    "start_time": "2024-04-04T08:58:04.799Z"
   },
   {
    "duration": 15,
    "start_time": "2024-04-04T08:58:04.852Z"
   },
   {
    "duration": 12,
    "start_time": "2024-04-04T08:58:04.868Z"
   },
   {
    "duration": 10,
    "start_time": "2024-04-04T08:58:04.883Z"
   },
   {
    "duration": 13,
    "start_time": "2024-04-04T08:58:04.894Z"
   },
   {
    "duration": 6,
    "start_time": "2024-04-04T08:58:04.908Z"
   },
   {
    "duration": 13,
    "start_time": "2024-04-04T08:58:04.916Z"
   },
   {
    "duration": 12,
    "start_time": "2024-04-04T08:58:04.930Z"
   },
   {
    "duration": 33,
    "start_time": "2024-04-04T08:58:04.943Z"
   },
   {
    "duration": 7,
    "start_time": "2024-04-04T08:58:04.979Z"
   },
   {
    "duration": 5,
    "start_time": "2024-04-04T08:58:04.987Z"
   },
   {
    "duration": 12,
    "start_time": "2024-04-04T08:58:04.994Z"
   },
   {
    "duration": 12,
    "start_time": "2024-04-04T08:58:05.007Z"
   },
   {
    "duration": 179,
    "start_time": "2024-04-04T08:58:05.021Z"
   },
   {
    "duration": 125,
    "start_time": "2024-04-04T08:58:05.201Z"
   },
   {
    "duration": 17,
    "start_time": "2024-04-04T08:58:05.327Z"
   },
   {
    "duration": 300,
    "start_time": "2024-04-04T08:58:05.345Z"
   },
   {
    "duration": 209,
    "start_time": "2024-04-04T08:58:05.647Z"
   },
   {
    "duration": 321,
    "start_time": "2024-04-04T08:58:05.858Z"
   },
   {
    "duration": 210,
    "start_time": "2024-04-04T08:58:06.181Z"
   },
   {
    "duration": 336,
    "start_time": "2024-04-04T08:58:06.403Z"
   },
   {
    "duration": 14,
    "start_time": "2024-04-04T08:58:06.740Z"
   },
   {
    "duration": 172,
    "start_time": "2024-04-04T08:58:06.756Z"
   },
   {
    "duration": 4,
    "start_time": "2024-04-04T08:58:06.929Z"
   },
   {
    "duration": 161,
    "start_time": "2024-04-04T08:58:06.935Z"
   },
   {
    "duration": 3,
    "start_time": "2024-04-04T08:58:07.098Z"
   },
   {
    "duration": 216,
    "start_time": "2024-04-04T08:58:07.103Z"
   },
   {
    "duration": 132,
    "start_time": "2024-04-04T08:58:07.320Z"
   },
   {
    "duration": 19,
    "start_time": "2024-04-04T08:58:07.453Z"
   },
   {
    "duration": 27,
    "start_time": "2024-04-04T08:58:07.473Z"
   },
   {
    "duration": 10,
    "start_time": "2024-04-04T08:58:07.503Z"
   },
   {
    "duration": 8,
    "start_time": "2024-04-04T08:58:07.515Z"
   },
   {
    "duration": 10,
    "start_time": "2024-04-04T08:58:07.524Z"
   },
   {
    "duration": 56,
    "start_time": "2024-04-04T08:58:07.535Z"
   },
   {
    "duration": 13,
    "start_time": "2024-04-04T08:58:07.593Z"
   },
   {
    "duration": 1153,
    "start_time": "2024-04-04T09:04:39.156Z"
   },
   {
    "duration": 28,
    "start_time": "2024-04-04T09:04:40.311Z"
   },
   {
    "duration": 11,
    "start_time": "2024-04-04T09:04:40.340Z"
   },
   {
    "duration": 5,
    "start_time": "2024-04-04T09:04:40.353Z"
   },
   {
    "duration": 5,
    "start_time": "2024-04-04T09:04:40.359Z"
   },
   {
    "duration": 11,
    "start_time": "2024-04-04T09:04:40.365Z"
   },
   {
    "duration": 9,
    "start_time": "2024-04-04T09:04:40.377Z"
   },
   {
    "duration": 8,
    "start_time": "2024-04-04T09:04:40.387Z"
   },
   {
    "duration": 13,
    "start_time": "2024-04-04T09:04:40.396Z"
   },
   {
    "duration": 8,
    "start_time": "2024-04-04T09:04:40.412Z"
   },
   {
    "duration": 41,
    "start_time": "2024-04-04T09:04:40.422Z"
   },
   {
    "duration": 15,
    "start_time": "2024-04-04T09:04:40.465Z"
   },
   {
    "duration": 12,
    "start_time": "2024-04-04T09:04:40.481Z"
   },
   {
    "duration": 11,
    "start_time": "2024-04-04T09:04:40.494Z"
   },
   {
    "duration": 6,
    "start_time": "2024-04-04T09:04:40.507Z"
   },
   {
    "duration": 5,
    "start_time": "2024-04-04T09:04:40.515Z"
   },
   {
    "duration": 11,
    "start_time": "2024-04-04T09:04:40.521Z"
   },
   {
    "duration": 33,
    "start_time": "2024-04-04T09:04:40.533Z"
   },
   {
    "duration": 11,
    "start_time": "2024-04-04T09:04:40.568Z"
   },
   {
    "duration": 7,
    "start_time": "2024-04-04T09:04:40.581Z"
   },
   {
    "duration": 7,
    "start_time": "2024-04-04T09:04:40.589Z"
   },
   {
    "duration": 15,
    "start_time": "2024-04-04T09:04:40.597Z"
   },
   {
    "duration": 20,
    "start_time": "2024-04-04T09:04:40.614Z"
   },
   {
    "duration": 175,
    "start_time": "2024-04-04T09:04:40.635Z"
   },
   {
    "duration": 137,
    "start_time": "2024-04-04T09:04:40.811Z"
   },
   {
    "duration": 23,
    "start_time": "2024-04-04T09:04:40.950Z"
   },
   {
    "duration": 311,
    "start_time": "2024-04-04T09:04:40.975Z"
   },
   {
    "duration": 204,
    "start_time": "2024-04-04T09:04:41.290Z"
   },
   {
    "duration": 315,
    "start_time": "2024-04-04T09:04:41.496Z"
   },
   {
    "duration": 206,
    "start_time": "2024-04-04T09:04:41.812Z"
   },
   {
    "duration": 285,
    "start_time": "2024-04-04T09:04:42.019Z"
   },
   {
    "duration": 14,
    "start_time": "2024-04-04T09:04:42.305Z"
   },
   {
    "duration": 168,
    "start_time": "2024-04-04T09:04:42.321Z"
   },
   {
    "duration": 4,
    "start_time": "2024-04-04T09:04:42.490Z"
   },
   {
    "duration": 194,
    "start_time": "2024-04-04T09:04:42.496Z"
   },
   {
    "duration": 5,
    "start_time": "2024-04-04T09:04:42.692Z"
   },
   {
    "duration": 219,
    "start_time": "2024-04-04T09:04:42.699Z"
   },
   {
    "duration": 133,
    "start_time": "2024-04-04T09:04:42.920Z"
   },
   {
    "duration": 13,
    "start_time": "2024-04-04T09:04:43.055Z"
   },
   {
    "duration": 27,
    "start_time": "2024-04-04T09:04:43.069Z"
   },
   {
    "duration": 11,
    "start_time": "2024-04-04T09:04:43.098Z"
   },
   {
    "duration": 9,
    "start_time": "2024-04-04T09:04:43.111Z"
   },
   {
    "duration": 9,
    "start_time": "2024-04-04T09:04:43.121Z"
   },
   {
    "duration": 56,
    "start_time": "2024-04-04T09:04:43.131Z"
   },
   {
    "duration": 14,
    "start_time": "2024-04-04T09:04:43.189Z"
   },
   {
    "duration": 1117,
    "start_time": "2024-04-04T09:10:43.782Z"
   },
   {
    "duration": 28,
    "start_time": "2024-04-04T09:10:44.900Z"
   },
   {
    "duration": 12,
    "start_time": "2024-04-04T09:10:44.929Z"
   },
   {
    "duration": 12,
    "start_time": "2024-04-04T09:10:44.943Z"
   },
   {
    "duration": 3,
    "start_time": "2024-04-04T09:10:44.957Z"
   },
   {
    "duration": 11,
    "start_time": "2024-04-04T09:10:44.961Z"
   },
   {
    "duration": 4,
    "start_time": "2024-04-04T09:10:44.974Z"
   },
   {
    "duration": 23,
    "start_time": "2024-04-04T09:10:44.980Z"
   },
   {
    "duration": 36,
    "start_time": "2024-04-04T09:10:45.005Z"
   },
   {
    "duration": 29,
    "start_time": "2024-04-04T09:10:45.044Z"
   },
   {
    "duration": 70,
    "start_time": "2024-04-04T09:10:45.075Z"
   },
   {
    "duration": 16,
    "start_time": "2024-04-04T09:10:45.146Z"
   },
   {
    "duration": 13,
    "start_time": "2024-04-04T09:10:45.164Z"
   },
   {
    "duration": 24,
    "start_time": "2024-04-04T09:10:45.179Z"
   },
   {
    "duration": 23,
    "start_time": "2024-04-04T09:10:45.204Z"
   },
   {
    "duration": 24,
    "start_time": "2024-04-04T09:10:45.229Z"
   },
   {
    "duration": 45,
    "start_time": "2024-04-04T09:10:45.255Z"
   },
   {
    "duration": 55,
    "start_time": "2024-04-04T09:10:45.301Z"
   },
   {
    "duration": 31,
    "start_time": "2024-04-04T09:10:45.357Z"
   },
   {
    "duration": 19,
    "start_time": "2024-04-04T09:10:45.390Z"
   },
   {
    "duration": 31,
    "start_time": "2024-04-04T09:10:45.411Z"
   },
   {
    "duration": 21,
    "start_time": "2024-04-04T09:10:45.444Z"
   },
   {
    "duration": 11,
    "start_time": "2024-04-04T09:10:45.467Z"
   },
   {
    "duration": 163,
    "start_time": "2024-04-04T09:10:45.480Z"
   },
   {
    "duration": 127,
    "start_time": "2024-04-04T09:10:45.645Z"
   },
   {
    "duration": 16,
    "start_time": "2024-04-04T09:10:45.773Z"
   },
   {
    "duration": 289,
    "start_time": "2024-04-04T09:10:45.791Z"
   },
   {
    "duration": 194,
    "start_time": "2024-04-04T09:10:46.083Z"
   },
   {
    "duration": 313,
    "start_time": "2024-04-04T09:10:46.278Z"
   },
   {
    "duration": 226,
    "start_time": "2024-04-04T09:10:46.592Z"
   },
   {
    "duration": 293,
    "start_time": "2024-04-04T09:10:46.819Z"
   },
   {
    "duration": 15,
    "start_time": "2024-04-04T09:10:47.114Z"
   },
   {
    "duration": 150,
    "start_time": "2024-04-04T09:10:47.131Z"
   },
   {
    "duration": 4,
    "start_time": "2024-04-04T09:10:47.282Z"
   },
   {
    "duration": 163,
    "start_time": "2024-04-04T09:10:47.287Z"
   },
   {
    "duration": 5,
    "start_time": "2024-04-04T09:10:47.451Z"
   },
   {
    "duration": 222,
    "start_time": "2024-04-04T09:10:47.457Z"
   },
   {
    "duration": 141,
    "start_time": "2024-04-04T09:10:47.680Z"
   },
   {
    "duration": 7,
    "start_time": "2024-04-04T09:10:47.823Z"
   },
   {
    "duration": 40,
    "start_time": "2024-04-04T09:10:47.831Z"
   },
   {
    "duration": 10,
    "start_time": "2024-04-04T09:10:47.873Z"
   },
   {
    "duration": 9,
    "start_time": "2024-04-04T09:10:47.885Z"
   },
   {
    "duration": 7,
    "start_time": "2024-04-04T09:10:47.896Z"
   },
   {
    "duration": 25,
    "start_time": "2024-04-04T09:10:47.904Z"
   },
   {
    "duration": 15,
    "start_time": "2024-04-04T09:10:47.964Z"
   },
   {
    "duration": 10,
    "start_time": "2024-04-04T17:59:59.357Z"
   },
   {
    "duration": 7,
    "start_time": "2024-04-04T18:00:22.701Z"
   },
   {
    "duration": 4,
    "start_time": "2024-04-04T18:05:25.104Z"
   },
   {
    "duration": 28,
    "start_time": "2024-04-04T18:05:27.679Z"
   },
   {
    "duration": 9,
    "start_time": "2024-04-04T18:05:28.838Z"
   },
   {
    "duration": 4,
    "start_time": "2024-04-04T18:05:38.310Z"
   },
   {
    "duration": 4,
    "start_time": "2024-04-04T18:05:39.728Z"
   },
   {
    "duration": 7,
    "start_time": "2024-04-04T18:05:40.684Z"
   },
   {
    "duration": 319,
    "start_time": "2024-04-04T18:09:57.974Z"
   },
   {
    "duration": 231,
    "start_time": "2024-04-04T18:10:07.397Z"
   },
   {
    "duration": 248,
    "start_time": "2024-04-04T18:10:18.781Z"
   },
   {
    "duration": 224,
    "start_time": "2024-04-04T18:13:35.928Z"
   },
   {
    "duration": 203,
    "start_time": "2024-04-04T18:13:42.882Z"
   },
   {
    "duration": 320,
    "start_time": "2024-04-04T18:13:49.891Z"
   },
   {
    "duration": 214,
    "start_time": "2024-04-04T18:13:57.454Z"
   },
   {
    "duration": 309,
    "start_time": "2024-04-04T18:14:04.775Z"
   },
   {
    "duration": 137,
    "start_time": "2024-04-04T18:19:12.824Z"
   },
   {
    "duration": 153,
    "start_time": "2024-04-04T18:19:20.016Z"
   },
   {
    "duration": 3847,
    "start_time": "2024-04-04T18:20:30.081Z"
   },
   {
    "duration": 1413,
    "start_time": "2024-04-04T19:47:07.395Z"
   },
   {
    "duration": 808,
    "start_time": "2024-04-04T19:47:52.645Z"
   },
   {
    "duration": 600,
    "start_time": "2024-04-04T19:48:10.898Z"
   },
   {
    "duration": 657,
    "start_time": "2024-04-04T19:48:30.086Z"
   },
   {
    "duration": 1725,
    "start_time": "2024-04-04T19:48:48.075Z"
   },
   {
    "duration": 1410,
    "start_time": "2024-04-04T19:49:26.721Z"
   },
   {
    "duration": 101,
    "start_time": "2024-04-04T19:55:01.165Z"
   },
   {
    "duration": 12,
    "start_time": "2024-04-04T19:55:09.088Z"
   },
   {
    "duration": 8,
    "start_time": "2024-04-04T19:56:09.209Z"
   },
   {
    "duration": 6,
    "start_time": "2024-04-04T20:01:08.491Z"
   },
   {
    "duration": 6,
    "start_time": "2024-04-04T20:02:15.959Z"
   },
   {
    "duration": 10,
    "start_time": "2024-04-04T20:05:30.055Z"
   },
   {
    "duration": 1210,
    "start_time": "2024-04-04T20:06:17.777Z"
   },
   {
    "duration": 29,
    "start_time": "2024-04-04T20:06:18.990Z"
   },
   {
    "duration": 12,
    "start_time": "2024-04-04T20:06:19.020Z"
   },
   {
    "duration": 4,
    "start_time": "2024-04-04T20:06:19.033Z"
   },
   {
    "duration": 9,
    "start_time": "2024-04-04T20:06:19.039Z"
   },
   {
    "duration": 7,
    "start_time": "2024-04-04T20:06:19.049Z"
   },
   {
    "duration": 14,
    "start_time": "2024-04-04T20:06:19.058Z"
   },
   {
    "duration": 10,
    "start_time": "2024-04-04T20:06:19.074Z"
   },
   {
    "duration": 9,
    "start_time": "2024-04-04T20:06:19.086Z"
   },
   {
    "duration": 41,
    "start_time": "2024-04-04T20:06:19.096Z"
   },
   {
    "duration": 17,
    "start_time": "2024-04-04T20:06:19.138Z"
   },
   {
    "duration": 11,
    "start_time": "2024-04-04T20:06:19.157Z"
   },
   {
    "duration": 15,
    "start_time": "2024-04-04T20:06:19.170Z"
   },
   {
    "duration": 10,
    "start_time": "2024-04-04T20:06:19.188Z"
   },
   {
    "duration": 6,
    "start_time": "2024-04-04T20:06:19.200Z"
   },
   {
    "duration": 18,
    "start_time": "2024-04-04T20:06:19.207Z"
   },
   {
    "duration": 17,
    "start_time": "2024-04-04T20:06:19.226Z"
   },
   {
    "duration": 29,
    "start_time": "2024-04-04T20:06:19.245Z"
   },
   {
    "duration": 7,
    "start_time": "2024-04-04T20:06:19.275Z"
   },
   {
    "duration": 4,
    "start_time": "2024-04-04T20:06:19.283Z"
   },
   {
    "duration": 12,
    "start_time": "2024-04-04T20:06:19.288Z"
   },
   {
    "duration": 13,
    "start_time": "2024-04-04T20:06:19.301Z"
   },
   {
    "duration": 176,
    "start_time": "2024-04-04T20:06:19.315Z"
   },
   {
    "duration": 120,
    "start_time": "2024-04-04T20:06:19.493Z"
   },
   {
    "duration": 19,
    "start_time": "2024-04-04T20:06:19.614Z"
   },
   {
    "duration": 307,
    "start_time": "2024-04-04T20:06:19.635Z"
   },
   {
    "duration": 205,
    "start_time": "2024-04-04T20:06:19.944Z"
   },
   {
    "duration": 350,
    "start_time": "2024-04-04T20:06:20.151Z"
   },
   {
    "duration": 242,
    "start_time": "2024-04-04T20:06:20.503Z"
   },
   {
    "duration": 319,
    "start_time": "2024-04-04T20:06:20.746Z"
   },
   {
    "duration": 15,
    "start_time": "2024-04-04T20:06:21.066Z"
   },
   {
    "duration": 154,
    "start_time": "2024-04-04T20:06:21.082Z"
   },
   {
    "duration": 4,
    "start_time": "2024-04-04T20:06:21.237Z"
   },
   {
    "duration": 111,
    "start_time": "2024-04-04T20:06:21.242Z"
   },
   {
    "duration": 0,
    "start_time": "2024-04-04T20:06:21.355Z"
   },
   {
    "duration": 0,
    "start_time": "2024-04-04T20:06:21.356Z"
   },
   {
    "duration": 0,
    "start_time": "2024-04-04T20:06:21.357Z"
   },
   {
    "duration": 0,
    "start_time": "2024-04-04T20:06:21.358Z"
   },
   {
    "duration": 0,
    "start_time": "2024-04-04T20:06:21.359Z"
   },
   {
    "duration": 0,
    "start_time": "2024-04-04T20:06:21.365Z"
   },
   {
    "duration": 0,
    "start_time": "2024-04-04T20:06:21.365Z"
   },
   {
    "duration": 0,
    "start_time": "2024-04-04T20:06:21.366Z"
   },
   {
    "duration": 0,
    "start_time": "2024-04-04T20:06:21.367Z"
   },
   {
    "duration": 0,
    "start_time": "2024-04-04T20:06:21.368Z"
   },
   {
    "duration": 0,
    "start_time": "2024-04-04T20:06:21.369Z"
   },
   {
    "duration": 12,
    "start_time": "2024-04-04T20:09:46.247Z"
   },
   {
    "duration": 1139,
    "start_time": "2024-04-04T20:09:51.520Z"
   },
   {
    "duration": 28,
    "start_time": "2024-04-04T20:09:52.662Z"
   },
   {
    "duration": 11,
    "start_time": "2024-04-04T20:09:52.692Z"
   },
   {
    "duration": 5,
    "start_time": "2024-04-04T20:09:52.705Z"
   },
   {
    "duration": 12,
    "start_time": "2024-04-04T20:09:52.712Z"
   },
   {
    "duration": 7,
    "start_time": "2024-04-04T20:09:52.726Z"
   },
   {
    "duration": 9,
    "start_time": "2024-04-04T20:09:52.735Z"
   },
   {
    "duration": 15,
    "start_time": "2024-04-04T20:09:52.746Z"
   },
   {
    "duration": 8,
    "start_time": "2024-04-04T20:09:52.762Z"
   },
   {
    "duration": 54,
    "start_time": "2024-04-04T20:09:52.771Z"
   },
   {
    "duration": 15,
    "start_time": "2024-04-04T20:09:52.827Z"
   },
   {
    "duration": 97,
    "start_time": "2024-04-04T20:09:52.843Z"
   },
   {
    "duration": 0,
    "start_time": "2024-04-04T20:09:52.943Z"
   },
   {
    "duration": 0,
    "start_time": "2024-04-04T20:09:52.944Z"
   },
   {
    "duration": 0,
    "start_time": "2024-04-04T20:09:52.945Z"
   },
   {
    "duration": 0,
    "start_time": "2024-04-04T20:09:52.946Z"
   },
   {
    "duration": 0,
    "start_time": "2024-04-04T20:09:52.947Z"
   },
   {
    "duration": 0,
    "start_time": "2024-04-04T20:09:52.948Z"
   },
   {
    "duration": 0,
    "start_time": "2024-04-04T20:09:52.949Z"
   },
   {
    "duration": 0,
    "start_time": "2024-04-04T20:09:52.950Z"
   },
   {
    "duration": 0,
    "start_time": "2024-04-04T20:09:52.965Z"
   },
   {
    "duration": 0,
    "start_time": "2024-04-04T20:09:52.966Z"
   },
   {
    "duration": 0,
    "start_time": "2024-04-04T20:09:52.967Z"
   },
   {
    "duration": 0,
    "start_time": "2024-04-04T20:09:52.968Z"
   },
   {
    "duration": 0,
    "start_time": "2024-04-04T20:09:52.969Z"
   },
   {
    "duration": 0,
    "start_time": "2024-04-04T20:09:52.970Z"
   },
   {
    "duration": 0,
    "start_time": "2024-04-04T20:09:52.971Z"
   },
   {
    "duration": 0,
    "start_time": "2024-04-04T20:09:52.972Z"
   },
   {
    "duration": 0,
    "start_time": "2024-04-04T20:09:52.973Z"
   },
   {
    "duration": 0,
    "start_time": "2024-04-04T20:09:52.974Z"
   },
   {
    "duration": 0,
    "start_time": "2024-04-04T20:09:52.975Z"
   },
   {
    "duration": 0,
    "start_time": "2024-04-04T20:09:52.976Z"
   },
   {
    "duration": 0,
    "start_time": "2024-04-04T20:09:52.977Z"
   },
   {
    "duration": 0,
    "start_time": "2024-04-04T20:09:52.978Z"
   },
   {
    "duration": 0,
    "start_time": "2024-04-04T20:09:52.979Z"
   },
   {
    "duration": 0,
    "start_time": "2024-04-04T20:09:52.979Z"
   },
   {
    "duration": 0,
    "start_time": "2024-04-04T20:09:52.980Z"
   },
   {
    "duration": 0,
    "start_time": "2024-04-04T20:09:52.982Z"
   },
   {
    "duration": 0,
    "start_time": "2024-04-04T20:09:52.983Z"
   },
   {
    "duration": 0,
    "start_time": "2024-04-04T20:09:52.984Z"
   },
   {
    "duration": 0,
    "start_time": "2024-04-04T20:09:52.984Z"
   },
   {
    "duration": 0,
    "start_time": "2024-04-04T20:09:52.985Z"
   },
   {
    "duration": 0,
    "start_time": "2024-04-04T20:09:52.986Z"
   },
   {
    "duration": 0,
    "start_time": "2024-04-04T20:09:52.987Z"
   },
   {
    "duration": 0,
    "start_time": "2024-04-04T20:09:52.988Z"
   },
   {
    "duration": 0,
    "start_time": "2024-04-04T20:09:52.989Z"
   },
   {
    "duration": 13,
    "start_time": "2024-04-04T20:10:25.987Z"
   },
   {
    "duration": 13,
    "start_time": "2024-04-04T20:10:34.820Z"
   },
   {
    "duration": 1173,
    "start_time": "2024-04-04T20:16:27.053Z"
   },
   {
    "duration": 27,
    "start_time": "2024-04-04T20:16:28.228Z"
   },
   {
    "duration": 11,
    "start_time": "2024-04-04T20:16:28.256Z"
   },
   {
    "duration": 2,
    "start_time": "2024-04-04T20:16:28.269Z"
   },
   {
    "duration": 7,
    "start_time": "2024-04-04T20:16:28.273Z"
   },
   {
    "duration": 3,
    "start_time": "2024-04-04T20:16:28.281Z"
   },
   {
    "duration": 6,
    "start_time": "2024-04-04T20:16:28.285Z"
   },
   {
    "duration": 8,
    "start_time": "2024-04-04T20:16:28.293Z"
   },
   {
    "duration": 8,
    "start_time": "2024-04-04T20:16:28.302Z"
   },
   {
    "duration": 40,
    "start_time": "2024-04-04T20:16:28.311Z"
   },
   {
    "duration": 16,
    "start_time": "2024-04-04T20:16:28.352Z"
   },
   {
    "duration": 11,
    "start_time": "2024-04-04T20:16:28.369Z"
   },
   {
    "duration": 17,
    "start_time": "2024-04-04T20:16:28.381Z"
   },
   {
    "duration": 5,
    "start_time": "2024-04-04T20:16:28.401Z"
   },
   {
    "duration": 4,
    "start_time": "2024-04-04T20:16:28.408Z"
   },
   {
    "duration": 9,
    "start_time": "2024-04-04T20:16:28.414Z"
   },
   {
    "duration": 8,
    "start_time": "2024-04-04T20:16:28.425Z"
   },
   {
    "duration": 31,
    "start_time": "2024-04-04T20:16:28.434Z"
   },
   {
    "duration": 4,
    "start_time": "2024-04-04T20:16:28.466Z"
   },
   {
    "duration": 6,
    "start_time": "2024-04-04T20:16:28.471Z"
   },
   {
    "duration": 8,
    "start_time": "2024-04-04T20:16:28.479Z"
   },
   {
    "duration": 13,
    "start_time": "2024-04-04T20:16:28.489Z"
   },
   {
    "duration": 174,
    "start_time": "2024-04-04T20:16:28.503Z"
   },
   {
    "duration": 115,
    "start_time": "2024-04-04T20:16:28.678Z"
   },
   {
    "duration": 14,
    "start_time": "2024-04-04T20:16:28.795Z"
   },
   {
    "duration": 334,
    "start_time": "2024-04-04T20:16:28.811Z"
   },
   {
    "duration": 194,
    "start_time": "2024-04-04T20:16:29.146Z"
   },
   {
    "duration": 326,
    "start_time": "2024-04-04T20:16:29.341Z"
   },
   {
    "duration": 230,
    "start_time": "2024-04-04T20:16:29.668Z"
   },
   {
    "duration": 277,
    "start_time": "2024-04-04T20:16:29.899Z"
   },
   {
    "duration": 15,
    "start_time": "2024-04-04T20:16:30.178Z"
   },
   {
    "duration": 189,
    "start_time": "2024-04-04T20:16:30.195Z"
   },
   {
    "duration": 4,
    "start_time": "2024-04-04T20:16:30.386Z"
   },
   {
    "duration": 154,
    "start_time": "2024-04-04T20:16:30.391Z"
   },
   {
    "duration": 0,
    "start_time": "2024-04-04T20:16:30.547Z"
   },
   {
    "duration": 0,
    "start_time": "2024-04-04T20:16:30.548Z"
   },
   {
    "duration": 0,
    "start_time": "2024-04-04T20:16:30.549Z"
   },
   {
    "duration": 0,
    "start_time": "2024-04-04T20:16:30.550Z"
   },
   {
    "duration": 0,
    "start_time": "2024-04-04T20:16:30.551Z"
   },
   {
    "duration": 0,
    "start_time": "2024-04-04T20:16:30.552Z"
   },
   {
    "duration": 0,
    "start_time": "2024-04-04T20:16:30.553Z"
   },
   {
    "duration": 0,
    "start_time": "2024-04-04T20:16:30.554Z"
   },
   {
    "duration": 0,
    "start_time": "2024-04-04T20:16:30.565Z"
   },
   {
    "duration": 0,
    "start_time": "2024-04-04T20:16:30.566Z"
   },
   {
    "duration": 0,
    "start_time": "2024-04-04T20:16:30.567Z"
   },
   {
    "duration": 446,
    "start_time": "2024-04-04T20:17:07.944Z"
   },
   {
    "duration": 157,
    "start_time": "2024-04-04T20:17:42.635Z"
   },
   {
    "duration": 214,
    "start_time": "2024-04-04T20:19:05.238Z"
   },
   {
    "duration": 164,
    "start_time": "2024-04-04T20:19:58.955Z"
   },
   {
    "duration": 1198,
    "start_time": "2024-04-04T20:20:45.510Z"
   },
   {
    "duration": 29,
    "start_time": "2024-04-04T20:20:46.710Z"
   },
   {
    "duration": 12,
    "start_time": "2024-04-04T20:20:46.740Z"
   },
   {
    "duration": 10,
    "start_time": "2024-04-04T20:20:46.754Z"
   },
   {
    "duration": 19,
    "start_time": "2024-04-04T20:20:46.766Z"
   },
   {
    "duration": 5,
    "start_time": "2024-04-04T20:20:46.786Z"
   },
   {
    "duration": 15,
    "start_time": "2024-04-04T20:20:46.792Z"
   },
   {
    "duration": 24,
    "start_time": "2024-04-04T20:20:46.808Z"
   },
   {
    "duration": 23,
    "start_time": "2024-04-04T20:20:46.833Z"
   },
   {
    "duration": 40,
    "start_time": "2024-04-04T20:20:46.857Z"
   },
   {
    "duration": 16,
    "start_time": "2024-04-04T20:20:46.899Z"
   },
   {
    "duration": 11,
    "start_time": "2024-04-04T20:20:46.917Z"
   },
   {
    "duration": 10,
    "start_time": "2024-04-04T20:20:46.930Z"
   },
   {
    "duration": 7,
    "start_time": "2024-04-04T20:20:46.944Z"
   },
   {
    "duration": 5,
    "start_time": "2024-04-04T20:20:46.952Z"
   },
   {
    "duration": 11,
    "start_time": "2024-04-04T20:20:46.959Z"
   },
   {
    "duration": 12,
    "start_time": "2024-04-04T20:20:46.971Z"
   },
   {
    "duration": 15,
    "start_time": "2024-04-04T20:20:46.984Z"
   },
   {
    "duration": 7,
    "start_time": "2024-04-04T20:20:47.000Z"
   },
   {
    "duration": 9,
    "start_time": "2024-04-04T20:20:47.009Z"
   },
   {
    "duration": 15,
    "start_time": "2024-04-04T20:20:47.019Z"
   },
   {
    "duration": 9,
    "start_time": "2024-04-04T20:20:47.035Z"
   },
   {
    "duration": 186,
    "start_time": "2024-04-04T20:20:47.046Z"
   },
   {
    "duration": 111,
    "start_time": "2024-04-04T20:20:47.233Z"
   },
   {
    "duration": 23,
    "start_time": "2024-04-04T20:20:47.346Z"
   },
   {
    "duration": 327,
    "start_time": "2024-04-04T20:20:47.371Z"
   },
   {
    "duration": 209,
    "start_time": "2024-04-04T20:20:47.699Z"
   },
   {
    "duration": 312,
    "start_time": "2024-04-04T20:20:47.910Z"
   },
   {
    "duration": 225,
    "start_time": "2024-04-04T20:20:48.223Z"
   },
   {
    "duration": 330,
    "start_time": "2024-04-04T20:20:48.450Z"
   },
   {
    "duration": 20,
    "start_time": "2024-04-04T20:20:48.782Z"
   },
   {
    "duration": 205,
    "start_time": "2024-04-04T20:20:48.804Z"
   },
   {
    "duration": 5,
    "start_time": "2024-04-04T20:20:49.012Z"
   },
   {
    "duration": 353,
    "start_time": "2024-04-04T20:20:49.019Z"
   },
   {
    "duration": 159,
    "start_time": "2024-04-04T20:20:49.374Z"
   },
   {
    "duration": 4,
    "start_time": "2024-04-04T20:20:49.534Z"
   },
   {
    "duration": 236,
    "start_time": "2024-04-04T20:20:49.540Z"
   },
   {
    "duration": 138,
    "start_time": "2024-04-04T20:20:49.777Z"
   },
   {
    "duration": 7,
    "start_time": "2024-04-04T20:20:49.917Z"
   },
   {
    "duration": 26,
    "start_time": "2024-04-04T20:20:49.925Z"
   },
   {
    "duration": 10,
    "start_time": "2024-04-04T20:20:49.967Z"
   },
   {
    "duration": 17,
    "start_time": "2024-04-04T20:20:49.978Z"
   },
   {
    "duration": 10,
    "start_time": "2024-04-04T20:20:49.996Z"
   },
   {
    "duration": 45,
    "start_time": "2024-04-04T20:20:50.007Z"
   },
   {
    "duration": 27,
    "start_time": "2024-04-04T20:20:50.054Z"
   },
   {
    "duration": 177,
    "start_time": "2024-04-04T20:22:19.021Z"
   },
   {
    "duration": 364,
    "start_time": "2024-04-04T20:23:14.106Z"
   },
   {
    "duration": 51,
    "start_time": "2024-04-04T20:28:38.006Z"
   },
   {
    "duration": 148,
    "start_time": "2024-04-04T20:29:43.588Z"
   },
   {
    "duration": 132,
    "start_time": "2024-04-04T20:44:45.210Z"
   },
   {
    "duration": 95,
    "start_time": "2024-04-04T20:44:49.986Z"
   },
   {
    "duration": 25,
    "start_time": "2024-04-04T20:44:52.132Z"
   },
   {
    "duration": 1214,
    "start_time": "2024-04-04T20:45:03.427Z"
   },
   {
    "duration": 28,
    "start_time": "2024-04-04T20:45:04.643Z"
   },
   {
    "duration": 11,
    "start_time": "2024-04-04T20:45:04.673Z"
   },
   {
    "duration": 3,
    "start_time": "2024-04-04T20:45:04.686Z"
   },
   {
    "duration": 8,
    "start_time": "2024-04-04T20:45:04.690Z"
   },
   {
    "duration": 4,
    "start_time": "2024-04-04T20:45:04.700Z"
   },
   {
    "duration": 15,
    "start_time": "2024-04-04T20:45:04.705Z"
   },
   {
    "duration": 13,
    "start_time": "2024-04-04T20:45:04.722Z"
   },
   {
    "duration": 28,
    "start_time": "2024-04-04T20:45:04.737Z"
   },
   {
    "duration": 38,
    "start_time": "2024-04-04T20:45:04.768Z"
   },
   {
    "duration": 15,
    "start_time": "2024-04-04T20:45:04.808Z"
   },
   {
    "duration": 12,
    "start_time": "2024-04-04T20:45:04.825Z"
   },
   {
    "duration": 12,
    "start_time": "2024-04-04T20:45:04.838Z"
   },
   {
    "duration": 8,
    "start_time": "2024-04-04T20:45:04.852Z"
   },
   {
    "duration": 6,
    "start_time": "2024-04-04T20:45:04.861Z"
   },
   {
    "duration": 11,
    "start_time": "2024-04-04T20:45:04.868Z"
   },
   {
    "duration": 9,
    "start_time": "2024-04-04T20:45:04.880Z"
   },
   {
    "duration": 18,
    "start_time": "2024-04-04T20:45:04.890Z"
   },
   {
    "duration": 7,
    "start_time": "2024-04-04T20:45:04.910Z"
   },
   {
    "duration": 4,
    "start_time": "2024-04-04T20:45:04.918Z"
   },
   {
    "duration": 14,
    "start_time": "2024-04-04T20:45:04.924Z"
   },
   {
    "duration": 13,
    "start_time": "2024-04-04T20:45:04.965Z"
   },
   {
    "duration": 188,
    "start_time": "2024-04-04T20:45:04.980Z"
   },
   {
    "duration": 139,
    "start_time": "2024-04-04T20:45:05.170Z"
   },
   {
    "duration": 20,
    "start_time": "2024-04-04T20:45:05.311Z"
   },
   {
    "duration": 311,
    "start_time": "2024-04-04T20:45:05.332Z"
   },
   {
    "duration": 226,
    "start_time": "2024-04-04T20:45:05.645Z"
   },
   {
    "duration": 321,
    "start_time": "2024-04-04T20:45:05.874Z"
   },
   {
    "duration": 224,
    "start_time": "2024-04-04T20:45:06.196Z"
   },
   {
    "duration": 317,
    "start_time": "2024-04-04T20:45:06.422Z"
   },
   {
    "duration": 27,
    "start_time": "2024-04-04T20:45:06.741Z"
   },
   {
    "duration": 158,
    "start_time": "2024-04-04T20:45:06.769Z"
   },
   {
    "duration": 4,
    "start_time": "2024-04-04T20:45:06.928Z"
   },
   {
    "duration": 228,
    "start_time": "2024-04-04T20:45:06.934Z"
   },
   {
    "duration": 4,
    "start_time": "2024-04-04T20:45:07.164Z"
   },
   {
    "duration": 140,
    "start_time": "2024-04-04T20:45:07.169Z"
   },
   {
    "duration": 97,
    "start_time": "2024-04-04T20:45:07.311Z"
   },
   {
    "duration": 0,
    "start_time": "2024-04-04T20:45:07.410Z"
   },
   {
    "duration": 0,
    "start_time": "2024-04-04T20:45:07.411Z"
   },
   {
    "duration": 0,
    "start_time": "2024-04-04T20:45:07.412Z"
   },
   {
    "duration": 0,
    "start_time": "2024-04-04T20:45:07.413Z"
   },
   {
    "duration": 0,
    "start_time": "2024-04-04T20:45:07.414Z"
   },
   {
    "duration": 0,
    "start_time": "2024-04-04T20:45:07.416Z"
   },
   {
    "duration": 9,
    "start_time": "2024-04-04T20:45:45.624Z"
   },
   {
    "duration": 209,
    "start_time": "2024-04-04T20:45:53.381Z"
   },
   {
    "duration": 48,
    "start_time": "2024-04-05T06:36:01.489Z"
   },
   {
    "duration": 1465,
    "start_time": "2024-04-05T06:36:07.390Z"
   },
   {
    "duration": 75,
    "start_time": "2024-04-05T06:36:08.857Z"
   },
   {
    "duration": 12,
    "start_time": "2024-04-05T06:36:08.933Z"
   },
   {
    "duration": 3,
    "start_time": "2024-04-05T06:36:08.947Z"
   },
   {
    "duration": 9,
    "start_time": "2024-04-05T06:36:08.952Z"
   },
   {
    "duration": 5,
    "start_time": "2024-04-05T06:36:08.963Z"
   },
   {
    "duration": 8,
    "start_time": "2024-04-05T06:36:08.969Z"
   },
   {
    "duration": 9,
    "start_time": "2024-04-05T06:36:08.978Z"
   },
   {
    "duration": 30,
    "start_time": "2024-04-05T06:36:08.989Z"
   },
   {
    "duration": 95,
    "start_time": "2024-04-05T06:36:09.020Z"
   },
   {
    "duration": 72,
    "start_time": "2024-04-05T06:36:09.117Z"
   },
   {
    "duration": 11,
    "start_time": "2024-04-05T06:36:09.191Z"
   },
   {
    "duration": 17,
    "start_time": "2024-04-05T06:36:09.204Z"
   },
   {
    "duration": 15,
    "start_time": "2024-04-05T06:36:09.224Z"
   },
   {
    "duration": 7,
    "start_time": "2024-04-05T06:36:09.240Z"
   },
   {
    "duration": 13,
    "start_time": "2024-04-05T06:36:09.248Z"
   },
   {
    "duration": 9,
    "start_time": "2024-04-05T06:36:09.263Z"
   },
   {
    "duration": 9,
    "start_time": "2024-04-05T06:36:09.274Z"
   },
   {
    "duration": 32,
    "start_time": "2024-04-05T06:36:09.285Z"
   },
   {
    "duration": 4,
    "start_time": "2024-04-05T06:36:09.319Z"
   },
   {
    "duration": 17,
    "start_time": "2024-04-05T06:36:09.325Z"
   },
   {
    "duration": 15,
    "start_time": "2024-04-05T06:36:09.344Z"
   },
   {
    "duration": 187,
    "start_time": "2024-04-05T06:36:09.361Z"
   },
   {
    "duration": 126,
    "start_time": "2024-04-05T06:36:09.550Z"
   },
   {
    "duration": 16,
    "start_time": "2024-04-05T06:36:09.677Z"
   },
   {
    "duration": 333,
    "start_time": "2024-04-05T06:36:09.695Z"
   },
   {
    "duration": 217,
    "start_time": "2024-04-05T06:36:10.030Z"
   },
   {
    "duration": 371,
    "start_time": "2024-04-05T06:36:10.249Z"
   },
   {
    "duration": 248,
    "start_time": "2024-04-05T06:36:10.622Z"
   },
   {
    "duration": 333,
    "start_time": "2024-04-05T06:36:10.872Z"
   },
   {
    "duration": 21,
    "start_time": "2024-04-05T06:36:11.207Z"
   },
   {
    "duration": 178,
    "start_time": "2024-04-05T06:36:11.230Z"
   },
   {
    "duration": 7,
    "start_time": "2024-04-05T06:36:11.410Z"
   },
   {
    "duration": 245,
    "start_time": "2024-04-05T06:36:11.419Z"
   },
   {
    "duration": 5,
    "start_time": "2024-04-05T06:36:11.666Z"
   },
   {
    "duration": 231,
    "start_time": "2024-04-05T06:36:11.673Z"
   },
   {
    "duration": 23,
    "start_time": "2024-04-05T06:36:11.906Z"
   },
   {
    "duration": 155,
    "start_time": "2024-04-05T06:36:11.931Z"
   },
   {
    "duration": 10,
    "start_time": "2024-04-05T06:36:12.088Z"
   },
   {
    "duration": 39,
    "start_time": "2024-04-05T06:36:12.100Z"
   },
   {
    "duration": 12,
    "start_time": "2024-04-05T06:36:12.143Z"
   },
   {
    "duration": 9,
    "start_time": "2024-04-05T06:36:12.157Z"
   },
   {
    "duration": 10,
    "start_time": "2024-04-05T06:36:12.168Z"
   },
   {
    "duration": 55,
    "start_time": "2024-04-05T06:36:12.179Z"
   },
   {
    "duration": 15,
    "start_time": "2024-04-05T06:36:12.236Z"
   },
   {
    "duration": 13,
    "start_time": "2024-04-05T06:42:24.288Z"
   },
   {
    "duration": 13,
    "start_time": "2024-04-05T06:44:29.855Z"
   },
   {
    "duration": 196,
    "start_time": "2024-04-05T06:48:02.009Z"
   },
   {
    "duration": 242,
    "start_time": "2024-04-05T06:49:41.668Z"
   },
   {
    "duration": 1215,
    "start_time": "2024-04-05T06:49:51.780Z"
   },
   {
    "duration": 29,
    "start_time": "2024-04-05T06:49:52.996Z"
   },
   {
    "duration": 11,
    "start_time": "2024-04-05T06:49:53.027Z"
   },
   {
    "duration": 3,
    "start_time": "2024-04-05T06:49:53.040Z"
   },
   {
    "duration": 20,
    "start_time": "2024-04-05T06:49:53.044Z"
   },
   {
    "duration": 9,
    "start_time": "2024-04-05T06:49:53.066Z"
   },
   {
    "duration": 11,
    "start_time": "2024-04-05T06:49:53.076Z"
   },
   {
    "duration": 20,
    "start_time": "2024-04-05T06:49:53.088Z"
   },
   {
    "duration": 10,
    "start_time": "2024-04-05T06:49:53.110Z"
   },
   {
    "duration": 55,
    "start_time": "2024-04-05T06:49:53.122Z"
   },
   {
    "duration": 16,
    "start_time": "2024-04-05T06:49:53.178Z"
   },
   {
    "duration": 11,
    "start_time": "2024-04-05T06:49:53.196Z"
   },
   {
    "duration": 19,
    "start_time": "2024-04-05T06:49:53.208Z"
   },
   {
    "duration": 5,
    "start_time": "2024-04-05T06:49:53.228Z"
   },
   {
    "duration": 6,
    "start_time": "2024-04-05T06:49:53.235Z"
   },
   {
    "duration": 10,
    "start_time": "2024-04-05T06:49:53.242Z"
   },
   {
    "duration": 13,
    "start_time": "2024-04-05T06:49:53.253Z"
   },
   {
    "duration": 38,
    "start_time": "2024-04-05T06:49:53.267Z"
   },
   {
    "duration": 18,
    "start_time": "2024-04-05T06:49:53.306Z"
   },
   {
    "duration": 7,
    "start_time": "2024-04-05T06:49:53.326Z"
   },
   {
    "duration": 24,
    "start_time": "2024-04-05T06:49:53.335Z"
   },
   {
    "duration": 28,
    "start_time": "2024-04-05T06:49:53.361Z"
   },
   {
    "duration": 206,
    "start_time": "2024-04-05T06:49:53.391Z"
   },
   {
    "duration": 130,
    "start_time": "2024-04-05T06:49:53.598Z"
   },
   {
    "duration": 14,
    "start_time": "2024-04-05T06:49:53.729Z"
   },
   {
    "duration": 310,
    "start_time": "2024-04-05T06:49:53.745Z"
   },
   {
    "duration": 221,
    "start_time": "2024-04-05T06:49:54.057Z"
   },
   {
    "duration": 349,
    "start_time": "2024-04-05T06:49:54.281Z"
   },
   {
    "duration": 244,
    "start_time": "2024-04-05T06:49:54.632Z"
   },
   {
    "duration": 340,
    "start_time": "2024-04-05T06:49:54.879Z"
   },
   {
    "duration": 14,
    "start_time": "2024-04-05T06:49:55.221Z"
   },
   {
    "duration": 156,
    "start_time": "2024-04-05T06:49:55.237Z"
   },
   {
    "duration": 4,
    "start_time": "2024-04-05T06:49:55.394Z"
   },
   {
    "duration": 229,
    "start_time": "2024-04-05T06:49:55.400Z"
   },
   {
    "duration": 286,
    "start_time": "2024-04-05T06:49:55.631Z"
   },
   {
    "duration": 3,
    "start_time": "2024-04-05T06:49:55.919Z"
   },
   {
    "duration": 228,
    "start_time": "2024-04-05T06:49:55.924Z"
   },
   {
    "duration": 12,
    "start_time": "2024-04-05T06:49:56.153Z"
   },
   {
    "duration": 171,
    "start_time": "2024-04-05T06:49:56.167Z"
   },
   {
    "duration": 8,
    "start_time": "2024-04-05T06:49:56.340Z"
   },
   {
    "duration": 26,
    "start_time": "2024-04-05T06:49:56.349Z"
   },
   {
    "duration": 12,
    "start_time": "2024-04-05T06:49:56.377Z"
   },
   {
    "duration": 11,
    "start_time": "2024-04-05T06:49:56.414Z"
   },
   {
    "duration": 9,
    "start_time": "2024-04-05T06:49:56.427Z"
   },
   {
    "duration": 26,
    "start_time": "2024-04-05T06:49:56.438Z"
   },
   {
    "duration": 13,
    "start_time": "2024-04-05T06:49:56.466Z"
   },
   {
    "duration": 147,
    "start_time": "2024-04-05T06:50:38.520Z"
   },
   {
    "duration": 163,
    "start_time": "2024-04-05T06:51:10.607Z"
   },
   {
    "duration": 153,
    "start_time": "2024-04-05T06:51:24.490Z"
   },
   {
    "duration": 149,
    "start_time": "2024-04-05T06:51:32.415Z"
   },
   {
    "duration": 150,
    "start_time": "2024-04-05T06:53:08.319Z"
   },
   {
    "duration": 154,
    "start_time": "2024-04-05T06:53:33.383Z"
   },
   {
    "duration": 178,
    "start_time": "2024-04-05T06:53:56.766Z"
   },
   {
    "duration": 153,
    "start_time": "2024-04-05T06:54:09.121Z"
   },
   {
    "duration": 11,
    "start_time": "2024-04-05T06:58:14.420Z"
   },
   {
    "duration": 8,
    "start_time": "2024-04-05T06:58:30.893Z"
   },
   {
    "duration": 24,
    "start_time": "2024-04-05T06:58:32.056Z"
   },
   {
    "duration": 15,
    "start_time": "2024-04-05T06:59:03.313Z"
   },
   {
    "duration": 168,
    "start_time": "2024-04-05T07:00:06.936Z"
   },
   {
    "duration": 166,
    "start_time": "2024-04-05T07:00:30.723Z"
   },
   {
    "duration": 262,
    "start_time": "2024-04-05T07:01:19.664Z"
   },
   {
    "duration": 162,
    "start_time": "2024-04-05T07:01:23.830Z"
   },
   {
    "duration": 11,
    "start_time": "2024-04-05T07:07:48.577Z"
   },
   {
    "duration": 12,
    "start_time": "2024-04-05T07:10:30.602Z"
   },
   {
    "duration": 1393,
    "start_time": "2024-04-05T07:10:40.808Z"
   },
   {
    "duration": 30,
    "start_time": "2024-04-05T07:10:42.203Z"
   },
   {
    "duration": 12,
    "start_time": "2024-04-05T07:10:42.234Z"
   },
   {
    "duration": 3,
    "start_time": "2024-04-05T07:10:42.248Z"
   },
   {
    "duration": 8,
    "start_time": "2024-04-05T07:10:42.254Z"
   },
   {
    "duration": 4,
    "start_time": "2024-04-05T07:10:42.264Z"
   },
   {
    "duration": 9,
    "start_time": "2024-04-05T07:10:42.269Z"
   },
   {
    "duration": 10,
    "start_time": "2024-04-05T07:10:42.279Z"
   },
   {
    "duration": 30,
    "start_time": "2024-04-05T07:10:42.291Z"
   },
   {
    "duration": 40,
    "start_time": "2024-04-05T07:10:42.323Z"
   },
   {
    "duration": 16,
    "start_time": "2024-04-05T07:10:42.365Z"
   },
   {
    "duration": 12,
    "start_time": "2024-04-05T07:10:42.383Z"
   },
   {
    "duration": 17,
    "start_time": "2024-04-05T07:10:42.396Z"
   },
   {
    "duration": 6,
    "start_time": "2024-04-05T07:10:42.417Z"
   },
   {
    "duration": 6,
    "start_time": "2024-04-05T07:10:42.424Z"
   },
   {
    "duration": 21,
    "start_time": "2024-04-05T07:10:42.432Z"
   },
   {
    "duration": 22,
    "start_time": "2024-04-05T07:10:42.454Z"
   },
   {
    "duration": 10,
    "start_time": "2024-04-05T07:10:42.478Z"
   },
   {
    "duration": 7,
    "start_time": "2024-04-05T07:10:42.490Z"
   },
   {
    "duration": 18,
    "start_time": "2024-04-05T07:10:42.499Z"
   },
   {
    "duration": 13,
    "start_time": "2024-04-05T07:10:42.519Z"
   },
   {
    "duration": 11,
    "start_time": "2024-04-05T07:10:42.533Z"
   },
   {
    "duration": 205,
    "start_time": "2024-04-05T07:10:42.546Z"
   },
   {
    "duration": 135,
    "start_time": "2024-04-05T07:10:42.752Z"
   },
   {
    "duration": 28,
    "start_time": "2024-04-05T07:10:42.889Z"
   },
   {
    "duration": 340,
    "start_time": "2024-04-05T07:10:42.919Z"
   },
   {
    "duration": 240,
    "start_time": "2024-04-05T07:10:43.261Z"
   },
   {
    "duration": 351,
    "start_time": "2024-04-05T07:10:43.503Z"
   },
   {
    "duration": 282,
    "start_time": "2024-04-05T07:10:43.856Z"
   },
   {
    "duration": 326,
    "start_time": "2024-04-05T07:10:44.140Z"
   },
   {
    "duration": 18,
    "start_time": "2024-04-05T07:10:44.468Z"
   },
   {
    "duration": 183,
    "start_time": "2024-04-05T07:10:44.488Z"
   },
   {
    "duration": 5,
    "start_time": "2024-04-05T07:10:44.672Z"
   },
   {
    "duration": 289,
    "start_time": "2024-04-05T07:10:44.679Z"
   },
   {
    "duration": 189,
    "start_time": "2024-04-05T07:10:44.970Z"
   },
   {
    "duration": 5,
    "start_time": "2024-04-05T07:10:45.161Z"
   },
   {
    "duration": 242,
    "start_time": "2024-04-05T07:10:45.168Z"
   },
   {
    "duration": 12,
    "start_time": "2024-04-05T07:10:45.415Z"
   },
   {
    "duration": 161,
    "start_time": "2024-04-05T07:10:45.429Z"
   },
   {
    "duration": 9,
    "start_time": "2024-04-05T07:10:45.592Z"
   },
   {
    "duration": 31,
    "start_time": "2024-04-05T07:10:45.614Z"
   },
   {
    "duration": 11,
    "start_time": "2024-04-05T07:10:45.646Z"
   },
   {
    "duration": 10,
    "start_time": "2024-04-05T07:10:45.658Z"
   },
   {
    "duration": 46,
    "start_time": "2024-04-05T07:10:45.669Z"
   },
   {
    "duration": 11,
    "start_time": "2024-04-05T07:10:45.717Z"
   },
   {
    "duration": 30,
    "start_time": "2024-04-05T07:10:45.730Z"
   },
   {
    "duration": 18,
    "start_time": "2024-04-05T07:10:45.762Z"
   },
   {
    "duration": 12,
    "start_time": "2024-04-05T07:52:44.260Z"
   },
   {
    "duration": 11,
    "start_time": "2024-04-05T07:53:29.077Z"
   },
   {
    "duration": 11,
    "start_time": "2024-04-05T07:58:46.051Z"
   },
   {
    "duration": 8,
    "start_time": "2024-04-05T07:58:57.943Z"
   },
   {
    "duration": 35,
    "start_time": "2024-04-05T07:59:03.093Z"
   },
   {
    "duration": 14,
    "start_time": "2024-04-05T07:59:23.076Z"
   },
   {
    "duration": 25,
    "start_time": "2024-04-05T08:02:19.360Z"
   },
   {
    "duration": 9,
    "start_time": "2024-04-05T08:02:49.253Z"
   },
   {
    "duration": 5,
    "start_time": "2024-04-05T08:04:50.862Z"
   },
   {
    "duration": 6,
    "start_time": "2024-04-05T08:04:56.927Z"
   },
   {
    "duration": 15,
    "start_time": "2024-04-05T08:05:01.923Z"
   },
   {
    "duration": 1355,
    "start_time": "2024-04-05T08:05:39.589Z"
   },
   {
    "duration": 28,
    "start_time": "2024-04-05T08:05:40.946Z"
   },
   {
    "duration": 12,
    "start_time": "2024-04-05T08:05:40.976Z"
   },
   {
    "duration": 6,
    "start_time": "2024-04-05T08:05:40.989Z"
   },
   {
    "duration": 7,
    "start_time": "2024-04-05T08:05:40.997Z"
   },
   {
    "duration": 8,
    "start_time": "2024-04-05T08:05:41.005Z"
   },
   {
    "duration": 8,
    "start_time": "2024-04-05T08:05:41.014Z"
   },
   {
    "duration": 10,
    "start_time": "2024-04-05T08:05:41.024Z"
   },
   {
    "duration": 8,
    "start_time": "2024-04-05T08:05:41.036Z"
   },
   {
    "duration": 42,
    "start_time": "2024-04-05T08:05:41.046Z"
   },
   {
    "duration": 16,
    "start_time": "2024-04-05T08:05:41.090Z"
   },
   {
    "duration": 14,
    "start_time": "2024-04-05T08:05:41.107Z"
   },
   {
    "duration": 19,
    "start_time": "2024-04-05T08:05:41.122Z"
   },
   {
    "duration": 5,
    "start_time": "2024-04-05T08:05:41.145Z"
   },
   {
    "duration": 6,
    "start_time": "2024-04-05T08:05:41.152Z"
   },
   {
    "duration": 20,
    "start_time": "2024-04-05T08:05:41.159Z"
   },
   {
    "duration": 10,
    "start_time": "2024-04-05T08:05:41.181Z"
   },
   {
    "duration": 29,
    "start_time": "2024-04-05T08:05:41.193Z"
   },
   {
    "duration": 12,
    "start_time": "2024-04-05T08:05:41.224Z"
   },
   {
    "duration": 5,
    "start_time": "2024-04-05T08:05:41.238Z"
   },
   {
    "duration": 12,
    "start_time": "2024-04-05T08:05:41.244Z"
   },
   {
    "duration": 9,
    "start_time": "2024-04-05T08:05:41.258Z"
   },
   {
    "duration": 185,
    "start_time": "2024-04-05T08:05:41.269Z"
   },
   {
    "duration": 120,
    "start_time": "2024-04-05T08:05:41.456Z"
   },
   {
    "duration": 15,
    "start_time": "2024-04-05T08:05:41.578Z"
   },
   {
    "duration": 359,
    "start_time": "2024-04-05T08:05:41.594Z"
   },
   {
    "duration": 229,
    "start_time": "2024-04-05T08:05:41.955Z"
   },
   {
    "duration": 366,
    "start_time": "2024-04-05T08:05:42.186Z"
   },
   {
    "duration": 235,
    "start_time": "2024-04-05T08:05:42.553Z"
   },
   {
    "duration": 367,
    "start_time": "2024-04-05T08:05:42.789Z"
   },
   {
    "duration": 20,
    "start_time": "2024-04-05T08:05:43.158Z"
   },
   {
    "duration": 185,
    "start_time": "2024-04-05T08:05:43.180Z"
   },
   {
    "duration": 4,
    "start_time": "2024-04-05T08:05:43.366Z"
   },
   {
    "duration": 263,
    "start_time": "2024-04-05T08:05:43.372Z"
   },
   {
    "duration": 179,
    "start_time": "2024-04-05T08:05:43.637Z"
   },
   {
    "duration": 4,
    "start_time": "2024-04-05T08:05:43.818Z"
   },
   {
    "duration": 247,
    "start_time": "2024-04-05T08:05:43.824Z"
   },
   {
    "duration": 11,
    "start_time": "2024-04-05T08:05:44.073Z"
   },
   {
    "duration": 157,
    "start_time": "2024-04-05T08:05:44.086Z"
   },
   {
    "duration": 7,
    "start_time": "2024-04-05T08:05:44.244Z"
   },
   {
    "duration": 37,
    "start_time": "2024-04-05T08:05:44.254Z"
   },
   {
    "duration": 10,
    "start_time": "2024-04-05T08:05:44.292Z"
   },
   {
    "duration": 22,
    "start_time": "2024-04-05T08:05:44.303Z"
   },
   {
    "duration": 17,
    "start_time": "2024-04-05T08:05:44.327Z"
   },
   {
    "duration": 7,
    "start_time": "2024-04-05T08:05:44.345Z"
   },
   {
    "duration": 34,
    "start_time": "2024-04-05T08:05:44.354Z"
   },
   {
    "duration": 34,
    "start_time": "2024-04-05T08:05:44.389Z"
   },
   {
    "duration": 14,
    "start_time": "2024-04-05T08:10:37.693Z"
   },
   {
    "duration": 5,
    "start_time": "2024-04-05T08:11:05.635Z"
   },
   {
    "duration": 6,
    "start_time": "2024-04-05T08:11:21.520Z"
   },
   {
    "duration": 4,
    "start_time": "2024-04-05T08:11:27.980Z"
   },
   {
    "duration": 5,
    "start_time": "2024-04-05T08:11:35.953Z"
   },
   {
    "duration": 5,
    "start_time": "2024-04-05T08:12:04.061Z"
   },
   {
    "duration": 73,
    "start_time": "2024-04-05T08:12:16.371Z"
   },
   {
    "duration": 53,
    "start_time": "2024-04-05T08:13:12.768Z"
   },
   {
    "duration": 51,
    "start_time": "2024-04-05T08:13:37.996Z"
   },
   {
    "duration": 60,
    "start_time": "2024-04-05T08:14:19.641Z"
   },
   {
    "duration": 60,
    "start_time": "2024-04-05T08:14:35.991Z"
   },
   {
    "duration": 54,
    "start_time": "2024-04-05T08:15:00.974Z"
   },
   {
    "duration": 20,
    "start_time": "2024-04-05T08:15:52.423Z"
   },
   {
    "duration": 1243,
    "start_time": "2024-04-05T08:16:32.537Z"
   },
   {
    "duration": 28,
    "start_time": "2024-04-05T08:16:33.782Z"
   },
   {
    "duration": 15,
    "start_time": "2024-04-05T08:16:33.811Z"
   },
   {
    "duration": 4,
    "start_time": "2024-04-05T08:16:33.828Z"
   },
   {
    "duration": 8,
    "start_time": "2024-04-05T08:16:33.834Z"
   },
   {
    "duration": 8,
    "start_time": "2024-04-05T08:16:33.844Z"
   },
   {
    "duration": 10,
    "start_time": "2024-04-05T08:16:33.853Z"
   },
   {
    "duration": 10,
    "start_time": "2024-04-05T08:16:33.864Z"
   },
   {
    "duration": 8,
    "start_time": "2024-04-05T08:16:33.876Z"
   },
   {
    "duration": 41,
    "start_time": "2024-04-05T08:16:33.914Z"
   },
   {
    "duration": 16,
    "start_time": "2024-04-05T08:16:33.957Z"
   },
   {
    "duration": 14,
    "start_time": "2024-04-05T08:16:33.975Z"
   },
   {
    "duration": 22,
    "start_time": "2024-04-05T08:16:33.990Z"
   },
   {
    "duration": 37,
    "start_time": "2024-04-05T08:16:34.014Z"
   },
   {
    "duration": 6,
    "start_time": "2024-04-05T08:16:34.052Z"
   },
   {
    "duration": 9,
    "start_time": "2024-04-05T08:16:34.060Z"
   },
   {
    "duration": 18,
    "start_time": "2024-04-05T08:16:34.071Z"
   },
   {
    "duration": 30,
    "start_time": "2024-04-05T08:16:34.091Z"
   },
   {
    "duration": 7,
    "start_time": "2024-04-05T08:16:34.123Z"
   },
   {
    "duration": 16,
    "start_time": "2024-04-05T08:16:34.131Z"
   },
   {
    "duration": 10,
    "start_time": "2024-04-05T08:16:34.148Z"
   },
   {
    "duration": 10,
    "start_time": "2024-04-05T08:16:34.159Z"
   },
   {
    "duration": 192,
    "start_time": "2024-04-05T08:16:34.170Z"
   },
   {
    "duration": 126,
    "start_time": "2024-04-05T08:16:34.364Z"
   },
   {
    "duration": 25,
    "start_time": "2024-04-05T08:16:34.491Z"
   },
   {
    "duration": 348,
    "start_time": "2024-04-05T08:16:34.518Z"
   },
   {
    "duration": 244,
    "start_time": "2024-04-05T08:16:34.868Z"
   },
   {
    "duration": 350,
    "start_time": "2024-04-05T08:16:35.118Z"
   },
   {
    "duration": 241,
    "start_time": "2024-04-05T08:16:35.470Z"
   },
   {
    "duration": 349,
    "start_time": "2024-04-05T08:16:35.714Z"
   },
   {
    "duration": 15,
    "start_time": "2024-04-05T08:16:36.065Z"
   },
   {
    "duration": 182,
    "start_time": "2024-04-05T08:16:36.082Z"
   },
   {
    "duration": 4,
    "start_time": "2024-04-05T08:16:36.266Z"
   },
   {
    "duration": 263,
    "start_time": "2024-04-05T08:16:36.272Z"
   },
   {
    "duration": 174,
    "start_time": "2024-04-05T08:16:36.536Z"
   },
   {
    "duration": 5,
    "start_time": "2024-04-05T08:16:36.715Z"
   },
   {
    "duration": 248,
    "start_time": "2024-04-05T08:16:36.723Z"
   },
   {
    "duration": 12,
    "start_time": "2024-04-05T08:16:36.973Z"
   },
   {
    "duration": 166,
    "start_time": "2024-04-05T08:16:36.987Z"
   },
   {
    "duration": 7,
    "start_time": "2024-04-05T08:16:37.154Z"
   },
   {
    "duration": 30,
    "start_time": "2024-04-05T08:16:37.163Z"
   },
   {
    "duration": 29,
    "start_time": "2024-04-05T08:16:37.195Z"
   },
   {
    "duration": 14,
    "start_time": "2024-04-05T08:16:37.226Z"
   },
   {
    "duration": 9,
    "start_time": "2024-04-05T08:16:37.241Z"
   },
   {
    "duration": 25,
    "start_time": "2024-04-05T08:16:37.252Z"
   },
   {
    "duration": 49,
    "start_time": "2024-04-05T08:16:37.279Z"
   },
   {
    "duration": 16,
    "start_time": "2024-04-05T08:16:37.330Z"
   },
   {
    "duration": 5,
    "start_time": "2024-04-05T10:58:29.471Z"
   },
   {
    "duration": 5,
    "start_time": "2024-04-05T10:58:49.995Z"
   },
   {
    "duration": 10,
    "start_time": "2024-04-05T10:59:03.811Z"
   },
   {
    "duration": 256,
    "start_time": "2024-04-05T11:02:44.458Z"
   },
   {
    "duration": 252,
    "start_time": "2024-04-05T11:02:58.315Z"
   },
   {
    "duration": 200,
    "start_time": "2024-04-05T11:03:31.047Z"
   },
   {
    "duration": 184,
    "start_time": "2024-04-05T11:04:03.777Z"
   },
   {
    "duration": 260,
    "start_time": "2024-04-05T11:04:17.732Z"
   },
   {
    "duration": 164,
    "start_time": "2024-04-05T11:04:25.022Z"
   },
   {
    "duration": 180,
    "start_time": "2024-04-05T11:04:37.373Z"
   },
   {
    "duration": 11,
    "start_time": "2024-04-05T11:05:51.665Z"
   },
   {
    "duration": 154,
    "start_time": "2024-04-05T11:06:20.712Z"
   },
   {
    "duration": 6,
    "start_time": "2024-04-05T11:06:40.098Z"
   },
   {
    "duration": 7,
    "start_time": "2024-04-05T11:06:52.118Z"
   },
   {
    "duration": 6,
    "start_time": "2024-04-05T11:07:10.075Z"
   },
   {
    "duration": 7,
    "start_time": "2024-04-05T11:07:17.420Z"
   },
   {
    "duration": 7,
    "start_time": "2024-04-05T11:22:35.606Z"
   },
   {
    "duration": 1277,
    "start_time": "2024-04-05T11:23:13.660Z"
   },
   {
    "duration": 28,
    "start_time": "2024-04-05T11:23:14.938Z"
   },
   {
    "duration": 12,
    "start_time": "2024-04-05T11:23:14.968Z"
   },
   {
    "duration": 20,
    "start_time": "2024-04-05T11:23:14.982Z"
   },
   {
    "duration": 50,
    "start_time": "2024-04-05T11:23:15.005Z"
   },
   {
    "duration": 30,
    "start_time": "2024-04-05T11:23:15.056Z"
   },
   {
    "duration": 43,
    "start_time": "2024-04-05T11:23:15.088Z"
   },
   {
    "duration": 31,
    "start_time": "2024-04-05T11:23:15.132Z"
   },
   {
    "duration": 14,
    "start_time": "2024-04-05T11:23:15.165Z"
   },
   {
    "duration": 75,
    "start_time": "2024-04-05T11:23:15.181Z"
   },
   {
    "duration": 16,
    "start_time": "2024-04-05T11:23:15.257Z"
   },
   {
    "duration": 27,
    "start_time": "2024-04-05T11:23:15.275Z"
   },
   {
    "duration": 36,
    "start_time": "2024-04-05T11:23:15.304Z"
   },
   {
    "duration": 29,
    "start_time": "2024-04-05T11:23:15.343Z"
   },
   {
    "duration": 50,
    "start_time": "2024-04-05T11:23:15.374Z"
   },
   {
    "duration": 70,
    "start_time": "2024-04-05T11:23:15.425Z"
   },
   {
    "duration": 64,
    "start_time": "2024-04-05T11:23:15.497Z"
   },
   {
    "duration": 43,
    "start_time": "2024-04-05T11:23:15.564Z"
   },
   {
    "duration": 46,
    "start_time": "2024-04-05T11:23:15.609Z"
   },
   {
    "duration": 50,
    "start_time": "2024-04-05T11:23:15.657Z"
   },
   {
    "duration": 63,
    "start_time": "2024-04-05T11:23:15.709Z"
   },
   {
    "duration": 41,
    "start_time": "2024-04-05T11:23:15.773Z"
   },
   {
    "duration": 177,
    "start_time": "2024-04-05T11:23:15.816Z"
   },
   {
    "duration": 128,
    "start_time": "2024-04-05T11:23:15.995Z"
   },
   {
    "duration": 16,
    "start_time": "2024-04-05T11:23:16.125Z"
   },
   {
    "duration": 331,
    "start_time": "2024-04-05T11:23:16.143Z"
   },
   {
    "duration": 214,
    "start_time": "2024-04-05T11:23:16.477Z"
   },
   {
    "duration": 348,
    "start_time": "2024-04-05T11:23:16.693Z"
   },
   {
    "duration": 243,
    "start_time": "2024-04-05T11:23:17.043Z"
   },
   {
    "duration": 373,
    "start_time": "2024-04-05T11:23:17.289Z"
   },
   {
    "duration": 16,
    "start_time": "2024-04-05T11:23:17.663Z"
   },
   {
    "duration": 174,
    "start_time": "2024-04-05T11:23:17.680Z"
   },
   {
    "duration": 4,
    "start_time": "2024-04-05T11:23:17.855Z"
   },
   {
    "duration": 271,
    "start_time": "2024-04-05T11:23:17.860Z"
   },
   {
    "duration": 177,
    "start_time": "2024-04-05T11:23:18.132Z"
   },
   {
    "duration": 6,
    "start_time": "2024-04-05T11:23:18.311Z"
   },
   {
    "duration": 235,
    "start_time": "2024-04-05T11:23:18.319Z"
   },
   {
    "duration": 133,
    "start_time": "2024-04-05T11:23:18.555Z"
   },
   {
    "duration": 9,
    "start_time": "2024-04-05T11:23:18.690Z"
   },
   {
    "duration": 47,
    "start_time": "2024-04-05T11:23:18.701Z"
   },
   {
    "duration": 22,
    "start_time": "2024-04-05T11:23:18.753Z"
   },
   {
    "duration": 21,
    "start_time": "2024-04-05T11:23:18.776Z"
   },
   {
    "duration": 43,
    "start_time": "2024-04-05T11:23:18.798Z"
   },
   {
    "duration": 41,
    "start_time": "2024-04-05T11:23:18.843Z"
   },
   {
    "duration": 19,
    "start_time": "2024-04-05T11:23:18.886Z"
   },
   {
    "duration": 1286,
    "start_time": "2024-04-05T11:30:45.643Z"
   },
   {
    "duration": 28,
    "start_time": "2024-04-05T11:30:46.931Z"
   },
   {
    "duration": 11,
    "start_time": "2024-04-05T11:30:46.960Z"
   },
   {
    "duration": 2,
    "start_time": "2024-04-05T11:30:46.973Z"
   },
   {
    "duration": 15,
    "start_time": "2024-04-05T11:30:46.978Z"
   },
   {
    "duration": 6,
    "start_time": "2024-04-05T11:30:46.994Z"
   },
   {
    "duration": 10,
    "start_time": "2024-04-05T11:30:47.002Z"
   },
   {
    "duration": 9,
    "start_time": "2024-04-05T11:30:47.014Z"
   },
   {
    "duration": 7,
    "start_time": "2024-04-05T11:30:47.024Z"
   },
   {
    "duration": 39,
    "start_time": "2024-04-05T11:30:47.032Z"
   },
   {
    "duration": 15,
    "start_time": "2024-04-05T11:30:47.073Z"
   },
   {
    "duration": 11,
    "start_time": "2024-04-05T11:30:47.090Z"
   },
   {
    "duration": 10,
    "start_time": "2024-04-05T11:30:47.102Z"
   },
   {
    "duration": 6,
    "start_time": "2024-04-05T11:30:47.115Z"
   },
   {
    "duration": 5,
    "start_time": "2024-04-05T11:30:47.122Z"
   },
   {
    "duration": 16,
    "start_time": "2024-04-05T11:30:47.128Z"
   },
   {
    "duration": 11,
    "start_time": "2024-04-05T11:30:47.146Z"
   },
   {
    "duration": 19,
    "start_time": "2024-04-05T11:30:47.158Z"
   },
   {
    "duration": 16,
    "start_time": "2024-04-05T11:30:47.179Z"
   },
   {
    "duration": 8,
    "start_time": "2024-04-05T11:30:47.196Z"
   },
   {
    "duration": 16,
    "start_time": "2024-04-05T11:30:47.206Z"
   },
   {
    "duration": 15,
    "start_time": "2024-04-05T11:30:47.224Z"
   },
   {
    "duration": 176,
    "start_time": "2024-04-05T11:30:47.241Z"
   },
   {
    "duration": 136,
    "start_time": "2024-04-05T11:30:47.419Z"
   },
   {
    "duration": 16,
    "start_time": "2024-04-05T11:30:47.557Z"
   },
   {
    "duration": 309,
    "start_time": "2024-04-05T11:30:47.574Z"
   },
   {
    "duration": 218,
    "start_time": "2024-04-05T11:30:47.885Z"
   },
   {
    "duration": 337,
    "start_time": "2024-04-05T11:30:48.105Z"
   },
   {
    "duration": 254,
    "start_time": "2024-04-05T11:30:48.444Z"
   },
   {
    "duration": 355,
    "start_time": "2024-04-05T11:30:48.700Z"
   },
   {
    "duration": 14,
    "start_time": "2024-04-05T11:30:49.057Z"
   },
   {
    "duration": 156,
    "start_time": "2024-04-05T11:30:49.072Z"
   },
   {
    "duration": 3,
    "start_time": "2024-04-05T11:30:49.230Z"
   },
   {
    "duration": 244,
    "start_time": "2024-04-05T11:30:49.235Z"
   },
   {
    "duration": 173,
    "start_time": "2024-04-05T11:30:49.481Z"
   },
   {
    "duration": 5,
    "start_time": "2024-04-05T11:30:49.656Z"
   },
   {
    "duration": 225,
    "start_time": "2024-04-05T11:30:49.662Z"
   },
   {
    "duration": 162,
    "start_time": "2024-04-05T11:30:49.889Z"
   },
   {
    "duration": 7,
    "start_time": "2024-04-05T11:30:50.053Z"
   },
   {
    "duration": 29,
    "start_time": "2024-04-05T11:30:50.062Z"
   },
   {
    "duration": 21,
    "start_time": "2024-04-05T11:30:50.095Z"
   },
   {
    "duration": 13,
    "start_time": "2024-04-05T11:30:50.118Z"
   },
   {
    "duration": 8,
    "start_time": "2024-04-05T11:30:50.133Z"
   },
   {
    "duration": 34,
    "start_time": "2024-04-05T11:30:50.143Z"
   },
   {
    "duration": 36,
    "start_time": "2024-04-05T11:30:50.179Z"
   },
   {
    "duration": 1239,
    "start_time": "2024-04-05T11:33:34.241Z"
   },
   {
    "duration": 30,
    "start_time": "2024-04-05T11:33:35.482Z"
   },
   {
    "duration": 14,
    "start_time": "2024-04-05T11:33:35.514Z"
   },
   {
    "duration": 3,
    "start_time": "2024-04-05T11:33:35.530Z"
   },
   {
    "duration": 8,
    "start_time": "2024-04-05T11:33:35.535Z"
   },
   {
    "duration": 8,
    "start_time": "2024-04-05T11:33:35.545Z"
   },
   {
    "duration": 10,
    "start_time": "2024-04-05T11:33:35.554Z"
   },
   {
    "duration": 11,
    "start_time": "2024-04-05T11:33:35.566Z"
   },
   {
    "duration": 11,
    "start_time": "2024-04-05T11:33:35.579Z"
   },
   {
    "duration": 40,
    "start_time": "2024-04-05T11:33:35.592Z"
   },
   {
    "duration": 17,
    "start_time": "2024-04-05T11:33:35.634Z"
   },
   {
    "duration": 12,
    "start_time": "2024-04-05T11:33:35.652Z"
   },
   {
    "duration": 10,
    "start_time": "2024-04-05T11:33:35.665Z"
   },
   {
    "duration": 5,
    "start_time": "2024-04-05T11:33:35.678Z"
   },
   {
    "duration": 10,
    "start_time": "2024-04-05T11:33:35.685Z"
   },
   {
    "duration": 17,
    "start_time": "2024-04-05T11:33:35.697Z"
   },
   {
    "duration": 11,
    "start_time": "2024-04-05T11:33:35.716Z"
   },
   {
    "duration": 11,
    "start_time": "2024-04-05T11:33:35.728Z"
   },
   {
    "duration": 6,
    "start_time": "2024-04-05T11:33:35.741Z"
   },
   {
    "duration": 10,
    "start_time": "2024-04-05T11:33:35.749Z"
   },
   {
    "duration": 63,
    "start_time": "2024-04-05T11:33:35.760Z"
   },
   {
    "duration": 9,
    "start_time": "2024-04-05T11:33:35.825Z"
   },
   {
    "duration": 282,
    "start_time": "2024-04-05T11:33:35.836Z"
   },
   {
    "duration": 131,
    "start_time": "2024-04-05T11:33:36.119Z"
   },
   {
    "duration": 15,
    "start_time": "2024-04-05T11:33:36.252Z"
   },
   {
    "duration": 305,
    "start_time": "2024-04-05T11:33:36.268Z"
   },
   {
    "duration": 220,
    "start_time": "2024-04-05T11:33:36.574Z"
   },
   {
    "duration": 344,
    "start_time": "2024-04-05T11:33:36.797Z"
   },
   {
    "duration": 246,
    "start_time": "2024-04-05T11:33:37.143Z"
   },
   {
    "duration": 344,
    "start_time": "2024-04-05T11:33:37.391Z"
   },
   {
    "duration": 14,
    "start_time": "2024-04-05T11:33:37.737Z"
   },
   {
    "duration": 175,
    "start_time": "2024-04-05T11:33:37.752Z"
   },
   {
    "duration": 5,
    "start_time": "2024-04-05T11:33:37.929Z"
   },
   {
    "duration": 267,
    "start_time": "2024-04-05T11:33:37.935Z"
   },
   {
    "duration": 180,
    "start_time": "2024-04-05T11:33:38.203Z"
   },
   {
    "duration": 4,
    "start_time": "2024-04-05T11:33:38.385Z"
   },
   {
    "duration": 236,
    "start_time": "2024-04-05T11:33:38.391Z"
   },
   {
    "duration": 140,
    "start_time": "2024-04-05T11:33:38.629Z"
   },
   {
    "duration": 6,
    "start_time": "2024-04-05T11:33:38.771Z"
   },
   {
    "duration": 38,
    "start_time": "2024-04-05T11:33:38.779Z"
   },
   {
    "duration": 20,
    "start_time": "2024-04-05T11:33:38.821Z"
   },
   {
    "duration": 14,
    "start_time": "2024-04-05T11:33:38.843Z"
   },
   {
    "duration": 11,
    "start_time": "2024-04-05T11:33:38.859Z"
   },
   {
    "duration": 48,
    "start_time": "2024-04-05T11:33:38.872Z"
   },
   {
    "duration": 15,
    "start_time": "2024-04-05T11:33:38.922Z"
   }
  ],
  "kernelspec": {
   "display_name": "Python 3 (ipykernel)",
   "language": "python",
   "name": "python3"
  },
  "language_info": {
   "codemirror_mode": {
    "name": "ipython",
    "version": 3
   },
   "file_extension": ".py",
   "mimetype": "text/x-python",
   "name": "python",
   "nbconvert_exporter": "python",
   "pygments_lexer": "ipython3",
   "version": "3.9.5"
  },
  "toc": {
   "base_numbering": 1,
   "nav_menu": {},
   "number_sections": true,
   "sideBar": true,
   "skip_h1_title": true,
   "title_cell": "Table of Contents",
   "title_sidebar": "Contents",
   "toc_cell": false,
   "toc_position": {},
   "toc_section_display": true,
   "toc_window_display": false
  }
 },
 "nbformat": 4,
 "nbformat_minor": 4
}
